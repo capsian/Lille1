{
 "cells": [
  {
   "cell_type": "markdown",
   "metadata": {},
   "source": [
    "## TP3 : Classification avec LDA & QDA\n",
    "\n",
    "Commençons avec quelques préparatifs :"
   ]
  },
  {
   "cell_type": "code",
   "execution_count": 1,
   "metadata": {},
   "outputs": [],
   "source": [
    "import csv\n",
    "from pylab import *\n",
    "import numpy as np\n",
    "from numpy import linalg as la"
   ]
  },
  {
   "cell_type": "markdown",
   "metadata": {},
   "source": [
    "## Charger les données synthétiques\n",
    "Charger les données d'entraînement et de test à partir des fichiers `synth_train.txt` et\n",
    "`synth_test.txt`. \n",
    "Les targets appartiennent à  $\\mathcal{Y} = \\left\\lbrace 0;1 \\right\\rbrace$ et les inputs vivent dan $\\mathbb{R}^2$.\n",
    "Il y a 200 données d'apprentissage et 200 de test.\n",
    "\n",
    "* La première colonne contient les labels, \n",
    "* Les colonnes 2 & 3 contiennent les vecteurs d'entrée.\n",
    "\n",
    "Définissez des numpy arrays 2D `X_train` et `X_test` contenant les inputs de train et de test respectivement. Même chose avec les labels et deux autres numpy arrays 1D `y_train` et `y_test`.\n",
    "\n",
    "`X_train` possède 200 lignes et 2 colonnes"
   ]
  },
  {
   "cell_type": "code",
   "execution_count": 2,
   "metadata": {},
   "outputs": [
    {
     "name": "stdout",
     "output_type": "stream",
     "text": [
      "X_train.shape : (100, 2)\n",
      "y_train.shape : (100,)\n",
      "X_test.shape : (200, 2)\n",
      "y_test.shape : (200,)\n"
     ]
    }
   ],
   "source": [
    "train = np.loadtxt('synth_train.txt')\n",
    "test = np.loadtxt('synth_test.txt')\n",
    "\n",
    "X_train = train[:,1:3]\n",
    "X_test = test[:,1:3]\n",
    "y_train = train[:,0]\n",
    "y_test = test[:,0]\n",
    "\n",
    "print(\"X_train.shape : \" + str(X_train.shape))\n",
    "print(\"y_train.shape : \" + str(y_train.shape))\n",
    "print(\"X_test.shape : \" + str(X_test.shape))\n",
    "print(\"y_test.shape : \" + str(y_test.shape))"
   ]
  },
  {
   "cell_type": "markdown",
   "metadata": {},
   "source": [
    "## Rappel des étapes de LDA :\n",
    "Pour l'apprentissage :\n",
    "* estimation de la proba  $\\pi$ d'appartenance à la classe $y=1$,\n",
    "* estimation des vecteurs moyens $\\mu_0$ et $\\mu_1$ pour chaque classe, \n",
    "* estimation matrices de covariances empiriques  $\\Sigma_0$ et $\\Sigma_1$ pour chaque classe,\n",
    "* calcul de leur combinaison convexe $\\Sigma = (1-\\pi) \\Sigma_0 + \\pi \\Sigma_1$,\n",
    "\n",
    "Pour la prédiction pour une input $\\mathbf{x}$ donnée :\n",
    "* calcul des probabilités d'appartenance aux classe 0 et 1 : $p(Y=0,X=\\mathbf{x})$ et $p(Y=1,X=\\mathbf{x})$,\n",
    "* élection de la classe prédite $\\hat{y}$ qui maximise ces deux probabilités\n",
    "\n",
    "On rappelle que dans le modèle de la LDA $p(Y=i,X=\\mathbf{x}) = p(Y=i) \\times \\mathcal{N}(\\mu_i, \\Sigma)(\\mathbf{x}) $.\n",
    "\n",
    "On rappelle aussi qu'en supposant que $\\pi = 1- \\pi  = \\frac{1}{2}$, alors la frontière de décision passe en le point $\\frac{\\mu_0 + \\mu_1}{2} $ et est orthogonale au vecteur $\\mu_1 - \\mu_0$.\n"
   ]
  },
  {
   "cell_type": "markdown",
   "metadata": {},
   "source": [
    "## Travail : \n",
    "1. Créer une classe python correspondant à LDA. Les paramètres à apprendre seront des attributs. Une méthode `fit`  se chargera de l'estimation des paramètres. Une méthode `predict` fournira une prédiction pour une input $\\mathbf{x}$ donnée.\n",
    "2. Entraîner une instance `lda` votre classe LDA sur les données synthétique d'apprentissage.\n",
    "3. Calculer le taux de bonne classification obtenu sur l'ensemble de test. \n",
    "4. Modifier la méthode `predict` pour qu'elle fournisse une seconde sortie : la proba conditionelle $p(Y=1|\\mathbf{x})= \\frac{p(X=\\mathbf{x},Y=1)}{p(X=\\mathbf{x},Y=0) + p(X=\\mathbf{x},Y=1)}$.\n",
    "5. On rappelle que QDA est un algorithme cousin de LDA pour lequel les gaussiennes ne partagent plus la même matrice $\\Sigma$ mais utilisent respectivement $\\Sigma_0$ et $\\Sigma_1$. Créer une classe QDA.\n",
    "6. Entraîner et tester votre classe QDA sur les données synthétiques et comparer les performances vis à vis de LDA.\n",
    "\n",
    "_Indication 1 : Les matrices \"sigma\" sont toutes de taille 2x2 dans ce TP._\n",
    "\n",
    "\n"
   ]
  },
  {
   "cell_type": "code",
   "execution_count": 20,
   "metadata": {},
   "outputs": [
    {
     "data": {
      "text/plain": [
       "0.935"
      ]
     },
     "execution_count": 20,
     "metadata": {},
     "output_type": "execute_result"
    }
   ],
   "source": [
    "import math\n",
    "\n",
    "class LDA:\n",
    "    mu1, mu2 = -1, -1\n",
    "    cov = None\n",
    "    X_train, y_train, X_test, y_test = None, None, None, None\n",
    "    \n",
    "    def fit(self, _X_train, _y_train):\n",
    "        self.X_train = np.array(_X_train, copy=True)\n",
    "        self.y_train = np.array(_y_train, copy=True)\n",
    "                \n",
    "        self.mu1 = self.X_train[self.y_train == 1].mean(axis=0)\n",
    "        self.mu2 = self.X_train[self.y_train == 2].mean(axis=0)   \n",
    "                \n",
    "        self.cov = np.cov(self.X_train.T)\n",
    "        \n",
    "    def predict(self, _X_test):\n",
    "        self.X_test = np.array(_X_test, copy=True)\n",
    "        \n",
    "        p = ((2*math.pi)**(-self.X_train.shape[1]/2))*(np.linalg.det(self.cov)**(-.5))\n",
    "                \n",
    "        z1 = (self.X_test - self.mu1)\n",
    "        z2 = (self.X_test - self.mu2)\n",
    "        prob_1, prob_2, prob_3 = [], [], []\n",
    "        for i in range(len(z1)):\n",
    "            prob_1 += [p * np.exp((-1/2)*z1[i].T@np.linalg.inv(self.cov)@z1[i])]\n",
    "            prob_2 += [p * np.exp((-1/2)*z2[i].T@np.linalg.inv(self.cov)@z2[i])]\n",
    "            prob_3 += [prob_1[i] / (prob_1[i]+prob_2[i])]\n",
    "        \n",
    "        prob1 = []\n",
    "        for p1, p2 in zip(prob_1, prob_2):\n",
    "            if p1 > p2:\n",
    "                prob1 += [1]\n",
    "            else:\n",
    "                prob1 += [2]\n",
    "        \n",
    "        return np.array(prob1), np.array(prob_3)\n",
    "    \n",
    "    def accuracy(self,y_test,y_pred):\n",
    "        acc = 0\n",
    "        for k in range(len(y_pred)):\n",
    "            if y_pred[k] == y_test[k]:\n",
    "                acc += 1\n",
    "        acc = acc / len(y_pred)\n",
    "        return acc\n",
    "        \n",
    "lda = LDA()\n",
    "lda.fit(X_train, y_train)\n",
    "pred, proba = lda.predict(X_test)\n",
    "lda.accuracy(y_test, pred)"
   ]
  },
  {
   "cell_type": "markdown",
   "metadata": {},
   "source": [
    "Si vous avez correctement programmé votre classe LDA et que `lda` en est une instance alors le code ci-dessous doit afficher la carte de probabilité d'appartenance à la classe n°1. \n",
    "\n",
    "Vérifier la cohérence du modèle appris."
   ]
  },
  {
   "cell_type": "code",
   "execution_count": 21,
   "metadata": {},
   "outputs": [
    {
     "name": "stdout",
     "output_type": "stream",
     "text": [
      "(300, 2)\n"
     ]
    },
    {
     "data": {
      "text/plain": [
       "<matplotlib.collections.PathCollection at 0x7fa1df3ca880>"
      ]
     },
     "execution_count": 21,
     "metadata": {},
     "output_type": "execute_result"
    },
    {
     "data": {
      "image/png": "[encoded data removed]",
      "text/plain": [
       "<Figure size 432x288 with 1 Axes>"
      ]
     },
     "metadata": {
      "needs_background": "light"
     },
     "output_type": "display_data"
    }
   ],
   "source": [
    "import matplotlib.pyplot as plt\n",
    "\n",
    "X = np.vstack((X_train,X_test))\n",
    "print(X.shape)\n",
    "h = .02\n",
    "x_min, x_max = X[:, 0].min() - .5, X[:, 0].max() + .5\n",
    "y_min, y_max = X[:, 1].min() - .5, X[:, 1].max() + .5\n",
    "xx, yy = np.meshgrid(np.arange(x_min, x_max, h),np.arange(y_min, y_max, h))\n",
    "_,Z = lda.predict(np.c_[xx.ravel(), yy.ravel()])\n",
    "cm = plt.cm.RdBu\n",
    "plt.contourf(xx, yy, Z.reshape((xx.shape)), cmap=cm, alpha=.5)\n",
    "plt.scatter(X_train[:, 0], X_train[:, 1], c=y_train, cmap=cm)"
   ]
  },
  {
   "cell_type": "markdown",
   "metadata": {},
   "source": [
    "=> On remarque bien que le modèle arrive à séparer la plupart des points."
   ]
  },
  {
   "cell_type": "code",
   "execution_count": 22,
   "metadata": {},
   "outputs": [
    {
     "data": {
      "text/plain": [
       "0.955"
      ]
     },
     "execution_count": 22,
     "metadata": {},
     "output_type": "execute_result"
    }
   ],
   "source": [
    "import math\n",
    "\n",
    "class QDA:\n",
    "    mu1, mu2 = -1, -1\n",
    "    cov1, cov2 = None, None\n",
    "    X_train, y_train, X_test, y_test = None, None, None, None\n",
    "    \n",
    "    def fit(self, _X_train, _y_train):\n",
    "        self.X_train = np.array(_X_train, copy=True)\n",
    "        self.y_train = np.array(_y_train, copy=True)\n",
    "                \n",
    "        self.mu1 = self.X_train[self.y_train == 1].mean(axis=0)\n",
    "        self.mu2 = self.X_train[self.y_train == 2].mean(axis=0)   \n",
    "                \n",
    "        self.cov1 = np.cov(self.X_train[self.y_train == 1].T)\n",
    "        self.cov2 = np.cov(self.X_train[self.y_train == 2].T)\n",
    "        \n",
    "        \n",
    "    def predict(self, _X_test):\n",
    "        self.X_test = np.array(_X_test, copy=True)\n",
    "        \n",
    "        p = ((2*math.pi)**(-self.X_train.shape[1]/2))\n",
    "                \n",
    "        z1 = (self.X_test - self.mu1)\n",
    "        z2 = (self.X_test - self.mu2)\n",
    "        prob_1, prob_2, prob_3 = [], [], []\n",
    "        for i in range(len(z1)):\n",
    "            prob_1 += [p * np.exp((-1/2)*z1[i].T@np.linalg.inv(self.cov1)@z1[i]) *(np.linalg.det(self.cov1)**(-.5))]\n",
    "            prob_2 += [p * np.exp((-1/2)*z2[i].T@np.linalg.inv(self.cov2)@z2[i]) *(np.linalg.det(self.cov2)**(-.5))]\n",
    "            prob_3 += [prob_1[i] / (prob_1[i]+prob_2[i])]\n",
    "        \n",
    "        prob1 = []\n",
    "        for p1, p2 in zip(prob_1, prob_2):\n",
    "            if p1 > p2:\n",
    "                prob1 += [1]\n",
    "            else:\n",
    "                prob1 += [2]\n",
    "        \n",
    "        return np.array(prob1), np.array(prob_3)\n",
    "    \n",
    "    def accuracy(self,y_test,y_pred):\n",
    "        acc = 0\n",
    "        for k in range(len(y_pred)):\n",
    "            if y_pred[k] == y_test[k]:\n",
    "                acc += 1\n",
    "        acc = acc / len(y_pred)\n",
    "        return acc\n",
    "        \n",
    "qda = QDA()\n",
    "qda.fit(X_train, y_train)\n",
    "pred, proba = qda.predict(X_test)\n",
    "qda.accuracy(y_test, pred)"
   ]
  },
  {
   "cell_type": "code",
   "execution_count": 24,
   "metadata": {},
   "outputs": [
    {
     "name": "stdout",
     "output_type": "stream",
     "text": [
      "(300, 2)\n"
     ]
    },
    {
     "data": {
      "text/plain": [
       "<matplotlib.collections.PathCollection at 0x7fa1df3d8a90>"
      ]
     },
     "execution_count": 24,
     "metadata": {},
     "output_type": "execute_result"
    },
    {
     "data": {
      "image/png": "[encoded data removed]",
      "text/plain": [
       "<Figure size 432x288 with 1 Axes>"
      ]
     },
     "metadata": {
      "needs_background": "light"
     },
     "output_type": "display_data"
    }
   ],
   "source": [
    "import matplotlib.pyplot as plt\n",
    "\n",
    "X = np.vstack((X_train,X_test))\n",
    "print(X.shape)\n",
    "h = .02\n",
    "x_min, x_max = X[:, 0].min() - .5, X[:, 0].max() + .5\n",
    "y_min, y_max = X[:, 1].min() - .5, X[:, 1].max() + .5\n",
    "xx, yy = np.meshgrid(np.arange(x_min, x_max, h),np.arange(y_min, y_max, h))\n",
    "_,Z = qda.predict(np.c_[xx.ravel(), yy.ravel()])\n",
    "cm = plt.cm.RdBu\n",
    "plt.contourf(xx, yy, Z.reshape((xx.shape)), cmap=cm, alpha=.5)\n",
    "plt.scatter(X_train[:, 0], X_train[:, 1], c=y_train, cmap=cm)"
   ]
  },
  {
   "cell_type": "markdown",
   "metadata": {},
   "source": [
    "## Remarque : LDA & QDA dans le module scikit-learn \n",
    "\n",
    "Le module `scikit-learn` propose de nombreux algorithmes de machine learning assez facile d'emploi. Pour LDA et QDA, vous pouvez jeter un oeil au tutoriel suivant : http://scikit-learn.org/stable/modules/lda_qda.html \n",
    "\n",
    "Ces implémentations peuvent vous servir à valider votre code. Il n'est pas obligatoire de mener la comparaison.\n",
    "\n",
    "\n"
   ]
  },
  {
   "cell_type": "code",
   "execution_count": 29,
   "metadata": {},
   "outputs": [],
   "source": [
    "from sklearn.discriminant_analysis import LinearDiscriminantAnalysis\n",
    "from sklearn.discriminant_analysis import QuadraticDiscriminantAnalysis"
   ]
  },
  {
   "cell_type": "code",
   "execution_count": 30,
   "metadata": {},
   "outputs": [
    {
     "name": "stdout",
     "output_type": "stream",
     "text": [
      "lda : 0.945\n",
      "qda : 0.95\n"
     ]
    }
   ],
   "source": [
    "clf = LinearDiscriminantAnalysis(solver=\"svd\", store_covariance=True)\n",
    "pred = clf.fit(X_train, y_train).predict(X_test)\n",
    "print('lda : ' + str(clf.score(X_test, y_test)))\n",
    "\n",
    "clf = QuadraticDiscriminantAnalysis(store_covariance=True)\n",
    "pred = clf.fit(X_train, y_train).predict(X_test)\n",
    "print('qda : ' + str(clf.score(X_test, y_test)))"
   ]
  }
 ],
 "metadata": {
  "kernelspec": {
   "display_name": "Python 3",
   "language": "python",
   "name": "python3"
  },
  "language_info": {
   "codemirror_mode": {
    "name": "ipython",
    "version": 3
   },
   "file_extension": ".py",
   "mimetype": "text/x-python",
   "name": "python",
   "nbconvert_exporter": "python",
   "pygments_lexer": "ipython3",
   "version": "3.8.5"
  }
 },
 "nbformat": 4,
 "nbformat_minor": 2
}
