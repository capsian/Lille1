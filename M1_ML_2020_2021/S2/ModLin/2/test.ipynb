{
 "cells": [
  {
   "cell_type": "code",
   "execution_count": 2,
   "metadata": {},
   "outputs": [],
   "source": [
    "import numpy as np\n",
    "import math\n",
    "import matplotlib.pyplot as plt\n",
    "from mpl_toolkits.mplot3d import Axes3D"
   ]
  },
  {
   "cell_type": "code",
   "execution_count": 28,
   "metadata": {},
   "outputs": [
    {
     "data": {
      "image/png": "[encoded data removed]",
      "text/plain": [
       "<Figure size 432x288 with 1 Axes>"
      ]
     },
     "metadata": {
      "needs_background": "light"
     },
     "output_type": "display_data"
    }
   ],
   "source": [
    "def sigmoid(x):\n",
    "    return 1 / (1 + np.exp(-x))\n",
    "\n",
    "def datagen(n):\n",
    "    X = np.random.rand(n,2)\n",
    "    y = np.where(-.5* X[:,0] + .75 > X[:,1], -1, 1)\n",
    "    d = abs((.5 * X[:,0] + X[:,1] -.75)) / (math.sqrt(.5 * .5 + 1 * 1))\n",
    "    r = np.exp(-(d*d)/(2*0.05*0.05))\n",
    "    z = np.random.binomial(n=1, p=r/2)\n",
    "    y[z==1] = -y[z==1]\n",
    "    y = np.where(y==-1, 0, 1)\n",
    "    return X, y\n",
    "\n",
    "X, y = datagen(50)\n",
    "plt.scatter(X[:,0], X[:,1], c=y)\n",
    "plt.show()"
   ]
  },
  {
   "cell_type": "code",
   "execution_count": 35,
   "metadata": {},
   "outputs": [
    {
     "name": "stdout",
     "output_type": "stream",
     "text": [
      "(50, 3)\n",
      "[[0.89164349 0.79130845 1.        ]\n",
      " [0.67935535 0.38864078 1.        ]\n",
      " [0.46388021 0.77341264 1.        ]\n",
      " [0.28498911 0.57453809 1.        ]\n",
      " [0.5794895  0.51905231 1.        ]\n",
      " [0.55370094 0.64678854 1.        ]\n",
      " [0.02601054 0.35635988 1.        ]\n",
      " [0.39552308 0.70612681 1.        ]\n",
      " [0.65929348 0.29583053 1.        ]\n",
      " [0.29906878 0.58871603 1.        ]\n",
      " [0.212796   0.47231652 1.        ]\n",
      " [0.73961661 0.0385769  1.        ]\n",
      " [0.94041119 0.99734597 1.        ]\n",
      " [0.40987595 0.63409425 1.        ]\n",
      " [0.95661201 0.07811397 1.        ]\n",
      " [0.39767312 0.51392366 1.        ]\n",
      " [0.37188493 0.27815822 1.        ]\n",
      " [0.05855995 0.7025233  1.        ]\n",
      " [0.13934542 0.32798562 1.        ]\n",
      " [0.24728339 0.29885362 1.        ]\n",
      " [0.17249981 0.4055559  1.        ]\n",
      " [0.07348599 0.9723511  1.        ]\n",
      " [0.06081846 0.24706494 1.        ]\n",
      " [0.73949733 0.49138292 1.        ]\n",
      " [0.39616596 0.57012741 1.        ]\n",
      " [0.8674278  0.9714211  1.        ]\n",
      " [0.41568895 0.45886908 1.        ]\n",
      " [0.08380262 0.47377908 1.        ]\n",
      " [0.15150704 0.61708046 1.        ]\n",
      " [0.55989142 0.54670286 1.        ]\n",
      " [0.82160472 0.67542316 1.        ]\n",
      " [0.01474585 0.94211666 1.        ]\n",
      " [0.35673871 0.57017538 1.        ]\n",
      " [0.11171917 0.88120157 1.        ]\n",
      " [0.354155   0.636873   1.        ]\n",
      " [0.09656008 0.97526186 1.        ]\n",
      " [0.26154317 0.76066815 1.        ]\n",
      " [0.54603306 0.01479168 1.        ]\n",
      " [0.70528188 0.30212681 1.        ]\n",
      " [0.08553425 0.79646232 1.        ]\n",
      " [0.15072347 0.40854619 1.        ]\n",
      " [0.33063472 0.10777359 1.        ]\n",
      " [0.96659576 0.4070944  1.        ]\n",
      " [0.62998866 0.43382518 1.        ]\n",
      " [0.96976209 0.55058089 1.        ]\n",
      " [0.20200505 0.37640347 1.        ]\n",
      " [0.80250899 0.06114513 1.        ]\n",
      " [0.22211576 0.49993138 1.        ]\n",
      " [0.50249332 0.54027598 1.        ]\n",
      " [0.12080403 0.28146511 1.        ]]\n",
      "[5.4742604  4.45663691 5.01070548 4.4340653  4.61759412 4.84727802\n",
      " 3.73873031 4.80777671 4.25095453 4.47650084 4.15742904 3.8167704\n",
      " 5.93510312 4.67806446 4.11283995 4.42552043 3.92820137 4.46360655\n",
      " 3.79531666 3.84499064 3.98361161 5.01818818 3.55494834 4.72226317\n",
      " 4.53642078 5.81026999 4.33342711 4.03136078 4.38566795 4.65329714\n",
      " 5.17245105 4.89897916 4.49708947 4.87412232 4.627901   5.0470838\n",
      " 4.78287948 3.57561641 4.3095355  4.6784589  3.96781586 3.54618189\n",
      " 4.78078455 4.49763901 5.07092387 3.95481199 3.92479925 4.22197852\n",
      " 4.58304527 3.68373425]\n"
     ]
    }
   ],
   "source": [
    "X_plus = np.hstack((X, np.ones((50, 1))))\n",
    "print(X_plus.shape)\n",
    "print(X_plus)\n",
    "\n",
    "t = np.array([1,2,3])\n",
    "\n",
    "print(X_plus@t)"
   ]
  },
  {
   "cell_type": "code",
   "execution_count": 26,
   "metadata": {},
   "outputs": [
    {
     "ename": "ValueError",
     "evalue": "matmul: Input operand 1 has a mismatch in its core dimension 0, with gufunc signature (n?,k),(k,m?)->(n?,m?) (size 300 is different from 3)",
     "output_type": "error",
     "traceback": [
      "\u001b[0;31m---------------------------------------------------------------------------\u001b[0m",
      "\u001b[0;31mValueError\u001b[0m                                Traceback (most recent call last)",
      "\u001b[0;32m<ipython-input-26-a80ae8da90fa>\u001b[0m in \u001b[0;36m<module>\u001b[0;34m\u001b[0m\n\u001b[1;32m      7\u001b[0m     \u001b[0mpred\u001b[0m \u001b[0;34m=\u001b[0m \u001b[0msigmoid\u001b[0m\u001b[0;34m(\u001b[0m\u001b[0mX_plus\u001b[0m\u001b[0;34m@\u001b[0m\u001b[0mtheta\u001b[0m\u001b[0;34m.\u001b[0m\u001b[0mT\u001b[0m\u001b[0;34m)\u001b[0m\u001b[0;34m\u001b[0m\u001b[0;34m\u001b[0m\u001b[0m\n\u001b[1;32m      8\u001b[0m     \u001b[0merr\u001b[0m \u001b[0;34m=\u001b[0m \u001b[0mpred\u001b[0m \u001b[0;34m-\u001b[0m \u001b[0my\u001b[0m\u001b[0;34m\u001b[0m\u001b[0;34m\u001b[0m\u001b[0m\n\u001b[0;32m----> 9\u001b[0;31m     \u001b[0mg\u001b[0m \u001b[0;34m=\u001b[0m \u001b[0mX_plus\u001b[0m\u001b[0;34m@\u001b[0m\u001b[0merr\u001b[0m\u001b[0;34m\u001b[0m\u001b[0;34m\u001b[0m\u001b[0m\n\u001b[0m\u001b[1;32m     10\u001b[0m     \u001b[0mtheta\u001b[0m \u001b[0;34m=\u001b[0m \u001b[0mtheta\u001b[0m \u001b[0;34m-\u001b[0m \u001b[0mlearning_rate\u001b[0m\u001b[0;34m*\u001b[0m\u001b[0mg\u001b[0m\u001b[0;34m\u001b[0m\u001b[0;34m\u001b[0m\u001b[0m\n\u001b[1;32m     11\u001b[0m     \u001b[0mthetas\u001b[0m \u001b[0;34m=\u001b[0m \u001b[0mnp\u001b[0m\u001b[0;34m.\u001b[0m\u001b[0mvstack\u001b[0m\u001b[0;34m(\u001b[0m\u001b[0;34m(\u001b[0m\u001b[0mthetas\u001b[0m\u001b[0;34m,\u001b[0m \u001b[0mtheta\u001b[0m\u001b[0;34m)\u001b[0m\u001b[0;34m)\u001b[0m\u001b[0;34m\u001b[0m\u001b[0;34m\u001b[0m\u001b[0m\n",
      "\u001b[0;31mValueError\u001b[0m: matmul: Input operand 1 has a mismatch in its core dimension 0, with gufunc signature (n?,k),(k,m?)->(n?,m?) (size 300 is different from 3)"
     ]
    }
   ],
   "source": [
    "theta = np.array([1, -1, 0])\n",
    "thetas = np.array([theta])\n",
    "learning_rate = 0.02\n",
    "errors = []\n",
    "\n",
    "while True:\n",
    "    pred = sigmoid(X_plus@theta.T)\n",
    "    err = pred - y\n",
    "    g = X_plus@err\n",
    "    theta = theta - learning_rate*g\n",
    "    thetas = np.vstack((thetas, theta))\n",
    "    if np.array_equal(thetas[len(thetas) - 2], theta):\n",
    "        break\n",
    "    \n",
    "print(thetas.shape)\n",
    "print(thetas)\n",
    "\n",
    "fig1 = plt.figure(figsize=(10,10))\n",
    "ax1 = fig1.gca(projection='3d')\n",
    "ax1.plot(thetas[:,0], thetas[:,1], thetas[:,2], '-o')"
   ]
  }
 ],
 "metadata": {
  "kernelspec": {
   "display_name": "Python 3",
   "language": "python",
   "name": "python3"
  },
  "language_info": {
   "codemirror_mode": {
    "name": "ipython",
    "version": 3
   },
   "file_extension": ".py",
   "mimetype": "text/x-python",
   "name": "python",
   "nbconvert_exporter": "python",
   "pygments_lexer": "ipython3",
   "version": "3.8.3"
  }
 },
 "nbformat": 4,
 "nbformat_minor": 4
}
