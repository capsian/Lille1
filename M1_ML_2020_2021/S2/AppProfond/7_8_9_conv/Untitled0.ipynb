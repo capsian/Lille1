{
 "cells": [
  {
   "cell_type": "code",
   "execution_count": 1,
   "metadata": {
    "id": "_p5G_LsOjbnh"
   },
   "outputs": [],
   "source": [
    "import numpy as np\n",
    "import pandas as pd\n",
    "import matplotlib.pyplot as plt\n",
    "\n",
    "import torch\n",
    "import torch.nn as nn\n",
    "\n",
    "from sklearn.preprocessing import scale, minmax_scale\n",
    "from torch.utils.data import TensorDataset, DataLoader,Dataset\n",
    "\n",
    "import torchvision\n",
    "import torchvision.transforms as transforms\n",
    "from sklearn.model_selection import train_test_split"
   ]
  },
  {
   "cell_type": "code",
   "execution_count": 3,
   "metadata": {
    "id": "a9hcH62Rj0Ca"
   },
   "outputs": [
    {
     "data": {
      "text/plain": [
       "device(type='cuda', index=0)"
      ]
     },
     "execution_count": 3,
     "metadata": {},
     "output_type": "execute_result"
    }
   ],
   "source": [
    "device = torch.device(\"cuda:0\" if torch.cuda.is_available() else \"cpu\")\n",
    "device"
   ]
  },
  {
   "cell_type": "code",
   "execution_count": 4,
   "metadata": {
    "id": "OcP6rIcqj38a"
   },
   "outputs": [],
   "source": [
    "from sklearn.datasets import fetch_openml\n",
    "X, y  = fetch_openml(data_id=40996, return_X_y=True, as_frame=False) "
   ]
  },
  {
   "cell_type": "code",
   "execution_count": 5,
   "metadata": {
    "colab": {
     "base_uri": "https://localhost:8080/"
    },
    "id": "XjI9lMS0ulY5",
    "outputId": "a0f31797-dd59-4e12-b1e0-e9ebba132f05"
   },
   "outputs": [
    {
     "data": {
      "text/plain": [
       "tensor([[1.],\n",
       "        [0.],\n",
       "        [0.],\n",
       "        ...,\n",
       "        [1.],\n",
       "        [1.],\n",
       "        [0.]])"
      ]
     },
     "execution_count": 5,
     "metadata": {},
     "output_type": "execute_result"
    }
   ],
   "source": [
    "# Sélection des targets avec pandas\n",
    "A = pd.DataFrame(X)\n",
    "A['y'] = y\n",
    "B = A.loc[A.index[A['y']=='9'].union(A.index[A['y']=='5'])]\n",
    "\n",
    "X_5_9 = torch.tensor(minmax_scale(B.drop(\"y\", axis=1)).astype(np.float32)).reshape(B.shape[0],1,28,28)\n",
    "y_5_9 = torch.tensor(B.y.replace(['5','9'],[0,1]).values.astype(np.float32)).unsqueeze(-1)\n",
    "y_5_9"
   ]
  },
  {
   "cell_type": "code",
   "execution_count": 6,
   "metadata": {
    "id": "kTP0HwB6kiMG"
   },
   "outputs": [],
   "source": [
    "# On fait en sorte de retourner le nom de l'article correspondant au label...\n",
    "\n",
    "def get_fashion_mnist_labels(labels):  #@save\n",
    "    \"\"\"Return text labels for the Fashion-MNIST dataset.\"\"\"\n",
    "    text_labels = ['sandal','ankle boot']\n",
    "    return [text_labels[int(i)] for i in labels]\n",
    "\n"
   ]
  },
  {
   "cell_type": "markdown",
   "metadata": {
    "id": "jJY5C2xQGMin"
   },
   "source": [
    "Ici On fait en sorte d'avoir un train , valid et un test set, et ceci en effecutuant deux fois un train_test_split."
   ]
  },
  {
   "cell_type": "code",
   "execution_count": 7,
   "metadata": {
    "id": "xFzWpS6BxjYK"
   },
   "outputs": [],
   "source": [
    "X_tmp, X_test, y_tmp, y_test = train_test_split(X_5_9, y_5_9, test_size=0.20, random_state=42)\n",
    "X_train, X_val, y_train, y_val = train_test_split(X_tmp, y_tmp, test_size=0.20, random_state=42)"
   ]
  },
  {
   "cell_type": "markdown",
   "metadata": {
    "id": "OXFhHTmlGoPg"
   },
   "source": [
    "Creation de nos loaders."
   ]
  },
  {
   "cell_type": "code",
   "execution_count": 8,
   "metadata": {
    "id": "2SNxCCxDM5iH"
   },
   "outputs": [],
   "source": [
    "train_set = TensorDataset(X_train, y_train) # on lie les entrées aux targets attentues\n",
    "val_set = TensorDataset(X_val, y_val) # on lie les entrées aux targets attentues\n",
    "test_set = TensorDataset(X_test, y_test) # on lie les entrées aux targets attentues\n",
    "\n",
    "train_loader = DataLoader(train_set,\n",
    "                                          shuffle=True) # pour faciliter l'échantillonage en mini-batch\n",
    "val_loader = DataLoader(val_set,\n",
    "                                          shuffle=True) # pour faciliter l'échantillonage en mini-batch\n",
    "test_loader = DataLoader(test_set,\n",
    "                                          shuffle=True) # pour faciliter l'échantillonage en mini-batch"
   ]
  },
  {
   "cell_type": "markdown",
   "metadata": {
    "id": "J047fbfPHE6c"
   },
   "source": [
    "Un peu de viasualisation:"
   ]
  },
  {
   "cell_type": "code",
   "execution_count": 157,
   "metadata": {
    "colab": {
     "base_uri": "https://localhost:8080/"
    },
    "id": "c2ObOg5Qmi_0",
    "outputId": "ef6d952d-bc68-4453-a424-9df0368ee3c0"
   },
   "outputs": [
    {
     "data": {
      "text/plain": [
       "torch.Size([1, 28, 28])"
      ]
     },
     "execution_count": 157,
     "metadata": {
      "tags": []
     },
     "output_type": "execute_result"
    }
   ],
   "source": [
    "a = next(iter(train_set))\n",
    "a[0].size()\n"
   ]
  },
  {
   "cell_type": "code",
   "execution_count": 158,
   "metadata": {
    "colab": {
     "base_uri": "https://localhost:8080/"
    },
    "id": "pO9lA3dfnE13",
    "outputId": "f4ca7bbf-a47a-4b6a-dbc0-1e56ad689809"
   },
   "outputs": [
    {
     "data": {
      "text/plain": [
       "8960"
      ]
     },
     "execution_count": 158,
     "metadata": {
      "tags": []
     },
     "output_type": "execute_result"
    }
   ],
   "source": [
    "len(train_set)"
   ]
  },
  {
   "cell_type": "code",
   "execution_count": 171,
   "metadata": {
    "colab": {
     "base_uri": "https://localhost:8080/",
     "height": 282
    },
    "id": "utSCl-zQo1vZ",
    "outputId": "7e964b42-2e46-4df2-f0f7-eb1cdc7bfbd5"
   },
   "outputs": [
    {
     "data": {
      "text/plain": [
       "tensor([0.])"
      ]
     },
     "execution_count": 171,
     "metadata": {
      "tags": []
     },
     "output_type": "execute_result"
    },
    {
     "data": {
      "image/png": "[encoded data removed]",
      "text/plain": [
       "<Figure size 432x288 with 1 Axes>"
      ]
     },
     "metadata": {
      "needs_background": "light",
      "tags": []
     },
     "output_type": "display_data"
    }
   ],
   "source": [
    "image, label = next(iter(train_set))\n",
    "# We apply the squeeze() function to transform the input's shape to torch.Size([28, 28])\n",
    "plt.imshow(image.squeeze(),cmap='hot')\n",
    "label"
   ]
  },
  {
   "cell_type": "markdown",
   "metadata": {
    "id": "vd9eNWa4HQ1W"
   },
   "source": [
    "Fonction prise du book du cours, elle fait en sorte d'affichier nos images"
   ]
  },
  {
   "cell_type": "code",
   "execution_count": 173,
   "metadata": {
    "id": "Xn2S_BIgHzSX"
   },
   "outputs": [],
   "source": [
    "def show_images(imgs, num_rows, num_cols, titles=None, scale=1.5):  #@save\n",
    "    \"\"\"Plot a list of images.\"\"\"\n",
    "    figsize = (num_cols * scale, num_rows * scale)\n",
    "    _, axes = plt.subplots(num_rows, num_cols, figsize=figsize)\n",
    "    axes = axes.flatten()\n",
    "    for i, (ax, img) in enumerate(zip(axes, imgs)):\n",
    "        if torch.is_tensor(img):\n",
    "            # Tensor Image\n",
    "            ax.imshow(img.numpy(),cmap='hot')\n",
    "        else:\n",
    "            # PIL Image\n",
    "            ax.imshow(img)\n",
    "        ax.axes.get_xaxis().set_visible(False)\n",
    "        ax.axes.get_yaxis().set_visible(False)\n",
    "        if titles:\n",
    "            ax.set_title(titles[i])\n",
    "    return axes\n"
   ]
  },
  {
   "cell_type": "markdown",
   "metadata": {
    "id": "9C8VpRGhHfTl"
   },
   "source": [
    "On passe à l'affichage, en faisant appel à la fonction show_images et aussi une autre fonction qui se charge de tranformer les labels (0,1) en leur vraie signification (sandal,ankle-boot)"
   ]
  },
  {
   "cell_type": "code",
   "execution_count": 174,
   "metadata": {
    "colab": {
     "base_uri": "https://localhost:8080/",
     "height": 210
    },
    "id": "2nNHg-1iFMpg",
    "outputId": "4ffece53-dc93-4deb-bbc1-74e9e71b36b4"
   },
   "outputs": [
    {
     "data": {
      "image/png": "[encoded data removed]",
      "text/plain": [
       "<Figure size 972x216 with 18 Axes>"
      ]
     },
     "metadata": {
      "needs_background": "light",
      "tags": []
     },
     "output_type": "display_data"
    }
   ],
   "source": [
    "X, y = next(iter(torch.utils.data.DataLoader(train_set, batch_size=18)))\n",
    "show_images(X.reshape(18, 28, 28), 2, 9, titles=get_fashion_mnist_labels(y));"
   ]
  },
  {
   "cell_type": "markdown",
   "metadata": {
    "id": "ZGbowCQiIDsz"
   },
   "source": [
    "## On cree une classe qui correspond a notre CNN...\n"
   ]
  },
  {
   "cell_type": "code",
   "execution_count": 9,
   "metadata": {
    "id": "kBGN0PjdEVWc"
   },
   "outputs": [],
   "source": [
    "#On cree une classe qui corrspend a notre CNN\n",
    "class Net(nn.Module):\n",
    "    \n",
    "    def __init__(self):\n",
    "        super(Net, self).__init__()\n",
    "        \n",
    "        self.layer1 = nn.Sequential(\n",
    "            nn.Conv2d(in_channels=1, out_channels=16, kernel_size=4, padding=1),\n",
    "            nn.ReLU(),\n",
    "            nn.AvgPool2d(kernel_size=2, stride=2)\n",
    "        )\n",
    "        \n",
    "        self.layer2 = nn.Sequential(\n",
    "            nn.Conv2d(in_channels=16,out_channels=32, kernel_size=4),\n",
    "            nn.ReLU(),\n",
    "            nn.AvgPool2d(kernel_size=2, stride=2),\n",
    "            nn.Flatten()\n",
    "        )\n",
    "        \n",
    "        self.fc1 = nn.Linear(in_features=32*5*5, out_features=150)\n",
    "        self.fc2 = nn.Linear(in_features=150, out_features=64)\n",
    "        self.fc3 = nn.Linear(in_features=64, out_features=1)\n",
    "        \n",
    "\n",
    "    def forward(self, x):\n",
    "        out = self.layer1(x)\n",
    "        out = self.layer2(out)\n",
    "        out = self.fc1(out)\n",
    "        out = self.fc2(out)\n",
    "        out = torch.sigmoid(self.fc3(out))\n",
    "        \n",
    "        return out"
   ]
  },
  {
   "cell_type": "code",
   "execution_count": 10,
   "metadata": {
    "id": "kj_mWxYlJXik"
   },
   "outputs": [],
   "source": [
    "model = Net()\n",
    "model.to(device)\n",
    "\n",
    "error = nn.BCELoss()\n",
    "optimizer = torch.optim.SGD(model.parameters(), lr=0.001)\n"
   ]
  },
  {
   "cell_type": "markdown",
   "metadata": {
    "id": "oyCg6QMgIcKm"
   },
   "source": [
    "Une fonction de test qui nous servira à tester notre model apres chaque epoch"
   ]
  },
  {
   "cell_type": "code",
   "execution_count": 14,
   "metadata": {
    "id": "c6rbA6CFkACA"
   },
   "outputs": [],
   "source": [
    "def test():\n",
    "\n",
    "    with torch.no_grad():\n",
    "        total = 0\n",
    "        correct = 0\n",
    "        labels_list = []\n",
    "        for images, labels in test_loader:\n",
    "            images, labels  = images.to(device), labels.to(device)\n",
    "            labels_list.append(labels)\n",
    "\n",
    "            test = images\n",
    "            outputs = model(test)\n",
    "\n",
    "            correct += torch.isclose(outputs,labels,atol=1e-01).sum().item()\n",
    "\n",
    "            total += len(labels)\n",
    "\n",
    "        accuracy = correct * 100 / total\n",
    "        print('test_accuracy :',accuracy)"
   ]
  },
  {
   "cell_type": "markdown",
   "metadata": {
    "id": "Qjj7LLlwIpyR"
   },
   "source": [
    "Phase d'entrainement, Validation et de test"
   ]
  },
  {
   "cell_type": "code",
   "execution_count": 15,
   "metadata": {
    "colab": {
     "base_uri": "https://localhost:8080/"
    },
    "id": "qATaji7KJpfg",
    "outputId": "7d81fac4-bae4-46f9-a053-fa94db38abe2"
   },
   "outputs": [
    {
     "name": "stdout",
     "output_type": "stream",
     "text": [
      "[1,  2000] loss: 0.142\n",
      "[1,  4000] loss: 0.132\n",
      "[1,  6000] loss: 0.116\n",
      "[1,  8000] loss: 0.111\n",
      "[1,  2000] val_loss: 0.098\n",
      "test_accuracy : 88.35714285714286\n",
      "[2,  2000] loss: 0.099\n",
      "[2,  4000] loss: 0.108\n",
      "[2,  6000] loss: 0.095\n",
      "[2,  8000] loss: 0.091\n",
      "[2,  2000] val_loss: 0.081\n",
      "test_accuracy : 89.89285714285714\n",
      "[3,  2000] loss: 0.088\n",
      "[3,  4000] loss: 0.081\n",
      "[3,  6000] loss: 0.074\n",
      "[3,  8000] loss: 0.085\n",
      "[3,  2000] val_loss: 0.090\n",
      "test_accuracy : 88.35714285714286\n",
      "[4,  2000] loss: 0.076\n",
      "[4,  4000] loss: 0.065\n",
      "[4,  6000] loss: 0.059\n",
      "[4,  8000] loss: 0.069\n",
      "[4,  2000] val_loss: 0.056\n",
      "test_accuracy : 93.25\n",
      "[5,  2000] loss: 0.061\n",
      "[5,  4000] loss: 0.053\n",
      "[5,  6000] loss: 0.051\n",
      "[5,  8000] loss: 0.060\n",
      "[5,  2000] val_loss: 0.051\n",
      "test_accuracy : 94.17857142857143\n"
     ]
    }
   ],
   "source": [
    "num_epochs = 5\n",
    "for epoch in range(num_epochs):\n",
    "\n",
    "    running_loss = 0.0\n",
    "    running_val_loss = 0.0\n",
    "\n",
    "    for i, (images, labels) in enumerate(train_loader, 0):\n",
    "\n",
    "        inputs, labels = images.to(device), labels.to(device)\n",
    "        optimizer.zero_grad()\n",
    "\n",
    "        outputs = model(inputs)\n",
    "        loss = error(outputs, labels)\n",
    "        loss.backward()\n",
    "        optimizer.step()\n",
    "\n",
    "        running_loss += loss.item()\n",
    "        if i % 2000 == 1999:   \n",
    "            print('[%d, %5d] loss: %.3f' % (epoch + 1, i + 1, running_loss / 2000))\n",
    "            running_loss = 0.0\n",
    "\n",
    "    for j, val_test in enumerate(val_loader, 0):\n",
    "        inputs_, labels_ = val_test[0].to(device), val_test[1].to(device)\n",
    "\n",
    "        outputs_ = model(inputs_)\n",
    "        val_loss = error(outputs_, labels_)\n",
    "\n",
    "\n",
    "        # print statistics\n",
    "        running_val_loss += val_loss.item()\n",
    "        if j % 2000 == 1999:    # print every 2000 mini-batches\n",
    "            print('[%d, %5d] val_loss: %.3f' %\n",
    "                (epoch + 1, j + 1, running_val_loss / 2000))\n",
    "            running_val_loss = 0.0\n",
    "    test()    \n",
    "      "
   ]
  },
  {
   "cell_type": "code",
   "execution_count": 146,
   "metadata": {
    "id": "7obtIMw79A9B"
   },
   "outputs": [],
   "source": []
  },
  {
   "cell_type": "markdown",
   "metadata": {
    "id": "oV1tvTlVIzZg"
   },
   "source": [
    "Remarque :\n",
    "--------\n",
    "On peut augmonter la complexité de notre Net, l'accuracy augmonte, mais le cout également. Ce qui nous mene à penser qu'à partir d'une certaine accuracy assez satisfaisante il est inutile de complexifier notre model encore plus, cela ne vaut pas le cout."
   ]
  }
 ],
 "metadata": {
  "colab": {
   "collapsed_sections": [],
   "name": "Untitled0.ipynb",
   "provenance": []
  },
  "kernelspec": {
   "display_name": "Python 3",
   "language": "python",
   "name": "python3"
  },
  "language_info": {
   "codemirror_mode": {
    "name": "ipython",
    "version": 3
   },
   "file_extension": ".py",
   "mimetype": "text/x-python",
   "name": "python",
   "nbconvert_exporter": "python",
   "pygments_lexer": "ipython3",
   "version": "3.9.2"
  }
 },
 "nbformat": 4,
 "nbformat_minor": 1
}
