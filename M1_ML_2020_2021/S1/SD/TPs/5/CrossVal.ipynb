{
 "cells": [
  {
   "cell_type": "markdown",
   "metadata": {},
   "source": [
    "# Régularisation et sélection de modèle"
   ]
  },
  {
   "cell_type": "markdown",
   "metadata": {},
   "source": [
    "## Chargement et observation"
   ]
  },
  {
   "cell_type": "markdown",
   "metadata": {},
   "source": [
    "**Question** Charger le jeu de données diabetes : https://scikit-learn.org/stable/modules/generated/sklearn.datasets.load_diabetes.html#sklearn.datasets.load_diabetes"
   ]
  },
  {
   "cell_type": "code",
   "execution_count": 1,
   "metadata": {},
   "outputs": [],
   "source": [
    "import numpy as np\n",
    "import matplotlib.pyplot as plt\n",
    "from sklearn import datasets\n",
    "import pandas as pd"
   ]
  },
  {
   "cell_type": "code",
   "execution_count": 26,
   "metadata": {},
   "outputs": [],
   "source": [
    "diabetes = datasets.load_diabetes()\n",
    "X = diabetes.data\n",
    "y = diabetes.target"
   ]
  },
  {
   "cell_type": "code",
   "execution_count": 3,
   "metadata": {},
   "outputs": [
    {
     "name": "stdout",
     "output_type": "stream",
     "text": [
      "(442, 10)\n",
      "(442,)\n",
      ".. _diabetes_dataset:\n",
      "\n",
      "Diabetes dataset\n",
      "----------------\n",
      "\n",
      "Ten baseline variables, age, sex, body mass index, average blood\n",
      "pressure, and six blood serum measurements were obtained for each of n =\n",
      "442 diabetes patients, as well as the response of interest, a\n",
      "quantitative measure of disease progression one year after baseline.\n",
      "\n",
      "**Data Set Characteristics:**\n",
      "\n",
      "  :Number of Instances: 442\n",
      "\n",
      "  :Number of Attributes: First 10 columns are numeric predictive values\n",
      "\n",
      "  :Target: Column 11 is a quantitative measure of disease progression one year after baseline\n",
      "\n",
      "  :Attribute Information:\n",
      "      - age     age in years\n",
      "      - sex\n",
      "      - bmi     body mass index\n",
      "      - bp      average blood pressure\n",
      "      - s1      tc, T-Cells (a type of white blood cells)\n",
      "      - s2      ldl, low-density lipoproteins\n",
      "      - s3      hdl, high-density lipoproteins\n",
      "      - s4      tch, thyroid stimulating hormone\n",
      "      - s5      ltg, lamotrigine\n",
      "      - s6      glu, blood sugar level\n",
      "\n",
      "Note: Each of these 10 feature variables have been mean centered and scaled by the standard deviation times `n_samples` (i.e. the sum of squares of each column totals 1).\n",
      "\n",
      "Source URL:\n",
      "https://www4.stat.ncsu.edu/~boos/var.select/diabetes.html\n",
      "\n",
      "For more information see:\n",
      "Bradley Efron, Trevor Hastie, Iain Johnstone and Robert Tibshirani (2004) \"Least Angle Regression,\" Annals of Statistics (with discussion), 407-499.\n",
      "(https://web.stanford.edu/~hastie/Papers/LARS/LeastAngle_2002.pdf)\n"
     ]
    }
   ],
   "source": [
    "print(diabetes.data.shape)\n",
    "print(diabetes.target.shape)\n",
    "print(diabetes.DESCR)"
   ]
  },
  {
   "cell_type": "markdown",
   "metadata": {},
   "source": [
    "**Question** Construire un `dataframe` à partir des données. Ajouter une colonne `target` pour la cible. Afficher les premières lignes du dataframe et afficher les statistiques descriptives.  "
   ]
  },
  {
   "cell_type": "code",
   "execution_count": 50,
   "metadata": {},
   "outputs": [
    {
     "name": "stdout",
     "output_type": "stream",
     "text": [
      "          age       sex       bmi        bp        s1        s2        s3  \\\n",
      "0    0.038076  0.050680  0.061696  0.021872 -0.044223 -0.034821 -0.043401   \n",
      "1   -0.001882 -0.044642 -0.051474 -0.026328 -0.008449 -0.019163  0.074412   \n",
      "2    0.085299  0.050680  0.044451 -0.005671 -0.045599 -0.034194 -0.032356   \n",
      "3   -0.089063 -0.044642 -0.011595 -0.036656  0.012191  0.024991 -0.036038   \n",
      "4    0.005383 -0.044642 -0.036385  0.021872  0.003935  0.015596  0.008142   \n",
      "..        ...       ...       ...       ...       ...       ...       ...   \n",
      "437  0.041708  0.050680  0.019662  0.059744 -0.005697 -0.002566 -0.028674   \n",
      "438 -0.005515  0.050680 -0.015906 -0.067642  0.049341  0.079165 -0.028674   \n",
      "439  0.041708  0.050680 -0.015906  0.017282 -0.037344 -0.013840 -0.024993   \n",
      "440 -0.045472 -0.044642  0.039062  0.001215  0.016318  0.015283 -0.028674   \n",
      "441 -0.045472 -0.044642 -0.073030 -0.081414  0.083740  0.027809  0.173816   \n",
      "\n",
      "           s4        s5        s6      y  \n",
      "0   -0.002592  0.019908 -0.017646  151.0  \n",
      "1   -0.039493 -0.068330 -0.092204   75.0  \n",
      "2   -0.002592  0.002864 -0.025930  141.0  \n",
      "3    0.034309  0.022692 -0.009362  206.0  \n",
      "4   -0.002592 -0.031991 -0.046641  135.0  \n",
      "..        ...       ...       ...    ...  \n",
      "437 -0.002592  0.031193  0.007207  178.0  \n",
      "438  0.034309 -0.018118  0.044485  104.0  \n",
      "439 -0.011080 -0.046879  0.015491  132.0  \n",
      "440  0.026560  0.044528 -0.025930  220.0  \n",
      "441 -0.039493 -0.004220  0.003064   57.0  \n",
      "\n",
      "[442 rows x 11 columns]\n"
     ]
    }
   ],
   "source": [
    "df = pd.DataFrame(data=X, columns=diabetes.feature_names)\n",
    "df[\"y\"] = y\n",
    "print(df)"
   ]
  },
  {
   "cell_type": "code",
   "execution_count": 51,
   "metadata": {},
   "outputs": [
    {
     "data": {
      "text/plain": [
       "<bound method NDFrame.describe of           age       sex       bmi        bp        s1        s2        s3  \\\n",
       "0    0.038076  0.050680  0.061696  0.021872 -0.044223 -0.034821 -0.043401   \n",
       "1   -0.001882 -0.044642 -0.051474 -0.026328 -0.008449 -0.019163  0.074412   \n",
       "2    0.085299  0.050680  0.044451 -0.005671 -0.045599 -0.034194 -0.032356   \n",
       "3   -0.089063 -0.044642 -0.011595 -0.036656  0.012191  0.024991 -0.036038   \n",
       "4    0.005383 -0.044642 -0.036385  0.021872  0.003935  0.015596  0.008142   \n",
       "..        ...       ...       ...       ...       ...       ...       ...   \n",
       "437  0.041708  0.050680  0.019662  0.059744 -0.005697 -0.002566 -0.028674   \n",
       "438 -0.005515  0.050680 -0.015906 -0.067642  0.049341  0.079165 -0.028674   \n",
       "439  0.041708  0.050680 -0.015906  0.017282 -0.037344 -0.013840 -0.024993   \n",
       "440 -0.045472 -0.044642  0.039062  0.001215  0.016318  0.015283 -0.028674   \n",
       "441 -0.045472 -0.044642 -0.073030 -0.081414  0.083740  0.027809  0.173816   \n",
       "\n",
       "           s4        s5        s6      y  \n",
       "0   -0.002592  0.019908 -0.017646  151.0  \n",
       "1   -0.039493 -0.068330 -0.092204   75.0  \n",
       "2   -0.002592  0.002864 -0.025930  141.0  \n",
       "3    0.034309  0.022692 -0.009362  206.0  \n",
       "4   -0.002592 -0.031991 -0.046641  135.0  \n",
       "..        ...       ...       ...    ...  \n",
       "437 -0.002592  0.031193  0.007207  178.0  \n",
       "438  0.034309 -0.018118  0.044485  104.0  \n",
       "439 -0.011080 -0.046879  0.015491  132.0  \n",
       "440  0.026560  0.044528 -0.025930  220.0  \n",
       "441 -0.039493 -0.004220  0.003064   57.0  \n",
       "\n",
       "[442 rows x 11 columns]>"
      ]
     },
     "execution_count": 51,
     "metadata": {},
     "output_type": "execute_result"
    }
   ],
   "source": [
    "df.describe"
   ]
  },
  {
   "cell_type": "code",
   "execution_count": 52,
   "metadata": {},
   "outputs": [
    {
     "data": {
      "text/plain": [
       "age     0.047619\n",
       "sex     0.047619\n",
       "bmi     0.047619\n",
       "bp      0.047619\n",
       "s1      0.047619\n",
       "s2      0.047619\n",
       "s3      0.047619\n",
       "s4      0.047619\n",
       "s5      0.047619\n",
       "s6      0.047619\n",
       "y      77.093005\n",
       "dtype: float64"
      ]
     },
     "execution_count": 52,
     "metadata": {},
     "output_type": "execute_result"
    }
   ],
   "source": [
    "df.std()"
   ]
  },
  {
   "cell_type": "code",
   "execution_count": 53,
   "metadata": {},
   "outputs": [
    {
     "data": {
      "text/plain": [
       "age   -3.634285e-16\n",
       "sex    1.308343e-16\n",
       "bmi   -8.045349e-16\n",
       "bp     1.281655e-16\n",
       "s1    -8.835316e-17\n",
       "s2     1.327024e-16\n",
       "s3    -4.574646e-16\n",
       "s4     3.777301e-16\n",
       "s5    -3.830854e-16\n",
       "s6    -3.412882e-16\n",
       "y      1.521335e+02\n",
       "dtype: float64"
      ]
     },
     "execution_count": 53,
     "metadata": {},
     "output_type": "execute_result"
    }
   ],
   "source": [
    "df.mean()"
   ]
  },
  {
   "cell_type": "code",
   "execution_count": 54,
   "metadata": {},
   "outputs": [
    {
     "data": {
      "text/html": [
       "<div>\n",
       "<style scoped>\n",
       "    .dataframe tbody tr th:only-of-type {\n",
       "        vertical-align: middle;\n",
       "    }\n",
       "\n",
       "    .dataframe tbody tr th {\n",
       "        vertical-align: top;\n",
       "    }\n",
       "\n",
       "    .dataframe thead th {\n",
       "        text-align: right;\n",
       "    }\n",
       "</style>\n",
       "<table border=\"1\" class=\"dataframe\">\n",
       "  <thead>\n",
       "    <tr style=\"text-align: right;\">\n",
       "      <th></th>\n",
       "      <th>age</th>\n",
       "      <th>sex</th>\n",
       "      <th>bmi</th>\n",
       "      <th>bp</th>\n",
       "      <th>s1</th>\n",
       "      <th>s2</th>\n",
       "      <th>s3</th>\n",
       "      <th>s4</th>\n",
       "      <th>s5</th>\n",
       "      <th>s6</th>\n",
       "      <th>y</th>\n",
       "    </tr>\n",
       "  </thead>\n",
       "  <tbody>\n",
       "    <tr>\n",
       "      <th>0</th>\n",
       "      <td>0.038076</td>\n",
       "      <td>0.050680</td>\n",
       "      <td>0.061696</td>\n",
       "      <td>0.021872</td>\n",
       "      <td>-0.044223</td>\n",
       "      <td>-0.034821</td>\n",
       "      <td>-0.043401</td>\n",
       "      <td>-0.002592</td>\n",
       "      <td>0.019908</td>\n",
       "      <td>-0.017646</td>\n",
       "      <td>151.0</td>\n",
       "    </tr>\n",
       "    <tr>\n",
       "      <th>1</th>\n",
       "      <td>-0.001882</td>\n",
       "      <td>-0.044642</td>\n",
       "      <td>-0.051474</td>\n",
       "      <td>-0.026328</td>\n",
       "      <td>-0.008449</td>\n",
       "      <td>-0.019163</td>\n",
       "      <td>0.074412</td>\n",
       "      <td>-0.039493</td>\n",
       "      <td>-0.068330</td>\n",
       "      <td>-0.092204</td>\n",
       "      <td>75.0</td>\n",
       "    </tr>\n",
       "    <tr>\n",
       "      <th>2</th>\n",
       "      <td>0.085299</td>\n",
       "      <td>0.050680</td>\n",
       "      <td>0.044451</td>\n",
       "      <td>-0.005671</td>\n",
       "      <td>-0.045599</td>\n",
       "      <td>-0.034194</td>\n",
       "      <td>-0.032356</td>\n",
       "      <td>-0.002592</td>\n",
       "      <td>0.002864</td>\n",
       "      <td>-0.025930</td>\n",
       "      <td>141.0</td>\n",
       "    </tr>\n",
       "    <tr>\n",
       "      <th>3</th>\n",
       "      <td>-0.089063</td>\n",
       "      <td>-0.044642</td>\n",
       "      <td>-0.011595</td>\n",
       "      <td>-0.036656</td>\n",
       "      <td>0.012191</td>\n",
       "      <td>0.024991</td>\n",
       "      <td>-0.036038</td>\n",
       "      <td>0.034309</td>\n",
       "      <td>0.022692</td>\n",
       "      <td>-0.009362</td>\n",
       "      <td>206.0</td>\n",
       "    </tr>\n",
       "    <tr>\n",
       "      <th>4</th>\n",
       "      <td>0.005383</td>\n",
       "      <td>-0.044642</td>\n",
       "      <td>-0.036385</td>\n",
       "      <td>0.021872</td>\n",
       "      <td>0.003935</td>\n",
       "      <td>0.015596</td>\n",
       "      <td>0.008142</td>\n",
       "      <td>-0.002592</td>\n",
       "      <td>-0.031991</td>\n",
       "      <td>-0.046641</td>\n",
       "      <td>135.0</td>\n",
       "    </tr>\n",
       "  </tbody>\n",
       "</table>\n",
       "</div>"
      ],
      "text/plain": [
       "        age       sex       bmi        bp        s1        s2        s3  \\\n",
       "0  0.038076  0.050680  0.061696  0.021872 -0.044223 -0.034821 -0.043401   \n",
       "1 -0.001882 -0.044642 -0.051474 -0.026328 -0.008449 -0.019163  0.074412   \n",
       "2  0.085299  0.050680  0.044451 -0.005671 -0.045599 -0.034194 -0.032356   \n",
       "3 -0.089063 -0.044642 -0.011595 -0.036656  0.012191  0.024991 -0.036038   \n",
       "4  0.005383 -0.044642 -0.036385  0.021872  0.003935  0.015596  0.008142   \n",
       "\n",
       "         s4        s5        s6      y  \n",
       "0 -0.002592  0.019908 -0.017646  151.0  \n",
       "1 -0.039493 -0.068330 -0.092204   75.0  \n",
       "2 -0.002592  0.002864 -0.025930  141.0  \n",
       "3  0.034309  0.022692 -0.009362  206.0  \n",
       "4 -0.002592 -0.031991 -0.046641  135.0  "
      ]
     },
     "execution_count": 54,
     "metadata": {},
     "output_type": "execute_result"
    }
   ],
   "source": [
    "df.head()"
   ]
  },
  {
   "cell_type": "markdown",
   "metadata": {},
   "source": [
    "**Question** Dans la documentation on trouve *Note that the 10 x variables have been standardized to have mean 0 and squared length = 1 (sum(x^2)=1)*. Vérifiez ces deux propriétés."
   ]
  },
  {
   "cell_type": "code",
   "execution_count": 55,
   "metadata": {},
   "outputs": [
    {
     "name": "stdout",
     "output_type": "stream",
     "text": [
      "age     0.047619\n",
      "sex     0.047619\n",
      "bmi     0.047619\n",
      "bp      0.047619\n",
      "s1      0.047619\n",
      "s2      0.047619\n",
      "s3      0.047619\n",
      "s4      0.047619\n",
      "s5      0.047619\n",
      "s6      0.047619\n",
      "y      77.093005\n",
      "dtype: float64\n"
     ]
    }
   ],
   "source": [
    "# std centré en 0\n",
    "print(df.std())"
   ]
  },
  {
   "cell_type": "code",
   "execution_count": 56,
   "metadata": {},
   "outputs": [
    {
     "name": "stdout",
     "output_type": "stream",
     "text": [
      "age².sum: 1.0000000000000746\n",
      "s2².sum: 0.9999999999999851\n"
     ]
    }
   ],
   "source": [
    "print(\"age².sum: \" + str(np.sum(df.age**2)))\n",
    "print(\"s2².sum: \" + str(np.sum(df.s2**2)))"
   ]
  },
  {
   "cell_type": "markdown",
   "metadata": {},
   "source": [
    "**Question** Tracez le graphe donnant la valeur de la cible en fonction de l'âge "
   ]
  },
  {
   "cell_type": "code",
   "execution_count": 58,
   "metadata": {},
   "outputs": [
    {
     "data": {
      "image/png": "[encoded data removed]",
      "text/plain": [
       "<Figure size 432x288 with 1 Axes>"
      ]
     },
     "metadata": {
      "needs_background": "light"
     },
     "output_type": "display_data"
    }
   ],
   "source": [
    "import matplotlib.pyplot as plt\n",
    "plt.scatter(df[\"age\"], df[\"y\"],color=\"black\")\n",
    "plt.xlabel('AGE')\n",
    "plt.ylabel('TARGET')\n",
    "plt.show()"
   ]
  },
  {
   "cell_type": "markdown",
   "metadata": {},
   "source": [
    "## Un premier essai"
   ]
  },
  {
   "cell_type": "markdown",
   "metadata": {},
   "source": [
    "**Question** Utiliser `train_test_split` de `sklearn.model_selection` pour découper aléatoirement le jeu de données en gardant 1/3 pour l'échantillon de test.  "
   ]
  },
  {
   "cell_type": "code",
   "execution_count": 59,
   "metadata": {},
   "outputs": [],
   "source": [
    "from sklearn.model_selection import train_test_split"
   ]
  },
  {
   "cell_type": "code",
   "execution_count": 60,
   "metadata": {},
   "outputs": [
    {
     "name": "stdout",
     "output_type": "stream",
     "text": [
      "x_train.shape: (296, 10), y_train.shape: (296,)\n",
      "x_test.shape: (146, 10), y_test.shape: (146,)\n"
     ]
    }
   ],
   "source": [
    "X_train, X_test, y_train, y_test = train_test_split(X, y, test_size=0.33, random_state=42)\n",
    "print(\"x_train.shape: \" + str(X_train.shape) + \", y_train.shape: \" + str(y_train.shape))\n",
    "print(\"x_test.shape: \" + str(X_test.shape) + \", y_test.shape: \" + str(y_test.shape))\n",
    "y_train = y_train.reshape(296,1)\n",
    "y_test = y_test.reshape(146,1)"
   ]
  },
  {
   "cell_type": "markdown",
   "metadata": {},
   "source": [
    "**Question** Vérifier que vous pouvez le faire soit sur les arrays numpy issus de la lecture réalisée à l'aide de `load_diabetes` ou du dataframe construit précédemment. "
   ]
  },
  {
   "cell_type": "code",
   "execution_count": 61,
   "metadata": {},
   "outputs": [
    {
     "name": "stdout",
     "output_type": "stream",
     "text": [
      "x_train.shape: (296, 10), tmp_y_train.shape: (296, 1)\n",
      "x_test.shape: (146, 10), tmp_y_test.shape: (146, 1)\n"
     ]
    }
   ],
   "source": [
    "tmp_x_train, tmp_x_test, tmp_y_train, tmp_y_test = train_test_split(df.iloc[:,:10],df.iloc[:,8:9:10],test_size=0.33)\n",
    "print(\"x_train.shape: \" + str(tmp_x_train.shape) + \", tmp_y_train.shape: \" + str(tmp_y_train.shape))\n",
    "print(\"x_test.shape: \" + str(tmp_x_test.shape) + \", tmp_y_test.shape: \" + str(tmp_y_test.shape))"
   ]
  },
  {
   "cell_type": "markdown",
   "metadata": {},
   "source": [
    "Dans tous les cas, construisez à la fin 4 arrays numpy `X_train`, `X_test`, `y_train`, `y_test`."
   ]
  },
  {
   "cell_type": "markdown",
   "metadata": {},
   "source": [
    "**Question** Regardez la documentation de `Ridge` dans sklearn. Quelle est la fonction objectif ? Quelle est sa dérivée sous forme matricielle ? Pour quelle valeur de $w$ s'annule-t-elle ? "
   ]
  },
  {
   "cell_type": "markdown",
   "metadata": {},
   "source": [
    "*Votre réponse*"
   ]
  },
  {
   "cell_type": "markdown",
   "metadata": {},
   "source": [
    "Func obj: $$\\mathop\\min_{w} || X w - y||_2^2 + \\lambda ||w||_2^2 $$\n",
    "\n",
    "Informellement on peut réécrire :\n",
    "$$\\mathop X*w + \\lambda * w = y $$\n",
    "\n",
    "On multiple par $$\\mathop X^{T}  $$\n",
    "$$\\mathop X^{T}*X*w + \\lambda * X^{T} * w = X^{T} * y $$\n",
    "\n",
    "on cherche w = 0 \n",
    "$$\\mathop w [X^{T}*X + \\lambda * X^{T}] = X^{T} * y $$ \n",
    "$$\\mathop w = (X^{T}*X + \\lambda * X^{T})^{-1} * X^{T} * y $$ \n"
   ]
  },
  {
   "cell_type": "markdown",
   "metadata": {},
   "source": [
    "**Question** Construire deux modèles de régression avec `sklearn`. Utilisez les deux méthodes `LinearRegression` et `Ridge`. Dans un premier temps on garde la valeur de `alpha` à 1. Appelez-les `lr` et `ridge`."
   ]
  },
  {
   "cell_type": "code",
   "execution_count": 63,
   "metadata": {},
   "outputs": [],
   "source": [
    "from sklearn.linear_model import Ridge\n",
    "from sklearn import linear_model\n",
    "\n",
    "lr = linear_model.LinearRegression()\n",
    "ridge = linear_model.Ridge(alpha=1)"
   ]
  },
  {
   "cell_type": "code",
   "execution_count": 64,
   "metadata": {},
   "outputs": [
    {
     "data": {
      "text/plain": [
       "Ridge(alpha=1)"
      ]
     },
     "execution_count": 64,
     "metadata": {},
     "output_type": "execute_result"
    }
   ],
   "source": [
    "lr.fit(X_train, y_train)\n",
    "ridge.fit(X_train, y_train)"
   ]
  },
  {
   "cell_type": "markdown",
   "metadata": {},
   "source": [
    "**Question** Calculez les prédictions et les scores dans chacun des cas sur les données de test."
   ]
  },
  {
   "cell_type": "code",
   "execution_count": 65,
   "metadata": {},
   "outputs": [
    {
     "name": "stdout",
     "output_type": "stream",
     "text": [
      "Coefficients: \n",
      " [[  32.14567288 -242.82582016  559.98738213  407.64166457 -718.68703857\n",
      "   396.63010925   10.42304776  171.81177553  627.07976426  -21.62420711]]\n",
      "Mean squared error: 2817.80\n",
      "Coefficient of determination: 0.51\n"
     ]
    }
   ],
   "source": [
    "from sklearn.metrics import mean_squared_error, r2_score\n",
    "\n",
    "lr_pred = lr.predict(X_test)\n",
    "ridge_pred = ridge.predict(X_test)\n",
    "\n",
    "# The coefficients\n",
    "print('Coefficients: \\n', lr.coef_)\n",
    "# The mean squared error\n",
    "print('Mean squared error: %.2f'\n",
    "      % mean_squared_error(y_test, lr_pred))\n",
    "# The coefficient of determination: 1 is perfect prediction\n",
    "print('Coefficient of determination: %.2f'\n",
    "      % r2_score(y_test, lr_pred))"
   ]
  },
  {
   "cell_type": "markdown",
   "metadata": {},
   "source": [
    "**Question** Tracer sur un même graphique les points en bleu pour ridge  et en rouge pour lr représentant en abscisse les valeurs en test et en ordonnée les valeurs prédites.\n",
    "\n",
    "![ridge contre lr](./ridge_contre_lr.png)\n"
   ]
  },
  {
   "cell_type": "code",
   "execution_count": 66,
   "metadata": {},
   "outputs": [
    {
     "data": {
      "image/png": "[encoded data removed]",
      "text/plain": [
       "<Figure size 432x288 with 1 Axes>"
      ]
     },
     "metadata": {
      "needs_background": "light"
     },
     "output_type": "display_data"
    }
   ],
   "source": [
    "plt.scatter(y_test, ridge_pred, color=\"blue\")\n",
    "plt.scatter(y_test, lr_pred, color=\"red\")\n",
    "plt.xlabel('TEST')\n",
    "plt.ylabel('PREDICTION')\n",
    "plt.show()"
   ]
  },
  {
   "cell_type": "markdown",
   "metadata": {},
   "source": [
    "## Méthodologie de sélection de modèles"
   ]
  },
  {
   "cell_type": "markdown",
   "metadata": {},
   "source": [
    "**Question** On a donc une estimation de l'erreur en généralisation... Mais peut-on dire à l'issue de ce qu'on observe sur le test que l'un est meilleur que l'autre et qu'on devrait prendre la méthode qui se comporte mieux sur l'échantillon test pour la mettre en production ?\n",
    "\n",
    "*Aide* Pour vous aider à répondre, considérez que vous avez 1000 méthodes de régression et non plus deux."
   ]
  },
  {
   "cell_type": "markdown",
   "metadata": {},
   "source": [
    "*votre réponse* :\n"
   ]
  },
  {
   "cell_type": "markdown",
   "metadata": {},
   "source": [
    "Non"
   ]
  },
  {
   "cell_type": "markdown",
   "metadata": {},
   "source": [
    "Mais on a fixé un paramètre $\\alpha$ par défaut pour la ridge régression et comment peut-on tester si d'autres valeurs marcheraient mieux ? Il faut tester de nombreuses valeurs et on veut avoir la meilleure valeur pour $\\alpha$. Comment procéder ? \n",
    "\n",
    "Pour cela, **il faut découper l'échantillon de données train initial en une partie apprentissage (train) et une partie de validation (valid)**. On estime l'erreur sur la partie validation. \n",
    "\n",
    "On a alors 3 ensembles train/validation/test (ou encore selon d'autres terminologies train/development/test), celui du milieu servant à régler les valeurs des (hyper)paramètres de l'algorithme d'apprentissage (pas les paramètres de la fonction de régression): c'est l'**hyperparameter tuning**."
   ]
  },
  {
   "cell_type": "markdown",
   "metadata": {},
   "source": [
    "## Validation croisée"
   ]
  },
  {
   "cell_type": "markdown",
   "metadata": {},
   "source": [
    "Par contre, on commence à avoir des ensembles un peu petits... L'estimation sur un petit échantillon valid risque d'être problématique. On utilise alors une méthode dite de la validation croisée pour répéter plusieurs fois ce découpage train/valid et moyenner les résultats.\n",
    "\n",
    "Construisons d'abord cela à la main... Nous allons procéder en manipulant les indices et non les données."
   ]
  },
  {
   "cell_type": "markdown",
   "metadata": {},
   "source": [
    "**Question** Prenons par exemple une liste d'indices \n",
    "\n",
    "    indices = np.arange(10)\n",
    "\n",
    "\n",
    "Regardez maintenant comment fonctionne les méthodes `random.shuffle`, `copy`, `array_split`, `pop` et `concatenate` de `np`. Faites des petits essais avec `indices` pour bien comprendre le fonctionnement.   "
   ]
  },
  {
   "cell_type": "code",
   "execution_count": 67,
   "metadata": {},
   "outputs": [
    {
     "name": "stdout",
     "output_type": "stream",
     "text": [
      "indices: [0 1 2 3 4 5 6 7 8 9]\n",
      "shuffle: [9 2 4 1 0 6 7 3 5 8]\n"
     ]
    }
   ],
   "source": [
    "indices = np.arange(10)\n",
    "print(\"indices: \" + str(indices))\n",
    "np.random.shuffle(indices)\n",
    "print(\"shuffle: \" + str(indices))"
   ]
  },
  {
   "cell_type": "markdown",
   "metadata": {},
   "source": [
    "Si on découpe l'ensemble des indices réordonnés aléatoirement du train en trois parties, on obtient trois parties et on peut construire successivement des échantillons à partir du train qui seront : \n",
    "\n",
    "- les indices des parties 1 et 2 pour construire un classeur et 3 pour évaluer son score \n",
    "- les indices des parties 1 et 3 pour construire un classeur et 2 pour évaluer son score \n",
    "- les indices des parties 2 et 3 pour construire un classeur et 1 pour évaluer son score \n",
    "\n",
    "On peut alors calculer une estimation de l'erreur en moyennant les 3 scores correspondant aux trois étapes ci-dessus. On a alors réalisé l'algorithme de validation croisée. On peut bien-sûr généraliser sur autant de parties qu'on veut! "
   ]
  },
  {
   "cell_type": "markdown",
   "metadata": {},
   "source": [
    "**Question** Réaliser cet algorithme dans une fonction `my_fold` dont les paramètres sont un échantillon `X`, des classes `y`, un nombre de parties `k` et une méthode de régression `reg`. L'essayer avec `ridge`."
   ]
  },
  {
   "cell_type": "code",
   "execution_count": 78,
   "metadata": {},
   "outputs": [],
   "source": [
    "def my_flod1(X,y,k,reg):\n",
    "    indices = np.arange(len(X))\n",
    "    np.random.shuffle(indices)\n",
    "    slices = np.array_split(indices, k)\n",
    "    \n",
    "    # 1\n",
    "    x_train_tmp = np.vstack((X[slices[0]], X[slices[1]]))\n",
    "    y_train_tmp = np.vstack((y[slices[0]].reshape(-1,1), y[slices[1]].reshape(-1,1)))\n",
    "    x_test_tmp = X[slices[2]]\n",
    "    y_test_tmp = y[slices[2]].reshape(-1,1)\n",
    "    reg.fit(x_train_tmp, y_train_tmp)\n",
    "    pred = reg.predict(x_test_tmp)\n",
    "    score1 = r2_score(pred, y_test_tmp)\n",
    "    err1 = mean_squared_error(pred, y_test_tmp)\n",
    "    \n",
    "    # 2\n",
    "    x_train_tmp = np.vstack((X[slices[0]], X[slices[2]]))\n",
    "    y_train_tmp = np.vstack((y[slices[0]].reshape(-1,1), y[slices[2]].reshape(-1,1)))\n",
    "    x_test_tmp = X[slices[1]]\n",
    "    y_test_tmp = y[slices[1]].reshape(-1,1)\n",
    "    reg.fit(x_train_tmp, y_train_tmp)\n",
    "    pred = reg.predict(x_test_tmp)\n",
    "    score2 = r2_score(pred, y_test_tmp)\n",
    "    err2 = mean_squared_error(pred, y_test_tmp)\n",
    "    \n",
    "    # 3\n",
    "    x_train_tmp = np.vstack((X[slices[1]], X[slices[2]]))\n",
    "    y_train_tmp = np.vstack((y[slices[1]].reshape(-1,1), y[slices[2]].reshape(-1,1)))\n",
    "    x_test_tmp = X[slices[0]]\n",
    "    y_test_tmp = y[slices[0]].reshape(-1,1)\n",
    "    reg.fit(x_train_tmp, y_train_tmp)\n",
    "    pred = reg.predict(x_test_tmp)\n",
    "    score3 = r2_score(pred, y_test_tmp)\n",
    "    err3 = mean_squared_error(pred, y_test_tmp)\n",
    "    \n",
    "    \n",
    "    \n",
    "    print(\"score1: \" + str(score1) + \", err1: \" + str(err1))\n",
    "    print(\"score2: \" + str(score2) + \", err2: \" + str(err2))\n",
    "    print(\"score3: \" + str(score3) + \", err3: \" + str(err3))\n",
    "    print(\"score_moy: \" + str((score1 + score2 + score3)/3) + \", err_moy: \" + str((err1+err2+err3)/3))\n",
    "\n",
    "    return "
   ]
  },
  {
   "cell_type": "code",
   "execution_count": 80,
   "metadata": {},
   "outputs": [
    {
     "name": "stdout",
     "output_type": "stream",
     "text": [
      "score1: -14165.405223966263, err1: 6751.523136656217\n",
      "score2: -9271.844794860463, err2: 5522.061298217369\n",
      "score3: -12239.099705772887, err3: 5732.524339089487\n",
      "score_moy: -11892.116574866537, err_moy: 6002.03625798769\n"
     ]
    }
   ],
   "source": [
    "my_flod1(X_train,y_train,3,ridge)"
   ]
  },
  {
   "cell_type": "markdown",
   "metadata": {},
   "source": [
    "### Validation croisée dans sklearn"
   ]
  },
  {
   "cell_type": "markdown",
   "metadata": {},
   "source": [
    "**Question** \n",
    "Regardez et importez [KFold](http://scikit-learn.org/stable/modules/generated/sklearn.model_selection.KFold.html) puis créez un objet nommé `k_fold` à 3 parties. Inspirez-vous de la page de description de [KFold](http://scikit-learn.org/stable/modules/generated/sklearn.model_selection.KFold.html) pour cette partie."
   ]
  },
  {
   "cell_type": "code",
   "execution_count": 81,
   "metadata": {},
   "outputs": [
    {
     "name": "stdout",
     "output_type": "stream",
     "text": [
      "Coefficient of determination: 0.01\n",
      "Mean squared error: 5650.92\n",
      "Coefficient of determination: 0.02\n",
      "Mean squared error: 6228.86\n",
      "Coefficient of determination: 0.01\n",
      "Mean squared error: 5617.55\n"
     ]
    }
   ],
   "source": [
    "from sklearn.model_selection import KFold\n",
    "kf = KFold(n_splits=3)\n",
    "kf.get_n_splits(X)\n",
    "for train_index, test_index in kf.split(X):\n",
    "    X_train_fold, X_test_fold = X[train_index], X[test_index]\n",
    "    y_train_fold, y_test_fold = y[train_index], y[test_index]\n",
    "    \n",
    "    ridge.fit(X_train_fold, y_train_fold)\n",
    "    lr_pred = ridge.predict(X_test_fold)\n",
    "    \n",
    "    print('Coefficient of determination: %.2f' % r2_score(y_test_fold, lr_pred))\n",
    "    print('Mean squared error: %.2f' % mean_squared_error(y_test_fold, lr_pred))"
   ]
  },
  {
   "cell_type": "markdown",
   "metadata": {},
   "source": [
    "**Question** Construire une liste contenant les scores de `ridge`.  "
   ]
  },
  {
   "cell_type": "code",
   "execution_count": null,
   "metadata": {},
   "outputs": [],
   "source": [
    "# voir plus haut"
   ]
  },
  {
   "cell_type": "markdown",
   "metadata": {},
   "source": [
    "Une manière encore plus directe est d'utiliser la fonction [cross_val_score](http://scikit-learn.org/stable/modules/generated/sklearn.model_selection.cross_val_score.html). \n",
    "\n",
    "**Question** Importez la fonction et avec une boucle, recalculer les erreurs par 3-validation de `ridge` pour les valeurs de `alpha` suivantes 0.01, 0.1, 1, 10, 100."
   ]
  },
  {
   "cell_type": "code",
   "execution_count": 74,
   "metadata": {},
   "outputs": [
    {
     "name": "stdout",
     "output_type": "stream",
     "text": [
      "[0.01] Coefficient of determination: 0.47\n",
      "[0.01] Mean squared error: 3036.46\n",
      "[0.01] [0.46891606 0.49088028 0.50629545]\n",
      "=====================\n",
      "[0.01] Coefficient of determination: 0.49\n",
      "[0.01] Mean squared error: 3230.19\n",
      "[0.01] [0.46891606 0.49088028 0.50629545]\n",
      "=====================\n",
      "[0.01] Coefficient of determination: 0.51\n",
      "[0.01] Mean squared error: 2812.53\n",
      "[0.01] [0.46891606 0.49088028 0.50629545]\n",
      "=====================\n",
      "[0.1] Coefficient of determination: 0.46\n",
      "[0.1] Mean squared error: 3095.62\n",
      "[0.1] [0.45856814 0.49516189 0.51209245]\n",
      "=====================\n",
      "[0.1] Coefficient of determination: 0.50\n",
      "[0.1] Mean squared error: 3203.02\n",
      "[0.1] [0.45856814 0.49516189 0.51209245]\n",
      "=====================\n",
      "[0.1] Coefficient of determination: 0.51\n",
      "[0.1] Mean squared error: 2779.51\n",
      "[0.1] [0.45856814 0.49516189 0.51209245]\n",
      "=====================\n",
      "[1.0] Coefficient of determination: 0.37\n",
      "[1.0] Mean squared error: 3601.92\n",
      "[1.0] [0.37001643 0.41844656 0.43981933]\n",
      "=====================\n",
      "[1.0] Coefficient of determination: 0.42\n",
      "[1.0] Mean squared error: 3689.76\n",
      "[1.0] [0.37001643 0.41844656 0.43981933]\n",
      "=====================\n",
      "[1.0] Coefficient of determination: 0.44\n",
      "[1.0] Mean squared error: 3191.23\n",
      "[1.0] [0.37001643 0.41844656 0.43981933]\n",
      "=====================\n",
      "[10.0] Coefficient of determination: 0.13\n",
      "[10.0] Mean squared error: 4977.62\n",
      "[10.0] [0.12940291 0.1402861  0.146047  ]\n",
      "=====================\n",
      "[10.0] Coefficient of determination: 0.14\n",
      "[10.0] Mean squared error: 5454.59\n",
      "[10.0] [0.12940291 0.1402861  0.146047  ]\n",
      "=====================\n",
      "[10.0] Coefficient of determination: 0.15\n",
      "[10.0] Mean squared error: 4864.79\n",
      "[10.0] [0.12940291 0.1402861  0.146047  ]\n",
      "=====================\n",
      "[100.0] Coefficient of determination: 0.01\n",
      "[100.0] Mean squared error: 5650.92\n",
      "[100.0] [0.01164161 0.01825049 0.01390952]\n",
      "=====================\n",
      "[100.0] Coefficient of determination: 0.02\n",
      "[100.0] Mean squared error: 6228.86\n",
      "[100.0] [0.01164161 0.01825049 0.01390952]\n",
      "=====================\n",
      "[100.0] Coefficient of determination: 0.01\n",
      "[100.0] Mean squared error: 5617.55\n",
      "[100.0] [0.01164161 0.01825049 0.01390952]\n",
      "=====================\n"
     ]
    }
   ],
   "source": [
    "from sklearn.model_selection import cross_val_score\n",
    "\n",
    "kf = KFold(n_splits=3)\n",
    "kf.get_n_splits(X)\n",
    "\n",
    "aph = 0.01\n",
    "for i in range(5):\n",
    "    for train_index, test_index in kf.split(X):\n",
    "        X_train_fold, X_test_fold = X[train_index], X[test_index]\n",
    "        y_train_fold, y_test_fold = y[train_index], y[test_index]\n",
    "\n",
    "        ridge = linear_model.Ridge(alpha=aph)\n",
    "        ridge.fit(X_train_fold, y_train_fold)\n",
    "        lr_pred = ridge.predict(X_test_fold)\n",
    "\n",
    "        print('[' + str(aph) + '] Coefficient of determination: %.2f' % r2_score(y_test_fold, lr_pred))\n",
    "        print('[' + str(aph) + '] Mean squared error: %.2f' % mean_squared_error(y_test_fold, lr_pred))\n",
    "        print('[' + str(aph) + '] ' + str(cross_val_score(ridge, X, y, cv=3)))\n",
    "        print(\"=====================\")\n",
    "    \n",
    "    aph *= 10"
   ]
  },
  {
   "cell_type": "markdown",
   "metadata": {},
   "source": [
    "## Encore plus simple..."
   ]
  },
  {
   "cell_type": "markdown",
   "metadata": {},
   "source": [
    "**Question** : Refaites la même chose avec [sklearn.linear_model.RidgeCV](https://scikit-learn.org/stable/modules/generated/sklearn.linear_model.RidgeCV.html)..."
   ]
  },
  {
   "cell_type": "code",
   "execution_count": 76,
   "metadata": {},
   "outputs": [
    {
     "data": {
      "text/plain": [
       "0.5166287840315837"
      ]
     },
     "execution_count": 76,
     "metadata": {},
     "output_type": "execute_result"
    }
   ],
   "source": [
    "from sklearn.linear_model import RidgeCV\n",
    "clf = RidgeCV(alphas=[0.01, 0.1, 1, 10, 100], cv=3).fit(X, y)\n",
    "clf.score(X, y)"
   ]
  }
 ],
 "metadata": {
  "kernelspec": {
   "display_name": "Python 3",
   "language": "python",
   "name": "python3"
  },
  "language_info": {
   "codemirror_mode": {
    "name": "ipython",
    "version": 3
   },
   "file_extension": ".py",
   "mimetype": "text/x-python",
   "name": "python",
   "nbconvert_exporter": "python",
   "pygments_lexer": "ipython3",
   "version": "3.8.3"
  }
 },
 "nbformat": 4,
 "nbformat_minor": 2
}
