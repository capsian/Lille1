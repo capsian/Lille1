{
 "cells": [
  {
   "cell_type": "markdown",
   "metadata": {},
   "source": [
    "# Régression Polynomiale, courbes d'apprentissage"
   ]
  },
  {
   "cell_type": "code",
   "execution_count": 1,
   "metadata": {},
   "outputs": [],
   "source": [
    "import numpy as np\n",
    "import matplotlib.pyplot as plt\n",
    "%matplotlib inline\n",
    "import seaborn; seaborn.set()\n",
    "import pandas as pd\n",
    "np.random.seed(42)"
   ]
  },
  {
   "cell_type": "markdown",
   "metadata": {},
   "source": [
    "**Question** Vous avez un ensemble d'entraînement disponible dans dans `data.csv`. Le charger dans un dataframe `df_train`."
   ]
  },
  {
   "cell_type": "code",
   "execution_count": 2,
   "metadata": {},
   "outputs": [],
   "source": [
    "df_train = pd.read_csv(\"data.csv\")"
   ]
  },
  {
   "cell_type": "markdown",
   "metadata": {},
   "source": [
    "**Question** Regarder les 5 premières lignes et afficher des statistiques descriptives,  tracer l'ensemble des points en mettant la variable à prédire `t` en ordonnée. Vous pouvez appeler `X` et `y` les objets contenant la description des données et la variable à prédire"
   ]
  },
  {
   "cell_type": "code",
   "execution_count": 3,
   "metadata": {},
   "outputs": [
    {
     "name": "stdout",
     "output_type": "stream",
     "text": [
      "          x          t\n",
      "0  0.140280   9.880310\n",
      "1  0.903858  10.227492\n",
      "2  0.535815  10.163115\n",
      "3  0.358392   9.937107\n",
      "4  0.024342   9.881466\n"
     ]
    }
   ],
   "source": [
    "print(df_train.head())"
   ]
  },
  {
   "cell_type": "code",
   "execution_count": 4,
   "metadata": {},
   "outputs": [
    {
     "name": "stdout",
     "output_type": "stream",
     "text": [
      "<bound method NDFrame.describe of            x          t\n",
      "0   0.140280   9.880310\n",
      "1   0.903858  10.227492\n",
      "2   0.535815  10.163115\n",
      "3   0.358392   9.937107\n",
      "4   0.024342   9.881466\n",
      "5   0.024334   9.919412\n",
      "6   0.003374   9.970300\n",
      "7   0.750261  10.380997\n",
      "8   0.361339   9.972572\n",
      "9   0.501367  10.038556\n",
      "10  0.000424  10.015358\n",
      "11  0.940725  10.131504\n",
      "12  0.692961  10.277815\n",
      "13  0.045088   9.954180\n",
      "14  0.033060   9.992900\n",
      "15  0.033637   9.987020\n",
      "16  0.092563   9.828923\n",
      "17  0.275369   9.860195\n",
      "18  0.186576   9.854611\n",
      "19  0.084814   9.926452\n",
      "20  0.374364   9.946019\n",
      "21  0.019459   9.954414\n",
      "22  0.085348   9.821868\n",
      "23  0.134221   9.785764\n",
      "24  0.208000   9.882480\n",
      "25  0.616501  10.323746\n",
      "26  0.039870   9.927470\n",
      "27  0.264437   9.918335\n",
      "28  0.350955   9.962223\n",
      "29  0.002158   9.963461\n",
      "30  0.369111   9.982104\n",
      "31  0.029078  10.024541\n",
      "32  0.004232   9.989870\n",
      "33  0.900384  10.302636\n",
      "34  0.932445  10.036709\n",
      "35  0.653506  10.328110\n",
      "36  0.092790   9.875048\n",
      "37  0.009540   9.966603\n",
      "38  0.468175  10.089461\n",
      "39  0.193734   9.739527\n",
      "40  0.014893   9.960766\n",
      "41  0.245200   9.874606\n",
      "42  0.001183  10.071539\n",
      "43  0.826864  10.279636\n",
      "44  0.066967   9.855532\n",
      "45  0.438936  10.022856\n",
      "46  0.097164   9.912942\n",
      "47  0.270471   9.888646\n",
      "48  0.298892   9.867573\n",
      "49  0.034171   9.965295>\n"
     ]
    }
   ],
   "source": [
    "print(df_train.describe)"
   ]
  },
  {
   "cell_type": "code",
   "execution_count": 5,
   "metadata": {},
   "outputs": [
    {
     "data": {
      "image/png": "[encoded data removed]",
      "text/plain": [
       "<Figure size 432x288 with 1 Axes>"
      ]
     },
     "metadata": {},
     "output_type": "display_data"
    }
   ],
   "source": [
    "X = df_train[\"x\"]\n",
    "y = df_train[\"t\"]\n",
    "plt.scatter(X, y,color=\"black\")\n",
    "plt.xlabel('x')\n",
    "plt.ylabel('y')\n",
    "plt.show()"
   ]
  },
  {
   "cell_type": "markdown",
   "metadata": {},
   "source": [
    "**Question** Découpez `X` et `y` en 2/3 et 1/3 pour créer des ensembles d'entraînement et de validation"
   ]
  },
  {
   "cell_type": "code",
   "execution_count": 6,
   "metadata": {},
   "outputs": [],
   "source": [
    "from sklearn.model_selection import train_test_split"
   ]
  },
  {
   "cell_type": "code",
   "execution_count": 7,
   "metadata": {},
   "outputs": [
    {
     "name": "stdout",
     "output_type": "stream",
     "text": [
      "x_train.shape: (33, 1), y_train.shape: (33, 1)\n",
      "x_test.shape: (17, 1), y_test.shape: (17, 1)\n"
     ]
    }
   ],
   "source": [
    "X_train, X_test, y_train, y_test = train_test_split(X, y, test_size=0.33, random_state=42)\n",
    "X_train = X_train.values.reshape(-1,1)\n",
    "y_train = y_train.values.reshape(-1,1)\n",
    "X_test = X_test.values.reshape(-1,1)\n",
    "y_test = y_test.values.reshape(-1,1)\n",
    "print(\"x_train.shape: \" + str(X_train.shape) + \", y_train.shape: \" + str(y_train.shape))\n",
    "print(\"x_test.shape: \" + str(X_test.shape) + \", y_test.shape: \" + str(y_test.shape))"
   ]
  },
  {
   "cell_type": "markdown",
   "metadata": {},
   "source": [
    "**Question** Faire une régression lineaire sur ce jeu de données d'entraînement et estimer son score sur l'échantillon de validation. "
   ]
  },
  {
   "cell_type": "code",
   "execution_count": 8,
   "metadata": {},
   "outputs": [],
   "source": [
    "from sklearn import linear_model\n",
    "lr = linear_model.LinearRegression()"
   ]
  },
  {
   "cell_type": "code",
   "execution_count": 9,
   "metadata": {},
   "outputs": [
    {
     "data": {
      "text/plain": [
       "LinearRegression()"
      ]
     },
     "execution_count": 9,
     "metadata": {},
     "output_type": "execute_result"
    }
   ],
   "source": [
    "lr.fit(X_train, y_train)"
   ]
  },
  {
   "cell_type": "code",
   "execution_count": 10,
   "metadata": {},
   "outputs": [
    {
     "name": "stdout",
     "output_type": "stream",
     "text": [
      "Coefficients: \n",
      " [[0.35468433]]\n",
      "Mean squared error: 0.01\n",
      "Coefficient of determination: 0.39\n"
     ]
    }
   ],
   "source": [
    "from sklearn.metrics import mean_squared_error, r2_score\n",
    "\n",
    "lr_pred = lr.predict(X_test)\n",
    "# The coefficients\n",
    "print('Coefficients: \\n', lr.coef_)\n",
    "# The mean squared error\n",
    "print('Mean squared error: %.2f'\n",
    "      % mean_squared_error(y_test, lr_pred))\n",
    "# The coefficient of determination: 1 is perfect prediction\n",
    "print('Coefficient of determination: %.2f'\n",
    "      % r2_score(y_test, lr_pred))"
   ]
  },
  {
   "cell_type": "code",
   "execution_count": 11,
   "metadata": {},
   "outputs": [
    {
     "name": "stdout",
     "output_type": "stream",
     "text": [
      "score (?) :0.5098868475002347\n",
      "score (?) :-2139.5787582526477\n"
     ]
    }
   ],
   "source": [
    "print(\"score (?) :\" + str(lr.score(X.values.reshape(-1,1) ,y.values.reshape(-1,1))))\n",
    "print(\"score (?) :\" + str(lr.score(y_test ,lr_pred)))"
   ]
  },
  {
   "cell_type": "markdown",
   "metadata": {},
   "source": [
    "**Question** Tracer dans un diagamme, les points en bleu pour les données d'apprentissage, en rouge pour les données de validation et en noir la droite de régression qui vient d'être calculée."
   ]
  },
  {
   "cell_type": "code",
   "execution_count": 12,
   "metadata": {},
   "outputs": [
    {
     "data": {
      "image/png": "[encoded data removed]",
      "text/plain": [
       "<Figure size 432x288 with 1 Axes>"
      ]
     },
     "metadata": {},
     "output_type": "display_data"
    }
   ],
   "source": [
    "plt.scatter(X_train, y_train, color=\"blue\")\n",
    "plt.scatter(X_test, lr_pred, color=\"green\")\n",
    "plt.scatter(X_test, y_test, color=\"red\")\n",
    "plt.plot(X_test, lr_pred, color=\"black\")\n",
    "plt.xlabel('TEST')\n",
    "plt.ylabel('PREDICTION')\n",
    "plt.show()"
   ]
  },
  {
   "cell_type": "markdown",
   "metadata": {},
   "source": [
    "## Ajouter des attributs, régression polynomiale"
   ]
  },
  {
   "cell_type": "markdown",
   "metadata": {},
   "source": [
    "**Question** Dans les attributs décrivant les données, ajouter le carré de `X`. On doit avoir après cette manipulation `X2_train` et  `X2_valid` de dimensions (50,2)"
   ]
  },
  {
   "cell_type": "code",
   "execution_count": 13,
   "metadata": {},
   "outputs": [
    {
     "name": "stdout",
     "output_type": "stream",
     "text": [
      "X2_train:[[9.71637950e-02 9.44080305e-03]\n",
      " [2.70470747e-01 7.31544248e-02]\n",
      " [3.36372142e-02 1.13146218e-03]\n",
      " [5.01366775e-01 2.51368644e-01]\n",
      " [9.25633424e-02 8.56797236e-03]\n",
      " [2.07999831e-01 4.32639295e-02]\n",
      " [9.32445223e-01 8.69454094e-01]\n",
      " [2.90784768e-02 8.45557811e-04]\n",
      " [1.40280301e-01 1.96785627e-02]\n",
      " [6.69670789e-02 4.48458965e-03]\n",
      " [2.64437058e-01 6.99269575e-02]\n",
      " [9.00383763e-01 8.10690920e-01]\n",
      " [2.43342904e-02 5.92157688e-04]\n",
      " [2.15764084e-03 4.65541400e-06]\n",
      " [9.40725121e-01 8.84963754e-01]\n",
      " [9.27895484e-02 8.60990029e-03]\n",
      " [9.03857692e-01 8.16958728e-01]\n",
      " [1.94585372e-02 3.78634668e-04]\n",
      " [5.35815131e-01 2.87097854e-01]\n",
      " [8.26863594e-01 6.83703402e-01]\n",
      " [6.53506272e-01 4.27070448e-01]\n",
      " [1.34221000e-01 1.80152769e-02]\n",
      " [1.48933308e-02 2.21811301e-04]\n",
      " [4.23721405e-04 1.79539829e-07]\n",
      " [8.53484957e-02 7.28436571e-03]\n",
      " [1.86576499e-01 3.48107900e-02]\n",
      " [3.41711697e-02 1.16766884e-03]\n",
      " [3.74363965e-01 1.40148378e-01]\n",
      " [7.50261116e-01 5.62891741e-01]\n",
      " [1.18257038e-03 1.39847271e-06]\n",
      " [3.30603187e-02 1.09298467e-03]\n",
      " [3.50955021e-01 1.23169427e-01]\n",
      " [4.68174835e-01 2.19187676e-01]]\n",
      "X2_test:[[4.50878979e-02 2.03291854e-03]\n",
      " [1.93734218e-01 3.75329471e-02]\n",
      " [3.69110747e-01 1.36242744e-01]\n",
      " [4.38935777e-01 1.92664617e-01]\n",
      " [2.75369313e-01 7.58282583e-02]\n",
      " [2.98892130e-01 8.93365051e-02]\n",
      " [3.98696193e-02 1.58958654e-03]\n",
      " [6.16501290e-01 3.80073841e-01]\n",
      " [4.23170975e-03 1.79073674e-05]\n",
      " [8.48144121e-02 7.19348450e-03]\n",
      " [6.92960750e-01 4.80194601e-01]\n",
      " [2.43418162e-02 5.92524014e-04]\n",
      " [9.53984185e-03 9.10085826e-05]\n",
      " [3.61339257e-01 1.30566059e-01]\n",
      " [3.58391981e-01 1.28444812e-01]\n",
      " [3.37370600e-03 1.13818922e-05]\n",
      " [2.45200172e-01 6.01231245e-02]]\n"
     ]
    }
   ],
   "source": [
    "X2_train = np.hstack((X_train, np.power(X_train,2)))\n",
    "X2_test = np.hstack((X_test, np.power(X_test,2)))\n",
    "print(\"X2_train:\" + str(X2_train))\n",
    "print(\"X2_test:\" + str(X2_test)) "
   ]
  },
  {
   "cell_type": "code",
   "execution_count": 14,
   "metadata": {},
   "outputs": [
    {
     "name": "stdout",
     "output_type": "stream",
     "text": [
      "X2_train.shape:(33, 2)\n",
      "X2_test.shape:(17, 2)\n"
     ]
    }
   ],
   "source": [
    "print(\"X2_train.shape:\" + str(X2_train.shape))\n",
    "print(\"X2_test.shape:\" + str(X2_test.shape)) "
   ]
  },
  {
   "cell_type": "markdown",
   "metadata": {},
   "source": [
    "**Question** Réentraîner le classifieur linéaire avec cette nouvelle description des données (donc les attributs $x$ et $x^2$)."
   ]
  },
  {
   "cell_type": "code",
   "execution_count": 15,
   "metadata": {},
   "outputs": [
    {
     "data": {
      "text/plain": [
       "LinearRegression()"
      ]
     },
     "execution_count": 15,
     "metadata": {},
     "output_type": "execute_result"
    }
   ],
   "source": [
    "lr.fit(X2_train, y_train)"
   ]
  },
  {
   "cell_type": "markdown",
   "metadata": {},
   "source": [
    "**Question** Tracer maintenant dans un diagamme, les points en bleu pour les données d'apprentissage, en rouge pour les données de test et en noir la courbe de régression qui vient d'être calculée."
   ]
  },
  {
   "cell_type": "code",
   "execution_count": 16,
   "metadata": {},
   "outputs": [
    {
     "name": "stdout",
     "output_type": "stream",
     "text": [
      "Coefficients: \n",
      " [[0.13530956 0.24691501]]\n",
      "Mean squared error: 0.01\n",
      "Coefficient of determination: 0.47\n"
     ]
    }
   ],
   "source": [
    "from sklearn.metrics import mean_squared_error, r2_score\n",
    "\n",
    "lr_pred = lr.predict(X2_test)\n",
    "# The coefficients\n",
    "print('Coefficients: \\n', lr.coef_)\n",
    "# The mean squared error\n",
    "print('Mean squared error: %.2f'\n",
    "      % mean_squared_error(y_test, lr_pred))\n",
    "# The coefficient of determination: 1 is perfect prediction\n",
    "print('Coefficient of determination: %.2f'\n",
    "      % r2_score(y_test, lr_pred))"
   ]
  },
  {
   "cell_type": "code",
   "execution_count": 17,
   "metadata": {},
   "outputs": [
    {
     "data": {
      "image/png": "[encoded data removed]",
      "text/plain": [
       "<Figure size 432x288 with 1 Axes>"
      ]
     },
     "metadata": {},
     "output_type": "display_data"
    }
   ],
   "source": [
    "plt.scatter(X2_train[:,0], y_train, color=\"blue\",  marker='^')\n",
    "plt.scatter(X2_train[:,1], y_train, color=\"blue\", marker='o')\n",
    "plt.scatter(X2_test[:,0], y_test, color=\"red\",  marker='^')\n",
    "plt.scatter(X2_test[:,1], y_test, color=\"red\", marker='o')\n",
    "\n",
    "plt.plot(X2_test[:,1], lr_pred, color=\"black\")\n",
    "plt.plot(X2_test[:,0], lr_pred, color=\"black\")\n",
    "\n",
    "plt.xlabel('TEST')\n",
    "plt.ylabel('PREDICTION')\n",
    "plt.show()"
   ]
  },
  {
   "cell_type": "markdown",
   "metadata": {},
   "source": [
    "**Question** Écrire maintenant une fonction `poly` qui prend en argument un jeu de données `X` et un degré `d` et qui calcule une nouvelle représentation avec tous les monômes entre 1 et `d`.\n",
    "\n",
    "    # Exemple : \n",
    "    poly(X, 3)\n",
    "    array([[1.40280301e-01, 1.96785627e-02, 2.76051470e-03],\n",
    "       [9.03857692e-01, 8.16958728e-01, 7.38414431e-01],\n",
    "       [5.35815131e-01, 2.87097854e-01, 1.53831374e-01],\n",
    "       [3.58391981e-01, 1.28444812e-01, 4.60335905e-02],\n",
    "       [2.43418162e-02, 5.92524014e-04, 1.44231106e-05],\n",
    "       [2.43342904e-02, 5.92157688e-04, 1.44097371e-05], ..."
   ]
  },
  {
   "cell_type": "code",
   "execution_count": 18,
   "metadata": {},
   "outputs": [],
   "source": [
    "def my_poly(X,nb):\n",
    "    out = np.copy(X)\n",
    "    out = out[:, np.newaxis]\n",
    "    for i in range(1,nb):\n",
    "        tmp = np.power(X,i+1)\n",
    "        tmp = tmp[:, np.newaxis]\n",
    "        out = np.hstack((out, tmp))\n",
    "    return out"
   ]
  },
  {
   "cell_type": "code",
   "execution_count": 19,
   "metadata": {},
   "outputs": [
    {
     "name": "stdout",
     "output_type": "stream",
     "text": [
      "[[1.40280301e-01 1.96785627e-02 2.76051470e-03]\n",
      " [9.03857692e-01 8.16958728e-01 7.38414431e-01]\n",
      " [5.35815131e-01 2.87097854e-01 1.53831374e-01]\n",
      " [3.58391981e-01 1.28444812e-01 4.60335905e-02]\n",
      " [2.43418162e-02 5.92524014e-04 1.44231106e-05]\n",
      " [2.43342904e-02 5.92157688e-04 1.44097371e-05]\n",
      " [3.37370600e-03 1.13818922e-05 3.83991580e-08]\n",
      " [7.50261116e-01 5.62891741e-01 4.22315786e-01]\n",
      " [3.61339257e-01 1.30566059e-01 4.71786428e-02]\n",
      " [5.01366775e-01 2.51368644e-01 1.26027886e-01]\n",
      " [4.23721405e-04 1.79539829e-07 7.60748688e-11]\n",
      " [9.40725121e-01 8.84963754e-01 8.32507635e-01]\n",
      " [6.92960750e-01 4.80194601e-01 3.32756011e-01]\n",
      " [4.50878979e-02 2.03291854e-03 9.16600236e-05]\n",
      " [3.30603187e-02 1.09298467e-03 3.61344216e-05]\n",
      " [3.36372142e-02 1.13146218e-03 3.80592358e-05]\n",
      " [9.25633424e-02 8.56797236e-03 7.93080159e-04]\n",
      " [2.75369313e-01 7.58282583e-02 2.08807754e-02]\n",
      " [1.86576499e-01 3.48107900e-02 6.49487534e-03]\n",
      " [8.48144121e-02 7.19348450e-03 6.10111159e-04]\n",
      " [3.74363965e-01 1.40148378e-01 5.24665025e-02]\n",
      " [1.94585372e-02 3.78634668e-04 7.36767676e-06]\n",
      " [8.53484957e-02 7.28436571e-03 6.21709655e-04]\n",
      " [1.34221000e-01 1.80152769e-02 2.41802848e-03]\n",
      " [2.07999831e-01 4.32639295e-02 8.99889000e-03]\n",
      " [6.16501290e-01 3.80073841e-01 2.34316013e-01]\n",
      " [3.98696193e-02 1.58958654e-03 6.33762102e-05]\n",
      " [2.64437058e-01 6.99269575e-02 1.84912789e-02]\n",
      " [3.50955021e-01 1.23169427e-01 4.32269289e-02]\n",
      " [2.15764084e-03 4.65541400e-06 1.00447114e-08]\n",
      " [3.69110747e-01 1.36242744e-01 5.02886609e-02]\n",
      " [2.90784768e-02 8.45557811e-04 2.45875331e-05]\n",
      " [4.23170975e-03 1.79073674e-05 7.57787813e-08]\n",
      " [9.00383763e-01 8.10690920e-01 7.29932941e-01]\n",
      " [9.32445223e-01 8.69454094e-01 8.10718317e-01]\n",
      " [6.53506272e-01 4.27070448e-01 2.79093217e-01]\n",
      " [9.27895484e-02 8.60990029e-03 7.98908759e-04]\n",
      " [9.53984185e-03 9.10085826e-05 8.68207485e-07]\n",
      " [4.68174835e-01 2.19187676e-01 1.02618154e-01]\n",
      " [1.93734218e-01 3.75329471e-02 7.27141615e-03]\n",
      " [1.48933308e-02 2.21811301e-04 3.30350908e-06]\n",
      " [2.45200172e-01 6.01231245e-02 1.47422005e-02]\n",
      " [1.18257038e-03 1.39847271e-06 1.65379242e-09]\n",
      " [8.26863594e-01 6.83703402e-01 5.65329452e-01]\n",
      " [6.69670789e-02 4.48458965e-03 3.00319869e-04]\n",
      " [4.38935777e-01 1.92664617e-01 8.45673932e-02]\n",
      " [9.71637950e-02 9.44080305e-03 9.17304252e-04]\n",
      " [2.70470747e-01 7.31544248e-02 1.97861319e-02]\n",
      " [2.98892130e-01 8.93365051e-02 2.67019783e-02]\n",
      " [3.41711697e-02 1.16766884e-03 3.99006101e-05]]\n"
     ]
    }
   ],
   "source": [
    "print(my_poly(df_train[\"x\"], 3))"
   ]
  },
  {
   "cell_type": "markdown",
   "metadata": {},
   "source": [
    "**Question** Construire une liste avec tous les scores de la régression pour 20 représentations des données comprenant tous les monômes de 1 à 20 : (le $i^e$ résultat contient tous les monômes de 1 à $i$)."
   ]
  },
  {
   "cell_type": "code",
   "execution_count": 20,
   "metadata": {},
   "outputs": [
    {
     "name": "stdout",
     "output_type": "stream",
     "text": [
      "i: 1\n",
      "Mean squared error: 0.01\n",
      "Coefficient of determination: 0.39\n",
      "i: 2\n",
      "Mean squared error: 0.01\n",
      "Coefficient of determination: 0.47\n",
      "i: 3\n",
      "Mean squared error: 0.00\n",
      "Coefficient of determination: 0.91\n",
      "i: 4\n",
      "Mean squared error: 0.00\n",
      "Coefficient of determination: 0.91\n",
      "i: 5\n",
      "Mean squared error: 0.00\n",
      "Coefficient of determination: 0.88\n",
      "i: 6\n",
      "Mean squared error: 0.00\n",
      "Coefficient of determination: 0.87\n",
      "i: 7\n",
      "Mean squared error: 0.00\n",
      "Coefficient of determination: 0.87\n",
      "i: 8\n",
      "Mean squared error: 0.00\n",
      "Coefficient of determination: 0.85\n",
      "i: 9\n",
      "Mean squared error: 0.00\n",
      "Coefficient of determination: 0.85\n",
      "i: 10\n",
      "Mean squared error: 0.00\n",
      "Coefficient of determination: 0.85\n",
      "i: 11\n",
      "Mean squared error: 0.00\n",
      "Coefficient of determination: 0.85\n",
      "i: 12\n",
      "Mean squared error: 0.00\n",
      "Coefficient of determination: 0.81\n",
      "i: 13\n",
      "Mean squared error: 0.00\n",
      "Coefficient of determination: 0.79\n",
      "i: 14\n",
      "Mean squared error: 0.00\n",
      "Coefficient of determination: 0.83\n",
      "i: 15\n",
      "Mean squared error: 0.00\n",
      "Coefficient of determination: 0.78\n",
      "i: 16\n",
      "Mean squared error: 0.00\n",
      "Coefficient of determination: 0.88\n",
      "i: 17\n",
      "Mean squared error: 0.00\n",
      "Coefficient of determination: 0.85\n",
      "i: 18\n",
      "Mean squared error: 0.00\n",
      "Coefficient of determination: 0.85\n",
      "i: 19\n",
      "Mean squared error: 0.07\n",
      "Coefficient of determination: -2.57\n",
      "i: 20\n",
      "Mean squared error: 0.11\n",
      "Coefficient of determination: -5.04\n"
     ]
    }
   ],
   "source": [
    "for i in range(1,21):\n",
    "    x_train_d = my_poly(df_train[\"x\"], i)\n",
    "    tmp_x_train, tmp_x_test, tmp_y_train, tmp_y_test = train_test_split(x_train_d, y, test_size=0.33, random_state=42)\n",
    "    lr.fit(tmp_x_train, tmp_y_train)\n",
    "    \n",
    "    lr_pred = lr.predict(tmp_x_test)\n",
    "\n",
    "    print(\"i: \" + str(i))\n",
    "    # The mean squared error\n",
    "    print('Mean squared error: %.2f'% mean_squared_error(tmp_y_test, lr_pred))\n",
    "    # The coefficient of determination: 1 is perfect prediction\n",
    "    print('Coefficient of determination: %.2f' % r2_score(tmp_y_test, lr_pred))\n",
    "    "
   ]
  },
  {
   "cell_type": "markdown",
   "metadata": {},
   "source": [
    "**Question** Que constatez-vous. Pouvez-vous expliquer ce qui se produit ? Pourquoi les résultats se dégradent-ils quand la représentation des données est de plus en plus riche ?  "
   ]
  },
  {
   "cell_type": "markdown",
   "metadata": {},
   "source": [
    "*Entrez votre réponse ici*"
   ]
  },
  {
   "cell_type": "markdown",
   "metadata": {},
   "source": [
    "Les résultats se dégradent à cause de l'overfitting. Les données \"collent trop bien\" à l'échantillon de train. Les prédictions ne sont plus bonnes pour de nouvelles data !"
   ]
  },
  {
   "cell_type": "markdown",
   "metadata": {},
   "source": [
    "On va refaire cela avec les outils de scikit-learn.\n",
    "\n",
    "**Question** importez `PolynomialFeatures` de `sklearn.preprocessing`. Utilisez cela pour créer une représentation de X avec le degré 3. Cela donne quelque chose comme : \n",
    "\n",
    "     array([[1.00000000e+00, 1.73907352e-01, 3.02437672e-02, 5.25961348e-03],\n",
    "       [1.00000000e+00, 5.18867376e-01, 2.69223354e-01, 1.39691215e-01],\n",
    "       [1.00000000e+00, 1.30815988e-08, 1.71128228e-16, 2.23863083e-24],\n",
    "       [1.00000000e+00, 9.14049845e-02, 8.35487119e-03, 7.63676871e-04],\n",
    "       [1.00000000e+00, 2.15372915e-02, 4.63854925e-04, 9.99017872e-06], ..."
   ]
  },
  {
   "cell_type": "code",
   "execution_count": 21,
   "metadata": {},
   "outputs": [
    {
     "name": "stdout",
     "output_type": "stream",
     "text": [
      "(50, 4)\n",
      "[[1.00000000e+00 1.40280301e-01 1.96785627e-02 2.76051470e-03]\n",
      " [1.00000000e+00 9.03857692e-01 8.16958728e-01 7.38414431e-01]\n",
      " [1.00000000e+00 5.35815131e-01 2.87097854e-01 1.53831374e-01]\n",
      " [1.00000000e+00 3.58391981e-01 1.28444812e-01 4.60335905e-02]\n",
      " [1.00000000e+00 2.43418162e-02 5.92524014e-04 1.44231106e-05]\n",
      " [1.00000000e+00 2.43342904e-02 5.92157688e-04 1.44097371e-05]\n",
      " [1.00000000e+00 3.37370600e-03 1.13818922e-05 3.83991580e-08]\n",
      " [1.00000000e+00 7.50261116e-01 5.62891741e-01 4.22315786e-01]\n",
      " [1.00000000e+00 3.61339257e-01 1.30566059e-01 4.71786428e-02]\n",
      " [1.00000000e+00 5.01366775e-01 2.51368644e-01 1.26027886e-01]\n",
      " [1.00000000e+00 4.23721405e-04 1.79539829e-07 7.60748688e-11]\n",
      " [1.00000000e+00 9.40725121e-01 8.84963754e-01 8.32507635e-01]\n",
      " [1.00000000e+00 6.92960750e-01 4.80194601e-01 3.32756011e-01]\n",
      " [1.00000000e+00 4.50878979e-02 2.03291854e-03 9.16600236e-05]\n",
      " [1.00000000e+00 3.30603187e-02 1.09298467e-03 3.61344216e-05]\n",
      " [1.00000000e+00 3.36372142e-02 1.13146218e-03 3.80592358e-05]\n",
      " [1.00000000e+00 9.25633424e-02 8.56797236e-03 7.93080159e-04]\n",
      " [1.00000000e+00 2.75369313e-01 7.58282583e-02 2.08807754e-02]\n",
      " [1.00000000e+00 1.86576499e-01 3.48107900e-02 6.49487534e-03]\n",
      " [1.00000000e+00 8.48144121e-02 7.19348450e-03 6.10111159e-04]\n",
      " [1.00000000e+00 3.74363965e-01 1.40148378e-01 5.24665025e-02]\n",
      " [1.00000000e+00 1.94585372e-02 3.78634668e-04 7.36767676e-06]\n",
      " [1.00000000e+00 8.53484957e-02 7.28436571e-03 6.21709655e-04]\n",
      " [1.00000000e+00 1.34221000e-01 1.80152769e-02 2.41802848e-03]\n",
      " [1.00000000e+00 2.07999831e-01 4.32639295e-02 8.99889000e-03]\n",
      " [1.00000000e+00 6.16501290e-01 3.80073841e-01 2.34316013e-01]\n",
      " [1.00000000e+00 3.98696193e-02 1.58958654e-03 6.33762102e-05]\n",
      " [1.00000000e+00 2.64437058e-01 6.99269575e-02 1.84912789e-02]\n",
      " [1.00000000e+00 3.50955021e-01 1.23169427e-01 4.32269289e-02]\n",
      " [1.00000000e+00 2.15764084e-03 4.65541400e-06 1.00447114e-08]\n",
      " [1.00000000e+00 3.69110747e-01 1.36242744e-01 5.02886609e-02]\n",
      " [1.00000000e+00 2.90784768e-02 8.45557811e-04 2.45875331e-05]\n",
      " [1.00000000e+00 4.23170975e-03 1.79073674e-05 7.57787813e-08]\n",
      " [1.00000000e+00 9.00383763e-01 8.10690920e-01 7.29932941e-01]\n",
      " [1.00000000e+00 9.32445223e-01 8.69454094e-01 8.10718317e-01]\n",
      " [1.00000000e+00 6.53506272e-01 4.27070448e-01 2.79093217e-01]\n",
      " [1.00000000e+00 9.27895484e-02 8.60990029e-03 7.98908759e-04]\n",
      " [1.00000000e+00 9.53984185e-03 9.10085826e-05 8.68207485e-07]\n",
      " [1.00000000e+00 4.68174835e-01 2.19187676e-01 1.02618154e-01]\n",
      " [1.00000000e+00 1.93734218e-01 3.75329471e-02 7.27141615e-03]\n",
      " [1.00000000e+00 1.48933308e-02 2.21811301e-04 3.30350908e-06]\n",
      " [1.00000000e+00 2.45200172e-01 6.01231245e-02 1.47422005e-02]\n",
      " [1.00000000e+00 1.18257038e-03 1.39847271e-06 1.65379242e-09]\n",
      " [1.00000000e+00 8.26863594e-01 6.83703402e-01 5.65329452e-01]\n",
      " [1.00000000e+00 6.69670789e-02 4.48458965e-03 3.00319869e-04]\n",
      " [1.00000000e+00 4.38935777e-01 1.92664617e-01 8.45673932e-02]\n",
      " [1.00000000e+00 9.71637950e-02 9.44080305e-03 9.17304252e-04]\n",
      " [1.00000000e+00 2.70470747e-01 7.31544248e-02 1.97861319e-02]\n",
      " [1.00000000e+00 2.98892130e-01 8.93365051e-02 2.67019783e-02]\n",
      " [1.00000000e+00 3.41711697e-02 1.16766884e-03 3.99006101e-05]]\n"
     ]
    }
   ],
   "source": [
    "from sklearn.preprocessing import PolynomialFeatures\n",
    "\n",
    "trans = PolynomialFeatures(degree=3)\n",
    "data = trans.fit_transform(df_train[\"x\"].values.reshape(-1,1))\n",
    "print(data.shape)\n",
    "print(data)"
   ]
  },
  {
   "cell_type": "markdown",
   "metadata": {},
   "source": [
    "*Aide* En python, on peut donner en argument un dictionnaire de paramètres "
   ]
  },
  {
   "cell_type": "code",
   "execution_count": 22,
   "metadata": {},
   "outputs": [
    {
     "name": "stdout",
     "output_type": "stream",
     "text": [
      "[5.99342831 4.7234714  6.29537708 8.04605971 4.53169325]\n",
      "[False, True, True, False, True, False, False, True, False, False]\n",
      "[True, True, True, True, True, True, True, True, True, True]\n",
      "[True, False, True, False, False, False, True, True, False, True]\n",
      "[True, True, True, True, True, True, True, True, True, True]\n"
     ]
    }
   ],
   "source": [
    "dic = {'loc':5, 'scale':2}\n",
    "print(np.random.normal(size=5, **dic))\n",
    "\n",
    "def f(x, **kwargs):\n",
    "    return [i>0 for i in np.random.normal(size=x, **kwargs)]\n",
    "\n",
    "print(f(10))\n",
    "print(f(10, loc=20))\n",
    "print(f(10, loc=20, scale=100))\n",
    "dic = {'loc':5, 'scale':2}\n",
    "print(f(10,**dic))"
   ]
  },
  {
   "cell_type": "markdown",
   "metadata": {},
   "source": [
    "**Question** Il existe une fonction `make_pipeline` dans `sklearn` qui permet d'enchaîner des opérations très simplement. Définissez une nouvelle fonction `ma_regression` qui prend en argument un degré et une liste d'autres arguments destinés à la fonction `LinearRegression` et compose un changement de représentation polynomial et une régression."
   ]
  },
  {
   "cell_type": "code",
   "execution_count": 23,
   "metadata": {},
   "outputs": [],
   "source": [
    "from sklearn.preprocessing import PolynomialFeatures\n",
    "from sklearn.pipeline import make_pipeline\n",
    "\n",
    "def ma_reg(deg=2, **kwargs):\n",
    "    return make_pipeline(PolynomialFeatures(deg), linear_model.LinearRegression(**kwargs))\n",
    "\n",
    "ma_reg2 = make_pipeline(PolynomialFeatures(), linear_model.LinearRegression())"
   ]
  },
  {
   "cell_type": "markdown",
   "metadata": {},
   "source": [
    "**Question**  Utilisez cette fonction pour estimer l'erreur d'une regression linéaire avec transformations polynomiales jusqu'au degré 3."
   ]
  },
  {
   "cell_type": "code",
   "execution_count": 24,
   "metadata": {},
   "outputs": [
    {
     "name": "stdout",
     "output_type": "stream",
     "text": [
      "Mean squared error: 0.00\n",
      "Coefficient of determination: 0.91\n",
      "score ?: -1332354043.78\n",
      "score ?: 0.91\n"
     ]
    }
   ],
   "source": [
    "X_train, X_test, y_train, y_test = train_test_split(X, y, test_size=0.33, random_state=42)\n",
    "X_train = X_train.values.reshape(-1,1)\n",
    "y_train = y_train.values.reshape(-1,1)\n",
    "X_test = X_test.values.reshape(-1,1)\n",
    "y_test = y_test.values.reshape(-1,1)\n",
    "\n",
    "model = ma_reg(3)\n",
    "model.fit(X_train, y_train)\n",
    "\n",
    "lr_pred = model.predict(X_test)\n",
    "# The mean squared error\n",
    "print('Mean squared error: %.2f'% mean_squared_error(y_test, lr_pred))\n",
    "# The coefficient of determination: 1 is perfect prediction\n",
    "print('Coefficient of determination: %.2f' % r2_score(y_test, lr_pred))\n",
    "\n",
    "print('score ?: %.2f' % model.score(y_test, lr_pred))\n",
    "print('score ?: %.2f' % model.score(X.values.reshape(-1,1), y.values.reshape(-1,1)))"
   ]
  },
  {
   "cell_type": "markdown",
   "metadata": {},
   "source": [
    "## Courbe d'apprentissage en fonction du degré"
   ]
  },
  {
   "cell_type": "markdown",
   "metadata": {},
   "source": [
    "**Question** En utilisant `validation_curve`, réaliser une validation croisée 5 fois sur `X_train` en appliquant tous les changements de représentation avec un degré entre 1 et `max_degree` que nous fixons à 15. Pour cela, regardez l'aide de `validation_curve` dans `sklearn.model_selection`. Utilisez bien-sûr `ma_regression`. Cela donne des scores de validation comme cela :\n",
    "\n",
    "     [[ 0.49293082  0.66030384  0.65039394  0.69193837  0.6167657 ]\n",
    "      [ 0.57202662  0.66235604  0.60475979  0.73104306  0.61910942]\n",
    "      ...\n",
    "      [ 0.87350381  0.93056784 -0.56590723  0.87945086  0.87330041]]\n",
    "\n",
    "*Aide* : Dans les pipelines, on accède aux paramètres des éléments du pipeline avec la syntaxe `element__parametre`. Par défaut le nom de l'élément est le nom de la classe en minuscules."
   ]
  },
  {
   "cell_type": "code",
   "execution_count": 25,
   "metadata": {},
   "outputs": [
    {
     "name": "stdout",
     "output_type": "stream",
     "text": [
      "[ 1  2  3  4  5  6  7  8  9 10 11 12 13 14 15]\n",
      "train_scores: [[0.62755579 0.5087338  0.39807495 0.57190597 0.59187583]\n",
      " [0.6471893  0.51254655 0.48327415 0.57624064 0.59930654]\n",
      " [0.94402127 0.92910925 0.84902934 0.90355685 0.8986088 ]\n",
      " [0.9440319  0.93093423 0.85920527 0.91246975 0.90276351]\n",
      " [0.94626181 0.93628381 0.90914652 0.91926843 0.91134717]\n",
      " [0.94754208 0.94228095 0.92203442 0.92122771 0.91217423]\n",
      " [0.94774875 0.94335464 0.92219829 0.92216302 0.91218302]\n",
      " [0.95758068 0.94812539 0.92640986 0.93003183 0.93392229]\n",
      " [0.95758557 0.94814054 0.93311956 0.93042704 0.93633428]\n",
      " [0.96010308 0.94817601 0.93623678 0.93100621 0.94890212]\n",
      " [0.96140186 0.94821634 0.93625532 0.93468681 0.95886119]\n",
      " [0.96271777 0.96370236 0.94269324 0.94397217 0.96152643]\n",
      " [0.96275936 0.96488538 0.94389215 0.95177246 0.9627896 ]\n",
      " [0.9701813  0.97170313 0.95466521 0.95824636 0.96281654]\n",
      " [0.97379785 0.97211963 0.95497903 0.96090941 0.97071353]]\n",
      "valid_scores: [[-1.65261538e+00  7.12989742e-01  4.87117309e-01 -6.91347226e-01\n",
      "   2.02560538e-01]\n",
      " [-1.72936452e+00  7.56568986e-01  2.77733332e-01 -5.61775334e-01\n",
      "   2.33163264e-01]\n",
      " [ 4.72142779e-02  7.75177055e-01  9.79766145e-01  7.50351729e-01\n",
      "   9.04171955e-01]\n",
      " [ 3.74334926e-02  7.87453463e-01  9.56972887e-01  6.41510411e-01\n",
      "   9.06422901e-01]\n",
      " [ 1.54188235e-01  8.14962156e-01  7.34802089e-01  7.16352664e-01\n",
      "   9.25822619e-01]\n",
      " [ 1.58264517e-01  7.79409856e-01  4.15553143e-01  7.06532714e-01\n",
      "   9.30678216e-01]\n",
      " [ 1.50449888e-01  7.62560201e-01  4.06003519e-01  6.67034839e-01\n",
      "   9.30341431e-01]\n",
      " [ 2.04346637e-01  8.07208866e-01  5.59218513e-01  7.65231904e-01\n",
      "   8.36263756e-01]\n",
      " [ 2.05210714e-01  8.07874366e-01 -1.46133135e+00  7.58322826e-01\n",
      "   6.66894087e-01]\n",
      " [ 9.59579326e-02  8.06551800e-01 -1.57774542e+01  7.44955716e-01\n",
      "  -1.01708110e+00]\n",
      " [-4.77946006e-02  8.08862139e-01 -2.29513269e+01  6.54086145e-01\n",
      "  -1.10062905e+00]\n",
      " [ 1.85730556e-01  8.06582673e-01 -1.40801596e+04  7.43142663e-01\n",
      "  -7.26855343e-01]\n",
      " [ 2.84927066e-01  8.28973280e-01 -1.52323612e+04  6.97976490e-01\n",
      "  -4.01411611e+00]\n",
      " [-2.50019181e+00  8.36392870e-01 -5.56383855e+07  7.01503191e-01\n",
      "  -1.68714488e+00]\n",
      " [-4.90829080e-01  8.19022342e-01 -4.89086555e+07  6.44882076e-01\n",
      "  -3.60888007e+01]]\n"
     ]
    }
   ],
   "source": [
    "from sklearn.preprocessing import PolynomialFeatures\n",
    "from sklearn.model_selection import validation_curve\n",
    "from sklearn.linear_model import LinearRegression\n",
    "\n",
    "\n",
    "param_range = np.arange(1,16)\n",
    "print(param_range)\n",
    "train_scores, valid_scores = validation_curve(ma_reg2, X_train, y_train,\n",
    "                                          param_name='polynomialfeatures__degree', param_range=param_range, cv=5)\n",
    "\n",
    "print(\"train_scores: \" + str(train_scores))\n",
    "print(\"valid_scores: \" + str(valid_scores))"
   ]
  },
  {
   "cell_type": "markdown",
   "metadata": {},
   "source": [
    "**Question** On peut donc ensuite tracer les courbes d'erreur d'entraînement et de validation. Puisqu'on a de la validation sur 5 parties, on obtient 5 résultats par degré. Pour la courbe on trace la valeur mediane (la moyenne sur 5 valeurs pouvant être plus fortement affectée par un très bon ou très mauvais résultat. Cela doit ressembler à cela. \n",
    "\n",
    "![validation et train](./validtrain.png)"
   ]
  },
  {
   "cell_type": "code",
   "execution_count": 26,
   "metadata": {},
   "outputs": [
    {
     "data": {
      "image/png": "[encoded data removed]",
      "text/plain": [
       "<Figure size 432x288 with 1 Axes>"
      ]
     },
     "metadata": {},
     "output_type": "display_data"
    }
   ],
   "source": [
    "plt.plot(param_range, np.median(train_scores, 1), color='blue', label='training score')\n",
    "plt.plot(param_range, np.median(valid_scores, 1), color='red', label='validation score')\n",
    "plt.legend(loc='best')\n",
    "plt.ylim(0, 1)\n",
    "plt.xlabel('degree')\n",
    "plt.ylabel('score');"
   ]
  },
  {
   "cell_type": "markdown",
   "metadata": {},
   "source": [
    "**Question** Quelle est votre interprétation des résultats observés?"
   ]
  },
  {
   "cell_type": "markdown",
   "metadata": {},
   "source": [
    "Je n'ai pas eu les mêmes résultats, mais ....\n",
    "De façon générale, au plus on augmente le deg, au plus notre fonction va \"coller\" aux données (overfitting).\n",
    "On remarque bien que la courbe de score décroit vers la fin.\n",
    "=> On n'arrive plus à généraliser !"
   ]
  },
  {
   "cell_type": "markdown",
   "metadata": {},
   "source": []
  },
  {
   "cell_type": "markdown",
   "metadata": {},
   "source": [
    "**Question** tracer maintenant la figure montrant la courbe estimée et les points dans l'échantillon de valid et de train. Pour cela, j'ai utilisé `linspace` pour obtenir 100 points espacés régulièrement de l'intervalle $[min(X),max(X)]$, j'ai calculé leur prédiction et utilisé `plot` pour tracer la courbe et `scatter` avec l'option `s` pour changer la taille des points. Par exemple pour le degré 3 cela donne cela, mais regardez pour plusieurs valeurs des degrés\n",
    "\n",
    "![courbe finale](courbefinale.png)"
   ]
  },
  {
   "cell_type": "code",
   "execution_count": null,
   "metadata": {},
   "outputs": [],
   "source": []
  },
  {
   "cell_type": "code",
   "execution_count": null,
   "metadata": {},
   "outputs": [],
   "source": []
  },
  {
   "cell_type": "markdown",
   "metadata": {},
   "source": [
    "## Courbe d'apprentissage en fonction de la taille de l'échantillon"
   ]
  },
  {
   "cell_type": "markdown",
   "metadata": {},
   "source": [
    "Regardons maintenant la courbe d'apprentissage en fonction de la taille de l'échantillon. \n",
    "\n",
    "**Question** Lire le fichier `dataGrand.csv` et construire les matrices `X_g` (nd-array) et `y_g` (1d-array)."
   ]
  },
  {
   "cell_type": "code",
   "execution_count": 28,
   "metadata": {},
   "outputs": [
    {
     "name": "stdout",
     "output_type": "stream",
     "text": [
      "(200, 1)\n",
      "(200, 1)\n"
     ]
    }
   ],
   "source": [
    "df_g = pd.read_csv(\"dataGrand.csv\")\n",
    "X_g = df_g[\"x\"].values.reshape(-1,1)\n",
    "y_g = df_g[\"t\"].values.reshape(-1,1)\n",
    "print(X_g.shape)\n",
    "print(y_g.shape)"
   ]
  },
  {
   "cell_type": "markdown",
   "metadata": {},
   "source": [
    "**Question** Utiliser maintenant `learning_curve` de la librairie `sklearn.model_selection`. En vous inspirant de l'exemple donné dans la [documentation](https://scikit-learn.org/stable/modules/learning_curve.html#validation-curve), calculez les résultats de l'apprentissage avec `ma_regression` pour les degrés $3, 5, 10, 15$ en prenant 10 tailles d'ensemble d'apprentissage entre 1% et 100% (avec `np.linspace(0.01, 1, 10)`)"
   ]
  },
  {
   "cell_type": "code",
   "execution_count": 32,
   "metadata": {},
   "outputs": [
    {
     "name": "stderr",
     "output_type": "stream",
     "text": [
      "/opt/anaconda/lib/python3.8/site-packages/sklearn/metrics/_regression.py:589: UndefinedMetricWarning: R^2 score is not well-defined with less than two samples.\n",
      "  warnings.warn(msg, UndefinedMetricWarning)\n",
      "/opt/anaconda/lib/python3.8/site-packages/sklearn/metrics/_regression.py:589: UndefinedMetricWarning: R^2 score is not well-defined with less than two samples.\n",
      "  warnings.warn(msg, UndefinedMetricWarning)\n",
      "/opt/anaconda/lib/python3.8/site-packages/sklearn/metrics/_regression.py:589: UndefinedMetricWarning: R^2 score is not well-defined with less than two samples.\n",
      "  warnings.warn(msg, UndefinedMetricWarning)\n",
      "/opt/anaconda/lib/python3.8/site-packages/sklearn/metrics/_regression.py:589: UndefinedMetricWarning: R^2 score is not well-defined with less than two samples.\n",
      "  warnings.warn(msg, UndefinedMetricWarning)\n",
      "/opt/anaconda/lib/python3.8/site-packages/sklearn/metrics/_regression.py:589: UndefinedMetricWarning: R^2 score is not well-defined with less than two samples.\n",
      "  warnings.warn(msg, UndefinedMetricWarning)\n",
      "/opt/anaconda/lib/python3.8/site-packages/sklearn/metrics/_regression.py:589: UndefinedMetricWarning: R^2 score is not well-defined with less than two samples.\n",
      "  warnings.warn(msg, UndefinedMetricWarning)\n",
      "/opt/anaconda/lib/python3.8/site-packages/sklearn/metrics/_regression.py:589: UndefinedMetricWarning: R^2 score is not well-defined with less than two samples.\n",
      "  warnings.warn(msg, UndefinedMetricWarning)\n",
      "/opt/anaconda/lib/python3.8/site-packages/sklearn/metrics/_regression.py:589: UndefinedMetricWarning: R^2 score is not well-defined with less than two samples.\n",
      "  warnings.warn(msg, UndefinedMetricWarning)\n",
      "/opt/anaconda/lib/python3.8/site-packages/sklearn/metrics/_regression.py:589: UndefinedMetricWarning: R^2 score is not well-defined with less than two samples.\n",
      "  warnings.warn(msg, UndefinedMetricWarning)\n",
      "/opt/anaconda/lib/python3.8/site-packages/sklearn/metrics/_regression.py:589: UndefinedMetricWarning: R^2 score is not well-defined with less than two samples.\n",
      "  warnings.warn(msg, UndefinedMetricWarning)\n",
      "/opt/anaconda/lib/python3.8/site-packages/sklearn/metrics/_regression.py:589: UndefinedMetricWarning: R^2 score is not well-defined with less than two samples.\n",
      "  warnings.warn(msg, UndefinedMetricWarning)\n",
      "/opt/anaconda/lib/python3.8/site-packages/sklearn/metrics/_regression.py:589: UndefinedMetricWarning: R^2 score is not well-defined with less than two samples.\n",
      "  warnings.warn(msg, UndefinedMetricWarning)\n",
      "/opt/anaconda/lib/python3.8/site-packages/sklearn/metrics/_regression.py:589: UndefinedMetricWarning: R^2 score is not well-defined with less than two samples.\n",
      "  warnings.warn(msg, UndefinedMetricWarning)\n",
      "/opt/anaconda/lib/python3.8/site-packages/sklearn/metrics/_regression.py:589: UndefinedMetricWarning: R^2 score is not well-defined with less than two samples.\n",
      "  warnings.warn(msg, UndefinedMetricWarning)\n",
      "/opt/anaconda/lib/python3.8/site-packages/sklearn/metrics/_regression.py:589: UndefinedMetricWarning: R^2 score is not well-defined with less than two samples.\n",
      "  warnings.warn(msg, UndefinedMetricWarning)\n",
      "/opt/anaconda/lib/python3.8/site-packages/sklearn/metrics/_regression.py:589: UndefinedMetricWarning: R^2 score is not well-defined with less than two samples.\n",
      "  warnings.warn(msg, UndefinedMetricWarning)\n",
      "/opt/anaconda/lib/python3.8/site-packages/sklearn/metrics/_regression.py:589: UndefinedMetricWarning: R^2 score is not well-defined with less than two samples.\n",
      "  warnings.warn(msg, UndefinedMetricWarning)\n",
      "/opt/anaconda/lib/python3.8/site-packages/sklearn/metrics/_regression.py:589: UndefinedMetricWarning: R^2 score is not well-defined with less than two samples.\n",
      "  warnings.warn(msg, UndefinedMetricWarning)\n",
      "/opt/anaconda/lib/python3.8/site-packages/sklearn/metrics/_regression.py:589: UndefinedMetricWarning: R^2 score is not well-defined with less than two samples.\n",
      "  warnings.warn(msg, UndefinedMetricWarning)\n"
     ]
    },
    {
     "name": "stdout",
     "output_type": "stream",
     "text": [
      "train_sizes_deg3: [  1  19  36  54  72  89 107 124 142 160]\n",
      "train_scores_deg3: [[       nan        nan        nan        nan        nan]\n",
      " [0.96098856 0.93096995 0.93096995 0.93096995 0.93096995]\n",
      " [0.97376236 0.90397419 0.90397419 0.90397419 0.90397419]\n",
      " [0.95300936 0.88927982 0.88737022 0.88737022 0.88737022]\n",
      " [0.94721369 0.89972561 0.9088302  0.9088302  0.9088302 ]\n",
      " [0.94458053 0.90589817 0.91471634 0.9174333  0.9174333 ]\n",
      " [0.93524353 0.90474738 0.91170983 0.91457852 0.91457852]\n",
      " [0.9364398  0.91250755 0.91767939 0.92288715 0.92135494]\n",
      " [0.9295461  0.90730911 0.91289314 0.91604542 0.91802072]\n",
      " [0.92226194 0.90259502 0.90755982 0.91023057 0.919539  ]]\n",
      "valid_scores_deg3: [[-0.40272155 -2.48883423 -3.57647538 -1.5998579  -3.2531253 ]\n",
      " [ 0.83398705  0.90951413  0.85854126  0.7699033   0.79154497]\n",
      " [ 0.84571231  0.9371351   0.92776258  0.89775271  0.87078125]\n",
      " [ 0.85878178  0.94552993  0.93771729  0.91088815  0.87748547]\n",
      " [ 0.86351982  0.94227428  0.93686253  0.91226263  0.87756941]\n",
      " [ 0.86431535  0.94625997  0.93649557  0.9131738   0.87654354]\n",
      " [ 0.86797797  0.94561382  0.93728007  0.91201092  0.87871366]\n",
      " [ 0.86842942  0.94748666  0.93691262  0.91165542  0.87775636]\n",
      " [ 0.86745944  0.94833989  0.93527919  0.91189954  0.87891106]\n",
      " [ 0.86716246  0.94779633  0.93683184  0.90903095  0.87564628]]\n",
      "train_sizes_deg15: [  1  19  36  54  72  89 107 124 142 160]\n",
      "train_scores_deg15: [[       nan        nan        nan        nan        nan]\n",
      " [0.99177638 0.98987626 0.98987626 0.98987626 0.98987626]\n",
      " [0.98622677 0.95192185 0.95192185 0.95192185 0.95192185]\n",
      " [0.96886039 0.92848046 0.924505   0.924505   0.924505  ]\n",
      " [0.95622937 0.92329922 0.92940816 0.92940816 0.92940816]\n",
      " [0.95199916 0.9212912  0.93623666 0.93271181 0.93271181]\n",
      " [0.94108634 0.91321026 0.92675107 0.92520952 0.92520952]\n",
      " [0.94111235 0.91952089 0.92823581 0.93019544 0.92839645]\n",
      " [0.93669315 0.91582783 0.92521286 0.92560543 0.92472364]\n",
      " [0.92950787 0.91112016 0.91708082 0.91699088 0.92460655]]\n",
      "valid_scores_deg15: [[-4.02721552e-01 -2.48883423e+00 -3.57647538e+00 -1.59985790e+00\n",
      "  -3.25312530e+00]\n",
      " [-1.07469369e+17 -1.80737683e+05 -1.00533448e+09 -1.79464952e+10\n",
      "  -1.52954487e+09]\n",
      " [-2.63851136e+04  7.64981219e-01  7.90732573e-01 -3.51553724e+00\n",
      "   7.97409379e-01]\n",
      " [-2.48611158e+04  8.76472629e-01  8.84642450e-01  8.09395246e-01\n",
      "   8.50712097e-01]\n",
      " [-2.54505275e+01  8.92254617e-01  8.88363120e-01  8.80987739e-01\n",
      "   8.55623155e-01]\n",
      " [-5.92881530e+00  9.34009636e-01  8.78751644e-01  8.60085220e-01\n",
      "   8.58131613e-01]\n",
      " [ 8.49343668e-01  9.41656893e-01  8.84433103e-01  8.67628880e-01\n",
      "   8.68830540e-01]\n",
      " [ 8.48159081e-01  9.40705126e-01  8.96322514e-01  8.83448508e-01\n",
      "   8.77079373e-01]\n",
      " [ 8.50000962e-01  9.45247309e-01  8.98958626e-01  8.88866411e-01\n",
      "   8.82014303e-01]\n",
      " [ 8.51529480e-01  9.40154451e-01  9.13608450e-01  8.92437176e-01\n",
      "   8.84010927e-01]]\n"
     ]
    },
    {
     "name": "stderr",
     "output_type": "stream",
     "text": [
      "/opt/anaconda/lib/python3.8/site-packages/sklearn/metrics/_regression.py:589: UndefinedMetricWarning: R^2 score is not well-defined with less than two samples.\n",
      "  warnings.warn(msg, UndefinedMetricWarning)\n"
     ]
    }
   ],
   "source": [
    "from sklearn.linear_model import LinearRegression\n",
    "from sklearn.model_selection import learning_curve\n",
    "\n",
    "train_sizes_deg3, train_scores_deg3, valid_scores_deg3 = learning_curve(ma_reg(3), X_g.reshape(-1,1), y_g.reshape(-1,1), \n",
    "                                            train_sizes=np.linspace(0.01, 1, 10), \n",
    "                                            cv=5)\n",
    "\n",
    "train_sizes_deg5, train_scores_deg5, valid_scores_deg5 = learning_curve(ma_reg(5), X_g, y_g, \n",
    "                                            train_sizes=np.linspace(0.01, 1, 10), \n",
    "                                            cv=5)\n",
    "\n",
    "train_sizes_deg10, train_scores_deg10, valid_scores_deg10 = learning_curve(ma_reg(10), X_g, y_g, \n",
    "                                            train_sizes=np.linspace(0.01, 1, 10), \n",
    "                                            cv=5)\n",
    "\n",
    "train_sizes_deg15, train_scores_deg15, valid_scores_deg15 = learning_curve(ma_reg(15), X_g, y_g, \n",
    "                                            train_sizes=np.linspace(0.01, 1, 10), \n",
    "                                            cv=5)\n",
    "\n",
    "print(\"train_sizes_deg3: \" + str(train_sizes_deg3))\n",
    "print(\"train_scores_deg3: \" + str(train_scores_deg3))\n",
    "print(\"valid_scores_deg3: \" + str(valid_scores_deg3))\n",
    "\n",
    "print(\"train_sizes_deg15: \" + str(train_sizes_deg15))\n",
    "print(\"train_scores_deg15: \" + str(train_scores_deg15))\n",
    "print(\"valid_scores_deg15: \" + str(valid_scores_deg15))"
   ]
  },
  {
   "cell_type": "markdown",
   "metadata": {},
   "source": [
    "**Question** Tracer les 4 courbes qui doivent ressemble à ce qui est ci-dessous et analysez les résultats. Qu'en concluez-vous ? \n",
    "\n",
    "![learning curve](learningCurve.png)"
   ]
  },
  {
   "cell_type": "code",
   "execution_count": 33,
   "metadata": {},
   "outputs": [
    {
     "data": {
      "text/plain": [
       "<matplotlib.legend.Legend at 0x7f0da3c58310>"
      ]
     },
     "execution_count": 33,
     "metadata": {},
     "output_type": "execute_result"
    },
    {
     "data": {
      "image/png": "[encoded data removed]",
      "text/plain": [
       "<Figure size 432x288 with 1 Axes>"
      ]
     },
     "metadata": {},
     "output_type": "display_data"
    },
    {
     "data": {
      "image/png": "[encoded data removed]",
      "text/plain": [
       "<Figure size 432x288 with 1 Axes>"
      ]
     },
     "metadata": {},
     "output_type": "display_data"
    },
    {
     "data": {
      "image/png": "[encoded data removed]",
      "text/plain": [
       "<Figure size 432x288 with 1 Axes>"
      ]
     },
     "metadata": {},
     "output_type": "display_data"
    },
    {
     "data": {
      "image/png": "[encoded data removed]",
      "text/plain": [
       "<Figure size 432x288 with 1 Axes>"
      ]
     },
     "metadata": {},
     "output_type": "display_data"
    }
   ],
   "source": [
    "fig_3, ax3 = plt.subplots()\n",
    "ax3.plot(train_sizes_deg3, np.median(train_scores_deg3, 1), color='red', label='training score')\n",
    "ax3.plot(train_sizes_deg3, np.median(valid_scores_deg3, 1), color='blue', label='validation score')\n",
    "ax3.legend(loc='best')\n",
    "\n",
    "fig_5, ax5 = plt.subplots()\n",
    "ax5.plot(train_sizes_deg5, np.median(train_scores_deg5, 1), color='red', label='training score')\n",
    "ax5.plot(train_sizes_deg5, np.median(valid_scores_deg5, 1), color='blue', label='validation score')\n",
    "ax5.legend(loc='best')\n",
    "\n",
    "fig_10, ax10 = plt.subplots()\n",
    "ax10.plot(train_sizes_deg10, np.median(train_scores_deg10, 1), color='red', label='training score')\n",
    "ax10.plot(train_sizes_deg10, np.median(valid_scores_deg10, 1), color='blue', label='validation score')\n",
    "ax10.legend(loc='best')\n",
    "\n",
    "fig_15, ax15 = plt.subplots()\n",
    "ax15.plot(train_sizes_deg15, np.median(train_scores_deg15, 1), color='red', label='training score')\n",
    "ax15.plot(train_sizes_deg15, np.median(valid_scores_deg15, 1), color='blue', label='validation score')\n",
    "ax15.legend(loc='best')"
   ]
  },
  {
   "cell_type": "markdown",
   "metadata": {},
   "source": []
  },
  {
   "cell_type": "markdown",
   "metadata": {},
   "source": [
    "## Grid search"
   ]
  },
  {
   "cell_type": "markdown",
   "metadata": {},
   "source": [
    "Ici, on va faire de la recherche d'hyperparamètres en examinant de nombreuses valeurs pour plusieurs paramètres : on construit une grille de plusieurs valeurs possible. On fait ce qu'on appelle du *grid search* qui est en général assez coûteux..."
   ]
  },
  {
   "cell_type": "markdown",
   "metadata": {},
   "source": [
    "**Question** Charger les données de `dataPlusGrand.csv` dans `X_pg` et `y_pg`"
   ]
  },
  {
   "cell_type": "code",
   "execution_count": 155,
   "metadata": {},
   "outputs": [
    {
     "name": "stdout",
     "output_type": "stream",
     "text": [
      "(200, 1)\n",
      "(200, 1)\n"
     ]
    }
   ],
   "source": [
    "df_pg = pd.read_csv(\"dataPlusGrand.csv\")\n",
    "X_pg = df_g[\"x\"].values.reshape(-1,1)\n",
    "y_pg = df_g[\"t\"].values.reshape(-1,1)\n",
    "print(X_pg.shape)\n",
    "print(y_pg.shape)\n",
    "\n",
    "X_pg_train, X_pg_test, y_pg_train, y_pg_test = train_test_split(X_pg, y_pg, test_size=0.33, random_state=42)\n",
    "X_pg_train = X_pg_train.reshape(-1,1)\n",
    "y_pg_train = y_pg_train.reshape(-1,1)\n",
    "X_pg_test = X_pg_test.reshape(-1,1)\n",
    "y_pg_test = y_pg_test.reshape(-1,1)"
   ]
  },
  {
   "cell_type": "markdown",
   "metadata": {},
   "source": [
    "**Question** faire un pipeline avec une transformation polynomiale des attributs et un estimateur de la classe `Ridge`"
   ]
  },
  {
   "cell_type": "code",
   "execution_count": 156,
   "metadata": {},
   "outputs": [],
   "source": [
    "def my_ridge(deg=2, **kwargs):\n",
    "    return make_pipeline(PolynomialFeatures(deg), linear_model.Ridge(**kwargs))"
   ]
  },
  {
   "cell_type": "code",
   "execution_count": null,
   "metadata": {},
   "outputs": [],
   "source": []
  },
  {
   "cell_type": "markdown",
   "metadata": {},
   "source": [
    "**Question** Regarder l'aide sur `GridSearchCV`. Composer une grille de recherche en examinant tous les degres entre 1 et 15 et pour les valeurs de alpha dans l'ensemble `[1e-3, 1e-2, 1e-1, 1]`"
   ]
  },
  {
   "cell_type": "code",
   "execution_count": 159,
   "metadata": {},
   "outputs": [
    {
     "data": {
      "text/plain": [
       "GridSearchCV(cv=5,\n",
       "             estimator=Pipeline(steps=[('polynomialfeatures',\n",
       "                                        PolynomialFeatures()),\n",
       "                                       ('ridge', Ridge())]),\n",
       "             param_grid={'polynomialfeatures__degree': array([ 1,  2,  3,  4,  5,  6,  7,  8,  9, 10, 11, 12, 13, 14, 15]),\n",
       "                         'ridge__alpha': [0.001, 0.01, 0.1, 1]})"
      ]
     },
     "execution_count": 159,
     "metadata": {},
     "output_type": "execute_result"
    }
   ],
   "source": [
    "from sklearn.model_selection import GridSearchCV\n",
    "\n",
    "param_grid = {'polynomialfeatures__degree': np.arange(1,16),\n",
    "              'ridge__alpha': [1e-3, 1e-2, 1e-1, 1]}\n",
    "\n",
    "grid = GridSearchCV(my_ridge(), param_grid, cv=5)\n",
    "grid.fit(X_pg_train, y_pg_train)"
   ]
  },
  {
   "cell_type": "markdown",
   "metadata": {},
   "source": [
    "**Question** Quels sont les meilleurs paramètres ? Quel est le score du meilleur modèle sur `X_pg`, `y_pg` ?"
   ]
  },
  {
   "cell_type": "code",
   "execution_count": 160,
   "metadata": {
    "scrolled": true
   },
   "outputs": [
    {
     "data": {
      "text/plain": [
       "{'polynomialfeatures__degree': 3, 'ridge__alpha': 0.001}"
      ]
     },
     "execution_count": 160,
     "metadata": {},
     "output_type": "execute_result"
    }
   ],
   "source": [
    "grid.best_params_"
   ]
  }
 ],
 "metadata": {
  "kernelspec": {
   "display_name": "Python 3",
   "language": "python",
   "name": "python3"
  },
  "language_info": {
   "codemirror_mode": {
    "name": "ipython",
    "version": 3
   },
   "file_extension": ".py",
   "mimetype": "text/x-python",
   "name": "python",
   "nbconvert_exporter": "python",
   "pygments_lexer": "ipython3",
   "version": "3.8.5"
  }
 },
 "nbformat": 4,
 "nbformat_minor": 4
}
