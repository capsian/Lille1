{
 "cells": [
  {
   "cell_type": "markdown",
   "metadata": {},
   "source": [
    "# Regression"
   ]
  },
  {
   "cell_type": "code",
   "execution_count": 1,
   "metadata": {},
   "outputs": [],
   "source": [
    "%matplotlib inline\n",
    "import matplotlib.pyplot as plt\n",
    "import seaborn as sns; sns.set()\n",
    "import numpy as np\n",
    "rng = np.random.RandomState(42)"
   ]
  },
  {
   "cell_type": "markdown",
   "metadata": {},
   "source": [
    "**Question** Faire un jeu de 1000 données tirées aléatoirement avec une loi normale multidimensionnelle (multivariée) centrée en $(0,0)$ de matrice de covariance. \n",
    "\n",
    "$$\\left(\\begin{array}{cc}2.0 & 1.5\\\\1.5&2.0\\end{array} \\right)$$\n",
    "\n",
    "C'est donc être une matrice de nombres aléatoires de 1000 par 1000 que vous appelez `data1`. *Aide* Regardez dans le module `random`... "
   ]
  },
  {
   "cell_type": "code",
   "execution_count": 2,
   "metadata": {},
   "outputs": [],
   "source": [
    "mean = (0,0)\n",
    "cov = [[2.0,1.5],\n",
    "       [1.5,2.0]]\n",
    "data1 = np.random.multivariate_normal(mean,cov,size=(1000,))"
   ]
  },
  {
   "cell_type": "markdown",
   "metadata": {},
   "source": [
    "**Question** Vérifiez que la moyenne et la variance sont bien proches de ce qui est attendu. "
   ]
  },
  {
   "cell_type": "code",
   "execution_count": 3,
   "metadata": {},
   "outputs": [
    {
     "data": {
      "text/plain": [
       "0.026233645632094113"
      ]
     },
     "execution_count": 3,
     "metadata": {},
     "output_type": "execute_result"
    }
   ],
   "source": [
    "moyenne = data1.mean()\n",
    "moyenne"
   ]
  },
  {
   "cell_type": "code",
   "execution_count": 4,
   "metadata": {},
   "outputs": [
    {
     "data": {
      "text/plain": [
       "1.922744547382199"
      ]
     },
     "execution_count": 4,
     "metadata": {},
     "output_type": "execute_result"
    }
   ],
   "source": [
    "variance = (data1.std())**2\n",
    "variance"
   ]
  },
  {
   "cell_type": "markdown",
   "metadata": {},
   "source": [
    "**Question** La matrice `X1` a 1000 lignes et 1 colonne (1000,1) et c'est la première colonne de vos données. Le vecteur `y1` est de dimension (1000,) et c'est la seconde colonne de vos données. Définissez `X1` et `y1` et tracez le nuage de points"
   ]
  },
  {
   "cell_type": "code",
   "execution_count": 5,
   "metadata": {},
   "outputs": [],
   "source": [
    "X1, y1 = data1[:,0], data1[:,1]"
   ]
  },
  {
   "cell_type": "markdown",
   "metadata": {},
   "source": [
    "**Question** Faire un modèle de régression linéaire `r1` (sans intersection à l'origine puisque le nuage est centré en (0,0) ) et l'entraîner avec `X1` et `y1`."
   ]
  },
  {
   "cell_type": "code",
   "execution_count": 6,
   "metadata": {},
   "outputs": [
    {
     "data": {
      "text/plain": [
       "LinearRegression()"
      ]
     },
     "execution_count": 6,
     "metadata": {},
     "output_type": "execute_result"
    }
   ],
   "source": [
    "from sklearn import linear_model\n",
    "from sklearn.model_selection import train_test_split\n",
    "\n",
    "r1 = linear_model.LinearRegression()\n",
    "X1 = X1.reshape((-1,1))\n",
    "r1.fit(X1,y1)"
   ]
  },
  {
   "cell_type": "markdown",
   "metadata": {},
   "source": [
    "**Question** Observez le coefficient dans `r1._coef`"
   ]
  },
  {
   "cell_type": "code",
   "execution_count": 7,
   "metadata": {},
   "outputs": [
    {
     "data": {
      "text/plain": [
       "array([0.77297871])"
      ]
     },
     "execution_count": 7,
     "metadata": {},
     "output_type": "execute_result"
    }
   ],
   "source": [
    "r1.coef_"
   ]
  },
  {
   "cell_type": "markdown",
   "metadata": {},
   "source": [
    "**Question** Calculer les prédictions de `r` sur les données de `X1`. On appelle ce vecteur `y1_pred`... C'est une droite"
   ]
  },
  {
   "cell_type": "code",
   "execution_count": 8,
   "metadata": {},
   "outputs": [],
   "source": [
    "y1_pred = r1.predict(X1)"
   ]
  },
  {
   "cell_type": "markdown",
   "metadata": {},
   "source": [
    "**Question** Tracer le nuage avec la droite en rouge"
   ]
  },
  {
   "cell_type": "code",
   "execution_count": 9,
   "metadata": {},
   "outputs": [
    {
     "data": {
      "text/plain": [
       "[<matplotlib.lines.Line2D at 0x7fe6cf1c5ac0>]"
      ]
     },
     "execution_count": 9,
     "metadata": {},
     "output_type": "execute_result"
    },
    {
     "data": {
      "image/png": "[encoded data removed]",
      "text/plain": [
       "<Figure size 432x288 with 1 Axes>"
      ]
     },
     "metadata": {
      "needs_background": "light"
     },
     "output_type": "display_data"
    }
   ],
   "source": [
    "plt.scatter(x = X1,y = y1)\n",
    "plt.plot(X1, y1_pred, c='red')"
   ]
  },
  {
   "cell_type": "markdown",
   "metadata": {},
   "source": [
    "Avec les moindres carrés, on calcule\n",
    "\n",
    "$$\\mathop{\\mathrm{argmin}}_a \\sum_{x,y\\in X_1\\times y_1}  (ax - y)^2$$\n"
   ]
  },
  {
   "cell_type": "markdown",
   "metadata": {},
   "source": [
    "**Question** Développer et calculer la dérivée par rapport à $a$ et chercher où la dérivée s'annule. Vérifier que vous obtenez le même résultat que le coefficient de $r1$."
   ]
  },
  {
   "cell_type": "markdown",
   "metadata": {},
   "source": [
    "*Réponse*: \t\n",
    "f = $\\sum (ax - y)²$ = $\\sum (a²x² - 2axy + y²)$\n",
    "\n",
    "f'= $\\sum (2ax² - 2xy)$ \n",
    "\n",
    "On cherche maintenant a tel que f' = 0, donc on a :\n",
    "\n",
    "f' = 0\n",
    "\n",
    "$\\sum (2ax² - 2xy)$ = 0 \n",
    "\n",
    "$\\sum (2ax²)$ - $\\sum (2xy)$ = 0 \n",
    "\n",
    "$2\\sum (ax²)$ = $2\\sum (xy)$\n",
    "\n",
    "$a \\times \\sum (x²)$ = $\\sum (xy)$\n",
    "\n",
    "$ a = \\frac{\\sum (xy)}{\\sum (x²)}$\n",
    "\n",
    "\n",
    "\n",
    "\n"
   ]
  },
  {
   "cell_type": "code",
   "execution_count": 10,
   "metadata": {},
   "outputs": [
    {
     "data": {
      "text/plain": [
       "0.7729904831999438"
      ]
     },
     "execution_count": 10,
     "metadata": {},
     "output_type": "execute_result"
    }
   ],
   "source": [
    "nominateur = np.dot(y1,X1).sum()\n",
    "denominateur = np.power(X1,2).sum()\n",
    "a = nominateur / denominateur\n",
    "a"
   ]
  },
  {
   "cell_type": "markdown",
   "metadata": {},
   "source": [
    "Sous forme matricielle on peut réécrire\n",
    "\n",
    "$$\\mathop{\\mathrm{argmin}}_a \\sum_{x,y\\in X_1\\times y_1}  (ax - y)^2  = \\mathop{\\mathrm{argmin}}_a \\Vert aX_1-y_1 \\Vert^2$$\n",
    "\n",
    "**Question** Sachant que pour un vecteur $x$ on a $\\Vert x \\Vert^2 = \\langle x,x\\rangle = x^\\top x$ et en utilisant la distributivité de la multiplication sur l'addition, réécrivez le développement et la dérivée sous forme matricielle. "
   ]
  },
  {
   "cell_type": "markdown",
   "metadata": {},
   "source": [
    "*Réponse* : \n",
    "\n",
    "$||aX_1 - y_1||² = (aX_1 - y_1)^T \\times (aX_1 - y_1)$ [2]\n",
    "\n",
    "[2] = $ aX_1^TaX_1 - aX_1^Ty_1 - y_1^TaX_1 + y_1^Ty_1 $ [3]\n",
    "\n",
    "[3] = $a²(X_1^TX_1) - a(X_1^Ty_1 + y_1^TX_1) + y_1^Ty_1$ [4]\n",
    "\n",
    "Réécrivons [4] sous forme dérivé en le nommant [4]'\n",
    "\n",
    "[4]' = $2a(X_1^TX_1) - (X_1^Ty_1 + y_1^TX_1)$\n"
   ]
  },
  {
   "cell_type": "markdown",
   "metadata": {},
   "source": [
    "**Question** Maintenant en supposant que $X_1^TX_1$ est définie positive, (elle est positive), et donc possède une inverse et sachant que $A^{-1}A$ est l'identité pour toute matrice $A$ inversible, exprimez de façon matricielle la valeur de $a$ et calculez-la de cette façon.\n",
    "\n",
    "_Aide_ : `np.linalg.inv(A)` inverse une matrice, `np.dot(A,B)` fait une multiplication de matrice, une autre notation est `A@B`."
   ]
  },
  {
   "cell_type": "markdown",
   "metadata": {},
   "source": [
    "[4]' = f' = $2a(X_1^TX_1) - (X_1^Ty_1 + y_1^TX_1)$\n",
    "\n",
    "f' = 0\n",
    "\n",
    "$2a(X_1^TX_1) - (X_1^Ty_1 + y_1^TX_1)$ = 0\n",
    "\n",
    "$a(X_1^TX_1) $ = $\\frac{(X_1^Ty_1 + y_1^TX_1)}{2}$\n",
    "\n",
    "$a = (\\frac{(X_1^Ty_1 + y_1^TX_1)}{2}) * (X_1^TX_1)^-¹$ \n"
   ]
  },
  {
   "cell_type": "markdown",
   "metadata": {},
   "source": [
    "*Réponse* : La dérivée s'annule si $X_1$ est inversible\n"
   ]
  },
  {
   "cell_type": "code",
   "execution_count": 11,
   "metadata": {},
   "outputs": [
    {
     "data": {
      "text/plain": [
       "array([[0.77299048]])"
      ]
     },
     "execution_count": 11,
     "metadata": {},
     "output_type": "execute_result"
    }
   ],
   "source": [
    "terme_gauche = ((X1.T@y1) + (y1.T@X1)) / 2\n",
    "terme_droit  = np.linalg.inv(X1.T@X1)\n",
    "a = terme_gauche * terme_droit\n",
    "a"
   ]
  },
  {
   "cell_type": "markdown",
   "metadata": {},
   "source": [
    "**Remarque** Le calcul qu'on vient de faire est toujours correct quand la matrice $X_1$ a plus d'une seule colonne!"
   ]
  },
  {
   "cell_type": "markdown",
   "metadata": {},
   "source": [
    "## Avec un nuage de points qui n'est pas centré... "
   ]
  },
  {
   "cell_type": "markdown",
   "metadata": {},
   "source": [
    "On génère à nouveau ces données mais cette fois avec des données centrées en $(3,2)$ pour la même matrice de covariance. Nous allons recommmencer mais notre calcul analytique est désormais faux si on ne prend pas en compte l'ordonnée à l'origine...\n",
    "\n",
    "**Question**  Générer les données, tracer les données, la droite de régression comme au début de ce TD. On appelle les nouveaux objets `data2`, `X2`, `y2`, et `r2`."
   ]
  },
  {
   "cell_type": "code",
   "execution_count": 12,
   "metadata": {},
   "outputs": [
    {
     "name": "stdout",
     "output_type": "stream",
     "text": [
      "a= 0.7107583512004206 b= -0.13799749784574544\n"
     ]
    },
    {
     "data": {
      "image/png": "[encoded data removed]",
      "text/plain": [
       "<Figure size 432x288 with 1 Axes>"
      ]
     },
     "metadata": {
      "needs_background": "light"
     },
     "output_type": "display_data"
    }
   ],
   "source": [
    "#Génération des points\n",
    "mean = (3,2)\n",
    "cov = [[2.0,1.5],\n",
    "       [1.5,2.0]]\n",
    "data2 = np.random.multivariate_normal(mean,cov,size=(1000,))\n",
    "#Traitement des données\n",
    "X2, y2 = data2[:,0], data2[:,1]\n",
    "X2 = X2.reshape((-1,1))\n",
    "#Création et entrainement du modèle\n",
    "r2 = linear_model.LinearRegression()\n",
    "r2.fit(X2,y2)\n",
    "y2_pred = r2.predict(X2)\n",
    "#tracer les nuages de points et la droite\n",
    "plt.scatter(x = X2,y = y2)\n",
    "plt.plot(X2, y2_pred, c='red')\n",
    "print(\"a=\",r2.coef_[0],\"b=\",r2.intercept_)"
   ]
  },
  {
   "cell_type": "markdown",
   "metadata": {},
   "source": [
    "On doit désormais résoudre \n",
    "\n",
    "$$\\mathop{\\mathrm{argmin}}_{a,b} \\sum_{x,y\\in X_2\\times y_2}  (ax + b - y)^2$$\n",
    "\n",
    "Mais c'est un peu plus pénible à résoudre, sauf si on suit l'écriture matricielle. Un petit truc est d'écrire \n",
    "\n",
    "$$\\mathop{\\mathrm{argmin}}_{a,b} \\sum_{x,y\\in X_2\\times y_2}  (ax + b - y)^2=\\mathop{\\mathrm{argmin}}_{a,b} \\Vert aX_2 + b\\mathbf 1 -y_2 \\Vert^2$$\n",
    "\n",
    "où $\\mathbf 1$ est un vecteur de 1 de dimension de $X_2$. Donc si j'appelle $w=(a,b)^\\top$ et $X_{2b}$ est $X_2$ à laquelle on a ajouté une colonne de 1, cela s'écrit\n",
    "\n",
    "$$\\mathop{\\mathrm{argmin}}_{w} \\Vert X_{2b}w  -y_2 \\Vert^2$$\n",
    "\n",
    "Et donc on peut refaire le même calcul que précédemment!  Il suffit donc d'ajouter une dimension au problème et de la mettre à 1... \n",
    "\n",
    "**Question** Créer une matrice `X2b` en conséquence"
   ]
  },
  {
   "cell_type": "code",
   "execution_count": 13,
   "metadata": {},
   "outputs": [
    {
     "data": {
      "text/plain": [
       "array([[2.8193606 , 1.        ],\n",
       "       [2.69889123, 1.        ],\n",
       "       [3.95230578, 1.        ],\n",
       "       ...,\n",
       "       [1.97404555, 1.        ],\n",
       "       [3.19410307, 1.        ],\n",
       "       [4.32479483, 1.        ]])"
      ]
     },
     "execution_count": 13,
     "metadata": {},
     "output_type": "execute_result"
    }
   ],
   "source": [
    "X2b = np.hstack((X2,np.ones(X2.size)[:,np.newaxis]))\n",
    "X2b"
   ]
  },
  {
   "cell_type": "markdown",
   "metadata": {},
   "source": [
    "**Question** Résoudre maintenant le système avec les opérateurs matriciels comme précédemment."
   ]
  },
  {
   "cell_type": "markdown",
   "metadata": {},
   "source": [
    "*Réponse* :\n",
    "\n",
    "Dans résolution de système on suppose que $w^{T}=w$ car il s'agit d'une matrice à une dimension donc sa tranposée correspond à elle même\n",
    "\n",
    "$|| X_{2b}w - y_2||² = (X_{2b}w - y_2)^T \\times (X_{2b}w - y_2)$    [1]\n",
    "\n",
    "[1] = $ X_{2b}^{T}wX_{2b}w - X_{2b}^{T}wy_2 - y_2^{T}X_{2b}w + y_2^{T}y_2 $      [2]\n",
    "\n",
    "[2] = $w^{2}X_{2b}^{T}X_{2b} - w(X_{2b}^{T}y_2 + y_2^{T}X_{2b}) + y_2^{T}y_2$    [3]\n",
    "\n",
    "Réécrivons [3] sous forme dérivé en le nommant     [3]'\n",
    "\n",
    "[3]' = $2wX_{2b}^{T}X_{2b} - (X_{2b}^{T}y_2 + y_2^{T}X_{2b})$\n",
    "\n",
    "[3]' = 0\n",
    "\n",
    "$2wX_{2b}^{T}X_{2b} - (X_{2b}^{T}y_2 + y_2^{T}X_{2b})$ = 0    [4]\n",
    "\n",
    "$wX_{2b}^{T}X_{2b} =  \\frac{X_{2b}^{T}y_2 + y_2^{T}X_{2b}}{2} $   [5]\n",
    "\n",
    "$w = (\\frac{X_{2b}^{T}y_2 + y_2^{T}X_{2b}}{2}) * (X_{2b}^{T}X_{2b})^{-1}$ [6]"
   ]
  },
  {
   "cell_type": "code",
   "execution_count": 14,
   "metadata": {},
   "outputs": [
    {
     "name": "stdout",
     "output_type": "stream",
     "text": [
      "a= 0.7107583512004205 b= -0.13799749784574722\n"
     ]
    }
   ],
   "source": [
    "terme_gauche = ((X2b.T@y2) + (y2.T@X2b)) / 2\n",
    "terme_droit  = np.linalg.inv(X2b.T@X2b)\n",
    "w = terme_gauche @ terme_droit\n",
    "print(\"a=\",w[0],\"b=\",w[1])"
   ]
  },
  {
   "cell_type": "markdown",
   "metadata": {},
   "source": [
    "## Approche par descente de gradient"
   ]
  },
  {
   "cell_type": "markdown",
   "metadata": {},
   "source": [
    "L'approche précédente se généralise. La fonction derrière le `argmin` est ce qu'on appelle une **fonction objectif** (ou fonction de perte) et l'approche est de trouver les paramètres qui minimisent cette perte. \n",
    "\n",
    "$$\\mathop{\\mathrm{argmin}}_{w} f(X, y, w)$$"
   ]
  },
  {
   "cell_type": "markdown",
   "metadata": {},
   "source": [
    "**Question** Quelle est la fonction objectif de l'exemple précédent avec la régression pour le nuage de points centré en $(3,2)$? (Reprennez les  mêmes objets $X_{2b}$ et $y_2$."
   ]
  },
  {
   "cell_type": "markdown",
   "metadata": {},
   "source": [
    "*Réponse*: \n",
    "$f(X_{2b},y_2,w) = $$\\Vert X_{2b}w  -y_2 \\Vert^2 $ avec $w=(a,b)$"
   ]
  },
  {
   "cell_type": "markdown",
   "metadata": {},
   "source": [
    "Dans le cas précédent, cela marche très bien car on minimise une fonction dérivable, convexe, il y a un minimum global et une solution analytique. Par ailleurs, la matrice est assez petite car il y a peu de données, mais si on a des *big data*, cela ne marche plus. Le calcul de l'inverse est trop long à calculer."
   ]
  },
  {
   "cell_type": "markdown",
   "metadata": {},
   "source": [
    "**Question** Quelle est la complexité en temps du calcul de l'inverse d'une matrice de dimension $n$ par $n$ ? "
   ]
  },
  {
   "cell_type": "markdown",
   "metadata": {},
   "source": [
    "*Réponse* : la complexité est en $\\mathcal{O}({n^{3})}$  --> Non Vérifié"
   ]
  },
  {
   "cell_type": "markdown",
   "metadata": {},
   "source": [
    "Moralité : en prenant plus de données ou des fonctions de perte plus compliquées pour lesquelles on n'a pas de solution analytique, il faut changer de façon de faire... \n",
    "\n",
    "Commençons par voir comment approcher la solution analytique par un autre moyen. L'idée ici est de suivre la pente de la courbe de la fonction de perte. On calcule donc la dérivée et on va dans la direction opposée à la dérivée par petites touches. (Voir [cette page](https://www.neural-networks.io/fr/single-layer/gradient-descent.php) pour les petits dessins qui font comprendre.) "
   ]
  },
  {
   "cell_type": "markdown",
   "metadata": {},
   "source": [
    "L'algorithme part donc d'un point aléatoire (une valeur pour $w$ aléatoire), calcul la dérivée de la fonction objectif (notée $\\nabla f$) et modifie $w$ avec un petit incrément qui est un facteur de cette dérivée. On appelle $\\eta$ ce facteur.\n",
    "\n",
    "\\begin{equation} w^{(t)} = w^{(t-1)} - \\eta\\nabla f(X, y, w^{(t-1)})\\qquad (\\text{Eq. } 1) \n",
    "\\end{equation}\n",
    "\n",
    "Dans la suite, on déroule d'abord à la main cet algorithme pour un seul pas passant de l'étape $t=0$ à l'étape $t=1$, puis on écrit l'algorithme complet."
   ]
  },
  {
   "cell_type": "markdown",
   "metadata": {},
   "source": [
    "### De t=0 à t=1"
   ]
  },
  {
   "cell_type": "markdown",
   "metadata": {},
   "source": [
    "**Question** Tirez au hasard (nombres entre 0 et 1) un 1-d array de taille 2 pour représenter les 2 coefficients $a$ et $b$ de notre problème. Appelez-le `w_trans`"
   ]
  },
  {
   "cell_type": "code",
   "execution_count": 46,
   "metadata": {},
   "outputs": [
    {
     "data": {
      "text/plain": [
       "array([0.06046295, 0.15499101])"
      ]
     },
     "execution_count": 46,
     "metadata": {},
     "output_type": "execute_result"
    }
   ],
   "source": [
    "w_trans = np.random.random(2)\n",
    "w_trans"
   ]
  },
  {
   "cell_type": "markdown",
   "metadata": {},
   "source": [
    "**Question** Calculez la valeur de la fonction objectif pour cette valeur de `w_trans`"
   ]
  },
  {
   "cell_type": "code",
   "execution_count": 44,
   "metadata": {},
   "outputs": [
    {
     "data": {
      "text/plain": [
       "2852.483498188114"
      ]
     },
     "execution_count": 44,
     "metadata": {},
     "output_type": "execute_result"
    }
   ],
   "source": [
    "expression = (X2b@w_trans) - y2\n",
    "norme = np.linalg.norm(expression)\n",
    "v_trans = np.power(norme,2)\n",
    "v_trans"
   ]
  },
  {
   "cell_type": "markdown",
   "metadata": {},
   "source": [
    "Calculons la valeur de la dérivée de $\\Vert X_{2b}w -y_2 \\Vert^2$. On l'appelle `G`. C'est la dérivée d'une fonction de la forme $(h(x))^2$ et vaut donc $2h'(x)h(x)$ avec ici $h(x)$ est $E(X_{2b}, y_2, w)$, qui est l'erreur, la différence entre la valeur calculée et la valeur prédite (l'objectif c'est l'erreur quadratique). "
   ]
  },
  {
   "cell_type": "markdown",
   "metadata": {},
   "source": [
    "La dérivée doit être calculée par rapport à chacun des paramètres, $a$ et $b$, C'est un vecteur de taille 2. Ici $h'$ est constante (c'est $X_{2}$) pour la première coordonnée ($a$) et 1 pour la seconde coordonnée ($b$), c'est donc $X_{2b}$. On calcule donc $E$, mais attention sous la forme d'une matrice (1000,1). `G` est une matrice de 1000 lignes et 2 colonnes.\n",
    "\n",
    "**Question** calculez `G`"
   ]
  },
  {
   "cell_type": "code",
   "execution_count": 39,
   "metadata": {},
   "outputs": [
    {
     "data": {
      "text/plain": [
       "(1000, 2)"
      ]
     },
     "execution_count": 39,
     "metadata": {},
     "output_type": "execute_result"
    }
   ],
   "source": [
    "E = expression.reshape((1000,1))\n",
    "G = 2 * (X2b * E)\n",
    "G.shape\n",
    "#X2b.shape,E.shape"
   ]
  },
  {
   "cell_type": "markdown",
   "metadata": {},
   "source": [
    "L'erreur comme l'objectif sont calculés comme une somme pour tous les points du jeu de données, la dérivée c'est aussi la somme des dérivées en chaque point de donnée. \n",
    "La valeur de la dérivée en ces paramètres `w_trans` est maintenant la somme de ces dérivées. C'est un vecteur de taille 2 qu'on notera ici `nabla`\n",
    "\n",
    "**Question** Calculez `nabla`"
   ]
  },
  {
   "cell_type": "code",
   "execution_count": 47,
   "metadata": {},
   "outputs": [
    {
     "data": {
      "text/plain": [
       "(2,)"
      ]
     },
     "execution_count": 47,
     "metadata": {},
     "output_type": "execute_result"
    }
   ],
   "source": [
    "nabla = G.sum(axis=0)\n",
    "nabla"
   ]
  },
  {
   "cell_type": "markdown",
   "metadata": {},
   "source": [
    "**Question** Fixez un pas de gradient `eta` de 0.00005, et calculez la nouvelle valeur de $w$ dans `w_trans_suivant` avec l'équation (Eq. 1)"
   ]
  },
  {
   "cell_type": "code",
   "execution_count": 41,
   "metadata": {},
   "outputs": [
    {
     "data": {
      "text/plain": [
       "(array([0.98880577, 0.35106333]), array([0.52002617, 0.21680508]))"
      ]
     },
     "execution_count": 41,
     "metadata": {},
     "output_type": "execute_result"
    }
   ],
   "source": [
    "eta = 0.00005\n",
    "w_trans_suivant = w_trans - (eta * nabla)  \n",
    "w_trans,w_trans_suivant"
   ]
  },
  {
   "cell_type": "markdown",
   "metadata": {},
   "source": [
    "**Question** Recalculez la valeur de l'objectif dans `obj_suivant` et comparez avec la valeur de l'objectif avant d'effectuer ce pas de gradient.\n"
   ]
  },
  {
   "cell_type": "code",
   "execution_count": 43,
   "metadata": {},
   "outputs": [
    {
     "data": {
      "text/plain": [
       "(2852.483498188114, 1019.7814649660965)"
      ]
     },
     "execution_count": 43,
     "metadata": {},
     "output_type": "execute_result"
    }
   ],
   "source": [
    "expression_suivant = (X2b@w_trans_suivant) - y2\n",
    "norme = np.linalg.norm(expression_suivant)\n",
    "obj_suivant = np.power(norme,2)\n",
    "v_trans,obj_suivant"
   ]
  },
  {
   "cell_type": "markdown",
   "metadata": {},
   "source": [
    "### Algorithme\n",
    "\n",
    "On repart maintenant de la nouvelle valeur et on itère. Globalement l'algorithme fait : \n",
    "\n",
    "```\n",
    "Initialiser w aléatoirement\n",
    "t = 0\n",
    "Tant que t < n_iter: \n",
    "  Calculer l'erreur \n",
    "  Calculer le gradient\n",
    "  Modifier w avec l'Eq. 1\n",
    "  Incrémenter t\n",
    "```"
   ]
  },
  {
   "cell_type": "markdown",
   "metadata": {},
   "source": [
    "**Question** Écrire cet algorithme dans une fonction et l'essayer avec `X2b` et `y2` et `X1`, `y1`."
   ]
  },
  {
   "cell_type": "code",
   "execution_count": 136,
   "metadata": {},
   "outputs": [
    {
     "name": "stdout",
     "output_type": "stream",
     "text": [
      "Objectif:  1694.5184691003822\n",
      "Objectif:  967.9400102129226\n",
      "Objectif:  928.5890725449531\n",
      "Objectif:  925.4598970285942\n",
      "Objectif:  924.2727172220838\n",
      "Objectif:  923.2213964941292\n",
      "Objectif:  922.2097286093526\n",
      "Objectif:  921.2315796953499\n",
      "Objectif:  920.2855937299427\n",
      "Objectif:  919.3707002208129\n",
      "Objectif:  918.485876547286\n",
      "Objectif:  917.6301343672242\n",
      "Objectif:  916.8025178574983\n",
      "Objectif:  916.0021026118618\n",
      "Objectif:  915.2279946066163\n",
      "Objectif:  914.4793292019383\n",
      "Objectif:  913.7552701761125\n",
      "Objectif:  913.0550087915159\n",
      "Objectif:  912.377762891296\n",
      "Objectif:  911.7227760257441\n",
      "Objectif:  911.0893166073752\n",
      "Objectif:  910.4766770937842\n",
      "Objectif:  909.8841731973556\n",
      "Objectif:  909.3111431209488\n",
      "Objectif:  908.7569468187025\n",
      "w=  [0.62984619 0.1597111 ]\n"
     ]
    }
   ],
   "source": [
    "def regr(X, y, eta=0.00005, n_iter=100, verbose=False):\n",
    "    \"\"\"avec verbose=True on peut afficher la valeur de la fonction objectif \"\"\"\n",
    "    w = np.random.random(X.shape[1])\n",
    "    \n",
    "    t = 0\n",
    "    while (t < n_iter):\n",
    "        erreur = (X@w) - y\n",
    "        erreur = erreur.reshape((erreur.shape[0],-1))\n",
    "        if verbose:\n",
    "           print(\"Objectif: \",(np.linalg.norm(erreur)**2))\n",
    "        gradient = (2 * (X * erreur)).sum(axis=0)\n",
    "        w = w - (eta * gradient)\n",
    "        t +=1\n",
    "    return w\n",
    "\n",
    "a = regr(X2b,y2,n_iter=25,verbose=True)\n",
    "print(\"w= \",a)"
   ]
  },
  {
   "cell_type": "markdown",
   "metadata": {},
   "source": [
    "Le réglage du pas de gradient peut être complexe..."
   ]
  },
  {
   "cell_type": "markdown",
   "metadata": {},
   "source": [
    "**Question** Vérifier que l'algorithme ne converge pas vers une solution si le pas est trop grand"
   ]
  },
  {
   "cell_type": "code",
   "execution_count": 134,
   "metadata": {},
   "outputs": [
    {
     "name": "stdout",
     "output_type": "stream",
     "text": [
      "Objectif:  816.7968942880217\n",
      "Objectif:  56204604.992562\n",
      "Objectif:  204057065661259.84\n",
      "Objectif:  7.408624207359577e+20\n"
     ]
    },
    {
     "data": {
      "text/plain": [
       "array([1.18782191e+12])"
      ]
     },
     "execution_count": 134,
     "metadata": {},
     "output_type": "execute_result"
    }
   ],
   "source": [
    "regr(X1,y1,n_iter=4,eta=0.5,verbose=True)"
   ]
  },
  {
   "cell_type": "markdown",
   "metadata": {},
   "source": [
    "**Question** Une petite heuristique est de vérifier si l'objectif décroit. Si tel est le cas on peut augmenter de 10% le pas de gradient et sinon on le divise par 10. "
   ]
  },
  {
   "cell_type": "code",
   "execution_count": 121,
   "metadata": {},
   "outputs": [
    {
     "name": "stdout",
     "output_type": "stream",
     "text": [
      "Objectif:  840.1944942889984\n",
      "Objectif:  826.7838989476589\n",
      "Objectif:  817.9991707554354\n",
      "Objectif:  812.2446574436098\n",
      "Objectif:  808.4751129874373\n",
      "Objectif:  806.0058398035766\n",
      "Objectif:  804.3883207300058\n",
      "Objectif:  803.3287506628022\n",
      "Objectif:  802.6346699897165\n",
      "Objectif:  802.1800063523958\n",
      "Objectif:  801.8821749458779\n",
      "Objectif:  801.6870778687704\n",
      "Objectif:  801.5592778159119\n",
      "Objectif:  801.4755612694993\n",
      "Objectif:  801.4207220109349\n",
      "Objectif:  801.3847990732513\n",
      "Objectif:  801.3612674376014\n",
      "Objectif:  801.345852833116\n",
      "Objectif:  801.335755361143\n",
      "Objectif:  801.3291409234952\n",
      "Objectif:  801.3248080780546\n",
      "Objectif:  801.321969809616\n",
      "Objectif:  801.3201105769622\n",
      "Objectif:  801.3188926702928\n",
      "Objectif:  801.3180948698382\n"
     ]
    }
   ],
   "source": [
    "def regr_tuned(X, y, eta=0.0001, n_iter=100, verbose=False):\n",
    "    \"\"\"On règle eta en contrôlant la valeur de l'objectif\"\"\"\n",
    "    w = np.random.random(X.shape[1])\n",
    "    t = 0\n",
    "    objectif_default = np.linalg.norm(((X@w) - y).shape([0],-1))**2\n",
    "    while (t < n_iter):\n",
    "        erreur = (X@w) - y\n",
    "        erreur = erreur.reshape((erreur.shape[0],-1))\n",
    "        objectif = np.linalg.norm(erreur)**2\n",
    "        if (objectif_default > objectif):\n",
    "            eta *= 10 \n",
    "            objectif_default = objectif\n",
    "        else:\n",
    "            eta /=10\n",
    "        if verbose:\n",
    "           print(\"Objectif: \",objectif)\n",
    "        gradient = (2 * (X * erreur)).sum(axis=0)\n",
    "        w = w - (eta * gradient)\n",
    "        t +=1\n",
    "    return \n",
    "\n",
    "regr(X1,y1,n_iter=25,verbose=True)"
   ]
  }
 ],
 "metadata": {
  "kernelspec": {
   "display_name": "Python 3",
   "language": "python",
   "name": "python3"
  },
  "language_info": {
   "codemirror_mode": {
    "name": "ipython",
    "version": 3
   },
   "file_extension": ".py",
   "mimetype": "text/x-python",
   "name": "python",
   "nbconvert_exporter": "python",
   "pygments_lexer": "ipython3",
   "version": "3.8.3"
  }
 },
 "nbformat": 4,
 "nbformat_minor": 2
}
