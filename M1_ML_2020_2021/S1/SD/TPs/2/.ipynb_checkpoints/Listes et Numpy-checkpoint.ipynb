{
 "cells": [
  {
   "cell_type": "markdown",
   "metadata": {},
   "source": [
    "# Notebooks et Ipython"
   ]
  },
  {
   "cell_type": "markdown",
   "metadata": {},
   "source": [
    "## Généralités"
   ]
  },
  {
   "cell_type": "markdown",
   "metadata": {},
   "source": [
    "- La couleur verte indique qu'on édite une cellule, la bleue qu'on édite le notebook\n",
    "- Raccourcis dispos pour insérer des cellules etc (voir l'icône de clavier)\n",
    "- Les cellules peuvent contenir des textes en markdown (m) ou du code (y). \n",
    "- Les cellules de code s'exécutent dans n'importe quel ordre. Les résultats sont globaux au Notebook. L'ordre d'exécution est visible à côté de la cellule.\n",
    "- On exécute une cellule avec \n",
    "  - S-Entrée exécute et passe à la cellule suivante\n",
    "  - C-Entrée exécute et reste sur la même cellule\n",
    "  - Alt-Entrée exécute et insèce une nouvelle cellule\n",
    "- Le résultat de la cellule est le résultat de la dernière ligne\n",
    "- Vous pouvez tout recommencer en redémarrant le noyau (Menu Noyau)\n",
    "- Si vous reprenez plus tard un notebook partiellement exécuté, il faut relancer les cellules déjà exécutées pour continuer (l'état est sauvegardé sans la mémoire)."
   ]
  },
  {
   "cell_type": "code",
   "execution_count": 1,
   "metadata": {},
   "outputs": [
    {
     "data": {
      "text/plain": [
       "1"
      ]
     },
     "execution_count": 1,
     "metadata": {},
     "output_type": "execute_result"
    }
   ],
   "source": [
    "1"
   ]
  },
  {
   "cell_type": "code",
   "execution_count": 2,
   "metadata": {},
   "outputs": [
    {
     "data": {
      "text/plain": [
       "2"
      ]
     },
     "execution_count": 2,
     "metadata": {},
     "output_type": "execute_result"
    }
   ],
   "source": [
    "1\n",
    "2  # uniquement la sortie 2"
   ]
  },
  {
   "cell_type": "code",
   "execution_count": 3,
   "metadata": {},
   "outputs": [],
   "source": [
    "def f(): pass # pas de sortie"
   ]
  },
  {
   "cell_type": "code",
   "execution_count": 4,
   "metadata": {},
   "outputs": [
    {
     "name": "stdout",
     "output_type": "stream",
     "text": [
      "1\n",
      "2\n"
     ]
    }
   ],
   "source": [
    "print(1)\n",
    "print(2) # pas de sortie"
   ]
  },
  {
   "cell_type": "code",
   "execution_count": 5,
   "metadata": {},
   "outputs": [],
   "source": [
    "s = \"Allo la terre ?\" # pas de sortie"
   ]
  },
  {
   "cell_type": "markdown",
   "metadata": {},
   "source": [
    "`<tab>` permet la complétion, et `?` donne de l'aide"
   ]
  },
  {
   "cell_type": "code",
   "execution_count": 6,
   "metadata": {},
   "outputs": [
    {
     "data": {
      "text/plain": [
       "range"
      ]
     },
     "execution_count": 6,
     "metadata": {},
     "output_type": "execute_result"
    }
   ],
   "source": [
    "# appuyer sur <tab> après ran\n",
    "range"
   ]
  },
  {
   "cell_type": "code",
   "execution_count": 7,
   "metadata": {},
   "outputs": [
    {
     "data": {
      "text/plain": [
       "<function str.capitalize()>"
      ]
     },
     "execution_count": 7,
     "metadata": {},
     "output_type": "execute_result"
    }
   ],
   "source": [
    "# appuyer sur <tab> (2 fois) après le .\n",
    "s.capitalize"
   ]
  },
  {
   "cell_type": "code",
   "execution_count": 10,
   "metadata": {},
   "outputs": [
    {
     "data": {
      "text/plain": [
       "<function str.split(sep=None, maxsplit=-1)>"
      ]
     },
     "execution_count": 10,
     "metadata": {},
     "output_type": "execute_result"
    }
   ],
   "source": [
    "# Appuyer sur S-TAB àal fin de chaque ligne\n",
    "set\n",
    "range\n",
    "s.split"
   ]
  },
  {
   "cell_type": "code",
   "execution_count": 11,
   "metadata": {},
   "outputs": [],
   "source": [
    "range?"
   ]
  },
  {
   "cell_type": "markdown",
   "metadata": {},
   "source": [
    "## Ipython et scripts"
   ]
  },
  {
   "cell_type": "markdown",
   "metadata": {},
   "source": [
    "On peut inclure des scripts python dans un notebook. C'est la démarche classique pour le développement : scripts pour les algorithmes un peu complexes, utilisation d'un notebook pour utiliser et expérimenter, présenter. "
   ]
  },
  {
   "cell_type": "code",
   "execution_count": 2,
   "metadata": {},
   "outputs": [],
   "source": [
    "import algos"
   ]
  },
  {
   "cell_type": "code",
   "execution_count": 13,
   "metadata": {},
   "outputs": [
    {
     "name": "stdout",
     "output_type": "stream",
     "text": [
      "0\n",
      "1\n",
      "8\n",
      "27\n",
      "64\n",
      "125\n",
      "216\n",
      "343\n",
      "512\n",
      "729\n"
     ]
    }
   ],
   "source": [
    "algos.run()"
   ]
  },
  {
   "cell_type": "code",
   "execution_count": 14,
   "metadata": {},
   "outputs": [],
   "source": [
    "algos.run?"
   ]
  },
  {
   "cell_type": "code",
   "execution_count": 15,
   "metadata": {},
   "outputs": [],
   "source": [
    "algos.run??"
   ]
  },
  {
   "cell_type": "markdown",
   "metadata": {},
   "source": [
    "## Magics!"
   ]
  },
  {
   "cell_type": "markdown",
   "metadata": {},
   "source": [
    "Les *magics* permettent des opérations dans ipython. Ici on recharge automatiquement les scripts chargés quand ils sont modifiés. Voir [la doc](https://ipython.org/ipython-doc/3/config/extensions/autoreload.html), et essayer en modifiant algos.py"
   ]
  },
  {
   "cell_type": "code",
   "execution_count": 19,
   "metadata": {},
   "outputs": [
    {
     "name": "stdout",
     "output_type": "stream",
     "text": [
      "0\n",
      "1\n",
      "4\n",
      "9\n",
      "16\n",
      "25\n",
      "36\n",
      "49\n",
      "64\n",
      "81\n"
     ]
    }
   ],
   "source": [
    "algos.run()"
   ]
  },
  {
   "cell_type": "code",
   "execution_count": 20,
   "metadata": {},
   "outputs": [
    {
     "name": "stdout",
     "output_type": "stream",
     "text": [
      "The autoreload extension is already loaded. To reload it, use:\n",
      "  %reload_ext autoreload\n"
     ]
    }
   ],
   "source": [
    "%load_ext autoreload\n",
    "%autoreload 2"
   ]
  },
  {
   "cell_type": "code",
   "execution_count": 21,
   "metadata": {},
   "outputs": [
    {
     "name": "stdout",
     "output_type": "stream",
     "text": [
      "0\n",
      "1\n",
      "16\n",
      "81\n",
      "256\n",
      "625\n",
      "1296\n",
      "2401\n",
      "4096\n",
      "6561\n"
     ]
    }
   ],
   "source": [
    "algos.run()"
   ]
  },
  {
   "cell_type": "markdown",
   "metadata": {},
   "source": [
    "On peut estimer la vitesse d'exécution d'un code... ou le profiler (voir le PDSH)"
   ]
  },
  {
   "cell_type": "code",
   "execution_count": 22,
   "metadata": {},
   "outputs": [
    {
     "name": "stdout",
     "output_type": "stream",
     "text": [
      "1.44 ms ± 12.1 µs per loop (mean ± std. dev. of 7 runs, 1000 loops each)\n"
     ]
    }
   ],
   "source": [
    "%timeit l = list(range(100000))"
   ]
  },
  {
   "cell_type": "code",
   "execution_count": 3,
   "metadata": {},
   "outputs": [
    {
     "name": "stdout",
     "output_type": "stream",
     "text": [
      "58.4 µs ± 3.52 µs per loop (mean ± std. dev. of 7 runs, 10000 loops each)\n"
     ]
    }
   ],
   "source": [
    "import numpy as np\n",
    "%timeit l = np.arange(100000)"
   ]
  },
  {
   "cell_type": "markdown",
   "metadata": {},
   "source": [
    "# Listes et tableaux"
   ]
  },
  {
   "cell_type": "markdown",
   "metadata": {},
   "source": [
    "**<span style='color: red'>Activité</span>** Voir le chapitre 02.01-Understanding-Data-Types du livre de Jake VanderPlas."
   ]
  },
  {
   "cell_type": "markdown",
   "metadata": {},
   "source": [
    "## Listes Python\n",
    "\n",
    "- Les listes Python sont hétérogènes, non forcément continues en mémoire\n",
    "- le type est `list`.\n",
    "- un type est associé à une fonction de même type qui permet la conversion de type\n",
    "- la fonction `range` est un énumérateur : permet d'énumérer des entiers\n",
    "- les _list comprehensive_ sont une technique riche pour créer des listes\n",
    "- les opérateurs + et * joignent (concatènent) des listes (car les listes sont hétérogènes et pas des tables de valeurs numériques)\n",
    "\n",
    "Les listes sont écrites avec les crochets et les éléments séparés par des virgules"
   ]
  },
  {
   "cell_type": "markdown",
   "metadata": {},
   "source": [
    "**Question** : Faire une liste nommée `l` contenant un entier, une chaîne de caractères, un nombre décimal. Afficher le type de `l`."
   ]
  },
  {
   "cell_type": "code",
   "execution_count": 24,
   "metadata": {},
   "outputs": [
    {
     "data": {
      "text/plain": [
       "list"
      ]
     },
     "execution_count": 24,
     "metadata": {},
     "output_type": "execute_result"
    }
   ],
   "source": [
    "l = [1, \"selim\", 1.5]\n",
    "type(l)"
   ]
  },
  {
   "cell_type": "markdown",
   "metadata": {},
   "source": [
    "La fonction `range` génère un **itérateur** qui permet de parcourir un ensemble. "
   ]
  },
  {
   "cell_type": "code",
   "execution_count": 25,
   "metadata": {},
   "outputs": [
    {
     "data": {
      "text/plain": [
       "range(0, 5)"
      ]
     },
     "execution_count": 25,
     "metadata": {},
     "output_type": "execute_result"
    }
   ],
   "source": [
    "range(5)"
   ]
  },
  {
   "cell_type": "markdown",
   "metadata": {},
   "source": [
    "**Question** : avec la conversion de type par la fonction `list` et avec la fonction `range`, faire une liste des entiers de 30 à 100 par pas de 5."
   ]
  },
  {
   "cell_type": "code",
   "execution_count": 30,
   "metadata": {},
   "outputs": [
    {
     "data": {
      "text/plain": [
       "[30, 35, 40, 45, 50, 55, 60, 65, 70, 75, 80, 85, 90, 95]"
      ]
     },
     "execution_count": 30,
     "metadata": {},
     "output_type": "execute_result"
    }
   ],
   "source": [
    "l2 = list(range(30,100,5))\n",
    "l2"
   ]
  },
  {
   "cell_type": "markdown",
   "metadata": {},
   "source": [
    "Quelques exemples de *list_comprehensive* : "
   ]
  },
  {
   "cell_type": "code",
   "execution_count": 28,
   "metadata": {},
   "outputs": [
    {
     "data": {
      "text/plain": [
       "[int, str, float]"
      ]
     },
     "execution_count": 28,
     "metadata": {},
     "output_type": "execute_result"
    }
   ],
   "source": [
    "[type(e) for e in l]"
   ]
  },
  {
   "cell_type": "code",
   "execution_count": 31,
   "metadata": {},
   "outputs": [
    {
     "data": {
      "text/plain": [
       "[[0, 4],\n",
       " [0, 8],\n",
       " [0, 12],\n",
       " [0, 16],\n",
       " [1, 5],\n",
       " [1, 9],\n",
       " [1, 13],\n",
       " [1, 17],\n",
       " [2, 6],\n",
       " [2, 10],\n",
       " [2, 14],\n",
       " [2, 18],\n",
       " [3, 7],\n",
       " [3, 11],\n",
       " [3, 15],\n",
       " [3, 19],\n",
       " [4, 8],\n",
       " [4, 12],\n",
       " [4, 16],\n",
       " [4, 20],\n",
       " [5, 9],\n",
       " [5, 13],\n",
       " [5, 17],\n",
       " [5, 21],\n",
       " [6, 10],\n",
       " [6, 14],\n",
       " [6, 18],\n",
       " [6, 22],\n",
       " [7, 11],\n",
       " [7, 15],\n",
       " [7, 19],\n",
       " [7, 23],\n",
       " [8, 12],\n",
       " [8, 16],\n",
       " [8, 20],\n",
       " [8, 24],\n",
       " [9, 13],\n",
       " [9, 17],\n",
       " [9, 21],\n",
       " [9, 25]]"
      ]
     },
     "execution_count": 31,
     "metadata": {},
     "output_type": "execute_result"
    }
   ],
   "source": [
    "l2 = [[i, 2*j+i] for i in range (10) for j in range (2, 10, 2)]\n",
    "l2"
   ]
  },
  {
   "cell_type": "code",
   "execution_count": 32,
   "metadata": {},
   "outputs": [
    {
     "data": {
      "text/plain": [
       "['blue', 'red', 'red', 'blue', 'red', 'red', 'blue', 'red', 'red', 'blue']"
      ]
     },
     "execution_count": 32,
     "metadata": {},
     "output_type": "execute_result"
    }
   ],
   "source": [
    "['red' if t % 3 else 'blue' for t in range(10)]"
   ]
  },
  {
   "cell_type": "markdown",
   "metadata": {},
   "source": [
    "**Question** : avec cette technique construire la sous-liste de `l2` dont la 2e composante est impaire. Rappel l'opérateur % calcule un modulo (reste par la division entière. (12 % 2 vaut 0) ."
   ]
  },
  {
   "cell_type": "code",
   "execution_count": 54,
   "metadata": {},
   "outputs": [
    {
     "data": {
      "text/plain": [
       "[[1, 5],\n",
       " [1, 9],\n",
       " [1, 13],\n",
       " [1, 17],\n",
       " [3, 7],\n",
       " [3, 11],\n",
       " [3, 15],\n",
       " [3, 19],\n",
       " [5, 9],\n",
       " [5, 13],\n",
       " [5, 17],\n",
       " [5, 21],\n",
       " [7, 11],\n",
       " [7, 15],\n",
       " [7, 19],\n",
       " [7, 23],\n",
       " [9, 13],\n",
       " [9, 17],\n",
       " [9, 21],\n",
       " [9, 25]]"
      ]
     },
     "execution_count": 54,
     "metadata": {},
     "output_type": "execute_result"
    }
   ],
   "source": [
    "l22 = [i for i in l2 if i[1] % 2]\n",
    "l22"
   ]
  },
  {
   "cell_type": "markdown",
   "metadata": {},
   "source": [
    "**Question** : avec la technique des *list_comprehensive*, faire une liste de listes contenant les tables de multiplication pour tous les entiers de 1 à 10."
   ]
  },
  {
   "cell_type": "code",
   "execution_count": 57,
   "metadata": {},
   "outputs": [
    {
     "data": {
      "text/plain": [
       "[[1, 2, 3, 4, 5, 6, 7, 8, 9, 10],\n",
       " [2, 4, 6, 8, 10, 12, 14, 16, 18, 20],\n",
       " [3, 6, 9, 12, 15, 18, 21, 24, 27, 30],\n",
       " [4, 8, 12, 16, 20, 24, 28, 32, 36, 40],\n",
       " [5, 10, 15, 20, 25, 30, 35, 40, 45, 50],\n",
       " [6, 12, 18, 24, 30, 36, 42, 48, 54, 60],\n",
       " [7, 14, 21, 28, 35, 42, 49, 56, 63, 70],\n",
       " [8, 16, 24, 32, 40, 48, 56, 64, 72, 80],\n",
       " [9, 18, 27, 36, 45, 54, 63, 72, 81, 90],\n",
       " [10, 20, 30, 40, 50, 60, 70, 80, 90, 100]]"
      ]
     },
     "execution_count": 57,
     "metadata": {},
     "output_type": "execute_result"
    }
   ],
   "source": [
    "l4 = [[i * j for i in range(1,11)] for j in range(1,11)]\n",
    "l4"
   ]
  },
  {
   "cell_type": "markdown",
   "metadata": {},
   "source": [
    "Observez le fonctionnement des opérateurs * et + sur les listes..."
   ]
  },
  {
   "cell_type": "code",
   "execution_count": 58,
   "metadata": {},
   "outputs": [
    {
     "data": {
      "text/plain": [
       "[1, 2, 3, 4, 5, 6]"
      ]
     },
     "execution_count": 58,
     "metadata": {},
     "output_type": "execute_result"
    }
   ],
   "source": [
    "[1, 2, 3] + [4, 5, 6]"
   ]
  },
  {
   "cell_type": "code",
   "execution_count": 59,
   "metadata": {},
   "outputs": [
    {
     "data": {
      "text/plain": [
       "[1, 2, 1, 2, 1, 2]"
      ]
     },
     "execution_count": 59,
     "metadata": {},
     "output_type": "execute_result"
    }
   ],
   "source": [
    "[1, 2] * 3"
   ]
  },
  {
   "cell_type": "markdown",
   "metadata": {},
   "source": [
    "Pour plus d'infos sur les listes, voir la doc Python, et l'aide sur les listes...\n",
    "\n",
    "À l'aide des fonctions `dir` ou `help` regarder les méthodes (fonctions) qui s'appliquent aux listes. Essayez d'utiliser au moins deux méthodes."
   ]
  },
  {
   "cell_type": "code",
   "execution_count": 62,
   "metadata": {},
   "outputs": [
    {
     "data": {
      "text/plain": [
       "['__add__',\n",
       " '__class__',\n",
       " '__contains__',\n",
       " '__delattr__',\n",
       " '__delitem__',\n",
       " '__dir__',\n",
       " '__doc__',\n",
       " '__eq__',\n",
       " '__format__',\n",
       " '__ge__',\n",
       " '__getattribute__',\n",
       " '__getitem__',\n",
       " '__gt__',\n",
       " '__hash__',\n",
       " '__iadd__',\n",
       " '__imul__',\n",
       " '__init__',\n",
       " '__init_subclass__',\n",
       " '__iter__',\n",
       " '__le__',\n",
       " '__len__',\n",
       " '__lt__',\n",
       " '__mul__',\n",
       " '__ne__',\n",
       " '__new__',\n",
       " '__reduce__',\n",
       " '__reduce_ex__',\n",
       " '__repr__',\n",
       " '__reversed__',\n",
       " '__rmul__',\n",
       " '__setattr__',\n",
       " '__setitem__',\n",
       " '__sizeof__',\n",
       " '__str__',\n",
       " '__subclasshook__',\n",
       " 'append',\n",
       " 'clear',\n",
       " 'copy',\n",
       " 'count',\n",
       " 'extend',\n",
       " 'index',\n",
       " 'insert',\n",
       " 'pop',\n",
       " 'remove',\n",
       " 'reverse',\n",
       " 'sort']"
      ]
     },
     "execution_count": 62,
     "metadata": {},
     "output_type": "execute_result"
    }
   ],
   "source": [
    "dir(list)"
   ]
  },
  {
   "cell_type": "code",
   "execution_count": 63,
   "metadata": {},
   "outputs": [
    {
     "name": "stdout",
     "output_type": "stream",
     "text": [
      "Help on class list in module builtins:\n",
      "\n",
      "class list(object)\n",
      " |  list(iterable=(), /)\n",
      " |  \n",
      " |  Built-in mutable sequence.\n",
      " |  \n",
      " |  If no argument is given, the constructor creates a new empty list.\n",
      " |  The argument must be an iterable if specified.\n",
      " |  \n",
      " |  Methods defined here:\n",
      " |  \n",
      " |  __add__(self, value, /)\n",
      " |      Return self+value.\n",
      " |  \n",
      " |  __contains__(self, key, /)\n",
      " |      Return key in self.\n",
      " |  \n",
      " |  __delitem__(self, key, /)\n",
      " |      Delete self[key].\n",
      " |  \n",
      " |  __eq__(self, value, /)\n",
      " |      Return self==value.\n",
      " |  \n",
      " |  __ge__(self, value, /)\n",
      " |      Return self>=value.\n",
      " |  \n",
      " |  __getattribute__(self, name, /)\n",
      " |      Return getattr(self, name).\n",
      " |  \n",
      " |  __getitem__(...)\n",
      " |      x.__getitem__(y) <==> x[y]\n",
      " |  \n",
      " |  __gt__(self, value, /)\n",
      " |      Return self>value.\n",
      " |  \n",
      " |  __iadd__(self, value, /)\n",
      " |      Implement self+=value.\n",
      " |  \n",
      " |  __imul__(self, value, /)\n",
      " |      Implement self*=value.\n",
      " |  \n",
      " |  __init__(self, /, *args, **kwargs)\n",
      " |      Initialize self.  See help(type(self)) for accurate signature.\n",
      " |  \n",
      " |  __iter__(self, /)\n",
      " |      Implement iter(self).\n",
      " |  \n",
      " |  __le__(self, value, /)\n",
      " |      Return self<=value.\n",
      " |  \n",
      " |  __len__(self, /)\n",
      " |      Return len(self).\n",
      " |  \n",
      " |  __lt__(self, value, /)\n",
      " |      Return self<value.\n",
      " |  \n",
      " |  __mul__(self, value, /)\n",
      " |      Return self*value.\n",
      " |  \n",
      " |  __ne__(self, value, /)\n",
      " |      Return self!=value.\n",
      " |  \n",
      " |  __repr__(self, /)\n",
      " |      Return repr(self).\n",
      " |  \n",
      " |  __reversed__(self, /)\n",
      " |      Return a reverse iterator over the list.\n",
      " |  \n",
      " |  __rmul__(self, value, /)\n",
      " |      Return value*self.\n",
      " |  \n",
      " |  __setitem__(self, key, value, /)\n",
      " |      Set self[key] to value.\n",
      " |  \n",
      " |  __sizeof__(self, /)\n",
      " |      Return the size of the list in memory, in bytes.\n",
      " |  \n",
      " |  append(self, object, /)\n",
      " |      Append object to the end of the list.\n",
      " |  \n",
      " |  clear(self, /)\n",
      " |      Remove all items from list.\n",
      " |  \n",
      " |  copy(self, /)\n",
      " |      Return a shallow copy of the list.\n",
      " |  \n",
      " |  count(self, value, /)\n",
      " |      Return number of occurrences of value.\n",
      " |  \n",
      " |  extend(self, iterable, /)\n",
      " |      Extend list by appending elements from the iterable.\n",
      " |  \n",
      " |  index(self, value, start=0, stop=9223372036854775807, /)\n",
      " |      Return first index of value.\n",
      " |      \n",
      " |      Raises ValueError if the value is not present.\n",
      " |  \n",
      " |  insert(self, index, object, /)\n",
      " |      Insert object before index.\n",
      " |  \n",
      " |  pop(self, index=-1, /)\n",
      " |      Remove and return item at index (default last).\n",
      " |      \n",
      " |      Raises IndexError if list is empty or index is out of range.\n",
      " |  \n",
      " |  remove(self, value, /)\n",
      " |      Remove first occurrence of value.\n",
      " |      \n",
      " |      Raises ValueError if the value is not present.\n",
      " |  \n",
      " |  reverse(self, /)\n",
      " |      Reverse *IN PLACE*.\n",
      " |  \n",
      " |  sort(self, /, *, key=None, reverse=False)\n",
      " |      Sort the list in ascending order and return None.\n",
      " |      \n",
      " |      The sort is in-place (i.e. the list itself is modified) and stable (i.e. the\n",
      " |      order of two equal elements is maintained).\n",
      " |      \n",
      " |      If a key function is given, apply it once to each list item and sort them,\n",
      " |      ascending or descending, according to their function values.\n",
      " |      \n",
      " |      The reverse flag can be set to sort in descending order.\n",
      " |  \n",
      " |  ----------------------------------------------------------------------\n",
      " |  Static methods defined here:\n",
      " |  \n",
      " |  __new__(*args, **kwargs) from builtins.type\n",
      " |      Create and return a new object.  See help(type) for accurate signature.\n",
      " |  \n",
      " |  ----------------------------------------------------------------------\n",
      " |  Data and other attributes defined here:\n",
      " |  \n",
      " |  __hash__ = None\n",
      "\n"
     ]
    }
   ],
   "source": [
    "help(list)"
   ]
  },
  {
   "cell_type": "markdown",
   "metadata": {},
   "source": [
    "## Les numpy arrays"
   ]
  },
  {
   "cell_type": "markdown",
   "metadata": {},
   "source": [
    "Les `array`s de numpy sont homogènes (données toutes de même type), continues en mémoire, ce qui permet d'être très rapide (grâce à l'arithmétique sur les adresses mémoire)."
   ]
  },
  {
   "cell_type": "code",
   "execution_count": 64,
   "metadata": {},
   "outputs": [],
   "source": [
    "import numpy as np"
   ]
  },
  {
   "cell_type": "markdown",
   "metadata": {},
   "source": [
    "Je commence par fixer une graine pour la reproductibilité..."
   ]
  },
  {
   "cell_type": "code",
   "execution_count": 65,
   "metadata": {},
   "outputs": [],
   "source": [
    "np.random.seed(42) "
   ]
  },
  {
   "cell_type": "code",
   "execution_count": 66,
   "metadata": {},
   "outputs": [
    {
     "data": {
      "text/plain": [
       "array([1.5, 4. , 6. ])"
      ]
     },
     "execution_count": 66,
     "metadata": {},
     "output_type": "execute_result"
    }
   ],
   "source": [
    "ar1 = np.array([1.5, 4, 6])\n",
    "ar1"
   ]
  },
  {
   "cell_type": "markdown",
   "metadata": {},
   "source": [
    "**Question** Observez les dimensions de ce `array` à l'aide de `shape` et le type de contenu à l'aide de `dtype`."
   ]
  },
  {
   "cell_type": "code",
   "execution_count": 67,
   "metadata": {},
   "outputs": [
    {
     "data": {
      "text/plain": [
       "(3,)"
      ]
     },
     "execution_count": 67,
     "metadata": {},
     "output_type": "execute_result"
    }
   ],
   "source": [
    "ar1.shape"
   ]
  },
  {
   "cell_type": "code",
   "execution_count": 68,
   "metadata": {},
   "outputs": [
    {
     "data": {
      "text/plain": [
       "dtype('float64')"
      ]
     },
     "execution_count": 68,
     "metadata": {},
     "output_type": "execute_result"
    }
   ],
   "source": [
    "ar1.dtype"
   ]
  },
  {
   "cell_type": "markdown",
   "metadata": {},
   "source": [
    "On peut construire un `array` de numpy à partir de liste. Observez notamment la conversion de type appliquée pour obtenir un ensemble homogène."
   ]
  },
  {
   "cell_type": "code",
   "execution_count": 69,
   "metadata": {},
   "outputs": [
    {
     "data": {
      "text/plain": [
       "array(['1', 'selim', '1.5'], dtype='<U21')"
      ]
     },
     "execution_count": 69,
     "metadata": {},
     "output_type": "execute_result"
    }
   ],
   "source": [
    "np.array(l)"
   ]
  },
  {
   "cell_type": "code",
   "execution_count": 70,
   "metadata": {},
   "outputs": [
    {
     "data": {
      "text/plain": [
       "array([[ 0,  4],\n",
       "       [ 0,  8],\n",
       "       [ 0, 12],\n",
       "       [ 0, 16],\n",
       "       [ 1,  5],\n",
       "       [ 1,  9],\n",
       "       [ 1, 13],\n",
       "       [ 1, 17],\n",
       "       [ 2,  6],\n",
       "       [ 2, 10],\n",
       "       [ 2, 14],\n",
       "       [ 2, 18],\n",
       "       [ 3,  7],\n",
       "       [ 3, 11],\n",
       "       [ 3, 15],\n",
       "       [ 3, 19],\n",
       "       [ 4,  8],\n",
       "       [ 4, 12],\n",
       "       [ 4, 16],\n",
       "       [ 4, 20],\n",
       "       [ 5,  9],\n",
       "       [ 5, 13],\n",
       "       [ 5, 17],\n",
       "       [ 5, 21],\n",
       "       [ 6, 10],\n",
       "       [ 6, 14],\n",
       "       [ 6, 18],\n",
       "       [ 6, 22],\n",
       "       [ 7, 11],\n",
       "       [ 7, 15],\n",
       "       [ 7, 19],\n",
       "       [ 7, 23],\n",
       "       [ 8, 12],\n",
       "       [ 8, 16],\n",
       "       [ 8, 20],\n",
       "       [ 8, 24],\n",
       "       [ 9, 13],\n",
       "       [ 9, 17],\n",
       "       [ 9, 21],\n",
       "       [ 9, 25]])"
      ]
     },
     "execution_count": 70,
     "metadata": {},
     "output_type": "execute_result"
    }
   ],
   "source": [
    "ar2 = np.array(l2)\n",
    "ar2"
   ]
  },
  {
   "cell_type": "code",
   "execution_count": 71,
   "metadata": {},
   "outputs": [
    {
     "data": {
      "text/plain": [
       "dtype('int64')"
      ]
     },
     "execution_count": 71,
     "metadata": {},
     "output_type": "execute_result"
    }
   ],
   "source": [
    "ar2.dtype"
   ]
  },
  {
   "cell_type": "markdown",
   "metadata": {},
   "source": [
    "## Tranches, redimensionner, stacker, ...\n",
    "\n",
    "**<span style='color: red'>Activité</span>** On lit le notebook 02.02-The-Basics-Of-NumPy-Arrays."
   ]
  },
  {
   "cell_type": "markdown",
   "metadata": {},
   "source": [
    "### Slicing ou tranches"
   ]
  },
  {
   "cell_type": "markdown",
   "metadata": {},
   "source": [
    "En python les tranches font une copie de surface, en numpy il n'y a pas de copie. C'est très important pour la gestion de la mémoire avec les grands jeux de données."
   ]
  },
  {
   "cell_type": "code",
   "execution_count": 72,
   "metadata": {},
   "outputs": [
    {
     "data": {
      "text/plain": [
       "[1.5, 4]"
      ]
     },
     "execution_count": 72,
     "metadata": {},
     "output_type": "execute_result"
    }
   ],
   "source": [
    "l1 = [1.5, 4, 6]\n",
    "sl1 = l1[0:2]\n",
    "sl1"
   ]
  },
  {
   "cell_type": "code",
   "execution_count": 73,
   "metadata": {},
   "outputs": [
    {
     "data": {
      "text/plain": [
       "array([1.5, 4. ])"
      ]
     },
     "execution_count": 73,
     "metadata": {},
     "output_type": "execute_result"
    }
   ],
   "source": [
    "ar1_sl1 = ar1[0:2]\n",
    "ar1_sl1"
   ]
  },
  {
   "cell_type": "code",
   "execution_count": 74,
   "metadata": {},
   "outputs": [],
   "source": [
    "ar1_sl1[0] = 12\n",
    "sl1[0] = 12"
   ]
  },
  {
   "cell_type": "code",
   "execution_count": 75,
   "metadata": {},
   "outputs": [
    {
     "data": {
      "text/plain": [
       "(array([12.,  4.]), [12, 4])"
      ]
     },
     "execution_count": 75,
     "metadata": {},
     "output_type": "execute_result"
    }
   ],
   "source": [
    "ar1_sl1, sl1"
   ]
  },
  {
   "cell_type": "code",
   "execution_count": 76,
   "metadata": {},
   "outputs": [
    {
     "data": {
      "text/plain": [
       "(array([12.,  4.,  6.]), [1.5, 4, 6])"
      ]
     },
     "execution_count": 76,
     "metadata": {},
     "output_type": "execute_result"
    }
   ],
   "source": [
    "ar1, l1"
   ]
  },
  {
   "cell_type": "markdown",
   "metadata": {},
   "source": [
    "Les accès aux indices sont plus simples en numpy! (moins de crochets)"
   ]
  },
  {
   "cell_type": "code",
   "execution_count": 81,
   "metadata": {},
   "outputs": [
    {
     "name": "stdout",
     "output_type": "stream",
     "text": [
      "[0 4]\n",
      "[ 4  8 12 16  5  9 13 17  6 10 14 18  7 11 15 19  8 12 16 20  9 13 17 21\n",
      " 10 14 18 22 11 15 19 23 12 16 20 24 13 17 21 25]\n",
      "4\n",
      "4\n"
     ]
    }
   ],
   "source": [
    "print(ar2[0])  \n",
    "print(ar2[:, 1]) \n",
    "print(ar2[0, 1])\n",
    "print(ar2[0][1])  "
   ]
  },
  {
   "cell_type": "markdown",
   "metadata": {},
   "source": [
    "## Copy"
   ]
  },
  {
   "cell_type": "markdown",
   "metadata": {},
   "source": [
    "La copie d'une liste `list` est en surface, celle d'un numpy `array` c'est en profondeur..."
   ]
  },
  {
   "cell_type": "code",
   "execution_count": 82,
   "metadata": {},
   "outputs": [],
   "source": [
    "ar2_copy = ar2.copy()\n",
    "l2_copy = l2.copy()"
   ]
  },
  {
   "cell_type": "code",
   "execution_count": 83,
   "metadata": {},
   "outputs": [],
   "source": [
    "ar2_copy[0][0] = 12\n",
    "l2_copy[0][0] = 12"
   ]
  },
  {
   "cell_type": "code",
   "execution_count": 84,
   "metadata": {},
   "outputs": [
    {
     "data": {
      "text/plain": [
       "(0, 12)"
      ]
     },
     "execution_count": 84,
     "metadata": {},
     "output_type": "execute_result"
    }
   ],
   "source": [
    "ar2[0][0], l2[0][0]"
   ]
  },
  {
   "cell_type": "markdown",
   "metadata": {},
   "source": [
    "### Opérateurs * + / - ..."
   ]
  },
  {
   "cell_type": "code",
   "execution_count": 85,
   "metadata": {},
   "outputs": [
    {
     "data": {
      "text/plain": [
       "array([[1., 0., 0., 0.],\n",
       "       [0., 1., 0., 0.],\n",
       "       [0., 0., 1., 0.],\n",
       "       [0., 0., 0., 1.]])"
      ]
     },
     "execution_count": 85,
     "metadata": {},
     "output_type": "execute_result"
    }
   ],
   "source": [
    "np.eye(4)"
   ]
  },
  {
   "cell_type": "code",
   "execution_count": 86,
   "metadata": {},
   "outputs": [
    {
     "data": {
      "text/plain": [
       "array([[1., 1., 1., 1.],\n",
       "       [1., 1., 1., 1.],\n",
       "       [1., 1., 1., 1.],\n",
       "       [1., 1., 1., 1.]])"
      ]
     },
     "execution_count": 86,
     "metadata": {},
     "output_type": "execute_result"
    }
   ],
   "source": [
    "np.ones((4,4))"
   ]
  },
  {
   "cell_type": "code",
   "execution_count": 87,
   "metadata": {},
   "outputs": [
    {
     "data": {
      "text/plain": [
       "array([[ 0., -1., -1.],\n",
       "       [-1.,  0., -1.],\n",
       "       [-1., -1.,  0.]])"
      ]
     },
     "execution_count": 87,
     "metadata": {},
     "output_type": "execute_result"
    }
   ],
   "source": [
    "np.eye(3) - np.ones((3,3))"
   ]
  },
  {
   "cell_type": "code",
   "execution_count": 88,
   "metadata": {},
   "outputs": [
    {
     "data": {
      "text/plain": [
       "array([[1., 0., 0.],\n",
       "       [0., 1., 0.],\n",
       "       [0., 0., 1.]])"
      ]
     },
     "execution_count": 88,
     "metadata": {},
     "output_type": "execute_result"
    }
   ],
   "source": [
    "np.eye(3) * np.ones((3,3)) "
   ]
  },
  {
   "cell_type": "code",
   "execution_count": 89,
   "metadata": {},
   "outputs": [
    {
     "data": {
      "text/plain": [
       "array([[4., 4., 4.],\n",
       "       [4., 4., 4.],\n",
       "       [4., 4., 4.]])"
      ]
     },
     "execution_count": 89,
     "metadata": {},
     "output_type": "execute_result"
    }
   ],
   "source": [
    "3 * np.ones((3,3)) + 1"
   ]
  },
  {
   "cell_type": "code",
   "execution_count": 90,
   "metadata": {},
   "outputs": [
    {
     "data": {
      "text/plain": [
       "array([[0.5, 1. , 1. ],\n",
       "       [1. , 0.5, 1. ],\n",
       "       [1. , 1. , 0.5]])"
      ]
     },
     "execution_count": 90,
     "metadata": {},
     "output_type": "execute_result"
    }
   ],
   "source": [
    "np.ones((3,3)) / (1+np.eye(3))"
   ]
  },
  {
   "cell_type": "markdown",
   "metadata": {},
   "source": [
    "### Redimensionnement\n",
    "\n",
    "- `ravel` vue 1-D \n",
    "- `flatten` copie 1-D.\n",
    "- `reshape` redimensionnement\n",
    "- `transpose` transposition.\n",
    "- `np.newaxis` ajout d'une dimension vide (parfois plus intéressant qu'un reshape)."
   ]
  },
  {
   "cell_type": "code",
   "execution_count": 91,
   "metadata": {},
   "outputs": [
    {
     "data": {
      "text/plain": [
       "array([ 0,  4,  0,  8,  0, 12,  0, 16,  1,  5,  1,  9,  1, 13,  1, 17,  2,\n",
       "        6,  2, 10,  2, 14,  2, 18,  3,  7,  3, 11,  3, 15,  3, 19,  4,  8,\n",
       "        4, 12,  4, 16,  4, 20,  5,  9,  5, 13,  5, 17,  5, 21,  6, 10,  6,\n",
       "       14,  6, 18,  6, 22,  7, 11,  7, 15,  7, 19,  7, 23,  8, 12,  8, 16,\n",
       "        8, 20,  8, 24,  9, 13,  9, 17,  9, 21,  9, 25])"
      ]
     },
     "execution_count": 91,
     "metadata": {},
     "output_type": "execute_result"
    }
   ],
   "source": [
    "ar2.ravel()"
   ]
  },
  {
   "cell_type": "code",
   "execution_count": 92,
   "metadata": {},
   "outputs": [
    {
     "data": {
      "text/plain": [
       "array([ 0,  4,  0,  8,  0, 12,  0, 16,  1,  5,  1,  9,  1, 13,  1, 17,  2,\n",
       "        6,  2, 10,  2, 14,  2, 18,  3,  7,  3, 11,  3, 15,  3, 19,  4,  8,\n",
       "        4, 12,  4, 16,  4, 20,  5,  9,  5, 13,  5, 17,  5, 21,  6, 10,  6,\n",
       "       14,  6, 18,  6, 22,  7, 11,  7, 15,  7, 19,  7, 23,  8, 12,  8, 16,\n",
       "        8, 20,  8, 24,  9, 13,  9, 17,  9, 21,  9, 25])"
      ]
     },
     "execution_count": 92,
     "metadata": {},
     "output_type": "execute_result"
    }
   ],
   "source": [
    "new_ar2 = ar2.flatten()\n",
    "new_ar2"
   ]
  },
  {
   "cell_type": "code",
   "execution_count": 93,
   "metadata": {},
   "outputs": [
    {
     "data": {
      "text/plain": [
       "array([[ 0,  4,  0,  8,  0, 12,  0, 16],\n",
       "       [ 1,  5,  1,  9,  1, 13,  1, 17],\n",
       "       [ 2,  6,  2, 10,  2, 14,  2, 18],\n",
       "       [ 3,  7,  3, 11,  3, 15,  3, 19],\n",
       "       [ 4,  8,  4, 12,  4, 16,  4, 20],\n",
       "       [ 5,  9,  5, 13,  5, 17,  5, 21],\n",
       "       [ 6, 10,  6, 14,  6, 18,  6, 22],\n",
       "       [ 7, 11,  7, 15,  7, 19,  7, 23],\n",
       "       [ 8, 12,  8, 16,  8, 20,  8, 24],\n",
       "       [ 9, 13,  9, 17,  9, 21,  9, 25]])"
      ]
     },
     "execution_count": 93,
     "metadata": {},
     "output_type": "execute_result"
    }
   ],
   "source": [
    "new_ar2.reshape((10,8))"
   ]
  },
  {
   "cell_type": "code",
   "execution_count": 94,
   "metadata": {},
   "outputs": [
    {
     "data": {
      "text/plain": [
       "array([ 0,  4,  0,  8,  0, 12,  0, 16,  1,  5,  1,  9,  1, 13,  1, 17,  2,\n",
       "        6,  2, 10,  2, 14,  2, 18,  3,  7,  3, 11,  3, 15,  3, 19,  4,  8,\n",
       "        4, 12,  4, 16,  4, 20,  5,  9,  5, 13,  5, 17,  5, 21,  6, 10,  6,\n",
       "       14,  6, 18,  6, 22,  7, 11,  7, 15,  7, 19,  7, 23,  8, 12,  8, 16,\n",
       "        8, 20,  8, 24,  9, 13,  9, 17,  9, 21,  9, 25])"
      ]
     },
     "execution_count": 94,
     "metadata": {},
     "output_type": "execute_result"
    }
   ],
   "source": [
    "new_ar2"
   ]
  },
  {
   "cell_type": "code",
   "execution_count": 95,
   "metadata": {},
   "outputs": [
    {
     "data": {
      "text/plain": [
       "array([[ 0,  4,  0,  8,  0, 12,  0, 16,  1,  5,  1,  9,  1, 13,  1, 17,\n",
       "         2,  6,  2, 10,  2, 14,  2, 18,  3,  7,  3, 11,  3, 15,  3, 19,\n",
       "         4,  8,  4, 12,  4, 16,  4, 20,  5,  9,  5, 13,  5, 17,  5, 21,\n",
       "         6, 10,  6, 14,  6, 18,  6, 22,  7, 11,  7, 15,  7, 19,  7, 23,\n",
       "         8, 12,  8, 16,  8, 20,  8, 24,  9, 13,  9, 17,  9, 21,  9, 25]])"
      ]
     },
     "execution_count": 95,
     "metadata": {},
     "output_type": "execute_result"
    }
   ],
   "source": [
    "new_ar2[np.newaxis,:]"
   ]
  },
  {
   "cell_type": "code",
   "execution_count": 96,
   "metadata": {},
   "outputs": [
    {
     "data": {
      "text/plain": [
       "array([[ 0],\n",
       "       [ 4],\n",
       "       [ 0],\n",
       "       [ 8],\n",
       "       [ 0],\n",
       "       [12],\n",
       "       [ 0],\n",
       "       [16],\n",
       "       [ 1],\n",
       "       [ 5],\n",
       "       [ 1],\n",
       "       [ 9],\n",
       "       [ 1],\n",
       "       [13],\n",
       "       [ 1],\n",
       "       [17],\n",
       "       [ 2],\n",
       "       [ 6],\n",
       "       [ 2],\n",
       "       [10],\n",
       "       [ 2],\n",
       "       [14],\n",
       "       [ 2],\n",
       "       [18],\n",
       "       [ 3],\n",
       "       [ 7],\n",
       "       [ 3],\n",
       "       [11],\n",
       "       [ 3],\n",
       "       [15],\n",
       "       [ 3],\n",
       "       [19],\n",
       "       [ 4],\n",
       "       [ 8],\n",
       "       [ 4],\n",
       "       [12],\n",
       "       [ 4],\n",
       "       [16],\n",
       "       [ 4],\n",
       "       [20],\n",
       "       [ 5],\n",
       "       [ 9],\n",
       "       [ 5],\n",
       "       [13],\n",
       "       [ 5],\n",
       "       [17],\n",
       "       [ 5],\n",
       "       [21],\n",
       "       [ 6],\n",
       "       [10],\n",
       "       [ 6],\n",
       "       [14],\n",
       "       [ 6],\n",
       "       [18],\n",
       "       [ 6],\n",
       "       [22],\n",
       "       [ 7],\n",
       "       [11],\n",
       "       [ 7],\n",
       "       [15],\n",
       "       [ 7],\n",
       "       [19],\n",
       "       [ 7],\n",
       "       [23],\n",
       "       [ 8],\n",
       "       [12],\n",
       "       [ 8],\n",
       "       [16],\n",
       "       [ 8],\n",
       "       [20],\n",
       "       [ 8],\n",
       "       [24],\n",
       "       [ 9],\n",
       "       [13],\n",
       "       [ 9],\n",
       "       [17],\n",
       "       [ 9],\n",
       "       [21],\n",
       "       [ 9],\n",
       "       [25]])"
      ]
     },
     "execution_count": 96,
     "metadata": {},
     "output_type": "execute_result"
    }
   ],
   "source": [
    "new_ar2[:,np.newaxis]"
   ]
  },
  {
   "cell_type": "code",
   "execution_count": 97,
   "metadata": {},
   "outputs": [
    {
     "name": "stdout",
     "output_type": "stream",
     "text": [
      "(80,)\n"
     ]
    },
    {
     "data": {
      "text/plain": [
       "array([[ 0,  4,  0,  8,  0, 12,  0, 16,  1,  5],\n",
       "       [ 1,  9,  1, 13,  1, 17,  2,  6,  2, 10],\n",
       "       [ 2, 14,  2, 18,  3,  7,  3, 11,  3, 15],\n",
       "       [ 3, 19,  4,  8,  4, 12,  4, 16,  4, 20],\n",
       "       [ 5,  9,  5, 13,  5, 17,  5, 21,  6, 10],\n",
       "       [ 6, 14,  6, 18,  6, 22,  7, 11,  7, 15],\n",
       "       [ 7, 19,  7, 23,  8, 12,  8, 16,  8, 20],\n",
       "       [ 8, 24,  9, 13,  9, 17,  9, 21,  9, 25]])"
      ]
     },
     "execution_count": 97,
     "metadata": {},
     "output_type": "execute_result"
    }
   ],
   "source": [
    "print(new_ar2.shape)\n",
    "new_ar2.reshape((-1,10))  # -1 est remplacé par la valeur qu'il faut!"
   ]
  },
  {
   "cell_type": "markdown",
   "metadata": {},
   "source": [
    "### Empiler des arrays"
   ]
  },
  {
   "cell_type": "code",
   "execution_count": 102,
   "metadata": {},
   "outputs": [
    {
     "data": {
      "text/plain": [
       "(array([[1.],\n",
       "        [1.],\n",
       "        [1.]]),\n",
       " array([[2, 2],\n",
       "        [2, 2],\n",
       "        [2, 2]]))"
      ]
     },
     "execution_count": 102,
     "metadata": {},
     "output_type": "execute_result"
    }
   ],
   "source": [
    "m1 = np.ones((3,1))\n",
    "m2 = np.full((3,2), 2)\n",
    "m1, m2"
   ]
  },
  {
   "cell_type": "code",
   "execution_count": 103,
   "metadata": {},
   "outputs": [
    {
     "data": {
      "text/plain": [
       "array([[1., 2., 2.],\n",
       "       [1., 2., 2.],\n",
       "       [1., 2., 2.]])"
      ]
     },
     "execution_count": 103,
     "metadata": {},
     "output_type": "execute_result"
    }
   ],
   "source": [
    "np.hstack((m1, m2))"
   ]
  },
  {
   "cell_type": "code",
   "execution_count": 106,
   "metadata": {},
   "outputs": [
    {
     "data": {
      "text/plain": [
       "array([[1., 1., 1.],\n",
       "       [2., 2., 2.],\n",
       "       [2., 2., 2.]])"
      ]
     },
     "execution_count": 106,
     "metadata": {},
     "output_type": "execute_result"
    }
   ],
   "source": [
    "np.vstack([m1.T, m2.T])"
   ]
  },
  {
   "cell_type": "code",
   "execution_count": 107,
   "metadata": {},
   "outputs": [
    {
     "data": {
      "text/plain": [
       "array([[1., 1., 1.],\n",
       "       [2., 2., 2.],\n",
       "       [2., 2., 2.]])"
      ]
     },
     "execution_count": 107,
     "metadata": {},
     "output_type": "execute_result"
    }
   ],
   "source": [
    "np.concatenate((m1.T, m2.T))"
   ]
  },
  {
   "cell_type": "code",
   "execution_count": 108,
   "metadata": {},
   "outputs": [
    {
     "data": {
      "text/plain": [
       "array([[1., 2., 2.],\n",
       "       [1., 2., 2.],\n",
       "       [1., 2., 2.]])"
      ]
     },
     "execution_count": 108,
     "metadata": {},
     "output_type": "execute_result"
    }
   ],
   "source": [
    "np.concatenate((m1, m2), axis=1)"
   ]
  },
  {
   "cell_type": "code",
   "execution_count": 111,
   "metadata": {},
   "outputs": [
    {
     "data": {
      "text/plain": [
       "array([[1., 2., 2.],\n",
       "       [1., 2., 2.],\n",
       "       [1., 2., 2.]])"
      ]
     },
     "execution_count": 111,
     "metadata": {},
     "output_type": "execute_result"
    }
   ],
   "source": [
    "np.c_[m1,m2]\n"
   ]
  },
  {
   "cell_type": "code",
   "execution_count": 112,
   "metadata": {},
   "outputs": [
    {
     "data": {
      "text/plain": [
       "array([[1., 1., 1.],\n",
       "       [2., 2., 2.],\n",
       "       [2., 2., 2.]])"
      ]
     },
     "execution_count": 112,
     "metadata": {},
     "output_type": "execute_result"
    }
   ],
   "source": [
    "np.r_[m1.T, m2.T]"
   ]
  },
  {
   "cell_type": "markdown",
   "metadata": {},
   "source": [
    "### Agrégation"
   ]
  },
  {
   "cell_type": "markdown",
   "metadata": {},
   "source": [
    "Les opérations `np.sum`, `np.max`, `np.min`, `np.std` fonctionnent par défaut sur la matrice à plat, mais on peut spécifier un axe."
   ]
  },
  {
   "cell_type": "code",
   "execution_count": 113,
   "metadata": {},
   "outputs": [
    {
     "data": {
      "text/plain": [
       "760"
      ]
     },
     "execution_count": 113,
     "metadata": {},
     "output_type": "execute_result"
    }
   ],
   "source": [
    "np.sum(ar2)"
   ]
  },
  {
   "cell_type": "code",
   "execution_count": 117,
   "metadata": {},
   "outputs": [
    {
     "data": {
      "text/plain": [
       "array([180, 580])"
      ]
     },
     "execution_count": 117,
     "metadata": {},
     "output_type": "execute_result"
    }
   ],
   "source": [
    "np.sum(ar2, axis=0)"
   ]
  },
  {
   "cell_type": "code",
   "execution_count": 118,
   "metadata": {},
   "outputs": [
    {
     "data": {
      "text/plain": [
       "array([[ 0,  4],\n",
       "       [ 0,  8],\n",
       "       [ 0, 12],\n",
       "       [ 0, 16],\n",
       "       [ 1,  5],\n",
       "       [ 1,  9],\n",
       "       [ 1, 13],\n",
       "       [ 1, 17],\n",
       "       [ 2,  6],\n",
       "       [ 2, 10],\n",
       "       [ 2, 14],\n",
       "       [ 2, 18],\n",
       "       [ 3,  7],\n",
       "       [ 3, 11],\n",
       "       [ 3, 15],\n",
       "       [ 3, 19],\n",
       "       [ 4,  8],\n",
       "       [ 4, 12],\n",
       "       [ 4, 16],\n",
       "       [ 4, 20],\n",
       "       [ 5,  9],\n",
       "       [ 5, 13],\n",
       "       [ 5, 17],\n",
       "       [ 5, 21],\n",
       "       [ 6, 10],\n",
       "       [ 6, 14],\n",
       "       [ 6, 18],\n",
       "       [ 6, 22],\n",
       "       [ 7, 11],\n",
       "       [ 7, 15],\n",
       "       [ 7, 19],\n",
       "       [ 7, 23],\n",
       "       [ 8, 12],\n",
       "       [ 8, 16],\n",
       "       [ 8, 20],\n",
       "       [ 8, 24],\n",
       "       [ 9, 13],\n",
       "       [ 9, 17],\n",
       "       [ 9, 21],\n",
       "       [ 9, 25]])"
      ]
     },
     "execution_count": 118,
     "metadata": {},
     "output_type": "execute_result"
    }
   ],
   "source": [
    "ar2"
   ]
  },
  {
   "cell_type": "code",
   "execution_count": 119,
   "metadata": {},
   "outputs": [
    {
     "data": {
      "text/plain": [
       "array([ 4,  8, 12, 16,  6, 10, 14, 18,  8, 12, 16, 20, 10, 14, 18, 22, 12,\n",
       "       16, 20, 24, 14, 18, 22, 26, 16, 20, 24, 28, 18, 22, 26, 30, 20, 24,\n",
       "       28, 32, 22, 26, 30, 34])"
      ]
     },
     "execution_count": 119,
     "metadata": {},
     "output_type": "execute_result"
    }
   ],
   "source": [
    "np.sum(ar2, axis=1)"
   ]
  },
  {
   "cell_type": "markdown",
   "metadata": {},
   "source": [
    "###  Sélection"
   ]
  },
  {
   "cell_type": "code",
   "execution_count": 120,
   "metadata": {},
   "outputs": [
    {
     "data": {
      "text/plain": [
       "array([[7, 4, 8],\n",
       "       [5, 7, 3],\n",
       "       [7, 8, 5],\n",
       "       [4, 8, 8]])"
      ]
     },
     "execution_count": 120,
     "metadata": {},
     "output_type": "execute_result"
    }
   ],
   "source": [
    "r1 = np.random.randint(1, 10, (4,3))\n",
    "r1"
   ]
  },
  {
   "cell_type": "code",
   "execution_count": 121,
   "metadata": {},
   "outputs": [
    {
     "data": {
      "text/plain": [
       "array([[False,  True, False],\n",
       "       [False, False,  True],\n",
       "       [False, False, False],\n",
       "       [ True, False, False]])"
      ]
     },
     "execution_count": 121,
     "metadata": {},
     "output_type": "execute_result"
    }
   ],
   "source": [
    "r1<5"
   ]
  },
  {
   "cell_type": "code",
   "execution_count": 122,
   "metadata": {},
   "outputs": [
    {
     "data": {
      "text/plain": [
       "array([4, 3, 4])"
      ]
     },
     "execution_count": 122,
     "metadata": {},
     "output_type": "execute_result"
    }
   ],
   "source": [
    "r1[r1<5]"
   ]
  },
  {
   "cell_type": "code",
   "execution_count": 123,
   "metadata": {},
   "outputs": [
    {
     "data": {
      "text/plain": [
       "array([[ 5, 12,  5],\n",
       "       [ 5,  5, 12],\n",
       "       [ 5,  5,  5],\n",
       "       [12,  5,  5]])"
      ]
     },
     "execution_count": 123,
     "metadata": {},
     "output_type": "execute_result"
    }
   ],
   "source": [
    "np.where(r1<5,np.full((4,3),12), np.full((4,3),5))"
   ]
  },
  {
   "cell_type": "markdown",
   "metadata": {},
   "source": [
    "## Fonctions importantes  et exercices\n",
    "- arange\n",
    "- zeros, ones\n",
    "- eye\n",
    "- linspace\n",
    "- et dans le module `random`\n",
    "   - randint\n",
    "   - normal"
   ]
  },
  {
   "cell_type": "markdown",
   "metadata": {},
   "source": [
    "**Question** Affichez l'aide sur `random.normal`, puis générer un ensemble de 100 valeurs de moyenne 0 et d'écart type 3. Appeler `s1` cet `array`."
   ]
  },
  {
   "cell_type": "code",
   "execution_count": 125,
   "metadata": {},
   "outputs": [],
   "source": [
    "np.random.normal?"
   ]
  },
  {
   "cell_type": "code",
   "execution_count": 126,
   "metadata": {},
   "outputs": [
    {
     "data": {
      "text/plain": [
       "array([-1.44785639,  0.49249446,  0.69928572,  0.35398384,  4.38713436,\n",
       "        4.6161449 , -7.31731745,  1.81032368, -0.7531319 , -0.49160135,\n",
       "       -4.42898908,  4.46094287, -0.07336553,  1.06665395,  1.25103333,\n",
       "        2.49738557, -0.88019744, -0.08951571,  0.28537735,  1.99396303,\n",
       "       -0.42065549, -0.0995802 , -2.24722957, -2.33514602,  2.84652857,\n",
       "        4.74255176, -1.10451282,  1.1266939 , -3.57947469, -1.22715571,\n",
       "       -1.34022441,  4.5727249 ,  0.96899939, -4.18025082, -6.53500274,\n",
       "       -3.13168922,  0.51808112,  0.9725963 ,  2.23757863, -5.50974972,\n",
       "        1.69339272,  0.076502  ,  1.41957975,  1.9775718 ,  7.022239  ,\n",
       "        3.21295556,  0.28924944,  1.25730632, -2.85908337, -3.14361181,\n",
       "       -5.62703032, -4.10034642,  1.90891533, -2.72016201,  1.42812776,\n",
       "        3.91098381,  0.63476104,  1.79113394, -2.68900555, -0.33596346,\n",
       "        4.40682386, -3.371695  ,  2.85001619,  5.17954941,  1.37365523,\n",
       "       -5.05286214,  0.98053567, -0.24335686,  1.40338426,  2.20836705,\n",
       "       -2.33910564, -2.53168908, -0.45160157, -2.89667302,  0.45146723,\n",
       "       -0.34026375,  7.90058466, -3.07527267, -2.34614348,  1.27182921,\n",
       "        2.61811529,  6.86167795,  4.8687615 ,  2.47119923,  0.87917774,\n",
       "        2.68989115, -1.83096605, -0.94849769, -4.44727274, -0.68654255,\n",
       "        2.88792387, -0.62907731, -2.32212879, -1.07933444,  2.17224975,\n",
       "       -0.76729391,  2.54976361, -3.93397268, -2.61091486, -1.51992966])"
      ]
     },
     "execution_count": 126,
     "metadata": {},
     "output_type": "execute_result"
    }
   ],
   "source": [
    "s1 = np.random.normal(0,3,100)\n",
    "s1"
   ]
  },
  {
   "cell_type": "markdown",
   "metadata": {},
   "source": [
    "**Question** Rechercher dans la documentation comment générer un échantillon de 1000 points en dimension 2 où chaque coordonnée est tirée selon une loi normale centrée en 0 et de variance 10 . (Il faut faire une matrice de 2 lignes, la première ligne contient les 1000 coordonnées pour la première dimension, la seconde ligne contient les 1000 coordonnées pour la seconde dimension)"
   ]
  },
  {
   "cell_type": "code",
   "execution_count": 131,
   "metadata": {},
   "outputs": [
    {
     "data": {
      "text/plain": [
       "array([[-18.49314358,  -7.50372259, -15.85605177, ...,  -7.93203267,\n",
       "         -6.07750289,  20.15512119],\n",
       "       [-10.10690349,   9.7146186 ,  13.04727008, ...,  12.69860171,\n",
       "         -1.97631973,   9.20037299],\n",
       "       [ -7.35062858,   7.84488515,   8.16475015, ...,   2.00223257,\n",
       "         -6.1461955 ,   0.8145174 ],\n",
       "       ...,\n",
       "       [ 21.42013879,   8.12437584,   8.57647803, ..., -20.35145751,\n",
       "          6.74582258,  -1.12308702],\n",
       "       [  6.44994909,   6.46717988,   6.28023891, ...,   4.96518042,\n",
       "          0.59964348, -13.44735274],\n",
       "       [ -5.90715968,  -7.94128377, -10.56669922, ...,  -8.15137295,\n",
       "          8.26736096,  -7.7108183 ]])"
      ]
     },
     "execution_count": 131,
     "metadata": {},
     "output_type": "execute_result"
    }
   ],
   "source": [
    "s11 = np.random.normal(0,10,(1000,1000))\n",
    "s11"
   ]
  },
  {
   "cell_type": "markdown",
   "metadata": {},
   "source": [
    "**Question** Importer les modules nécessaires pour tracer un plot pour la fonction représentée par `s1`"
   ]
  },
  {
   "cell_type": "code",
   "execution_count": 14,
   "metadata": {},
   "outputs": [],
   "source": [
    "import matplotlib.pyplot as plt  # matplotlib pour trace rdes graphiques"
   ]
  },
  {
   "cell_type": "code",
   "execution_count": 133,
   "metadata": {},
   "outputs": [
    {
     "data": {
      "image/png": "[encoded data removed]",
      "text/plain": [
       "<Figure size 432x288 with 1 Axes>"
      ]
     },
     "metadata": {
      "needs_background": "light"
     },
     "output_type": "display_data"
    }
   ],
   "source": [
    "plt.plot(s1) # plotting by columns\n",
    "plt.show()"
   ]
  },
  {
   "cell_type": "markdown",
   "metadata": {},
   "source": [
    "**Question** : Tracer avec seaborn la distribution, (essayer plusieurs tracés, uniquement un histogramme, puis une estimation de la densité, essayez rugplot également,... soyez curieux!)"
   ]
  },
  {
   "cell_type": "code",
   "execution_count": 15,
   "metadata": {},
   "outputs": [],
   "source": [
    "import seaborn as sb \n",
    "sb.set()  # prendre les bons réglages par défaut dans seaborn"
   ]
  },
  {
   "cell_type": "code",
   "execution_count": 143,
   "metadata": {},
   "outputs": [
    {
     "data": {
      "image/png": "[encoded data removed]",
      "text/plain": [
       "<Figure size 432x288 with 1 Axes>"
      ]
     },
     "metadata": {},
     "output_type": "display_data"
    },
    {
     "data": {
      "image/png": "[encoded data removed]",
      "text/plain": [
       "<Figure size 432x288 with 1 Axes>"
      ]
     },
     "metadata": {},
     "output_type": "display_data"
    }
   ],
   "source": [
    "sb.distplot(s1) \n",
    "plt.show()\n",
    "sb.distplot(s1, hist = False) \n",
    "plt.show()"
   ]
  },
  {
   "cell_type": "markdown",
   "metadata": {},
   "source": [
    "**Question** Tracer un scatter plot pour s2 avec pyplot et seaborn."
   ]
  },
  {
   "cell_type": "code",
   "execution_count": 148,
   "metadata": {},
   "outputs": [
    {
     "name": "stdout",
     "output_type": "stream",
     "text": [
      "[[-18.49314358  -7.50372259 -15.85605177 ...  -7.93203267  -6.07750289\n",
      "   20.15512119]\n",
      " [-10.10690349   9.7146186   13.04727008 ...  12.69860171  -1.97631973\n",
      "    9.20037299]\n",
      " [ -7.35062858   7.84488515   8.16475015 ...   2.00223257  -6.1461955\n",
      "    0.8145174 ]\n",
      " ...\n",
      " [ 21.42013879   8.12437584   8.57647803 ... -20.35145751   6.74582258\n",
      "   -1.12308702]\n",
      " [  6.44994909   6.46717988   6.28023891 ...   4.96518042   0.59964348\n",
      "  -13.44735274]\n",
      " [ -5.90715968  -7.94128377 -10.56669922 ...  -8.15137295   8.26736096\n",
      "   -7.7108183 ]]\n",
      "[-7.50372259e+00  9.71461860e+00  7.84488515e+00 -2.21505894e+01\n",
      "  1.68477826e+00 -1.63463906e+01  9.01635326e+00  1.31462297e+01\n",
      " -4.56791725e+00 -1.65749194e+01 -4.18414218e+00  2.24135266e+00\n",
      "  1.17287671e+01 -6.69651595e+00  7.78351431e+00 -2.96992434e+00\n",
      "  4.57221809e+00 -1.65783397e+01  5.46519671e+00  1.56057233e+01\n",
      " -7.43342535e+00  1.43106684e+01 -4.08985314e+00 -5.53776950e+00\n",
      " -7.93515109e+00 -1.40740949e+00 -7.84135413e+00 -2.88035286e+00\n",
      " -4.65964982e+00 -1.03148373e+01  2.90952445e+00  1.44975745e+01\n",
      "  1.53642163e+00 -4.32117615e+00 -2.32421368e+01 -1.35847841e+00\n",
      " -4.11727752e+00 -5.25522030e+00  6.31334271e+00 -8.42783270e+00\n",
      " -1.28705308e+00  1.43791117e+01 -6.01246982e+00  7.69961473e-01\n",
      " -2.38837691e+00 -4.20531990e+00 -5.51946570e-01 -2.79588976e+01\n",
      "  1.23781799e+01  1.79120000e+00  1.56692718e+00 -6.35306484e-01\n",
      "  2.01752366e+01 -2.21003433e+01  1.01503248e+01 -7.00693183e+00\n",
      "  1.28476043e+00  1.32647223e+00  7.28203207e+00 -3.32137818e+00\n",
      "  3.86884265e+00  1.89052923e+01 -1.26738653e+00  1.52902845e+01\n",
      " -9.40289679e+00 -5.14507349e+00  7.47626177e+00 -4.69375129e+00\n",
      "  7.65469902e+00  1.01693364e+01  1.51138536e+00 -1.09766673e+01\n",
      " -1.02939933e-01  5.58698074e-01 -8.01385500e+00  2.99273495e+00\n",
      " -1.21493929e+01 -4.37872672e+00  2.95444396e+00  1.75516291e+01\n",
      "  5.02907257e+00  1.43572187e+01  7.43944477e+00  2.11401426e+01\n",
      "  1.29411848e+01  1.77015678e+01  2.09831930e+01  1.12900595e+01\n",
      " -1.99934801e+00  2.51241758e+01  1.63546691e+01  3.36594924e+00\n",
      "  1.74755966e+01 -6.00986280e+00  5.60556438e+00  3.39701893e+00\n",
      "  1.23206774e+00  3.57999089e+00 -6.15410039e+00  6.21271048e+00\n",
      "  3.63803932e+00  5.76017083e-01 -3.77679089e+00 -5.91222047e-01\n",
      "  1.64613552e+01 -1.31128517e-02 -1.31556459e+01 -1.50862413e+00\n",
      "  1.21760063e+01  2.24317946e+00  4.04846832e+00  1.34395244e+01\n",
      " -7.27783366e+00 -7.06057173e-01 -4.72933854e+00  5.18721625e+00\n",
      "  1.45131052e+01  2.76017078e+00  8.52157196e+00 -5.56634596e+00\n",
      "  1.75035578e+01  1.10022325e+01  1.00466617e+01 -1.27769669e+01\n",
      " -1.41710326e+00 -1.36182317e+01  1.16825881e+01  1.70581798e+01\n",
      "  3.86170790e+00  8.36452925e+00 -2.97813878e+00 -1.44098829e+01\n",
      " -8.47423971e+00 -1.62766002e+01  6.87164756e+00 -1.09793381e+01\n",
      " -6.25997325e+00 -8.31899128e+00  1.86300964e+01  7.03334344e+00\n",
      "  1.06410822e+01  6.38804921e-01 -8.92252737e+00 -4.71895686e+00\n",
      "  1.20311246e+01  4.00289374e+00 -1.12824757e+01 -1.79067280e+01\n",
      " -3.82808329e+00  5.91751507e-01  2.46470664e+01 -3.11954191e+01\n",
      "  4.47134043e+00 -1.39217494e+00  6.61087796e+00 -3.74160374e+00\n",
      "  6.87655050e+00  1.43823913e+00  1.21704880e+01  1.86408222e+01\n",
      " -1.75801490e+01 -1.39434258e+01  1.42785661e+01 -8.13543185e+00\n",
      " -3.47506072e+00  9.48459387e+00 -1.13480483e+01  4.26181245e+00\n",
      " -4.07604594e+00  2.12987081e+01  1.27240986e+01  1.32521254e+01\n",
      "  5.67645264e+00 -5.00039277e-01 -6.87368301e+00  8.10045889e+00\n",
      "  1.59920524e+00 -1.20118105e+00 -4.24233695e+00 -1.06212733e+00\n",
      " -1.98516768e+00  1.49229073e+00 -1.34998603e+01  4.66683340e+00\n",
      " -5.46665727e+00  1.03358173e-01 -4.39753675e+00 -6.54616865e+00\n",
      " -9.84329076e+00 -3.59970340e+00 -1.81841634e+01  1.69946880e+00\n",
      " -9.29025983e+00  8.74249590e+00  2.64632269e+00 -1.20935888e+01\n",
      " -1.47073142e+01  3.43178766e+00 -2.22288626e+01 -1.08897947e+01\n",
      "  1.91004407e+01  1.23138923e+00  5.12021630e+00  5.49086460e+00\n",
      " -2.06635711e+01 -1.35887237e+01 -1.78415822e+01 -1.61609929e+00\n",
      "  6.15375528e+00  2.22125566e+01 -1.28920701e-01  1.78601041e+01\n",
      "  7.80639276e-01 -1.42692539e+01 -8.03666607e+00  5.72355939e+00\n",
      "  8.21639540e+00 -9.93775160e-01  5.24112495e+00 -3.91105536e+00\n",
      " -9.15885329e+00 -9.63383794e+00 -7.78297964e+00  1.26004757e+01\n",
      "  8.74228361e-01 -1.99592881e+00  2.52791665e-01  1.76938713e+01\n",
      " -3.25980359e+00 -4.65818177e+00  1.09232470e+01 -1.80014034e+01\n",
      "  1.10336272e+01  3.40085431e+00 -4.88283073e+00 -7.02779839e+00\n",
      " -6.23438865e+00 -8.06738543e+00  1.43045183e+01  8.31692235e+00\n",
      "  7.53109637e+00 -3.22149926e+00  5.17842666e+00 -6.21829465e-01\n",
      "  1.22900840e+01 -2.60127778e-01 -1.52946736e+01 -7.49466845e+00\n",
      " -8.59350977e+00 -7.07541103e+00 -9.67475876e+00  1.57779269e+00\n",
      " -5.68401128e+00 -8.18411559e-01 -1.86642063e+01  3.06724690e+00\n",
      " -2.57283079e+00  1.87682489e+01  1.70619850e+01  5.25976188e+00\n",
      " -1.60061891e+01  1.97043150e+00 -1.05760868e+01 -6.85371121e+00\n",
      "  9.47214908e-01  1.34682138e+01 -1.87717273e+00 -1.25529343e+01\n",
      " -7.24452263e+00  1.25968067e+01  3.01433184e+00 -7.50433864e+00\n",
      "  1.93440879e+01 -4.12148600e+00 -1.43332644e+01 -5.69721910e+00\n",
      " -1.94766652e+01  1.02123528e+01  1.14212268e+00 -2.09111163e+01\n",
      "  1.11505842e+01 -5.29198458e+00 -7.45656338e+00 -1.03929124e+01\n",
      " -1.47738711e+01 -3.28093047e+00  2.32057312e+00 -1.12573254e+01\n",
      " -6.17269662e+00  7.92576082e+00  1.35967252e+00  2.74581104e+01\n",
      "  9.63628317e+00 -1.35189229e+01  7.41683849e+00 -5.25804409e+00\n",
      " -5.78722884e+00  1.34396938e+01 -1.16784264e+01  7.05740540e+00\n",
      " -1.28096212e+00 -8.84792473e+00 -1.07827733e+01 -2.35981685e+00\n",
      " -1.04394676e+01  2.27729393e+01  2.22288401e+01 -1.69285983e+01\n",
      " -1.12794471e+01 -1.78134791e+01  1.22418240e+01  6.59205594e+00\n",
      " -1.86406416e-01  3.13844957e+00  1.24454429e+01 -1.15118012e+01\n",
      " -5.61390445e+00  1.42272972e+01  6.16002047e+00 -1.67088712e+00\n",
      " -1.75277699e+01 -2.23718950e+01 -2.40001243e+01  1.07999351e+00\n",
      "  3.44685141e+00  8.70615254e+00 -1.45840787e+01  1.69645065e+01\n",
      " -6.68133920e+00 -1.42106500e+00  7.33855940e+00  6.94982018e+00\n",
      " -5.65960000e+00  2.59527493e+01  1.36324091e+01  2.43511590e+00\n",
      "  1.85176561e-01 -5.93897840e+00  2.20508256e+00  2.07512433e+00\n",
      " -1.38078265e+00  6.81629681e+00  1.03731437e+01 -1.59025494e+01\n",
      "  3.38700276e+00  7.41025659e+00  1.27015376e+01  1.21130220e+01\n",
      "  9.47136784e+00  5.16464178e+00 -8.41624503e+00  1.65919617e+01\n",
      "  2.44491711e-01  1.22768918e+01  1.43561206e+01  4.15727003e+00\n",
      "  3.47357092e+01  2.94003139e+00 -3.00583858e+00 -1.35881180e+01\n",
      "  1.64105239e+01 -7.08082242e+00  9.85458891e+00  1.61465433e+01\n",
      "  9.65626492e+00 -7.08572345e+00 -1.59234389e+01  3.83921864e+00\n",
      "  2.07596464e+01 -1.63019668e+01  9.94361660e+00  8.27264559e+00\n",
      "  3.56378356e+00 -1.19036433e+01 -2.30622924e-01  1.51608039e+00\n",
      "  4.13131655e+00  1.31705646e+01 -5.85886897e+00  8.71922151e+00\n",
      "  6.10778530e+00  7.49326142e+00  1.38548082e+00 -1.00720049e+01\n",
      " -8.53071210e+00 -1.13366831e+00  3.00856643e+00  4.07656468e-01\n",
      "  1.24310377e+01 -5.06298179e+00 -1.16819213e+01  5.55960913e+00\n",
      "  1.50840686e+01 -5.14485664e+00  1.38494373e+01  1.55207808e+01\n",
      "  6.39963010e+00 -3.22511612e+00  7.15627605e+00 -5.93583545e-01\n",
      " -4.97275488e+00 -2.15066980e+00  4.53453140e+00  8.63347937e+00\n",
      "  3.14567465e+00 -5.60889521e+00  1.22823593e+01 -1.16432852e+01\n",
      " -4.36341953e+00  1.89611759e+01  1.87407923e+01 -5.35114455e+00\n",
      " -2.35390197e+00  7.65952568e+00 -3.75260344e+00  9.28209240e+00\n",
      "  1.58137055e+01 -7.48868477e+00  6.71676691e+00  9.14611263e+00\n",
      "  2.37914995e+01 -2.05543366e+00  1.43258457e+00 -7.32587422e+00\n",
      " -8.78376383e+00  1.50844676e+01  2.35751550e+01  7.71491777e+00\n",
      " -3.88329729e+00 -1.01210928e+01 -2.30077481e+01 -9.57731078e+00\n",
      " -1.42737477e+01  7.82684508e+00  6.97185013e+00 -5.58690155e+00\n",
      " -1.37099445e+01  1.63628403e+01  1.52637519e+01 -9.89025888e+00\n",
      " -1.19714591e+01  1.59219621e+00  1.06199385e+01  2.85287439e+00\n",
      "  2.07327423e-01 -5.85288260e+00 -1.06684066e+01 -7.54166944e+00\n",
      " -2.00471546e+00  3.67920684e+00 -1.55349055e+01 -2.48453481e+01\n",
      " -9.49998772e+00  7.57796711e-01 -1.36602291e+01  1.46198673e+01\n",
      "  3.33517236e+00 -1.17496874e+01 -3.47010135e+00  4.85068392e+00\n",
      "  1.14917778e+01 -1.37746724e+01  4.14197084e+00 -3.25014414e+00\n",
      " -9.82122605e-01  3.45265884e+00  4.85907883e+00 -7.85358338e+00\n",
      " -1.49688038e+01  8.11210213e+00 -2.49276762e+01  2.67939615e+00\n",
      " -4.87144785e+00  4.71671252e+00  7.20777790e+00 -1.91562752e+01\n",
      "  2.51098185e+00 -6.68817101e-01 -1.49968158e+00 -7.37131386e-01\n",
      " -1.20152601e+01  7.91050310e+00  1.62518342e+01  1.40847431e+01\n",
      " -1.89544131e+01 -1.84056798e+01 -4.59398252e+00 -1.04069979e+01\n",
      "  2.26329756e+01  4.50943007e+00  9.80220169e+00 -1.22851924e+01\n",
      "  1.19267491e+01  1.04768631e+01 -6.46059526e+00 -2.01127085e-01\n",
      " -4.41942332e+00 -1.71291523e+01 -7.19155798e+00  1.19771794e+01\n",
      "  4.03638315e+00 -9.58820102e-01  1.12522257e+01  4.02256917e+00\n",
      " -1.21217878e+01 -2.33234582e+00  2.38623607e+01 -5.15939692e+00\n",
      "  1.49844498e+01 -1.19649793e+01  9.86810259e+00 -1.16471707e-01\n",
      "  1.90253153e+01  9.64228785e-01 -7.14865536e+00  1.03250900e+00\n",
      "  2.25873530e+00  1.06012958e+01  1.31519584e+01  1.01620687e+01\n",
      "  1.23806877e+01 -1.82528669e+00  2.08194077e+00 -2.07290067e+00\n",
      "  5.88100299e+00  2.27582000e+00 -7.04660616e+00  2.46896396e+00\n",
      "  1.19426279e+01  3.24663907e+00  1.72316410e+01  5.74538281e+00\n",
      " -1.11942321e+01 -8.48626874e+00 -1.25078780e+00 -9.81956019e+00\n",
      "  4.13795876e+00  1.83028829e+00  6.18068248e+00  5.71643089e+00\n",
      "  5.85833377e+00  1.21568521e+00  2.17303158e+00  1.66905058e+01\n",
      "  1.50265181e+00  1.64471309e+01 -5.76748668e+00  1.50407600e+01\n",
      " -9.39803142e+00  9.11289560e+00  1.22133577e+01 -7.56943534e+00\n",
      "  3.91642994e+00  1.29453818e+01  6.13987108e+00 -7.99058429e+00\n",
      "  1.06539384e+01  8.41330602e+00  1.80761148e+01 -5.82333264e+00\n",
      "  8.12499738e+00  1.04661635e+01  3.43461277e-02  9.48400946e+00\n",
      "  1.17434421e+01 -6.25408466e+00 -1.36726154e+01 -8.32332507e+00\n",
      "  1.35720752e+01  1.06151887e+01  1.12359263e+01  8.38760834e+00\n",
      "  1.69368287e+00 -6.70195924e+00 -6.85210711e+00 -1.55380269e+01\n",
      "  4.24868661e-02  6.53058335e+00  6.14924070e+00  1.77308930e+01\n",
      "  5.28811193e+00 -3.67928980e-01 -8.02578855e+00  2.04540735e+00\n",
      " -1.59468587e+01 -6.60082786e+00 -1.10366196e+00  5.25525746e+00\n",
      " -5.27828499e-01 -6.20298017e+00 -1.19812838e+01 -9.59301720e+00\n",
      "  5.46940909e+00 -3.77290933e+00 -6.15256605e+00 -2.14309107e+01\n",
      "  8.39949873e+00 -1.73880072e+01 -1.10013928e+01 -3.40810911e+00\n",
      "  4.39580619e+00 -2.01447659e+01  5.58837113e+00  8.55443546e+00\n",
      " -6.86279023e+00  9.33031628e+00  1.70608810e+00 -1.97434267e+00\n",
      " -1.31780507e+01 -2.29021148e+00 -2.06182413e+01  4.12320927e+00\n",
      " -5.78568588e+00  1.66497237e+00 -1.07315977e+01  3.85710159e+00\n",
      " -8.86503807e+00  5.81818943e+00 -1.37387333e+01  4.95589907e+00\n",
      "  7.92781246e+00 -5.46766801e+00 -1.60605589e+01  2.15727654e+00\n",
      " -3.90357192e+00  6.45203966e+00  1.04845615e+01  1.32300242e+01\n",
      " -7.70094745e+00 -1.41157632e+01 -1.39128189e+01  7.17537596e+00\n",
      "  9.24548915e+00  1.11994652e+01  6.40916514e+00  1.17943168e+01\n",
      " -1.00978334e+01 -7.72635649e+00 -1.05779990e+01 -1.86710289e+00\n",
      "  3.48780923e+00  2.10003484e+00 -3.82324407e+00  2.28372993e+00\n",
      " -1.90723019e+00  1.28626291e+01 -1.59155890e+00 -6.22139177e-01\n",
      "  8.85609876e+00 -8.93594596e+00 -9.04998153e+00 -7.83266349e+00\n",
      "  9.94518671e+00  4.03046648e+00 -1.86554238e+01  3.39585705e+00\n",
      "  8.84828632e+00  5.59330048e+00 -8.95918928e+00 -1.27976213e+01\n",
      "  1.08154303e+01  7.57324082e+00  2.17376765e+00 -3.55252501e+00\n",
      "  8.97848608e+00 -5.12618134e+00 -1.46981330e+00 -2.03130122e+01\n",
      " -6.44154229e+00 -6.13537439e+00  4.26791431e+00 -5.77881532e-01\n",
      " -1.53882766e+00  2.24957167e+00 -6.47151125e+00  3.13544412e+00\n",
      " -1.43472082e+01  1.76344106e+00  2.71886971e+00  8.27790749e+00\n",
      " -8.07809907e+00 -7.22815922e-01 -8.96952517e+00  7.34980243e+00\n",
      "  4.44318031e+00  1.02110233e+01 -1.13038742e+01  3.99560666e+00\n",
      " -1.23992443e+00  4.45989031e-01  1.24376245e+01 -5.68056547e-02\n",
      "  3.70224725e+00  1.30303540e+01  1.19069018e+01  1.95651399e+00\n",
      "  2.32243509e+01  5.06494044e+00 -1.98316354e+01 -1.48309884e+01\n",
      "  1.35630125e+01 -1.08897914e+01  1.26962129e+00 -8.07313164e+00\n",
      " -4.74137274e+00 -9.64946154e+00  8.23974054e+00 -7.19353939e+00\n",
      "  1.71484291e+00  5.38595083e+00  1.98057177e+01 -1.13781080e+01\n",
      " -6.20010770e+00 -7.06530978e+00 -1.45578955e+01 -7.62894287e+00\n",
      "  1.82491543e+01 -3.08488383e+00 -2.66644418e+00  5.02727406e+00\n",
      " -1.18279377e+01  4.12565569e+00 -5.09695140e-01  2.95382611e+00\n",
      "  8.84947769e+00 -1.17549946e+01 -1.85543545e+00  1.51811096e+00\n",
      "  7.33315659e+00  1.36471813e+01  9.84316170e+00 -3.27129006e+00\n",
      " -4.47852204e+00 -1.04567162e+01 -7.11644766e+00 -8.52498573e+00\n",
      " -6.98562113e+00 -7.80594571e+00 -9.85510066e+00 -9.65780151e+00\n",
      " -1.42854312e+01  2.53087215e+01  1.50296506e+01 -1.02253248e+01\n",
      " -8.28816626e+00 -2.02581126e+01 -1.55057512e+01 -6.41894435e+00\n",
      "  1.22978822e+01  1.33645778e+01 -5.17455003e+00  1.21893156e+00\n",
      "  1.75363116e+00 -8.31605964e+00  3.91163865e+00  1.52210421e+01\n",
      "  1.76760250e+01 -1.45061896e+00  1.51709191e+01  1.41327306e+01\n",
      "  2.96965178e+00  5.85342279e+00  4.40194913e+00  1.57734950e+00\n",
      " -1.31144038e+01 -4.16631903e-01  1.62904829e+01  2.50726331e+01\n",
      "  2.29400335e+00  8.02523251e-01  2.79318527e-01  2.27194055e+01\n",
      "  1.66527642e+01 -4.88685698e+00 -6.43306777e+00  9.22818917e+00\n",
      " -1.07771914e+01  7.97913921e+00  8.78188897e+00  1.39879793e+01\n",
      " -2.26330310e+00  1.40553438e+01 -1.30799195e+01 -1.43289738e+01\n",
      " -1.27388741e+00  1.67821457e+01 -1.51535580e+01 -6.76607093e+00\n",
      " -9.53653727e-01  6.04201753e+00 -6.62310795e+00 -5.85719339e+00\n",
      "  8.51667261e+00  4.55371326e+00  1.47925355e+01  5.29146073e+00\n",
      "  1.43279263e+01  9.26281588e+00 -7.36661678e+00  1.95401040e-01\n",
      " -6.93939511e-01 -5.58141230e+00  3.44516970e+00  5.92037062e+00\n",
      "  1.28259434e+00 -1.91846235e+01  6.23818297e+00  4.70169809e+00\n",
      "  2.22058127e+00 -1.09003905e+01  1.43996711e+01 -6.63507440e+00\n",
      " -7.21312610e+00 -5.91902740e+00  1.17811147e+01  2.02550319e+01\n",
      " -1.81117507e+00  6.57435003e-01 -1.20409039e+01  1.19759807e+01\n",
      " -5.89738525e-01  7.90138716e+00  3.69885288e+00 -7.03807177e+00\n",
      " -2.78098001e-01  8.70799427e+00  8.39027544e+00  4.50717812e+00\n",
      " -1.95949639e+00  1.33179496e+01  6.36360023e+00 -1.80991847e+00\n",
      "  1.09315970e+00  1.30587985e+00 -6.96860472e+00 -4.84206516e+00\n",
      " -1.16762413e+01  3.02232442e+00  1.34205623e+01  2.01652031e+00\n",
      "  5.31029152e+00  1.70383811e+01  2.65150023e+00 -2.05304506e+00\n",
      " -9.71866442e+00 -1.67570276e+01 -2.02732395e+00  1.00337238e+01\n",
      " -8.89621893e+00  5.24054237e+00  1.16486923e+01  8.43674074e+00\n",
      "  1.55981448e+01  8.47841409e+00 -2.35575914e+00  1.93961447e+00\n",
      "  2.46709664e+00 -1.11410068e+01 -7.30625522e+00  4.49035372e+00\n",
      "  2.37325062e+00 -1.65627918e+01  1.35221955e+01  7.65249028e+00\n",
      " -4.02548641e+00 -2.83410652e+00 -1.88519098e+01 -6.62773038e+00\n",
      "  4.84877031e+00  2.65707712e+00 -1.17218430e+01  4.58801806e+00\n",
      "  4.44988434e+00  3.01123692e+00  1.01199420e+01  1.34689528e+01\n",
      "  5.77616494e+00 -4.29310353e+00 -1.68762815e+01  6.12172185e+00\n",
      " -3.91571597e+00 -7.00946869e+00 -1.16592315e+00 -1.85236353e+00\n",
      "  1.47247494e+00  1.24381338e+00  8.51355002e+00  7.28909426e+00\n",
      "  8.96660625e+00  1.50666266e-01  6.35143753e+00 -2.68644211e+01\n",
      "  6.34820647e+00  2.70951271e-01  8.57217190e+00  4.65336118e+00\n",
      "  1.30051560e+01 -1.33124924e+01  1.12945639e+01  7.14407556e+00\n",
      " -1.60315532e+01  7.19991394e+00  1.31855581e+00 -8.12362769e+00\n",
      " -1.41053728e+01  9.00838071e+00  1.65636439e+01  1.64287138e+00\n",
      " -2.47258237e+01 -2.02119974e+01 -2.38428674e+01 -6.49835587e+00\n",
      "  8.98333502e+00  1.93940935e+00 -8.43592202e+00 -6.91851462e+00\n",
      "  4.45219801e+00 -1.49605406e+01  4.45549619e+00 -1.46130505e+01\n",
      " -6.39536588e+00 -6.09037296e+00  1.22713823e+01  1.75938747e+01\n",
      "  1.23066810e+01 -6.42629981e+00 -2.22860824e+00 -3.83134119e+00\n",
      " -3.11792637e+00  8.03027498e+00 -3.44193880e+00  3.21308198e+00\n",
      "  1.10345128e+00  3.37516537e-01  1.25689411e+01  6.25596706e+00\n",
      "  9.81725173e+00 -5.07182357e+00  1.04471190e+01 -8.48968090e-02\n",
      " -4.01863668e+00 -1.77825799e+01 -9.96415879e+00  9.40452361e+00\n",
      " -3.44605815e+00 -8.96819281e+00 -1.22712108e+01 -5.24864837e+00\n",
      "  7.59592650e+00  3.82567575e+00  1.69386623e+01  6.57335101e+00\n",
      " -1.76708135e+01 -1.01064816e+01 -1.09236935e+01  4.82813312e+00\n",
      " -5.58915408e+00 -1.86764342e+01 -2.73295542e+00  2.20420188e-01\n",
      "  3.46210914e+01 -7.47939092e+00 -3.35371304e+00  3.06246850e+00\n",
      " -1.04492492e+01 -6.42565203e+00 -1.52175151e+01 -4.13075073e+00\n",
      " -8.73673437e-01  6.35198137e+00  5.28764499e+00 -1.89280274e+00\n",
      " -2.59540728e+00  9.92679078e+00  5.37731782e+00  1.16911526e+01\n",
      "  6.18943711e+00 -9.70192876e-01  1.39651567e+00 -7.66732757e+00\n",
      " -1.48568025e+01  9.88552197e-01 -6.02514233e+00 -9.75983301e+00\n",
      "  8.35864225e+00  1.20777643e-01 -1.23620394e+01 -8.47819215e+00\n",
      "  2.11072639e+00 -4.75558593e+00 -4.14552748e+00 -5.43663129e+00\n",
      "  2.78733982e+00  5.04183894e+00  7.33350499e+00 -1.19859344e+00\n",
      "  2.55707886e+01  8.12437584e+00  6.46717988e+00 -7.94128377e+00]\n",
      "[-1.01069035e+01  9.71461860e+00  1.30472701e+01 -1.05655917e+01\n",
      " -3.00538851e+01 -7.38204530e+00 -1.60208472e+01  3.42793375e+00\n",
      "  7.76082371e+00  1.00059036e+01 -1.96078314e+01 -3.82268206e+00\n",
      " -3.23191627e+00  1.02321023e+00 -7.07512190e+00  1.01242169e+00\n",
      " -9.40953102e+00  4.31050938e-01 -5.39949217e+00  6.35656825e+00\n",
      " -2.16737337e+00  4.90575144e+00 -9.92077544e+00  8.30121357e+00\n",
      "  1.44684743e+00 -1.42996450e+01  6.06344938e+00  4.53206021e-01\n",
      "  6.92678960e+00 -9.73865612e-01 -2.65157071e+00  6.14052139e+00\n",
      " -9.31789956e+00  4.04051300e+00 -1.06065345e+01  2.40539475e+00\n",
      " -8.42997720e+00 -1.19220127e+01  1.84913515e+01  2.75927642e-01\n",
      "  1.53502657e+01  7.85697805e-01 -1.26149536e+01 -2.43199118e+00\n",
      " -1.22514893e+00  7.67365340e+00  2.06342697e+00 -6.24327395e+00\n",
      "  4.64514526e+00  2.08610820e+01  1.10703639e+01  1.19381604e+01\n",
      " -5.52375144e+00  3.45194462e+00  1.05466020e+01  1.18292133e+01\n",
      "  9.45675292e+00 -9.75544613e+00 -7.13625880e+00 -7.81365559e+00\n",
      " -1.19474383e+01  5.36819608e-01  8.68132331e+00  2.96120353e+01\n",
      " -1.43516008e+01 -9.29643811e+00 -1.05619660e+01  7.11863907e+00\n",
      "  4.35447473e+00  1.98686086e+01  5.50727490e+00 -5.94515945e+00\n",
      "  5.84420944e+00  7.43399049e-02  9.72097079e+00 -2.30329898e+00\n",
      " -1.62279456e+01 -1.42989640e+01  5.92392792e-01  1.87468436e+01\n",
      "  1.65309123e+01  1.05041171e+01  3.32071080e+00 -4.21276071e-01\n",
      " -8.54160938e+00 -6.87539135e+00 -1.42834222e+01 -4.92167954e+00\n",
      "  4.48201768e+00 -1.33771343e+01 -4.09477042e+00  5.49185058e+00\n",
      "  2.80438157e+00 -5.75005674e-01  1.38406610e+01  2.18040447e+01\n",
      "  5.34834003e+00 -1.61560202e+00  5.49165163e+00  1.10334905e+01\n",
      " -1.66833296e+01 -2.28327186e+00 -9.56086309e-01  9.90360745e+00\n",
      "  3.49597381e+00  9.01208242e+00 -4.86265267e+00 -1.12073270e+01\n",
      "  2.80287305e+00  4.86546297e+00  1.39465097e+01 -4.04443920e+00\n",
      "  7.32590351e+00 -5.13781260e+00 -4.47486919e+00 -9.74321623e+00\n",
      "  9.38490665e+00  3.35972103e+00  3.06321660e+00  5.94282954e+00\n",
      " -1.38395529e+01  2.59892947e+00 -5.92810895e+00  8.46864249e-01\n",
      " -3.48088948e+00 -1.10376471e+01 -8.83109888e-01 -2.45261844e+00\n",
      " -1.54020008e+01 -5.72980275e+00 -1.63953786e+00  2.36035759e+00\n",
      " -1.44475564e+01 -4.57163284e+00  1.50475150e+00 -2.10531000e+01\n",
      " -8.98451739e+00 -4.30029884e+00  1.36931021e+01  1.31100686e+01\n",
      " -4.46681653e+00  8.95388255e+00  6.50449593e-02 -2.53716679e+00\n",
      " -4.70178367e-01 -1.22776653e+01 -1.31899549e+00  1.61680498e+00\n",
      "  4.16564117e+00  6.36152236e+00  2.82203242e+00 -1.89608446e+01\n",
      "  3.69382461e+00  1.14085218e+01 -6.83540263e+00 -1.51526744e+01\n",
      " -3.62966039e+00  3.75674408e+00  2.22220871e+00  6.96843387e+00\n",
      "  3.28868279e+00 -5.17975795e+00 -6.15701608e+00 -1.22906615e+01\n",
      "  3.79689453e+00 -1.62193801e+01 -1.16313983e+01  8.70407296e+00\n",
      "  2.29463548e+00 -4.86454739e+00  4.20034779e+00  4.96042415e+00\n",
      " -1.46316952e+00  1.70451840e+01  1.37265378e+01 -9.16027767e+00\n",
      "  4.84276450e+00  7.60480493e+00  5.80743974e+00  7.13320841e+00\n",
      "  2.62449254e+00  2.06779802e+00  2.71770559e+01 -3.07711838e+01\n",
      "  1.06754698e+01 -7.11898481e+00 -5.51884870e+00  1.10872011e+01\n",
      " -1.62365540e+01 -3.16853172e+00 -9.90199666e+00  4.38933961e+00\n",
      "  1.06515380e+01  4.03369228e+00 -1.18958333e+01 -6.61129261e+00\n",
      "  9.41347445e+00 -1.65444471e+01 -7.71885417e+00  1.09073662e+01\n",
      " -3.59045689e+00 -1.20033600e+00  7.80800412e+00 -1.22304662e+01\n",
      " -5.36818807e+00 -2.02302793e+01  6.79433979e+00 -7.46997106e+00\n",
      "  9.19544470e+00 -4.02089092e-01  1.08994889e+01  1.64546900e+01\n",
      "  2.40051393e+01  3.35843699e+00  1.55457301e+01  2.23964519e+00\n",
      "  3.76602388e+00  8.53991935e+00 -7.50724746e+00 -1.44798058e-01\n",
      " -1.04071546e+01  5.53754820e+00 -6.40007170e+00 -8.11891560e+00\n",
      " -5.33977193e+00 -4.31339646e+00  5.54977357e+00 -2.42457394e+00\n",
      "  1.21594233e+01 -2.19674903e+00 -3.68494750e+00  3.55823207e+00\n",
      " -5.36517237e+00 -1.30119096e+01 -1.76618648e+01 -7.91611456e+00\n",
      "  8.23210968e+00 -1.91680352e+01  2.03082326e+00  1.06513449e+01\n",
      " -8.47009486e+00 -4.27390825e+00 -1.98494274e+01 -2.25744329e+00\n",
      " -1.43653553e+01  7.69200167e+00 -6.48242402e+00  1.02281865e+01\n",
      " -5.38869680e-01  2.00767116e+01  2.94312773e+00 -1.67727616e+01\n",
      "  1.26913311e+01  2.71667951e+00 -6.13633806e+00  1.87228290e+01\n",
      " -6.16506203e+00 -4.55578738e+00  2.76857945e+00  2.28363334e+01\n",
      "  2.03612833e+00  2.90121987e+00 -1.06222035e+01  5.04021357e+00\n",
      " -1.40698512e+01  1.42508544e+01 -1.95977520e+00 -1.93646719e+01\n",
      " -3.98750675e+00 -8.00729056e+00 -1.23176219e+01 -9.09700080e+00\n",
      " -1.75944663e+00  6.05892940e+00 -1.84661008e+01  1.00530852e+01\n",
      " -9.05688079e+00 -9.90996389e-01  6.20341572e+00 -2.44466906e+01\n",
      "  1.12171629e+01  4.54338890e-01 -1.73232600e-01 -1.02073453e+01\n",
      " -4.19750252e+00 -4.30315959e+00  7.07084205e+00 -4.38035725e+00\n",
      "  9.84189229e+00  7.40470910e+00 -7.09637294e+00  3.89696330e+00\n",
      " -1.97526238e+01  1.07147389e+01  2.17900996e+01  4.39357564e-01\n",
      "  9.91980660e+00 -8.99318640e+00 -8.42488119e+00 -1.40972502e+00\n",
      " -9.73474275e+00  6.37598815e+00 -1.45726359e+00 -1.90120271e+01\n",
      " -2.67030540e+01  8.63238782e+00 -2.72396178e+00 -8.15012044e+00\n",
      " -2.34155976e+00  6.67305953e+00  2.95859741e+00 -8.47162128e+00\n",
      "  1.45236847e+01  1.13911464e+00 -5.28711099e+00  1.44021301e-01\n",
      "  4.94787913e+00  1.45512479e+01  4.87628392e+00 -7.21876153e+00\n",
      " -5.92453675e+00 -3.61725778e-01  1.01524820e+01  1.95118241e+00\n",
      "  2.76092476e+00 -9.10228168e+00 -8.47469268e+00 -1.26515522e+01\n",
      "  2.03988502e+00 -4.71358007e+00 -8.28414111e+00 -4.53354299e+00\n",
      " -2.75933868e+00  1.56733479e+01  2.68558714e+00  1.04879819e+01\n",
      " -1.58154616e+01 -7.60475298e+00  1.31034853e+01 -1.89280081e+00\n",
      "  2.90833829e+01  1.16920395e+01  3.58211515e+00 -2.54739767e+00\n",
      "  1.04744438e+01  8.12825691e+00  1.00315117e+01  9.42798347e+00\n",
      " -1.52181810e+01  4.77663984e-01 -1.25853803e+01 -3.60622685e+00\n",
      " -1.53461290e+01 -3.86644865e+00 -1.32748523e+01 -4.14913221e-01\n",
      " -2.37154879e+00  9.69469684e+00  1.59702072e+00  1.52117738e+01\n",
      "  4.56369705e+00 -1.87404418e+00  1.50317510e+01 -1.81265124e+01\n",
      "  1.26712705e+00 -1.26229612e+01  1.26211659e+01  8.67446238e-01\n",
      "  6.94736519e+00  4.71014001e+00  1.75047181e+00  2.31945622e+00\n",
      " -2.22346370e+01 -9.46633128e+00  3.85440116e+00 -2.17782514e+01\n",
      "  9.40434360e-01  6.48536336e+00  5.38300495e+00  3.67537374e+00\n",
      " -1.08239283e+01  4.17096042e+00  1.77646175e+00 -1.70602562e+01\n",
      " -1.31271392e+01  1.77117161e-01 -1.03399819e+00  9.53359276e+00\n",
      "  1.22925838e+01 -2.31624234e+00 -1.52573032e+01  6.01910822e+00\n",
      "  6.15560581e+00 -8.90042236e+00 -1.37565068e+01 -1.69543141e+01\n",
      "  6.92597810e+00  3.83236773e+00 -1.06018698e-01 -1.58295582e+01\n",
      "  1.33460708e+01  6.16467256e+00  1.61574241e+01 -2.03532030e+00\n",
      " -5.52230963e-01 -2.99883990e-01  7.89408953e+00  7.67663296e+00\n",
      " -6.65813959e+00 -1.02888036e+01 -1.05082551e+01  5.63761459e+00\n",
      " -3.90561918e+00  9.46547196e+00  6.90125116e+00  1.56947731e+01\n",
      "  6.63778476e-01 -1.47573909e+01 -8.38495801e+00 -4.57019556e+00\n",
      " -1.57617087e+01 -1.47043989e+01  6.47659551e+00 -7.52371095e+00\n",
      "  2.17975795e+01  2.72994147e-01 -3.89243197e-01 -2.14715688e+00\n",
      "  1.93943265e+00  7.01864234e+00  1.47140472e+01  1.06216963e+01\n",
      " -1.57384525e+00 -2.14213795e+00  2.81757156e+00  1.50993846e+01\n",
      "  3.03380768e-01  6.57674352e+00  5.93645173e+00  8.99574107e+00\n",
      "  1.25604609e+01 -2.05168724e-01 -5.51831201e+00 -5.56228790e+00\n",
      "  1.21487946e+01 -1.22993076e+01 -2.57774084e+01 -1.02945982e+01\n",
      " -2.92284414e+01  9.53178123e+00  9.22987739e+00 -1.01620043e+01\n",
      "  2.48721106e+00 -4.58735404e+00  1.07676696e+01 -1.42985375e+01\n",
      " -9.66950449e+00 -1.01983986e+01  1.15733661e+01  4.62374258e+00\n",
      "  8.27758948e-01  1.10839814e+01  8.33022887e-01 -9.11925253e+00\n",
      "  3.04179661e+00  5.70654097e+00 -4.22513091e+00  8.73386223e+00\n",
      "  1.17694544e+01 -9.20817834e+00 -1.11486314e+01  1.97792781e+01\n",
      "  1.02690499e+00 -1.54996343e+01 -1.57276751e+01  1.04063458e+00\n",
      "  2.73481170e-01  9.64981132e+00  1.55648296e+01  9.62121606e+00\n",
      "  4.51283523e+00 -7.31232528e+00 -1.65379022e+00 -1.62994973e+01\n",
      "  7.32712582e+00 -4.32384977e+00  9.28924232e+00  8.27361172e+00\n",
      " -6.76551126e+00  2.42237583e+00  1.41878697e+01 -1.50134483e-01\n",
      "  1.29168129e-02 -3.10678293e+00  1.49691546e+01  4.06157979e-01\n",
      " -5.66911429e+00  2.04007567e+01 -5.57166027e+00  1.18402615e+00\n",
      " -2.15381483e+00 -2.44977288e+00 -1.81301994e+01  1.95008377e+01\n",
      "  1.35586772e+01 -5.78727081e+00  1.05119456e+01  2.08172368e+00\n",
      " -7.90126502e-01 -2.48851460e+01  1.52384628e+01 -1.10685950e+01\n",
      " -1.32050530e+01  7.93723861e+00 -5.38894327e+00 -5.23826476e+00\n",
      "  2.87081176e+01 -4.28855035e+00  9.35050684e+00  7.86525571e+00\n",
      "  4.28018913e+00  3.49804461e+00  1.92608028e+00 -1.11331354e+01\n",
      " -5.67062202e+00  2.26500881e+01  1.11948001e+01 -2.34116814e+00\n",
      " -4.20862755e+00 -9.23201399e+00 -1.15369952e+00  3.14384107e+00\n",
      "  5.95236835e+00  2.63579692e+00  5.79677936e+00 -3.45294029e+00\n",
      " -9.89529071e+00 -2.15835698e+01  5.23353213e+00  3.94763409e+00\n",
      "  1.64077931e+01  6.08546425e+00  1.63894910e+01 -5.06200683e+00\n",
      " -3.65400091e+00  9.10242279e+00  4.27672067e+00 -1.04900406e+00\n",
      " -5.63086673e+00  6.47593748e+00  3.99790074e+00  9.34926451e+00\n",
      " -4.34505383e+00 -6.79668785e+00 -7.03177071e+00  1.93905464e+01\n",
      " -8.14517298e+00  1.14122988e+01 -5.27806301e+00 -3.14324639e+01\n",
      "  7.35495602e+00 -4.15762704e+00 -1.59911117e+00  2.25863212e+00\n",
      "  7.33746436e+00  2.72925139e+00  6.39447438e+00 -7.36267784e+00\n",
      " -4.62397409e+00 -1.74177997e+01  7.40598745e-01 -1.37316068e+00\n",
      "  1.10466185e+01 -1.10683175e+00  3.05863470e+00  1.44319605e+01\n",
      " -5.18357134e+00 -1.42207944e+01 -4.54883118e+00  1.74390810e+01\n",
      " -3.41819523e+00 -4.03869225e+00 -8.43528051e+00  1.25654859e+01\n",
      "  5.10208658e+00  9.31926131e+00  7.59390136e+00  8.94281333e+00\n",
      " -3.82429438e+00 -4.28726450e-01  1.17999246e+01 -1.98623360e+01\n",
      " -2.21680793e+00  5.75150431e+00  1.41887968e+01 -1.30798344e+01\n",
      "  1.43382183e+01 -1.60747423e+01 -7.26209148e+00 -7.36407730e+00\n",
      "  1.80114889e+01  7.83038046e+00  4.41498397e+00  5.75307506e+00\n",
      "  2.60164151e+00 -7.73039166e+00 -1.00209928e+01  5.21802674e+00\n",
      " -6.32687691e-01  1.30031998e+01  2.08519013e-01  1.03855285e+01\n",
      "  2.32291905e+00 -8.37344434e-01  2.04213224e+01 -2.95933546e+00\n",
      " -6.47213631e+00  1.40696020e+01 -1.71586123e+00  1.31542632e+01\n",
      " -2.43313737e-01  6.37052909e+00 -2.64208014e+00  2.05134946e-01\n",
      " -2.34138659e+00  1.15593148e+01  9.30355380e-01  7.10368507e+00\n",
      " -4.83982758e+00  1.26052957e+01  3.40431580e+00  8.04235665e+00\n",
      "  7.73960095e+00  4.17077661e+00  5.05947922e+00  1.93745719e+01\n",
      " -3.71177953e+00  3.47733344e+00  2.89553207e+00 -2.22589973e+01\n",
      " -4.53200995e+00 -7.13531401e+00 -3.49494202e+00 -3.65389144e+00\n",
      "  1.61603310e+00 -9.28504701e+00  1.32567572e+01  2.18541718e+00\n",
      " -6.39690653e-01  1.82669233e+01 -8.60078609e+00  1.57858440e+00\n",
      " -1.56029453e+01 -1.86978483e+01  2.58086226e+00 -3.09978871e-01\n",
      " -6.03135512e+00 -5.92408856e+00  1.26823173e+01 -1.06675700e+01\n",
      " -1.25367851e+01 -5.61403709e+00  1.01156783e+01 -1.89591226e+01\n",
      " -1.48321865e+01 -2.06403685e+01  5.18698762e+00  1.05330802e+01\n",
      "  6.96661140e+00 -4.87766815e+00 -6.95868787e+00 -7.92752880e-01\n",
      "  4.64449289e+00  1.89969410e+00 -2.28804331e-01  8.33670724e-01\n",
      " -2.51682497e+00 -1.24384347e+01 -2.85468077e+00  1.53342101e+01\n",
      " -3.11668271e+00 -1.87679558e+01  5.30029401e+00 -4.68925952e+00\n",
      " -6.65035820e+00 -5.60137617e+00 -1.35307497e+01 -1.33270424e+01\n",
      " -1.08261156e+01  7.39751118e-01 -1.00841237e+00 -1.34654421e+01\n",
      "  9.25110008e+00  9.10518971e+00 -5.76620108e-01  7.12754903e+00\n",
      " -1.64588300e+01 -1.05152495e+01  1.36275612e+00 -5.09666399e-01\n",
      " -7.53606864e+00  2.53084714e+00 -3.90140680e+00  4.22394182e-01\n",
      " -7.61535088e+00  9.31396778e+00 -4.69285999e+00 -9.17351739e+00\n",
      "  2.45815777e+01 -3.76474676e+00 -4.98351481e+00 -6.85548726e+00\n",
      "  3.67886407e+00  1.13818230e+01  5.97706677e-01  1.08237566e+01\n",
      " -9.75970055e+00  1.08919269e+01 -1.18076373e+01  5.40503188e+00\n",
      " -1.14617426e+01  9.56103035e+00 -3.85390752e-01 -4.16215523e+00\n",
      " -7.21709182e+00  7.34781887e+00  7.18095769e+00  1.39060987e+01\n",
      " -1.09227163e+01  2.97638942e+01 -2.36674745e+00 -2.44602866e+01\n",
      " -2.58168540e+00 -1.06051729e+00  5.95098859e+00  5.84652510e+00\n",
      " -1.19800630e+01 -6.23742894e+00  3.09298754e+00 -6.37421623e+00\n",
      "  4.55618818e-01 -1.12677155e+00  4.07492309e+00 -5.02793857e+00\n",
      "  1.04628180e+00  5.12297213e+00 -1.42286101e+01  1.07105039e+01\n",
      " -3.22786671e+00  2.14010401e-01 -6.09050206e+00 -1.62671427e+01\n",
      "  1.05577175e+00 -2.38158421e+00  1.15438473e+01 -6.63552596e+00\n",
      "  4.27623441e+00  2.02197200e+00 -5.77277501e+00 -6.06839808e+00\n",
      "  8.22729859e+00  5.21694140e+00 -1.15917480e+01 -8.85609737e+00\n",
      "  9.19693720e+00  5.83294223e+00  4.84311881e+00  7.88720360e+00\n",
      "  4.98283403e+00  6.08868292e+00 -1.29797984e+00 -6.87297947e+00\n",
      " -9.92650479e+00  9.40688350e+00 -5.14125013e+00  1.12279099e+01\n",
      "  1.15436145e+00 -2.72635874e-01  1.23757535e+01  6.84386377e+00\n",
      " -9.95796614e+00  7.86644484e+00 -1.64525063e+01  3.14156698e+01\n",
      " -1.51195690e+00  1.51211878e+01  8.47603051e+00  6.30371892e+00\n",
      "  1.13640732e+00 -2.33831499e+01  1.01604673e+01 -1.21886621e+01\n",
      "  7.54370080e+00  2.17687211e+01  7.33408671e+00 -2.24856592e+00\n",
      " -6.59493309e+00 -1.07458884e+01 -1.54269509e+01  2.09133133e+00\n",
      " -6.72049459e+00  5.28711326e+00  1.04463341e+01  2.03173828e+00\n",
      "  1.59106922e+01 -2.26703919e+00  7.30889767e+00 -1.70675083e+00\n",
      "  1.14564725e+01  1.00842157e+00 -2.73142913e+00  1.75194432e+01\n",
      " -1.18976421e+01 -3.59158091e+00 -1.17130381e+01  1.18594490e+01\n",
      "  5.90132930e+00  1.40428528e+00  1.40650975e+00 -8.89301730e+00\n",
      "  5.89390608e+00  1.09293683e+01 -7.95270066e+00  1.61551980e+01\n",
      " -2.43058332e+00  2.96361491e+00 -1.44101045e+00  1.49407597e+00\n",
      " -8.56340795e-01  1.44783609e+01 -3.23508683e+00 -7.45738979e+00\n",
      "  2.32568214e+01  2.28600779e+00 -4.64805210e+00  4.46820888e+00\n",
      "  1.30249621e+01  4.37791960e+00  1.57241278e+01 -9.50208575e+00\n",
      " -4.30782424e+00 -3.99958442e+00 -1.39572581e+01  3.00338153e+00\n",
      "  3.29865065e+00  1.61248956e+01  6.53161620e+00 -1.85947619e+01\n",
      " -1.40110751e+01 -7.30554842e+00  2.27227652e+00  1.34219594e+01\n",
      "  5.54144618e+00 -7.26663904e+00 -2.48081332e+01 -6.75595095e+00\n",
      "  6.81815605e+00  2.06569451e+00 -1.90890529e+01 -2.83462379e+00\n",
      " -1.33486062e+01  1.18708305e+01 -1.47843494e+00 -1.16933254e+01\n",
      " -8.72126189e+00  1.96779926e+01  3.78064398e+00 -2.57282088e+01\n",
      "  4.08241191e+00  1.26800305e+01  4.70398196e+00  1.21309529e+01\n",
      " -7.23657869e+00  2.36182643e+00 -4.30735207e+00  1.44497759e+00\n",
      "  8.50797264e+00  7.99813626e+00 -1.14032413e+01 -1.35197667e+01\n",
      "  1.77905388e+01 -1.03235112e+00  2.62616958e-01  3.61244071e+00\n",
      "  5.34426636e+00  5.29865750e+00  1.17369457e+01 -2.01666810e+01\n",
      "  1.96129461e+01  2.00462617e+00 -1.63676921e+01 -1.11974216e+01\n",
      "  6.93399706e+00  4.69865279e+00 -3.29909212e+00  7.03260030e+00\n",
      "  1.78376049e-01  4.29095679e+00 -8.78393907e+00  5.02315176e+00\n",
      " -1.65069521e+01  1.61137111e+01  1.26410880e+01 -1.02039164e+00\n",
      " -1.22999299e+00  1.27910693e+01  2.55930894e+01  8.34264040e-01\n",
      " -5.40552476e+00  4.28973684e+00 -1.73775463e-01 -8.80236141e+00\n",
      " -6.67747233e-01  4.87240527e+00 -1.00581258e+01 -3.82517512e+00\n",
      "  5.04627551e+00 -1.04773296e+01  1.51491104e+01 -7.28193459e+00\n",
      "  7.27681100e+00  2.15312880e+01 -2.92740882e+00  7.18628375e+00\n",
      " -1.17883156e+01  7.36544533e+00 -8.60454273e+00  3.97432850e+00\n",
      " -8.08254368e+00 -2.12726415e+01 -1.15271575e+01  1.35213088e+01\n",
      " -6.84634250e+00  2.76250591e+01  1.63093990e-01  1.70002186e+01\n",
      " -6.34255122e+00  7.09658735e+00  8.84895963e-01 -9.06505746e+00\n",
      "  1.32552786e+01  1.08249230e+01  3.58379074e+00  3.04080130e+00\n",
      "  4.71812697e+00 -2.24441804e+01  6.83518474e+00  1.07037935e+01\n",
      " -1.03714565e+01  1.61788867e+01 -2.46582994e+00  4.70568817e+00\n",
      "  7.01103035e+00  1.23502523e+00  8.82799630e+00 -1.27721976e+00\n",
      " -4.13385789e+00  2.66109706e+00  3.66193170e+00  1.71023280e+01\n",
      " -9.62246757e+00  2.71669838e+00  6.03641845e+00  9.31392259e+00\n",
      " -1.50702191e+01  2.72168289e+00  2.19220310e+00 -9.20712826e+00\n",
      "  4.51393295e+00  1.11531141e+01  5.53915414e+00  7.09213008e-01\n",
      "  1.07281225e+01 -3.55568912e+00 -6.54834076e-01  7.43785019e-02\n",
      " -4.46101599e+00  4.34588741e+00 -2.06661396e+00  1.53433176e+01\n",
      " -1.02620547e+01  2.66374221e+00  5.16070839e+00 -1.47911283e+01\n",
      "  1.47229451e+01 -4.37438275e+00  9.22570590e+00  1.17641424e+01\n",
      "  7.47722783e+00 -9.73660250e+00 -1.11460460e+01 -1.87085819e+01\n",
      " -1.31429703e+00 -3.65794562e+00  3.61241300e+00 -1.26083948e+01\n",
      " -5.62154974e+00  1.26986017e+01 -1.97631973e+00  9.20037299e+00]\n"
     ]
    },
    {
     "data": {
      "text/plain": [
       "<matplotlib.collections.PathCollection at 0x7f7c18f7b250>"
      ]
     },
     "execution_count": 148,
     "metadata": {},
     "output_type": "execute_result"
    },
    {
     "data": {
      "image/png": "[encoded data removed]",
      "text/plain": [
       "<Figure size 432x288 with 1 Axes>"
      ]
     },
     "metadata": {},
     "output_type": "display_data"
    }
   ],
   "source": [
    "print(s11)\n",
    "print(s11[:,1])\n",
    "print(s11[1,:])\n",
    "plt.scatter(s11[1,:], s11[:,1])"
   ]
  },
  {
   "cell_type": "code",
   "execution_count": 149,
   "metadata": {},
   "outputs": [
    {
     "data": {
      "text/plain": [
       "<matplotlib.axes._subplots.AxesSubplot at 0x7f7c190b8880>"
      ]
     },
     "execution_count": 149,
     "metadata": {},
     "output_type": "execute_result"
    },
    {
     "data": {
      "image/png": "[encoded data removed]",
      "text/plain": [
       "<Figure size 432x288 with 1 Axes>"
      ]
     },
     "metadata": {},
     "output_type": "display_data"
    }
   ],
   "source": [
    "sb.scatterplot(s11[1,:], s11[:,1])"
   ]
  },
  {
   "cell_type": "markdown",
   "metadata": {},
   "source": [
    "**Questions**\n",
    "\n",
    "Générer les objets suivants nommés ex1, ex2, ex3 et ex4.\n",
    "\n",
    "1. une matrice identité de dimension 5\n",
    "2. un tenseur de 0 de dimensions 3x4x5\n",
    "3. un vecteur d'entiers entre 4 et 100 de 3 en 3: 4, 7, 10, ....\n",
    "4. un vecteur de 100 valeurs régulièrement espacées entre 5 et 8."
   ]
  },
  {
   "cell_type": "code",
   "execution_count": 157,
   "metadata": {},
   "outputs": [
    {
     "data": {
      "text/plain": [
       "array([5.        , 5.03030303, 5.06060606, 5.09090909, 5.12121212,\n",
       "       5.15151515, 5.18181818, 5.21212121, 5.24242424, 5.27272727,\n",
       "       5.3030303 , 5.33333333, 5.36363636, 5.39393939, 5.42424242,\n",
       "       5.45454545, 5.48484848, 5.51515152, 5.54545455, 5.57575758,\n",
       "       5.60606061, 5.63636364, 5.66666667, 5.6969697 , 5.72727273,\n",
       "       5.75757576, 5.78787879, 5.81818182, 5.84848485, 5.87878788,\n",
       "       5.90909091, 5.93939394, 5.96969697, 6.        , 6.03030303,\n",
       "       6.06060606, 6.09090909, 6.12121212, 6.15151515, 6.18181818,\n",
       "       6.21212121, 6.24242424, 6.27272727, 6.3030303 , 6.33333333,\n",
       "       6.36363636, 6.39393939, 6.42424242, 6.45454545, 6.48484848,\n",
       "       6.51515152, 6.54545455, 6.57575758, 6.60606061, 6.63636364,\n",
       "       6.66666667, 6.6969697 , 6.72727273, 6.75757576, 6.78787879,\n",
       "       6.81818182, 6.84848485, 6.87878788, 6.90909091, 6.93939394,\n",
       "       6.96969697, 7.        , 7.03030303, 7.06060606, 7.09090909,\n",
       "       7.12121212, 7.15151515, 7.18181818, 7.21212121, 7.24242424,\n",
       "       7.27272727, 7.3030303 , 7.33333333, 7.36363636, 7.39393939,\n",
       "       7.42424242, 7.45454545, 7.48484848, 7.51515152, 7.54545455,\n",
       "       7.57575758, 7.60606061, 7.63636364, 7.66666667, 7.6969697 ,\n",
       "       7.72727273, 7.75757576, 7.78787879, 7.81818182, 7.84848485,\n",
       "       7.87878788, 7.90909091, 7.93939394, 7.96969697, 8.        ])"
      ]
     },
     "execution_count": 157,
     "metadata": {},
     "output_type": "execute_result"
    }
   ],
   "source": [
    "ex1 = np.identity(5)\n",
    "ex1\n",
    "ex2 = np.zeros((3,4,5))\n",
    "ex2\n",
    "ex3 = np.arange(start=4, stop=100, step=3)\n",
    "ex3\n",
    "ex4 = np.linspace(5,8,num=100)\n",
    "ex4"
   ]
  },
  {
   "cell_type": "code",
   "execution_count": null,
   "metadata": {},
   "outputs": [],
   "source": []
  },
  {
   "cell_type": "markdown",
   "metadata": {},
   "source": [
    "**Questions** \n",
    "\n",
    "Faire un jeu de données `X`, `y` tel que `X` contient 1000 points\n",
    "   - 500 sont tirés comme précédemment selon une loi normale pour les 2 coordonnées centrée en 3, 3, variance 1\n",
    "   - 500 sont tirés comme précédemment selon une loi normale pour les 2 coordonnées centrée en 0, 5, variance 1\n",
    "   \n",
    "et `y` (une étiquette) contient 1 pour les 500 premiers et -1 pour les autres. \n",
    "\n",
    "*Remarque* : vous pouvez utiliser des multivariées normales ou des normales... à vous de choisir! Les coordonnées sont indépendantes les unes des autres.\n"
   ]
  },
  {
   "cell_type": "code",
   "execution_count": 5,
   "metadata": {},
   "outputs": [],
   "source": [
    "x1 = np.random.normal(3, 1, 500)"
   ]
  },
  {
   "cell_type": "code",
   "execution_count": 6,
   "metadata": {},
   "outputs": [],
   "source": [
    "y1 = np.random.normal(3, 1, 500)"
   ]
  },
  {
   "cell_type": "code",
   "execution_count": 7,
   "metadata": {},
   "outputs": [],
   "source": [
    "x2 = np.random.normal(0, 1, 500)"
   ]
  },
  {
   "cell_type": "code",
   "execution_count": 8,
   "metadata": {},
   "outputs": [],
   "source": [
    "y2 = np.random.normal(5, 1, 500)"
   ]
  },
  {
   "cell_type": "code",
   "execution_count": 44,
   "metadata": {},
   "outputs": [
    {
     "data": {
      "text/plain": [
       "array([3.65398346, 2.0697656 , 2.41304615, 0.72324119, 3.05298326,\n",
       "       4.90662737, 1.79443025, 3.06632023, 2.39072781, 2.67574247,\n",
       "       2.13034784, 2.49156643, 1.57968161, 3.8990267 , 3.66340513,\n",
       "       0.53000315, 3.13320976, 3.74659864, 2.11697417, 3.91513831,\n",
       "       1.53557202, 1.89499806, 3.51752946, 3.38436309, 2.74381066,\n",
       "       3.81645631, 2.27936065, 2.59989111, 4.81065446, 3.56652213,\n",
       "       2.93306738, 3.68023562, 3.01149606, 3.41846525, 3.56081562,\n",
       "       4.36156775, 3.93002743, 1.29170254, 4.95401387, 2.888957  ,\n",
       "       2.12132816, 1.5011325 , 4.07893665, 4.54933726, 3.48600826,\n",
       "       1.9335427 , 2.3596129 , 2.76798262, 3.56335326, 3.57380595,\n",
       "       2.26599003, 4.05866111, 2.82660583, 3.04295468, 3.29342306,\n",
       "       1.62326094, 2.75055099, 3.16298146, 3.71303468, 1.52294249,\n",
       "       2.96149321, 1.37404042, 4.40337514, 1.60944526, 2.22159663,\n",
       "       3.32056616, 3.24260687, 4.49737786, 5.26202783, 3.44289248,\n",
       "       3.50251061, 2.66085325, 3.15307065, 3.50839587, 2.08147465,\n",
       "       2.08481344, 1.09980109, 2.56567906, 4.021007  , 3.62492821,\n",
       "       4.68277214, 4.08047543, 2.49429558, 3.2745651 , 3.96378701,\n",
       "       1.8010109 , 3.99577633, 2.13006305, 3.26938525, 1.43028879,\n",
       "       2.4287676 , 3.18023582, 2.83196974, 2.52815927, 2.81290988,\n",
       "       3.66768756, 2.20156824, 3.12098796, 3.23395181, 2.42837032,\n",
       "       1.71139871, 2.18515931, 5.15262355, 0.73220468, 3.64893189,\n",
       "       2.12315007, 3.77203023, 1.70303532, 2.1023358 , 1.84619867,\n",
       "       2.29056844, 3.35578408, 3.07811375, 3.86223534, 3.52139142,\n",
       "       2.4835692 , 2.38455627, 3.4757972 , 3.05818644, 1.95093159,\n",
       "       2.72139194, 2.09715872, 0.77894474, 2.73981025, 2.31075492,\n",
       "       2.26353704, 4.17456452, 2.71773708, 2.77569242, 2.96006803,\n",
       "       3.31075993, 2.38920125, 2.42597348, 2.73593654, 2.25998118,\n",
       "       2.59955546, 1.49350868, 2.90189806, 2.70347835, 1.92047783,\n",
       "       3.49927437, 1.89280312, 1.78391699, 3.41187484, 3.19566784,\n",
       "       3.51877681, 1.4748474 , 2.25874871, 1.28105718, 3.88377619,\n",
       "       2.3435269 , 1.31413462, 2.08864078, 3.83315227, 1.46632974,\n",
       "       4.06234371, 1.8339689 , 3.673095  , 2.81722225, 2.57905234,\n",
       "       3.12047667, 5.0781476 , 3.31226093, 3.78555108, 2.28380629,\n",
       "       2.75676601, 1.27339652, 3.03144457, 2.43979421, 2.30969987,\n",
       "       3.57632563, 2.56897392, 3.87257099, 3.61058165, 1.93854102,\n",
       "       2.73407842, 4.34117252, 2.67451142, 2.28369563, 4.57543162,\n",
       "       3.52173714, 1.84990978, 3.31570405, 5.11334496, 2.21904613,\n",
       "       3.10941792, 4.53699554, 3.30664241, 1.73226922, 2.5170966 ,\n",
       "       2.33645045, 3.81065556, 4.74613675, 3.15873427, 1.73597505,\n",
       "       3.35739261, 1.79917805, 2.89211619, 2.07656272, 3.37218558,\n",
       "       1.9423028 , 3.25695053, 0.80861368, 1.50513641, 3.44733891,\n",
       "       2.71456909, 2.85426848, 4.1898617 , 4.8625588 , 1.68220433,\n",
       "       3.91328992, 2.44587684, 1.97741166, 2.56669652, 2.77426947,\n",
       "       0.90242263, 1.20212693, 3.45551509, 4.57785071, 3.15623119,\n",
       "       2.74289624, 2.64938563, 2.65713344, 1.81301333, 3.33191223,\n",
       "       4.0045329 , 4.06598331, 2.17519135, 2.17482982, 2.1839183 ,\n",
       "       3.67631203, 2.45135069, 2.58033542, 3.49549039, 4.75356914,\n",
       "       2.79171692, 2.84059213, 2.1786054 , 2.90121425, 2.89377958,\n",
       "       2.66786051, 5.89462271, 3.27184443, 3.8482917 , 2.77151459,\n",
       "       2.54208539, 3.30291537, 2.76350921, 2.95123316, 3.93006957,\n",
       "       3.62496308, 1.74975949, 4.11838297, 3.12632936, 2.36979872,\n",
       "       1.97172324, 2.56498679, 0.81482092, 1.73124171, 2.86252099,\n",
       "       3.34096571, 3.11505534, 2.40930497, 3.93099522, 4.20185873,\n",
       "       2.79356192, 2.82157451, 1.90486148, 3.209716  , 3.44933193,\n",
       "       0.81199014, 2.93133314, 3.29213961, 3.23163346, 4.46605016,\n",
       "       3.63234442, 3.080336  , 3.59565331, 3.0441859 , 4.44495397,\n",
       "       2.7383714 , 1.70246072, 4.25378255, 4.05428259, 3.09341284,\n",
       "       2.98194601, 2.27654282, 3.05683495, 3.28056906, 2.41627651,\n",
       "       4.11658883, 2.21416297, 5.09096889, 3.05206386, 4.17877319,\n",
       "       1.44903161, 3.38245678, 3.82220855, 3.231648  , 3.1163752 ,\n",
       "       2.51130793, 2.11168054, 3.84813519, 4.09466004, 3.10099115,\n",
       "       3.96826583, 3.3315528 , 3.49533837, 2.53563384, 3.67333138,\n",
       "       2.63862063, 1.63433882, 1.36492076, 2.30805529, 2.29455241,\n",
       "       3.87385613, 2.75920957, 1.73409904, 3.04347491, 3.16924749,\n",
       "       4.5155608 , 1.88559495, 2.14184608, 3.73006812, 1.59822227,\n",
       "       2.38449862, 3.61463026, 1.53996514, 3.70933445, 3.5024394 ,\n",
       "       4.70108822, 4.32125084, 3.15230147, 2.94011755, 0.6518141 ,\n",
       "       3.02378618, 0.87619534, 1.84106838, 2.31994716, 3.8480181 ,\n",
       "       3.12126733, 3.1463077 , 4.85505171, 3.46941411, 1.89329072,\n",
       "       1.99350214, 2.9317289 , 2.33945629, 4.52272359, 3.07094303,\n",
       "       3.91519716, 3.36833301, 2.51491306, 5.32939453, 2.51206472,\n",
       "       3.85737412, 3.73158976, 4.72288604, 1.28661001, 1.86671774,\n",
       "       3.63687394, 3.48759161, 2.10839606, 2.88911677, 2.66712457,\n",
       "       3.58272533, 5.12695864, 1.13480009, 3.01181499, 2.61617156,\n",
       "       3.80065451, 3.2135653 , 3.99879904, 3.329112  , 1.93987828,\n",
       "       4.94704856, 2.48721605, 4.33777645, 3.43144935, 4.26433161,\n",
       "       4.1306349 , 3.78448554, 2.34404244, 3.07431467, 2.41525066,\n",
       "       3.26619201, 3.8000533 , 2.87692642, 0.59815072, 2.2182588 ,\n",
       "       2.4121906 , 3.24260426, 2.93327314, 1.90526656, 1.38857998,\n",
       "       4.35793479, 2.04097048, 2.60378546, 2.16045913, 1.64480493,\n",
       "       3.0795665 , 3.39292167, 2.86137819, 1.75332061, 4.67648148,\n",
       "       5.04634251, 3.75285274, 2.16596642, 2.9202454 , 3.06160802,\n",
       "       1.46972417, 6.27691163, 2.95854661, 2.22220579, 1.65314842,\n",
       "       3.86807966, 2.50984373, 2.69203713, 3.21947837, 2.31639525,\n",
       "       2.64761438, 2.04309058, 4.71320575, 2.52234709, 1.25270585,\n",
       "       0.46702962, 3.6281891 , 4.16794639, 2.76753472, 4.24706065,\n",
       "       4.39875831, 3.3781172 , 3.13604367, 1.79627213, 3.35820549,\n",
       "       2.77800965, 3.75502429, 3.97036899, 4.40929717, 3.25678745,\n",
       "       3.48490457, 4.4050803 , 2.43762106, 2.09376924, 1.96884749,\n",
       "       2.95819064, 2.94047389, 1.33296085, 2.61884961, 3.40646193,\n",
       "       1.96055116, 4.32457116, 3.46662896, 4.01416671, 1.90491066,\n",
       "       3.41461872, 2.15776422, 3.91696726, 2.99506116, 3.03479815,\n",
       "       5.35143626, 3.14130294, 3.31285618, 2.82213866, 2.71004267,\n",
       "       3.17715865, 1.7770889 , 3.62750576, 1.39360937, 3.41272502,\n",
       "       2.18032169, 2.75885008, 2.55083864, 2.48705027, 2.40024282,\n",
       "       5.41757693, 2.59499624, 4.73598676, 2.00085342, 2.85575328,\n",
       "       2.34228764, 2.32784371, 2.80728257, 4.22686841, 2.31794635,\n",
       "       4.1166957 , 3.09676436, 2.27273322, 3.31227143, 5.37032165,\n",
       "       2.13503126, 5.01063513, 5.29848184, 3.24598663, 4.13284606,\n",
       "       2.68827223, 3.36473362, 3.09411143, 2.71627974, 1.55598922,\n",
       "       3.78475517, 4.24896305, 4.15679791, 3.38231928, 2.8487102 ,\n",
       "       5.29209202, 2.83117944, 1.52872955, 2.47537077, 3.52226014,\n",
       "       3.18223849, 0.76584762, 2.65860502, 2.40538465, 0.91469824,\n",
       "       5.16814497, 3.87093517, 1.70037427, 2.88366179, 2.45604935,\n",
       "       3.41119917, 1.14253576, 2.87439868, 3.24720524, 3.98463101,\n",
       "       3.75480683, 2.01869809, 2.46086225, 2.16122519, 2.80449501,\n",
       "       2.62341107, 2.39037565, 2.17527576, 2.23294431, 2.16890804,\n",
       "       3.1658446 , 1.79930115, 1.54071665, 2.76753267, 1.96805758,\n",
       "       2.78104375, 2.7241089 , 2.49628566, 4.16943513, 2.3666389 ,\n",
       "       4.10823029, 4.29251313, 2.46132808, 3.58971484, 2.40702322,\n",
       "       2.97425745, 2.56295349, 2.74270612, 3.0371489 , 2.1232179 ,\n",
       "       2.55198336, 2.21233973, 3.50601075, 4.4610325 , 1.81005572,\n",
       "       2.37594224, 2.06233493, 1.73394913, 2.39585966, 2.98148182,\n",
       "       1.39981567, 3.35841998, 3.73599569, 3.07436854, 2.75391579,\n",
       "       0.98372977, 2.36014326, 2.45299815, 1.87551504, 2.5766518 ,\n",
       "       1.7303934 , 4.8163996 , 3.72282682, 3.14281678, 3.83431594,\n",
       "       1.53597344, 3.9299328 , 3.78979152, 5.40023922, 2.48150038,\n",
       "       3.05966931, 4.21307595, 4.9015221 , 2.55042665, 2.32639133,\n",
       "       3.4930145 , 3.03433781, 3.4426333 , 2.86489623, 2.78021198,\n",
       "       3.00166254, 2.48148021, 2.80036343, 4.63610025, 3.40574683,\n",
       "       4.12019033, 2.99942546, 1.43143376, 2.31930842, 3.12927556,\n",
       "       2.4678877 , 1.97163006, 3.36725614, 2.56042116, 2.49755388,\n",
       "       3.14983828, 4.02307537, 2.88855001, 3.89739099, 3.12315326,\n",
       "       3.23578044, 4.68634758, 1.86705213, 3.53263734, 3.73260081,\n",
       "       2.55092741, 3.55464841, 2.30593045, 2.11847403, 2.67875744,\n",
       "       1.39992228, 3.19964751, 2.85377569, 2.43957642, 3.63742252,\n",
       "       3.87711051, 2.30498051, 3.69324845, 2.57259035, 1.91942683,\n",
       "       3.40248537, 3.69128393, 4.79857079, 3.23944851, 3.34716234,\n",
       "       1.45287474, 3.95682878, 2.36659535, 3.34479759, 2.7724556 ,\n",
       "       3.309829  , 1.40673867, 2.76802682, 3.95832782, 3.79748317,\n",
       "       4.99170015, 3.70769059, 2.9538992 , 4.27107228, 1.70641524,\n",
       "       3.70752173, 3.05347929, 4.81046161, 3.09619069, 4.95422656,\n",
       "       2.3193707 , 3.69520298, 1.82810329, 3.5686099 , 4.32476953,\n",
       "       2.75554299, 2.73310367, 4.6620873 , 4.61084292, 1.92871084,\n",
       "       3.54329297, 3.25203809, 3.64243381, 2.27473505, 2.12847216,\n",
       "       1.40321565, 0.89924159, 3.64872066, 2.12648276, 1.98805961,\n",
       "       3.34727528, 2.39615849, 3.51903399, 3.27203633, 4.04493615,\n",
       "       2.85694685, 3.59168864, 4.00112455, 2.71563645, 2.00825239,\n",
       "       4.83356612, 2.3661501 , 1.94537326, 2.53153736, 4.56360601,\n",
       "       2.65256634, 2.10712249, 3.11971712, 3.20837551, 4.99596129,\n",
       "       4.39981692, 3.57738596, 3.22597438, 2.76378957, 1.60540819,\n",
       "       3.79339766, 2.78440187, 3.8344495 , 3.33734949, 4.38146072,\n",
       "       4.10894874, 3.16357463, 3.41415576, 1.32768476, 3.14108326,\n",
       "       4.9665536 , 2.45181474, 3.6180685 , 1.38107122, 3.01100857,\n",
       "       4.68991636, 4.95489808, 3.35139993, 1.06403447, 6.20270227,\n",
       "       2.70192549, 3.38139942, 4.03683254, 3.63677267, 1.76656715,\n",
       "       2.99659683, 2.16197054, 1.74405881, 2.67974106, 1.94812594,\n",
       "       1.98398821, 3.78676276, 2.36137958, 3.45551958, 3.31124546,\n",
       "       2.59707917, 4.36250804, 2.16143175, 3.08812315, 3.11524118,\n",
       "       3.44672182, 5.8147823 , 3.91069972, 5.24738312, 1.28056337,\n",
       "       0.94771767, 3.79316371, 2.77925696, 2.11767081, 4.55608064,\n",
       "       2.08389058, 3.43535033, 0.92643524, 3.79139136, 1.744231  ,\n",
       "       2.35609863, 5.36306919, 4.32565168, 3.06141048, 3.74108063,\n",
       "       2.94917385, 3.34942158, 2.79616621, 3.05278797, 1.77751923,\n",
       "       3.21626656, 2.90323766, 1.53196243, 2.79363736, 4.96422973,\n",
       "       2.82821881, 4.18519511, 3.16641335, 2.51633465, 4.48981404,\n",
       "       2.71170762, 2.62225729, 2.76457314, 2.93876503, 0.72023167,\n",
       "       2.88844971, 3.13339364, 1.19388853, 3.40940504, 0.73038106,\n",
       "       3.5499017 , 3.69746974, 1.5492472 , 2.40868901, 2.28894726,\n",
       "       2.83666835, 3.71918274, 2.80448742, 1.61202456, 1.50408189,\n",
       "       3.19282158, 2.5341781 , 2.64639457, 2.89486722, 2.95806743,\n",
       "       2.52696329, 3.17909601, 2.83633793, 2.09433591, 2.60450634,\n",
       "       2.61950082, 2.69136302, 2.63161031, 4.04251984, 2.4337189 ,\n",
       "       4.49715045, 4.64938139, 2.95142854, 4.279875  , 3.13288258,\n",
       "       4.05379987, 3.02168177, 4.21142042, 1.66042083, 2.25678033,\n",
       "       1.51640746, 2.16653018, 3.41225952, 3.69853794, 2.26537146,\n",
       "       1.41977619, 1.32746644, 3.43272816, 1.62684804, 3.64030633,\n",
       "       3.72041101, 2.04548306, 3.40747844, 3.51103283, 1.79646334,\n",
       "       3.16451903, 3.6453585 , 1.25811287, 3.12589513, 2.39930243,\n",
       "       2.87938337, 2.14195602, 3.30852812, 4.11591592, 3.27376493,\n",
       "       1.70565836, 1.89609345, 4.62613448, 2.99178428, 3.11922147,\n",
       "       3.17368939, 4.57453027, 2.50753239, 3.06871804, 1.73320992,\n",
       "       2.0352404 , 3.03648781, 2.13054691, 3.0735358 , 1.87580878,\n",
       "       3.61703686, 3.23961305, 2.08868456, 3.32328203, 2.61089433,\n",
       "       2.46333056, 5.98892266, 2.15740827, 1.19297403, 4.0451355 ,\n",
       "       1.95752357, 2.20079091, 2.77950931, 3.94686075, 3.31136201,\n",
       "       1.70932147, 2.5737974 , 2.21079597, 4.95512205, 3.03973388,\n",
       "       1.96181466, 1.65865689, 1.12035867, 2.79364037, 2.90144803,\n",
       "       3.70650984, 3.86075156, 2.10032426, 3.58904698, 1.87554013,\n",
       "       2.1067524 , 3.37748182, 3.12168791, 2.61198897, 2.4022864 ,\n",
       "       4.08011683, 2.54681049, 2.2119287 , 3.20115327, 4.17769127,\n",
       "       1.61456298, 1.75686113, 5.16198953, 4.96008282, 3.42328221,\n",
       "       2.89011727, 2.14035433, 1.18580236, 1.71655624, 1.95523846,\n",
       "       2.79218998, 2.93834811, 2.22589115, 2.89833504, 5.57788368,\n",
       "       4.32902437, 4.63915766, 1.31663383, 4.21492417, 4.02952524,\n",
       "       3.41021497, 3.08594133, 5.40542507, 3.7092046 , 3.37420854,\n",
       "       2.7379045 , 3.48718061, 2.65134359, 2.60071812, 3.32510966,\n",
       "       4.56801164, 2.82126623, 3.44753144, 2.21837125, 5.95882818,\n",
       "       2.63798348, 4.64430094, 3.14394578, 4.81582724, 4.35529645,\n",
       "       2.41054285, 3.05711425, 2.34629527, 3.75840881, 2.29958187,\n",
       "       3.1712781 , 2.6798541 , 3.08795446, 2.21923436, 3.28998076,\n",
       "       3.79019382, 2.46158437, 2.55740265, 4.43652611, 3.21453459,\n",
       "       3.34735808, 3.32466838, 2.7037267 , 2.23603659, 4.47681449,\n",
       "       2.08763087, 2.38410934, 2.67905228, 0.92793922, 3.10463426,\n",
       "       3.34393845, 3.05667837, 2.06739075, 2.87262998, 1.92779834,\n",
       "       3.71146304, 3.56617328, 2.79887952, 2.41098948, 1.93718539,\n",
       "       3.79943947, 2.96118086, 1.97008249, 2.90083505, 3.16631978,\n",
       "       3.99787108, 2.51260143, 2.90003217, 2.33301166, 2.56708849,\n",
       "       3.26937976, 3.30762435, 1.31664629, 3.80830607, 2.75329269,\n",
       "       4.66992918, 1.59237449, 3.19835939, 3.67400056, 2.51970607])"
      ]
     },
     "execution_count": 44,
     "metadata": {},
     "output_type": "execute_result"
    }
   ],
   "source": [
    "X1 = np.hstack((x1,y1))\n",
    "X2 = np.hstack((x2,y2))\n",
    "X1"
   ]
  },
  {
   "cell_type": "markdown",
   "metadata": {},
   "source": [
    "**Question** Tracer le nuage de points, l'option `c` de pyplot (`hue` de sns) permet de spécifier les couleurs que vous prenez selon `y`."
   ]
  },
  {
   "cell_type": "code",
   "execution_count": 13,
   "metadata": {},
   "outputs": [
    {
     "data": {
      "text/plain": [
       "array([ 1.,  1.,  1.,  1.,  1.,  1.,  1.,  1.,  1.,  1.,  1.,  1.,  1.,\n",
       "        1.,  1.,  1.,  1.,  1.,  1.,  1.,  1.,  1.,  1.,  1.,  1.,  1.,\n",
       "        1.,  1.,  1.,  1.,  1.,  1.,  1.,  1.,  1.,  1.,  1.,  1.,  1.,\n",
       "        1.,  1.,  1.,  1.,  1.,  1.,  1.,  1.,  1.,  1.,  1.,  1.,  1.,\n",
       "        1.,  1.,  1.,  1.,  1.,  1.,  1.,  1.,  1.,  1.,  1.,  1.,  1.,\n",
       "        1.,  1.,  1.,  1.,  1.,  1.,  1.,  1.,  1.,  1.,  1.,  1.,  1.,\n",
       "        1.,  1.,  1.,  1.,  1.,  1.,  1.,  1.,  1.,  1.,  1.,  1.,  1.,\n",
       "        1.,  1.,  1.,  1.,  1.,  1.,  1.,  1.,  1.,  1.,  1.,  1.,  1.,\n",
       "        1.,  1.,  1.,  1.,  1.,  1.,  1.,  1.,  1.,  1.,  1.,  1.,  1.,\n",
       "        1.,  1.,  1.,  1.,  1.,  1.,  1.,  1.,  1.,  1.,  1.,  1.,  1.,\n",
       "        1.,  1.,  1.,  1.,  1.,  1.,  1.,  1.,  1.,  1.,  1.,  1.,  1.,\n",
       "        1.,  1.,  1.,  1.,  1.,  1.,  1.,  1.,  1.,  1.,  1.,  1.,  1.,\n",
       "        1.,  1.,  1.,  1.,  1.,  1.,  1.,  1.,  1.,  1.,  1.,  1.,  1.,\n",
       "        1.,  1.,  1.,  1.,  1.,  1.,  1.,  1.,  1.,  1.,  1.,  1.,  1.,\n",
       "        1.,  1.,  1.,  1.,  1.,  1.,  1.,  1.,  1.,  1.,  1.,  1.,  1.,\n",
       "        1.,  1.,  1.,  1.,  1.,  1.,  1.,  1.,  1.,  1.,  1.,  1.,  1.,\n",
       "        1.,  1.,  1.,  1.,  1.,  1.,  1.,  1.,  1.,  1.,  1.,  1.,  1.,\n",
       "        1.,  1.,  1.,  1.,  1.,  1.,  1.,  1.,  1.,  1.,  1.,  1.,  1.,\n",
       "        1.,  1.,  1.,  1.,  1.,  1.,  1.,  1.,  1.,  1.,  1.,  1.,  1.,\n",
       "        1.,  1.,  1.,  1.,  1.,  1.,  1.,  1.,  1.,  1.,  1.,  1.,  1.,\n",
       "        1.,  1.,  1.,  1.,  1.,  1.,  1.,  1.,  1.,  1.,  1.,  1.,  1.,\n",
       "        1.,  1.,  1.,  1.,  1.,  1.,  1.,  1.,  1.,  1.,  1.,  1.,  1.,\n",
       "        1.,  1.,  1.,  1.,  1.,  1.,  1.,  1.,  1.,  1.,  1.,  1.,  1.,\n",
       "        1.,  1.,  1.,  1.,  1.,  1.,  1.,  1.,  1.,  1.,  1.,  1.,  1.,\n",
       "        1.,  1.,  1.,  1.,  1.,  1.,  1.,  1.,  1.,  1.,  1.,  1.,  1.,\n",
       "        1.,  1.,  1.,  1.,  1.,  1.,  1.,  1.,  1.,  1.,  1.,  1.,  1.,\n",
       "        1.,  1.,  1.,  1.,  1.,  1.,  1.,  1.,  1.,  1.,  1.,  1.,  1.,\n",
       "        1.,  1.,  1.,  1.,  1.,  1.,  1.,  1.,  1.,  1.,  1.,  1.,  1.,\n",
       "        1.,  1.,  1.,  1.,  1.,  1.,  1.,  1.,  1.,  1.,  1.,  1.,  1.,\n",
       "        1.,  1.,  1.,  1.,  1.,  1.,  1.,  1.,  1.,  1.,  1.,  1.,  1.,\n",
       "        1.,  1.,  1.,  1.,  1.,  1.,  1.,  1.,  1.,  1.,  1.,  1.,  1.,\n",
       "        1.,  1.,  1.,  1.,  1.,  1.,  1.,  1.,  1.,  1.,  1.,  1.,  1.,\n",
       "        1.,  1.,  1.,  1.,  1.,  1.,  1.,  1.,  1.,  1.,  1.,  1.,  1.,\n",
       "        1.,  1.,  1.,  1.,  1.,  1.,  1.,  1.,  1.,  1.,  1.,  1.,  1.,\n",
       "        1.,  1.,  1.,  1.,  1.,  1.,  1.,  1.,  1.,  1.,  1.,  1.,  1.,\n",
       "        1.,  1.,  1.,  1.,  1.,  1.,  1.,  1.,  1.,  1.,  1.,  1.,  1.,\n",
       "        1.,  1.,  1.,  1.,  1.,  1.,  1.,  1.,  1.,  1.,  1.,  1.,  1.,\n",
       "        1.,  1.,  1.,  1.,  1.,  1.,  1.,  1.,  1.,  1.,  1.,  1.,  1.,\n",
       "        1.,  1.,  1.,  1.,  1.,  1., -1., -1., -1., -1., -1., -1., -1.,\n",
       "       -1., -1., -1., -1., -1., -1., -1., -1., -1., -1., -1., -1., -1.,\n",
       "       -1., -1., -1., -1., -1., -1., -1., -1., -1., -1., -1., -1., -1.,\n",
       "       -1., -1., -1., -1., -1., -1., -1., -1., -1., -1., -1., -1., -1.,\n",
       "       -1., -1., -1., -1., -1., -1., -1., -1., -1., -1., -1., -1., -1.,\n",
       "       -1., -1., -1., -1., -1., -1., -1., -1., -1., -1., -1., -1., -1.,\n",
       "       -1., -1., -1., -1., -1., -1., -1., -1., -1., -1., -1., -1., -1.,\n",
       "       -1., -1., -1., -1., -1., -1., -1., -1., -1., -1., -1., -1., -1.,\n",
       "       -1., -1., -1., -1., -1., -1., -1., -1., -1., -1., -1., -1., -1.,\n",
       "       -1., -1., -1., -1., -1., -1., -1., -1., -1., -1., -1., -1., -1.,\n",
       "       -1., -1., -1., -1., -1., -1., -1., -1., -1., -1., -1., -1., -1.,\n",
       "       -1., -1., -1., -1., -1., -1., -1., -1., -1., -1., -1., -1., -1.,\n",
       "       -1., -1., -1., -1., -1., -1., -1., -1., -1., -1., -1., -1., -1.,\n",
       "       -1., -1., -1., -1., -1., -1., -1., -1., -1., -1., -1., -1., -1.,\n",
       "       -1., -1., -1., -1., -1., -1., -1., -1., -1., -1., -1., -1., -1.,\n",
       "       -1., -1., -1., -1., -1., -1., -1., -1., -1., -1., -1., -1., -1.,\n",
       "       -1., -1., -1., -1., -1., -1., -1., -1., -1., -1., -1., -1., -1.,\n",
       "       -1., -1., -1., -1., -1., -1., -1., -1., -1., -1., -1., -1., -1.,\n",
       "       -1., -1., -1., -1., -1., -1., -1., -1., -1., -1., -1., -1., -1.,\n",
       "       -1., -1., -1., -1., -1., -1., -1., -1., -1., -1., -1., -1., -1.,\n",
       "       -1., -1., -1., -1., -1., -1., -1., -1., -1., -1., -1., -1., -1.,\n",
       "       -1., -1., -1., -1., -1., -1., -1., -1., -1., -1., -1., -1., -1.,\n",
       "       -1., -1., -1., -1., -1., -1., -1., -1., -1., -1., -1., -1., -1.,\n",
       "       -1., -1., -1., -1., -1., -1., -1., -1., -1., -1., -1., -1., -1.,\n",
       "       -1., -1., -1., -1., -1., -1., -1., -1., -1., -1., -1., -1., -1.,\n",
       "       -1., -1., -1., -1., -1., -1., -1., -1., -1., -1., -1., -1., -1.,\n",
       "       -1., -1., -1., -1., -1., -1., -1., -1., -1., -1., -1., -1., -1.,\n",
       "       -1., -1., -1., -1., -1., -1., -1., -1., -1., -1., -1., -1., -1.,\n",
       "       -1., -1., -1., -1., -1., -1., -1., -1., -1., -1., -1., -1., -1.,\n",
       "       -1., -1., -1., -1., -1., -1., -1., -1., -1., -1., -1., -1., -1.,\n",
       "       -1., -1., -1., -1., -1., -1., -1., -1., -1., -1., -1., -1., -1.,\n",
       "       -1., -1., -1., -1., -1., -1., -1., -1., -1., -1., -1., -1., -1.,\n",
       "       -1., -1., -1., -1., -1., -1., -1., -1., -1., -1., -1., -1., -1.,\n",
       "       -1., -1., -1., -1., -1., -1., -1., -1., -1., -1., -1., -1., -1.,\n",
       "       -1., -1., -1., -1., -1., -1., -1., -1., -1., -1., -1., -1., -1.,\n",
       "       -1., -1., -1., -1., -1., -1., -1., -1., -1., -1., -1., -1., -1.,\n",
       "       -1., -1., -1., -1., -1., -1., -1., -1., -1., -1., -1., -1., -1.,\n",
       "       -1., -1., -1., -1., -1., -1., -1., -1., -1., -1., -1., -1., -1.,\n",
       "       -1., -1., -1., -1., -1., -1., -1., -1., -1., -1., -1., -1.])"
      ]
     },
     "execution_count": 13,
     "metadata": {},
     "output_type": "execute_result"
    }
   ],
   "source": [
    "y = np.append(np.ones(500), np.ones(500) * -1)\n",
    "y"
   ]
  },
  {
   "cell_type": "code",
   "execution_count": 20,
   "metadata": {},
   "outputs": [
    {
     "data": {
      "text/plain": [
       "<matplotlib.collections.PathCollection at 0x7fa601c3bfa0>"
      ]
     },
     "execution_count": 20,
     "metadata": {},
     "output_type": "execute_result"
    },
    {
     "data": {
      "image/png": "[encoded data removed]",
      "text/plain": [
       "<Figure size 432x288 with 1 Axes>"
      ]
     },
     "metadata": {},
     "output_type": "display_data"
    }
   ],
   "source": [
    "plt.scatter(X1,X2)"
   ]
  },
  {
   "cell_type": "code",
   "execution_count": 24,
   "metadata": {},
   "outputs": [
    {
     "data": {
      "text/plain": [
       "<matplotlib.collections.PathCollection at 0x7fa603b7dac0>"
      ]
     },
     "execution_count": 24,
     "metadata": {},
     "output_type": "execute_result"
    },
    {
     "data": {
      "image/png": "[encoded data removed]",
      "text/plain": [
       "<Figure size 432x288 with 1 Axes>"
      ]
     },
     "metadata": {},
     "output_type": "display_data"
    }
   ],
   "source": [
    "plt.scatter(X1,X2,c=y)"
   ]
  },
  {
   "cell_type": "markdown",
   "metadata": {},
   "source": [
    "**<span style='color: red'>Activité</span>** Regarder la documentation de la fonction `make_blobs` de `scikit-learn`!..."
   ]
  },
  {
   "cell_type": "markdown",
   "metadata": {},
   "source": [
    "**Question** : recommencer avec cette fonction!"
   ]
  },
  {
   "cell_type": "code",
   "execution_count": 49,
   "metadata": {},
   "outputs": [],
   "source": [
    "from sklearn.datasets import make_blobs\n",
    "X1_NEW, Y1_NEW = make_blobs(n_samples=500, centers=[(3,3), (3,3)], n_features=2, cluster_std=1)\n",
    "X2_NEW, Y2_NEW = make_blobs(n_samples=500, centers=[(0,0), (0,5)], n_features=2, cluster_std=1)"
   ]
  },
  {
   "cell_type": "code",
   "execution_count": 50,
   "metadata": {},
   "outputs": [
    {
     "data": {
      "text/plain": [
       "<matplotlib.collections.PathCollection at 0x7fa601486d00>"
      ]
     },
     "execution_count": 50,
     "metadata": {},
     "output_type": "execute_result"
    },
    {
     "data": {
      "image/png": "[encoded data removed]",
      "text/plain": [
       "<Figure size 432x288 with 1 Axes>"
      ]
     },
     "metadata": {},
     "output_type": "display_data"
    }
   ],
   "source": [
    "plt.scatter(X1_NEW,X2_NEW,c=y)"
   ]
  }
 ],
 "metadata": {
  "kernelspec": {
   "display_name": "Python 3",
   "language": "python",
   "name": "python3"
  },
  "language_info": {
   "codemirror_mode": {
    "name": "ipython",
    "version": 3
   },
   "file_extension": ".py",
   "mimetype": "text/x-python",
   "name": "python",
   "nbconvert_exporter": "python",
   "pygments_lexer": "ipython3",
   "version": "3.8.3"
  }
 },
 "nbformat": 4,
 "nbformat_minor": 2
}
