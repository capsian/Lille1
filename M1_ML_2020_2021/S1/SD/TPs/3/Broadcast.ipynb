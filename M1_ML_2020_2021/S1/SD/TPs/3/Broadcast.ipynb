{
 "cells": [
  {
   "cell_type": "code",
   "execution_count": 2,
   "metadata": {},
   "outputs": [],
   "source": [
    "import numpy as np"
   ]
  },
  {
   "cell_type": "markdown",
   "metadata": {},
   "source": [
    "# Jouer avec des points"
   ]
  },
  {
   "cell_type": "markdown",
   "metadata": {},
   "source": [
    "On considère $Y$ les points sur la droite aux valeurs  1, 3, 7, 2 (c'est juste un vecteur)."
   ]
  },
  {
   "cell_type": "code",
   "execution_count": 3,
   "metadata": {},
   "outputs": [
    {
     "data": {
      "text/plain": [
       "(4,)"
      ]
     },
     "execution_count": 3,
     "metadata": {},
     "output_type": "execute_result"
    }
   ],
   "source": [
    "Y = np.array([1,3,7,2])\n",
    "Y.shape"
   ]
  },
  {
   "cell_type": "markdown",
   "metadata": {},
   "source": [
    "On va calculer toute les différences entre ces valeurs. On construit un matrice `M` telle que `M[i,j] = Y[i] - Y[j]` et `i` et `j` sont deux indices pour tous les identifiants de points possibles. Pour cela, on peut utiliser le broadcasting... \n",
    "\n",
    "On constuit `Y - Y.T`, mais il faut transformer le vecteurs 1d `Y` en matrices `a` et `b` de taille (4, 1) et (1, 4)"
   ]
  },
  {
   "cell_type": "code",
   "execution_count": 76,
   "metadata": {},
   "outputs": [
    {
     "name": "stdout",
     "output_type": "stream",
     "text": [
      "[[1]\n",
      " [3]\n",
      " [7]\n",
      " [2]]\n",
      "[[1 3 7 2]]\n",
      "[[ 0 -2 -6 -1]\n",
      " [ 2  0 -4  1]\n",
      " [ 6  4  0  5]\n",
      " [ 1 -1 -5  0]]\n"
     ]
    }
   ],
   "source": [
    "a = Y.reshape(4,1)\n",
    "b = Y.reshape(1,4)\n",
    "print(a)\n",
    "print(b)\n",
    "M = a - b\n",
    "print(M)"
   ]
  },
  {
   "cell_type": "markdown",
   "metadata": {},
   "source": [
    "Une autre façon de procéder est d'ajouter un axe avec `np.newaxis`. Observer `Y[:, np.newaxis]`. En déduire comment construire `a` et `b` autrement."
   ]
  },
  {
   "cell_type": "code",
   "execution_count": 100,
   "metadata": {},
   "outputs": [
    {
     "name": "stdout",
     "output_type": "stream",
     "text": [
      "[[1]\n",
      " [3]\n",
      " [7]\n",
      " [2]]\n",
      "(4, 1)\n",
      "[[1 3 7 2]]\n",
      "(1, 4)\n",
      "[[ 0 -2 -6 -1]\n",
      " [ 2  0 -4  1]\n",
      " [ 6  4  0  5]\n",
      " [ 1 -1 -5  0]]\n"
     ]
    }
   ],
   "source": [
    "a2 = Y[:, np.newaxis]\n",
    "print(a2)\n",
    "print(a2.shape)\n",
    "b2 = Y[np.newaxis,:]\n",
    "print(b2)\n",
    "print(b2.shape)\n",
    "M1 = a2 - b2\n",
    "print(M1)"
   ]
  },
  {
   "cell_type": "markdown",
   "metadata": {},
   "source": [
    "On peut calculer les distances au carré de chaque point vers chaque autre point."
   ]
  },
  {
   "cell_type": "code",
   "execution_count": 101,
   "metadata": {},
   "outputs": [
    {
     "name": "stdout",
     "output_type": "stream",
     "text": [
      "[[  0  -8 -48  -3]\n",
      " [  8   0 -40   5]\n",
      " [ 48  40   0  45]\n",
      " [  3  -5 -45   0]]\n"
     ]
    }
   ],
   "source": [
    "M2 = a2**2 - b2**2\n",
    "print(M2)"
   ]
  },
  {
   "cell_type": "code",
   "execution_count": 91,
   "metadata": {},
   "outputs": [
    {
     "name": "stdout",
     "output_type": "stream",
     "text": [
      "[[ 1]\n",
      " [ 9]\n",
      " [49]\n",
      " [ 4]]\n",
      "[[ 1  9 49  4]]\n",
      "[[  0  -8 -48  -3]\n",
      " [  8   0 -40   5]\n",
      " [ 48  40   0  45]\n",
      " [  3  -5 -45   0]]\n"
     ]
    }
   ],
   "source": [
    "M3 = a**2 - b**2\n",
    "print(a**2)\n",
    "print(b**2)\n",
    "print(M3)"
   ]
  },
  {
   "cell_type": "code",
   "execution_count": null,
   "metadata": {},
   "outputs": [],
   "source": []
  },
  {
   "cell_type": "markdown",
   "metadata": {},
   "source": [
    "Quel est le point le plus proche de chaque point ? Regardez la documentation de `np.argsort`. Voyez par exemple \n",
    "\n",
    "    np.argsort(np.array([1, 0, 12, 2]))\n",
    "    \n",
    "Appliquez cela sur la matrice des distance en prenant le bon axe!"
   ]
  },
  {
   "cell_type": "code",
   "execution_count": 92,
   "metadata": {},
   "outputs": [
    {
     "name": "stdout",
     "output_type": "stream",
     "text": [
      "[1 0 3 2]\n",
      "[4 1 2 0 3]\n"
     ]
    }
   ],
   "source": [
    "print(np.argsort(np.array([1, 0, 12, 2])))\n",
    "print(np.argsort([3,1,2,5,0]))"
   ]
  },
  {
   "cell_type": "code",
   "execution_count": 105,
   "metadata": {},
   "outputs": [
    {
     "name": "stdout",
     "output_type": "stream",
     "text": [
      "[[-48  -8  -3   0]\n",
      " [-48  -8  -3   0]\n",
      " [-48  -8  -3   0]\n",
      " [-48  -8  -3   0]]\n"
     ]
    }
   ],
   "source": [
    "ind = np.unravel_index(np.argsort(M3,axis=1),M3.shape)\n",
    "print(M3[ind])"
   ]
  },
  {
   "cell_type": "code",
   "execution_count": 43,
   "metadata": {},
   "outputs": [
    {
     "name": "stdout",
     "output_type": "stream",
     "text": [
      "[[  0   0   0   0]\n",
      " [ -3  -3  -3  -3]\n",
      " [ -8  -8  -8  -8]\n",
      " [-48 -48 -48 -48]]\n"
     ]
    }
   ],
   "source": [
    "ind = np.unravel_index(np.argsort(M3,axis=0),M3.shape)\n",
    "print(M3[ind])"
   ]
  },
  {
   "cell_type": "markdown",
   "metadata": {},
   "source": [
    "On recommence avec maintenant des points en dimension 2. On va alors calculer toutes les distances au carré entre ces points.  "
   ]
  },
  {
   "cell_type": "markdown",
   "metadata": {},
   "source": [
    "Tirer aléatoirement $X$, un jeu de données de 10 points dans $[0, 1]^2$. On utilise `np.random.rand`."
   ]
  },
  {
   "cell_type": "code",
   "execution_count": 198,
   "metadata": {},
   "outputs": [
    {
     "name": "stdout",
     "output_type": "stream",
     "text": [
      "(10, 1)\n",
      "(10, 2)\n",
      "[[0]\n",
      " [1]\n",
      " [2]\n",
      " [3]\n",
      " [4]\n",
      " [5]\n",
      " [6]\n",
      " [7]\n",
      " [8]\n",
      " [9]]\n",
      "[[0.74623063 0.54387652]\n",
      " [0.54982252 0.86880369]\n",
      " [0.48378437 0.4058191 ]\n",
      " [0.05389276 0.74456912]\n",
      " [0.25701186 0.06036645]\n",
      " [0.8916378  0.89596516]\n",
      " [0.58300721 0.04265965]\n",
      " [0.20272727 0.21064787]\n",
      " [0.87517679 0.86032542]\n",
      " [0.92974209 0.57136696]]\n",
      "====\n",
      "[[0.         0.74623063 0.54387652]\n",
      " [1.         0.54982252 0.86880369]\n",
      " [2.         0.48378437 0.4058191 ]\n",
      " [3.         0.05389276 0.74456912]\n",
      " [4.         0.25701186 0.06036645]\n",
      " [5.         0.8916378  0.89596516]\n",
      " [6.         0.58300721 0.04265965]\n",
      " [7.         0.20272727 0.21064787]\n",
      " [8.         0.87517679 0.86032542]\n",
      " [9.         0.92974209 0.57136696]]\n"
     ]
    }
   ],
   "source": [
    "tmp1 = np.arange(10).reshape(10,1)\n",
    "tmp2 = np.random.rand(10,2).reshape(10,2)\n",
    "\n",
    "print(tmp1.shape)\n",
    "print(tmp2.shape)\n",
    "\n",
    "print(tmp1)\n",
    "print(tmp2)\n",
    "\n",
    "print(\"====\")\n",
    "\n",
    "print(np.hstack((tmp1,tmp2)))"
   ]
  },
  {
   "cell_type": "markdown",
   "metadata": {},
   "source": [
    "On peut les tracer sur un petit diagramme."
   ]
  },
  {
   "cell_type": "code",
   "execution_count": 69,
   "metadata": {},
   "outputs": [
    {
     "data": {
      "image/png": "[encoded data removed]",
      "text/plain": [
       "<Figure size 432x288 with 1 Axes>"
      ]
     },
     "metadata": {
      "needs_background": "light"
     },
     "output_type": "display_data"
    }
   ],
   "source": [
    "import matplotlib.pyplot as plt\n",
    "plt.plot(X[:,0], X[:,1], 'x')\n",
    "#plt.axis('equal')\n",
    "plt.show()"
   ]
  },
  {
   "cell_type": "markdown",
   "metadata": {},
   "source": [
    "Dans `X` la première dimension représente le numéro du point et la deuxième dimension les coordonnées de ce point ($x_1$, $x_2$). \n",
    "\n",
    "Maintenant on calcule les `a` et `b` comme tout à l'heure. On ajoute une dimension pour créer un objet en 3 dimensions ($n1=10$, $n2=10$, $x$) à partir de $X$ qui était en dimensions $n=10$ et $x=2$. \n",
    "\n",
    "Par la somme ou la différence, on aura dans a[i, j, k] - b[i, j, k] = X[i, k] - X[j, k] "
   ]
  },
  {
   "cell_type": "code",
   "execution_count": 164,
   "metadata": {},
   "outputs": [
    {
     "name": "stdout",
     "output_type": "stream",
     "text": [
      "(1, 10, 2)\n"
     ]
    }
   ],
   "source": [
    "aa = X.reshape(10,2)\n",
    "bb = X.reshape(2,10)\n",
    "#XX = aa - bb\n",
    "XX = X[np.newaxis,...]\n",
    "#XX = np.expand_dims(X, axis=1)\n",
    "print(XX.shape)\n"
   ]
  },
  {
   "cell_type": "code",
   "execution_count": null,
   "metadata": {},
   "outputs": [],
   "source": []
  },
  {
   "cell_type": "markdown",
   "metadata": {},
   "source": [
    "On peut calculer la différence au carré pour chaque coordonnée. "
   ]
  },
  {
   "cell_type": "code",
   "execution_count": null,
   "metadata": {},
   "outputs": [],
   "source": []
  },
  {
   "cell_type": "markdown",
   "metadata": {},
   "source": [
    "La distance au carré est la somme pour toutes ces coordonnées. Donc la somme sur la troisième composante. "
   ]
  },
  {
   "cell_type": "code",
   "execution_count": null,
   "metadata": {},
   "outputs": [],
   "source": []
  },
  {
   "cell_type": "code",
   "execution_count": null,
   "metadata": {},
   "outputs": [],
   "source": []
  },
  {
   "cell_type": "markdown",
   "metadata": {},
   "source": [
    "Quels 2 points les plus proches du point 0 ?  On peut utiliser `np.argsort` sur les distances au premier point... "
   ]
  },
  {
   "cell_type": "code",
   "execution_count": null,
   "metadata": {},
   "outputs": [],
   "source": []
  },
  {
   "cell_type": "code",
   "execution_count": null,
   "metadata": {},
   "outputs": [],
   "source": []
  },
  {
   "cell_type": "code",
   "execution_count": null,
   "metadata": {},
   "outputs": [],
   "source": []
  },
  {
   "cell_type": "code",
   "execution_count": null,
   "metadata": {},
   "outputs": [],
   "source": []
  },
  {
   "cell_type": "code",
   "execution_count": null,
   "metadata": {},
   "outputs": [],
   "source": []
  }
 ],
 "metadata": {
  "kernelspec": {
   "display_name": "Python 3",
   "language": "python",
   "name": "python3"
  },
  "language_info": {
   "codemirror_mode": {
    "name": "ipython",
    "version": 3
   },
   "file_extension": ".py",
   "mimetype": "text/x-python",
   "name": "python",
   "nbconvert_exporter": "python",
   "pygments_lexer": "ipython3",
   "version": "3.8.3"
  }
 },
 "nbformat": 4,
 "nbformat_minor": 2
}
