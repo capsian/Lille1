{
 "cells": [
  {
   "cell_type": "markdown",
   "metadata": {},
   "source": [
    "# À la main\n",
    "\n",
    "Dans cet exercices, vous faites les calculs en vous servant de python comme une calculette."
   ]
  },
  {
   "cell_type": "markdown",
   "metadata": {},
   "source": [
    "# Rappel\n",
    "- $w_{ij}$ : poids du neurone $i$ vers le neurone $j$ (donc d'une couche vers une autre couche.\n",
    "- $o_i$ est la sortie calculée de $i$ \n",
    "- $i\\to j$ signifie que $j$ est successeur direct du neurone $i$, une des entrées de $j$ est la sortie $o_i$ du neurone $i$, \n",
    "- $z_j$ est l'entrée pondérée $z_j = \\sum_{i\\to j} w_{ij} o_i$, \n",
    "- l'erreur est calculée par l'erreur quadratique $\\frac{\\partial E}{\\partial o_s}=\\frac{1}{2}(o_s - y)^2$\n",
    "- la  fonction d'activation de tous les neurones est la sigmoïde $$o_i=\\sigma(z_i)=\\frac{1}{1+e^{-z_i}}$$\n",
    "- la dérivée $\\sigma'(z)=\\sigma(z)(1-\\sigma(z))$, donc $\\frac{\\partial o_i}{\\partial z_i}=o_i(1-o_i)$.\n",
    "- On peut calculer l'influence d'un poids sur l'erreur par \n",
    "$$\\frac{\\partial E}{\\partial w_{ij}} = \\frac{\\partial E}{\\partial z_j}o_i$$\n",
    "- qui demande de calculer récursivement\n",
    "$$\\frac{\\partial E}{\\partial z_i}=o_i(1-o_i)\\sum_{i\\to j}\\frac{\\partial E}{\\partial z_j}w_{ij}$$\n",
    "- jusqu'à la couche de sortie: \n",
    "$$\\frac{\\partial E}{\\partial z_i}=o_i(1-o_i)(o_i-y)$$"
   ]
  },
  {
   "cell_type": "code",
   "execution_count": 1,
   "metadata": {},
   "outputs": [],
   "source": [
    "import numpy as np"
   ]
  },
  {
   "cell_type": "code",
   "execution_count": 2,
   "metadata": {},
   "outputs": [],
   "source": [
    "def sigmoide(x):\n",
    "    return 1/(1+np.exp(-x))"
   ]
  },
  {
   "attachments": {
    "image.png": {
     "image/png": "[encoded data removed]"
    }
   },
   "cell_type": "markdown",
   "metadata": {},
   "source": [
    "On considère le réseau suivant, (je simplifie les notations des indices)\n",
    "\n",
    "![image.png](attachment:image.png)\n",
    "\n",
    "Chaque neurone $f_i$ a la sigmoïde comme fonction d'activation.  "
   ]
  },
  {
   "cell_type": "markdown",
   "metadata": {},
   "source": [
    "**Question** \n",
    "Avec $\\vec w = (1, .5, 0, 1, .5, .5)$ et $\\vec x=(1, 2)$ et $y=1$. Appeler `oi` la sortie du neurone $f_i$. Appeler `E` la moitié de l'erreur quadratique. Calculez toutes ces quantités. "
   ]
  },
  {
   "cell_type": "code",
   "execution_count": 25,
   "metadata": {},
   "outputs": [
    {
     "name": "stdout",
     "output_type": "stream",
     "text": [
      "z1: [2.]\n",
      "o1: [0.88079708]\n"
     ]
    }
   ],
   "source": [
    "w = np.array([1, .5, 0, 2, .5, .5]).reshape(-1,1)\n",
    "x = np.array([1,2]).reshape(-1,1)\n",
    "z1 = w[0] * x[0] + w[1] * x[1]\n",
    "print(\"z1: \" + str(z1))\n",
    "o1 = sigmoide(z1)\n",
    "print(\"o1: \" + str(o1))"
   ]
  },
  {
   "cell_type": "code",
   "execution_count": 27,
   "metadata": {
    "scrolled": true
   },
   "outputs": [
    {
     "name": "stdout",
     "output_type": "stream",
     "text": [
      "[0.00710467]\n"
     ]
    }
   ],
   "source": [
    "y = 1\n",
    "E = 0.5 * (o1 - y)**2\n",
    "print(E)"
   ]
  },
  {
   "cell_type": "markdown",
   "metadata": {},
   "source": [
    "**Question** Appelons `delta_wi` toutes les dérivées partielles $\\frac{\\partial E}{\\partial w_i}$ et `delta_zi` les $\\frac{\\partial E}{\\partial z_i}$. Calculez `delta_z4`"
   ]
  },
  {
   "cell_type": "code",
   "execution_count": 31,
   "metadata": {},
   "outputs": [
    {
     "name": "stdout",
     "output_type": "stream",
     "text": [
      "delta_z4: [-0.07529531]\n",
      "delta_w4: [-0.049921]\n"
     ]
    }
   ],
   "source": [
    "z4 = o2 * w[4] + o3 * w[5]\n",
    "o4 = sigmoide(z4)\n",
    "\n",
    "delta_z4 = o4 * (1 - o4) * (o4 - y)\n",
    "delta_w4 = delta_z4 * o4\n",
    "\n",
    "print(\"delta_z4: \" + str(delta_z4))\n",
    "print(\"delta_w4: \" + str(delta_w4))"
   ]
  },
  {
   "cell_type": "markdown",
   "metadata": {},
   "source": [
    "**Question** Calculer `delta_z3`"
   ]
  },
  {
   "cell_type": "code",
   "execution_count": 42,
   "metadata": {},
   "outputs": [
    {
     "name": "stdout",
     "output_type": "stream",
     "text": [
      "delta_z3: [0.00137786]\n",
      "delta_w3: [0.00117611]\n"
     ]
    }
   ],
   "source": [
    "z3 = o1 * w[3]\n",
    "o3 = sigmoide(z3)\n",
    "\n",
    "delta_z3 = o3 * (1 - o3) * (o3 - y) * delta_z4\n",
    "delta_w3 = delta_z3 * o3\n",
    "\n",
    "print(\"delta_z3: \" + str(delta_z3))\n",
    "print(\"delta_w3: \" + str(delta_w3))"
   ]
  },
  {
   "cell_type": "markdown",
   "metadata": {},
   "source": [
    "**Question** puis `delta_z2`, et `delta_z1`"
   ]
  },
  {
   "cell_type": "code",
   "execution_count": 43,
   "metadata": {},
   "outputs": [
    {
     "name": "stdout",
     "output_type": "stream",
     "text": [
      "delta_z2: [0.00938594]\n",
      "delta_w2: [0.00470589]\n",
      "delta_z1: [-0.00013471]\n",
      "delta_w1: [-0.00011866]\n"
     ]
    }
   ],
   "source": [
    "z2 = o1 * w[2]\n",
    "o2 = sigmoide(z2)\n",
    "\n",
    "delta_z2 = o2 * (1 - o2) * (o2 - y) * (delta_z4)\n",
    "delta_w2 = delta_z2 * o2\n",
    "print(\"delta_z2: \" + str(delta_z2))\n",
    "print(\"delta_w2: \" + str(delta_w2))\n",
    "\n",
    "delta_z1 = o1 * (1 - o1) * (o1 - y) * (delta_z2 + delta_z3)\n",
    "delta_w1 = delta_z1 * o1\n",
    "print(\"delta_z1: \" + str(delta_z1))\n",
    "print(\"delta_w1: \" + str(delta_w1))\n"
   ]
  },
  {
   "cell_type": "markdown",
   "metadata": {},
   "source": [
    "**Question** Calculer les `delta_wi` et les nouveaux poids si on prend un pas de gradient de 0.1"
   ]
  },
  {
   "cell_type": "code",
   "execution_count": 46,
   "metadata": {},
   "outputs": [],
   "source": [
    "step = .1"
   ]
  },
  {
   "cell_type": "code",
   "execution_count": 47,
   "metadata": {},
   "outputs": [],
   "source": [
    "w[0] = w[0] - step * delta_w1\n",
    "w[1] = w[1] - step * delta_w1\n",
    "\n",
    "w[2] = w[2] - step * delta_w2\n",
    "\n",
    "w[3] = w[3] - step * delta_w3\n",
    "\n",
    "w[4] = w[4] - step * delta_w4\n",
    "w[5] = w[5] - step * delta_w4"
   ]
  },
  {
   "cell_type": "code",
   "execution_count": 48,
   "metadata": {},
   "outputs": [
    {
     "name": "stdout",
     "output_type": "stream",
     "text": [
      "[[1.00113796]\n",
      " [0.50113796]\n",
      " [0.00483823]\n",
      " [2.00121222]\n",
      " [0.5199684 ]\n",
      " [0.5199684 ]]\n"
     ]
    }
   ],
   "source": [
    "print(w)"
   ]
  },
  {
   "cell_type": "code",
   "execution_count": null,
   "metadata": {},
   "outputs": [],
   "source": []
  }
 ],
 "metadata": {
  "kernelspec": {
   "display_name": "Python 3",
   "language": "python",
   "name": "python3"
  },
  "language_info": {
   "codemirror_mode": {
    "name": "ipython",
    "version": 3
   },
   "file_extension": ".py",
   "mimetype": "text/x-python",
   "name": "python",
   "nbconvert_exporter": "python",
   "pygments_lexer": "ipython3",
   "version": "3.8.3"
  }
 },
 "nbformat": 4,
 "nbformat_minor": 4
}
