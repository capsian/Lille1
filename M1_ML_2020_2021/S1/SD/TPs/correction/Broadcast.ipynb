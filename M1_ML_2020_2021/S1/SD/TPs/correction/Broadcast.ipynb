{
 "cells": [
  {
   "cell_type": "code",
   "execution_count": 2,
   "metadata": {},
   "outputs": [],
   "source": [
    "import numpy as np"
   ]
  },
  {
   "cell_type": "markdown",
   "metadata": {},
   "source": [
    "# Jouer avec des points"
   ]
  },
  {
   "cell_type": "markdown",
   "metadata": {},
   "source": [
    "On considère $Y$ les points sur la droite aux valeurs  1, 3, 7, 2 (c'est juste un vecteur)."
   ]
  },
  {
   "cell_type": "code",
   "execution_count": 3,
   "metadata": {},
   "outputs": [],
   "source": [
    "Y = np.array([1, 3, 7, 2])"
   ]
  },
  {
   "cell_type": "markdown",
   "metadata": {},
   "source": [
    "On va calculer toute les différences entre ces valeurs. On construit un matrice `M` telle que `M[i,j] = Y[i] - Y[j]` et `i` et `j` sont deux indices pour tous les identifiants de points possibles. Pour cela, on peut utiliser le broadcasting... \n",
    "\n",
    "On constuit `Y - Y.T`, mais il faut transformer le vecteurs 1d `Y` en matrices `a` et `b` de taille (4, 1) et (1, 4)"
   ]
  },
  {
   "cell_type": "code",
   "execution_count": 4,
   "metadata": {},
   "outputs": [
    {
     "data": {
      "text/plain": [
       "(array([[1],\n",
       "        [3],\n",
       "        [7],\n",
       "        [2]]),\n",
       " array([[1, 3, 7, 2]]))"
      ]
     },
     "execution_count": 4,
     "metadata": {},
     "output_type": "execute_result"
    }
   ],
   "source": [
    "a = Y.reshape((4,1))\n",
    "b = Y.reshape((1,4))\n",
    "a, b"
   ]
  },
  {
   "cell_type": "markdown",
   "metadata": {},
   "source": [
    "Une autre façon de procéder est d'ajouter un axe avec `np.newaxis`. Observer `Y[:, np.newaxis]`. En déduire comment construire `a` et `b` autrement."
   ]
  },
  {
   "cell_type": "code",
   "execution_count": 5,
   "metadata": {},
   "outputs": [
    {
     "data": {
      "text/plain": [
       "(array([[1],\n",
       "        [3],\n",
       "        [7],\n",
       "        [2]]),\n",
       " array([[1, 3, 7, 2]]))"
      ]
     },
     "execution_count": 5,
     "metadata": {},
     "output_type": "execute_result"
    }
   ],
   "source": [
    "a = Y[:, np.newaxis]\n",
    "b = Y[np.newaxis, :]\n",
    "a , b"
   ]
  },
  {
   "cell_type": "markdown",
   "metadata": {},
   "source": [
    "On peut calculer les distances au carré de chaque point vers chaque autre point."
   ]
  },
  {
   "cell_type": "code",
   "execution_count": 6,
   "metadata": {},
   "outputs": [
    {
     "data": {
      "text/plain": [
       "array([[ 0, -2, -6, -1],\n",
       "       [ 2,  0, -4,  1],\n",
       "       [ 6,  4,  0,  5],\n",
       "       [ 1, -1, -5,  0]])"
      ]
     },
     "execution_count": 6,
     "metadata": {},
     "output_type": "execute_result"
    }
   ],
   "source": [
    "(a - b)"
   ]
  },
  {
   "cell_type": "code",
   "execution_count": 7,
   "metadata": {},
   "outputs": [],
   "source": [
    "d = (a-b)**2"
   ]
  },
  {
   "cell_type": "code",
   "execution_count": 8,
   "metadata": {},
   "outputs": [
    {
     "data": {
      "text/plain": [
       "array([[ 0,  4, 36,  1],\n",
       "       [ 4,  0, 16,  1],\n",
       "       [36, 16,  0, 25],\n",
       "       [ 1,  1, 25,  0]])"
      ]
     },
     "execution_count": 8,
     "metadata": {},
     "output_type": "execute_result"
    }
   ],
   "source": [
    "d"
   ]
  },
  {
   "cell_type": "markdown",
   "metadata": {},
   "source": [
    "Quel est le point le plus proche de chaque point ? Regardez la documentation de `np.argsort`. Voyez par exemple \n",
    "\n",
    "    np.argsort(np.array([1, 0, 12, 2]))\n",
    "    \n",
    "Appliquez cela sur la matrice des distance en prenant le bon axe!"
   ]
  },
  {
   "cell_type": "code",
   "execution_count": 2,
   "metadata": {},
   "outputs": [],
   "source": [
    "np.argsort?"
   ]
  },
  {
   "cell_type": "code",
   "execution_count": 9,
   "metadata": {},
   "outputs": [
    {
     "data": {
      "text/plain": [
       "array([1, 0, 3, 2])"
      ]
     },
     "execution_count": 9,
     "metadata": {},
     "output_type": "execute_result"
    }
   ],
   "source": [
    "np.argsort(np.array([1, 0, 12, 2]))"
   ]
  },
  {
   "cell_type": "code",
   "execution_count": 10,
   "metadata": {},
   "outputs": [
    {
     "data": {
      "text/plain": [
       "array([[0, 3, 1, 2],\n",
       "       [1, 3, 0, 2],\n",
       "       [2, 1, 3, 0],\n",
       "       [3, 0, 1, 2]])"
      ]
     },
     "execution_count": 10,
     "metadata": {},
     "output_type": "execute_result"
    }
   ],
   "source": [
    "np.argsort(d, axis=1)"
   ]
  },
  {
   "cell_type": "markdown",
   "metadata": {},
   "source": [
    "On recommence avec maintenant des points en dimension 2. On va alors calculer toutes les distances au carré entre ces points.  "
   ]
  },
  {
   "cell_type": "markdown",
   "metadata": {},
   "source": [
    "Tirer aléatoirement $X$, un jeu de données de 10 points dans $[0, 1]^2$. On utilise `np.random.rand`."
   ]
  },
  {
   "cell_type": "code",
   "execution_count": 11,
   "metadata": {},
   "outputs": [
    {
     "data": {
      "text/plain": [
       "array([[0.02440577, 0.74004515],\n",
       "       [0.04617169, 0.77779894],\n",
       "       [0.9829781 , 0.96047433],\n",
       "       [0.01651645, 0.5620916 ],\n",
       "       [0.70446561, 0.71654119],\n",
       "       [0.75299186, 0.55684779],\n",
       "       [0.57875808, 0.90644961],\n",
       "       [0.7217755 , 0.51727325],\n",
       "       [0.02681079, 0.6654631 ],\n",
       "       [0.39874559, 0.25185978]])"
      ]
     },
     "execution_count": 11,
     "metadata": {},
     "output_type": "execute_result"
    }
   ],
   "source": [
    "X = np.random.rand(10,2)\n",
    "X"
   ]
  },
  {
   "cell_type": "markdown",
   "metadata": {},
   "source": [
    "On peut les tracer sur un petit diagramme."
   ]
  },
  {
   "cell_type": "code",
   "execution_count": 13,
   "metadata": {},
   "outputs": [
    {
     "data": {
      "text/plain": [
       "<matplotlib.collections.PathCollection at 0x7fd514cc7ca0>"
      ]
     },
     "execution_count": 13,
     "metadata": {},
     "output_type": "execute_result"
    },
    {
     "data": {
      "image/png": "[encoded data removed]",
      "text/plain": [
       "<Figure size 432x288 with 1 Axes>"
      ]
     },
     "metadata": {
      "needs_background": "light"
     },
     "output_type": "display_data"
    }
   ],
   "source": [
    "from matplotlib import pyplot as plt\n",
    "\n",
    "plt.scatter(X[:, 0], X[:, 1])"
   ]
  },
  {
   "cell_type": "markdown",
   "metadata": {},
   "source": [
    "Dans `X` la première dimension représente le numéro du point et la deuxième dimension les coordonnées de ce point ($x_1$, $x_2$). \n",
    "\n",
    "Maintenant on calcule les `a` et `b` comme tout à l'heure. On ajoute une dimension pour créer un objet en 3 dimensions ($n1=10$, $n2=10$, $x$) à partir de $X$ qui était en dimensions $n=10$ et $x=2$. \n",
    "\n",
    "Par la somme ou la différence, on aura dans a[i, j, k] - b[i, j, k] = X[i, k] - X[j, k] "
   ]
  },
  {
   "cell_type": "code",
   "execution_count": 14,
   "metadata": {},
   "outputs": [],
   "source": [
    "a = X[:, np.newaxis, :]"
   ]
  },
  {
   "cell_type": "code",
   "execution_count": 16,
   "metadata": {},
   "outputs": [
    {
     "name": "stdout",
     "output_type": "stream",
     "text": [
      "(10, 1, 2)\n",
      "[[[0.02440577 0.74004515]]\n",
      "\n",
      " [[0.04617169 0.77779894]]\n",
      "\n",
      " [[0.9829781  0.96047433]]\n",
      "\n",
      " [[0.01651645 0.5620916 ]]\n",
      "\n",
      " [[0.70446561 0.71654119]]\n",
      "\n",
      " [[0.75299186 0.55684779]]\n",
      "\n",
      " [[0.57875808 0.90644961]]\n",
      "\n",
      " [[0.7217755  0.51727325]]\n",
      "\n",
      " [[0.02681079 0.6654631 ]]\n",
      "\n",
      " [[0.39874559 0.25185978]]]\n"
     ]
    }
   ],
   "source": [
    "print(a.shape)\n",
    "print(a)"
   ]
  },
  {
   "cell_type": "code",
   "execution_count": 17,
   "metadata": {},
   "outputs": [
    {
     "name": "stdout",
     "output_type": "stream",
     "text": [
      "(1, 10, 2)\n",
      "[[[0.02440577 0.74004515]\n",
      "  [0.04617169 0.77779894]\n",
      "  [0.9829781  0.96047433]\n",
      "  [0.01651645 0.5620916 ]\n",
      "  [0.70446561 0.71654119]\n",
      "  [0.75299186 0.55684779]\n",
      "  [0.57875808 0.90644961]\n",
      "  [0.7217755  0.51727325]\n",
      "  [0.02681079 0.6654631 ]\n",
      "  [0.39874559 0.25185978]]]\n"
     ]
    }
   ],
   "source": [
    "b = X[np.newaxis, :, :]\n",
    "print(b.shape)\n",
    "print(b)"
   ]
  },
  {
   "cell_type": "markdown",
   "metadata": {},
   "source": [
    "On peut calculer la différence au carré pour chaque coordonnée. "
   ]
  },
  {
   "cell_type": "code",
   "execution_count": 19,
   "metadata": {},
   "outputs": [
    {
     "name": "stdout",
     "output_type": "stream",
     "text": [
      "(10, 10, 2)\n",
      "[[[0.00000000e+00 0.00000000e+00]\n",
      "  [4.73755614e-04 1.42534861e-03]\n",
      "  [9.18860922e-01 4.85890242e-02]\n",
      "  [6.22413004e-05 3.16674643e-02]\n",
      "  [4.62481388e-01 5.52436039e-04]\n",
      "  [5.30837700e-01 3.35612738e-02]\n",
      "  [3.07306491e-01 2.76904440e-02]\n",
      "  [4.86324550e-01 4.96273207e-02]\n",
      "  [5.78415598e-06 5.56248167e-03]\n",
      "  [1.40130305e-01 2.38324951e-01]]\n",
      "\n",
      " [[4.73755614e-04 1.42534861e-03]\n",
      "  [0.00000000e+00 0.00000000e+00]\n",
      "  [8.77606246e-01 3.33702991e-02]\n",
      "  [8.79433461e-04 4.65296542e-02]\n",
      "  [4.33350876e-01 3.75251160e-03]\n",
      "  [4.99594751e-01 4.88194117e-02]\n",
      "  [2.83648262e-01 1.65509948e-02]\n",
      "  [4.56440506e-01 6.78736363e-02]\n",
      "  [3.74844471e-04 1.26193400e-02]\n",
      "  [1.24308353e-01 2.76611994e-01]]\n",
      "\n",
      " [[9.18860922e-01 4.85890242e-02]\n",
      "  [8.77606246e-01 3.33702991e-02]\n",
      "  [0.00000000e+00 0.00000000e+00]\n",
      "  [9.34048123e-01 1.58708797e-01]\n",
      "  [7.75692095e-02 5.95033767e-02]\n",
      "  [5.28936702e-02 1.62914388e-01]\n",
      "  [1.63393824e-01 2.91867068e-03]\n",
      "  [6.82267977e-02 1.96427202e-01]\n",
      "  [9.14255921e-01 8.70316249e-02]\n",
      "  [3.41327626e-01 5.02134576e-01]]\n",
      "\n",
      " [[6.22413004e-05 3.16674643e-02]\n",
      "  [8.79433461e-04 4.65296542e-02]\n",
      "  [9.34048123e-01 1.58708797e-01]\n",
      "  [0.00000000e+00 0.00000000e+00]\n",
      "  [4.73274042e-01 2.38546751e-02]\n",
      "  [5.42396033e-01 2.74976226e-05]\n",
      "  [3.16115653e-01 1.18582435e-01]\n",
      "  [4.97390331e-01 2.00868516e-03]\n",
      "  [1.05973494e-04 1.06856668e-02]\n",
      "  [1.46099116e-01 9.62437821e-02]]\n",
      "\n",
      " [[4.62481388e-01 5.52436039e-04]\n",
      "  [4.33350876e-01 3.75251160e-03]\n",
      "  [7.75692095e-02 5.95033767e-02]\n",
      "  [4.73274042e-01 2.38546751e-02]\n",
      "  [0.00000000e+00 0.00000000e+00]\n",
      "  [2.35479745e-03 2.55019836e-02]\n",
      "  [1.58023817e-02 3.60652068e-02]\n",
      "  [2.99632480e-04 3.97077139e-02]\n",
      "  [4.59216047e-01 2.60897114e-03]\n",
      "  [9.34647280e-02 2.15928810e-01]]\n",
      "\n",
      " [[5.30837700e-01 3.35612738e-02]\n",
      "  [4.99594751e-01 4.88194117e-02]\n",
      "  [5.28936702e-02 1.62914388e-01]\n",
      "  [5.42396033e-01 2.74976226e-05]\n",
      "  [2.35479745e-03 2.55019836e-02]\n",
      "  [0.00000000e+00 0.00000000e+00]\n",
      "  [3.03574100e-02 1.22221434e-01]\n",
      "  [9.74461120e-04 1.56614421e-03]\n",
      "  [5.27338945e-01 1.17972869e-02]\n",
      "  [1.25490420e-01 9.30176816e-02]]\n",
      "\n",
      " [[3.07306491e-01 2.76904440e-02]\n",
      "  [2.83648262e-01 1.65509948e-02]\n",
      "  [1.63393824e-01 2.91867068e-03]\n",
      "  [3.16115653e-01 1.18582435e-01]\n",
      "  [1.58023817e-02 3.60652068e-02]\n",
      "  [3.03574100e-02 1.22221434e-01]\n",
      "  [0.00000000e+00 0.00000000e+00]\n",
      "  [2.04539824e-02 1.51458241e-01]\n",
      "  [3.04645810e-01 5.80744959e-02]\n",
      "  [3.24044970e-02 4.28487838e-01]]\n",
      "\n",
      " [[4.86324550e-01 4.96273207e-02]\n",
      "  [4.56440506e-01 6.78736363e-02]\n",
      "  [6.82267977e-02 1.96427202e-01]\n",
      "  [4.97390331e-01 2.00868516e-03]\n",
      "  [2.99632480e-04 3.97077139e-02]\n",
      "  [9.74461120e-04 1.56614421e-03]\n",
      "  [2.04539824e-02 1.51458241e-01]\n",
      "  [0.00000000e+00 0.00000000e+00]\n",
      "  [4.82975947e-01 2.19602335e-02]\n",
      "  [1.04348323e-01 7.04443061e-02]]\n",
      "\n",
      " [[5.78415598e-06 5.56248167e-03]\n",
      "  [3.74844471e-04 1.26193400e-02]\n",
      "  [9.14255921e-01 8.70316249e-02]\n",
      "  [1.05973494e-04 1.06856668e-02]\n",
      "  [4.59216047e-01 2.60897114e-03]\n",
      "  [5.27338945e-01 1.17972869e-02]\n",
      "  [3.04645810e-01 5.80744959e-02]\n",
      "  [4.82975947e-01 2.19602335e-02]\n",
      "  [0.00000000e+00 0.00000000e+00]\n",
      "  [1.38335494e-01 1.71067705e-01]]\n",
      "\n",
      " [[1.40130305e-01 2.38324951e-01]\n",
      "  [1.24308353e-01 2.76611994e-01]\n",
      "  [3.41327626e-01 5.02134576e-01]\n",
      "  [1.46099116e-01 9.62437821e-02]\n",
      "  [9.34647280e-02 2.15928810e-01]\n",
      "  [1.25490420e-01 9.30176816e-02]\n",
      "  [3.24044970e-02 4.28487838e-01]\n",
      "  [1.04348323e-01 7.04443061e-02]\n",
      "  [1.38335494e-01 1.71067705e-01]\n",
      "  [0.00000000e+00 0.00000000e+00]]]\n"
     ]
    }
   ],
   "source": [
    "d_comp = (a-b)**2\n",
    "print(d_comp.shape)\n",
    "print(d_comp)"
   ]
  },
  {
   "cell_type": "markdown",
   "metadata": {},
   "source": [
    "La distance au carré est la somme pour toutes ces coordonnées. Donc la somme sur la troisième composante. "
   ]
  },
  {
   "cell_type": "code",
   "execution_count": 20,
   "metadata": {},
   "outputs": [],
   "source": [
    "d = d_comp.sum(axis=2)"
   ]
  },
  {
   "cell_type": "code",
   "execution_count": 28,
   "metadata": {},
   "outputs": [
    {
     "name": "stdout",
     "output_type": "stream",
     "text": [
      "(10, 10)\n",
      "[[0.         0.0018991  0.96744995 0.03172971 0.46303382 0.56439897\n",
      "  0.33499693 0.53595187 0.00556827 0.37845526]\n",
      " [0.0018991  0.         0.91097654 0.04740909 0.43710339 0.54841416\n",
      "  0.30019926 0.52431414 0.01299418 0.40092035]\n",
      " [0.96744995 0.91097654 0.         1.09275692 0.13707259 0.21580806\n",
      "  0.16631249 0.264654   1.00128755 0.8434622 ]\n",
      " [0.03172971 0.04740909 1.09275692 0.         0.49712872 0.54242353\n",
      "  0.43469809 0.49939902 0.01079164 0.2423429 ]\n",
      " [0.46303382 0.43710339 0.13707259 0.49712872 0.         0.02785678\n",
      "  0.05186759 0.04000735 0.46182502 0.30939354]\n",
      " [0.56439897 0.54841416 0.21580806 0.54242353 0.02785678 0.\n",
      "  0.15257884 0.00254061 0.53913623 0.2185081 ]\n",
      " [0.33499693 0.30019926 0.16631249 0.43469809 0.05186759 0.15257884\n",
      "  0.         0.17191222 0.36272031 0.46089234]\n",
      " [0.53595187 0.52431414 0.264654   0.49939902 0.04000735 0.00254061\n",
      "  0.17191222 0.         0.50493618 0.17479263]\n",
      " [0.00556827 0.01299418 1.00128755 0.01079164 0.46182502 0.53913623\n",
      "  0.36272031 0.50493618 0.         0.3094032 ]\n",
      " [0.37845526 0.40092035 0.8434622  0.2423429  0.30939354 0.2185081\n",
      "  0.46089234 0.17479263 0.3094032  0.        ]]\n"
     ]
    }
   ],
   "source": [
    "print(d.shape)\n",
    "print(d)"
   ]
  },
  {
   "cell_type": "markdown",
   "metadata": {},
   "source": [
    "Quels 2 points les plus proches du point 0 ?  On peut utiliser `np.argsort` sur les distances au premier point... "
   ]
  },
  {
   "cell_type": "code",
   "execution_count": 22,
   "metadata": {},
   "outputs": [
    {
     "data": {
      "text/plain": [
       "array([0.        , 0.0018991 , 0.96744995, 0.03172971, 0.46303382,\n",
       "       0.56439897, 0.33499693, 0.53595187, 0.00556827, 0.37845526])"
      ]
     },
     "execution_count": 22,
     "metadata": {},
     "output_type": "execute_result"
    }
   ],
   "source": [
    "d[0,:]"
   ]
  },
  {
   "cell_type": "code",
   "execution_count": 183,
   "metadata": {},
   "outputs": [],
   "source": [
    "np.argsort?"
   ]
  },
  {
   "cell_type": "code",
   "execution_count": 23,
   "metadata": {},
   "outputs": [
    {
     "data": {
      "text/plain": [
       "array([0, 1, 8, 3, 6, 9, 4, 7, 5, 2])"
      ]
     },
     "execution_count": 23,
     "metadata": {},
     "output_type": "execute_result"
    }
   ],
   "source": [
    "np.argsort(d[0,:])"
   ]
  },
  {
   "cell_type": "code",
   "execution_count": 24,
   "metadata": {},
   "outputs": [
    {
     "data": {
      "text/plain": [
       "array([[0, 1, 8, 3, 6, 9, 4, 7, 5, 2],\n",
       "       [1, 0, 8, 3, 6, 9, 4, 7, 5, 2],\n",
       "       [2, 4, 6, 5, 7, 9, 1, 0, 8, 3],\n",
       "       [3, 8, 0, 1, 9, 6, 4, 7, 5, 2],\n",
       "       [4, 5, 7, 6, 2, 9, 1, 8, 0, 3],\n",
       "       [5, 7, 4, 6, 2, 9, 8, 3, 1, 0],\n",
       "       [6, 4, 5, 2, 7, 1, 0, 8, 3, 9],\n",
       "       [7, 5, 4, 6, 9, 2, 3, 8, 1, 0],\n",
       "       [8, 0, 3, 1, 9, 6, 4, 7, 5, 2],\n",
       "       [9, 7, 5, 3, 4, 8, 0, 1, 6, 2]])"
      ]
     },
     "execution_count": 24,
     "metadata": {},
     "output_type": "execute_result"
    }
   ],
   "source": [
    "np.argsort(d, axis=1)"
   ]
  },
  {
   "cell_type": "code",
   "execution_count": null,
   "metadata": {},
   "outputs": [],
   "source": []
  }
 ],
 "metadata": {
  "kernelspec": {
   "display_name": "Python 3",
   "language": "python",
   "name": "python3"
  },
  "language_info": {
   "codemirror_mode": {
    "name": "ipython",
    "version": 3
   },
   "file_extension": ".py",
   "mimetype": "text/x-python",
   "name": "python",
   "nbconvert_exporter": "python",
   "pygments_lexer": "ipython3",
   "version": "3.8.3"
  }
 },
 "nbformat": 4,
 "nbformat_minor": 2
}
