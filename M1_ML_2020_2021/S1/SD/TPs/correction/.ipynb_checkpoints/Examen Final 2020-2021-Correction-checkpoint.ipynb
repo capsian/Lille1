{
 "cells": [
  {
   "cell_type": "markdown",
   "metadata": {},
   "source": [
    "# Exercices, solutions illustrées par des exemples \n",
    "\n",
    "Pour chaque exercice dans cette section donner une réponse vrai/faux et un exemple illustrant chacune de vos réponses. **Les points ne sont comptés que par la présence de l'exemple**. L'exemple peut être un jeu de données minimal, ou expliqué en quelques mots."
   ]
  },
  {
   "cell_type": "markdown",
   "metadata": {},
   "source": [
    "**Question**\n",
    "La règle majoritaire est basique car elle n'utilise pas les valeurs des attributs décrivant les données pour sa décision. Une méthode de classification qui va utiliser les valeurs des atttributs donne *toujours* un meilleur résultat. "
   ]
  },
  {
   "cell_type": "markdown",
   "metadata": {},
   "source": [
    "*Réponse* : \n",
    "<div style=\"color: red\">\n",
    "    Les valeurs des colonnes peuvent ne pas apporter d'information. Par exemple si elles sont toutes identiques ou si elles sont tirées aléatoirement uniformément.\n",
    "</div>"
   ]
  },
  {
   "cell_type": "markdown",
   "metadata": {},
   "source": [
    "**Question**\n",
    "Les données d'une colonne A sont comprises entre 1.1e-5 et .9e-5, l'écart type est de 1e-6, les valeurs des autres colonnes de B à Z sont comprises entre 1 et 100 et l'écart type est 5. \n",
    "   1. [ ] La colonne A est inutile on peut la supprimer car les valeurs sont trop petites \n",
    "   2. [ ] La colonne A est inutile on peut la supprimer car les valeurs sont trop ressérées\n",
    "   3. [ ] Il faut absolument garder la colonne A car les valeurs sont vraiment différentes\n",
    "   4. [ ] On ne peut pas conclure s'il faut garder ou supprimer la colonne A\n",
    "   5. [ ] On peut ne garder qu'une seule des colonnes de B à Z"
   ]
  },
  {
   "cell_type": "markdown",
   "metadata": {},
   "source": [
    "*Réponse* \n",
    "\n",
    "<div style=\"color: red\">\n",
    "\n",
    "1. Faux : Cas extrême, la colonne à $y$ prédire est par exemple $y=100000 * A$\n",
    "2. Faux : même exemple\n",
    "3. Faux : Les valeurs de A sont obtenues aléatoirement uniformément et n'ont aucune dépendance à la cible\n",
    "4. Vrai\n",
    "5. Faux : ce qui a été dit en 1,2, 3 s'applique aussi pour les autres colonnes  \n",
    "\n",
    "</div>"
   ]
  },
  {
   "cell_type": "markdown",
   "metadata": {},
   "source": [
    "**Question**\n",
    "J'ai un problème de classification. Il est important de calculer la micro et la macro average quand\n",
    "   1. [ ] Il n'y a que deux classes\n",
    "   2. [ ] Il y a plus de deux classes\n",
    "   3. [ ] Les classes sont très déséquilibrées\n",
    "   4. [ ] Il y a beaucoup de classes (plus de 10)"
   ]
  },
  {
   "cell_type": "markdown",
   "metadata": {},
   "source": [
    "*Réponse*\n",
    "<div style=\"color: red\">\n",
    "Dans le cas de deux classes on aura une matrice de confusion la forme\n",
    "\n",
    "            | 0 | 1 |\n",
    "        | 0 | A | B |\n",
    "        | 1 | C | D |\n",
    "        \n",
    "  - la macro average sera (A/(A+C) + D/(B+D))/2\n",
    "  - la micro average sera (A + D) / (A + B + C + D)\n",
    "  - Si A = D = C = 1 et B = 1000 alors micro est proche d'1/4 et macro est proche de 0\n",
    "  - Si A + C = B + D alors les deux moyennes sont identiques. \n",
    "  \n",
    "Donc les deux moyennes sont vraiment différentes si les classes sont déséquilibrées, même s'il n'y a que deux classes. Le même raisonnement tient lorsque le nombre de classes est plus grand. Donc la bonne réponse est 3. \n",
    "</div>"
   ]
  },
  {
   "cell_type": "markdown",
   "metadata": {},
   "source": [
    "# Exercices"
   ]
  },
  {
   "cell_type": "markdown",
   "metadata": {},
   "source": [
    "Répondez par une réelle explication aux questions suivantes."
   ]
  },
  {
   "cell_type": "markdown",
   "metadata": {},
   "source": [
    "**Question**\n",
    "J'ai calculé ma matrice de correlations entre les 100 colonnes de mon jeu de données. J'ai trouvé que les colonnes A et B sont correlées avec une valeur de 0.96, A et C sont corrélées avec une valeur de -0.98, et B et D sont correlées avec une valeur de .23 et A et E avec une valeur de 0.01. Que suggérez vous de faire ?"
   ]
  },
  {
   "cell_type": "markdown",
   "metadata": {},
   "source": [
    "*Réponse* : \n",
    "\n",
    "<div style=\"color: red\">On pourrait ne conserver que la colonne A, mais il faut aussi regarder si on est par exemple face à un problème de classification très déséquilibré comme de la détection de fraude et si la corrélation est encore très forte dans le cas de la classe la plus faiblement représentée... \n",
    "</div>"
   ]
  },
  {
   "cell_type": "markdown",
   "metadata": {},
   "source": [
    "**Question**\n",
    "J'ai exécuté le code suivant\n",
    " \n",
    "      data = pd.read_csv(\"dataset.csv\")\n",
    "      X = data.loc[:, data.columns != \"label\"]\n",
    "      y = data[\"label\"]\n",
    "      X_train, X_test, y_train, y_test = train_test_split(X, y, test_size=0.33)\n",
    "      dtree = DecisionTreeClassifier()\n",
    "      print(dtree.fit(X_train, y_train).score(X_test, y_test))\n",
    "      X_scaled = scale(X)\n",
    "      X_train, X_test, y_train, y_test = train_test_split(X_scaled, y, test_size=0.33)\n",
    "      print(dtree.fit(X_train, y_train).score(X_test, y_test))\n",
    "\n",
    "   et j'ai obtenu les scores suivants 0.45 et 0.98. Que concluez-vous ? "
   ]
  },
  {
   "cell_type": "markdown",
   "metadata": {},
   "source": [
    "*Réponse*\n",
    "<div style=\"color: red\">\n",
    "   Il faut répéter l'expérience ou augmenter le jeu de données car il n'est pas normal d'observer des différences dans l'algorithme d'arbres de décision lorsqu'on change l'échelle des données. \n",
    "    </div>"
   ]
  },
  {
   "cell_type": "markdown",
   "metadata": {},
   "source": [
    "**Question**\n",
    "J'ai exécuté le code suivant\n",
    " \n",
    "      data = pd.read_csv(\"dataset.csv\")\n",
    "      X = data.loc[:, data.columns != \"label\"]\n",
    "      y = data[\"label\"]\n",
    "      X_train, X_test, y_train, y_test = train_test_split(X, y, test_size=0.33)\n",
    "      lr = LogisticRegression()\n",
    "      print(lr.fit(X_train, y_train).score(X_test, y_test))\n",
    "      X_train_scaled = scale(X_train)\n",
    "      print(lr.fit(X_train_scale, y_train).score(X_test, y_test))\n",
    "\n",
    "   et j'ai obtenu les scores suivants 0.67 et 0.32. Que concluez-vous ? "
   ]
  },
  {
   "cell_type": "markdown",
   "metadata": {},
   "source": [
    "*Réponse* \n",
    "<div style=\"color: red\">\n",
    "   Il y a ici une erreur de conception de l'expérience. Le modèle appris avec les données non mises à l'échelle ne peut pas se comporter correctement sur les données mises à l'échelle. Le test doit donc être également mis à l'échelle pour comparer les deux résultats. \n",
    "   </div>"
   ]
  },
  {
   "cell_type": "markdown",
   "metadata": {},
   "source": [
    "**Question**\n",
    "J'ai exécuté le code suivant\n",
    "\n",
    "      data = pd.read_csv(\"dataset.csv\")\n",
    "      X = data.loc[:, data.columns != \"label\"]\n",
    "      y = data[\"label\"]\n",
    "      clfs = [GaussianNB(), \n",
    "              SVC(), \n",
    "              LogisticRegression(max_iter=10000), \n",
    "              DecisionTreeClassifier(criterion=\"entropy\"),\n",
    "              RandomForestClassifier()]\n",
    "      for clf in clfs:\n",
    "          clf.fit(X, y)\n",
    "      for clf in clfs:\n",
    "          print(\"{}:{}\".format(clf.__class__.__name__, clf.score(X, y)))\n",
    "   et j'ai obtenu\n",
    "   \n",
    "      GaussianNB:0.67 \n",
    "      SVC:0.82 \n",
    "      LogisticRegression:0.79 \n",
    "      DecisionTreeClassifier:0.98\n",
    "      RandomForestClassifier:0.99\n",
    "   Quel est le meilleur classifieur ? Que proposez-vous de faire ?"
   ]
  },
  {
   "cell_type": "markdown",
   "metadata": {},
   "source": [
    "*Réponse*\n",
    "<div style=\"color: red\">\n",
    "On ne peut pas dire plus de choses que DecisionTree et RandomForest ont très bien classé, mais c'est peut être (sans doute même) dû à un sur-apprentissage. Il faut absolument préparer un échantillon en préservant un échantillon de test ou de validation pour comparer ces méthodes. </div>"
   ]
  },
  {
   "cell_type": "markdown",
   "metadata": {},
   "source": [
    "# Entraînement de réseau de neurones"
   ]
  },
  {
   "cell_type": "markdown",
   "metadata": {},
   "source": [
    "**Question** Lire le fichier de données `dataset.csv`. L'attribut à prédire est la colonne `label`. Enlever les attributs `file_name`, `spectral_rolloff`, `spectral_bandwidth`, `melspectogram`, `delta`. Normaliser les colonnes restantes. Préparer l'échantillon en prenant 1/4 pour le test. Construire un réseau de neurones avec 2 couches cachées contenant 100 et  50 neurones, activation relu et autres paramètres par défaut. Afficher les erreurs en test et apprentissage.  "
   ]
  },
  {
   "cell_type": "code",
   "execution_count": 2,
   "metadata": {},
   "outputs": [],
   "source": [
    "import numpy as np\n",
    "import pandas as pd\n",
    "import matplotlib.pyplot as plt\n",
    "%matplotlib inline\n",
    "import seaborn as sns ; sns.set()\n",
    "from sklearn.preprocessing import scale\n",
    "from sklearn.model_selection import train_test_split\n",
    "\n",
    "data = pd.read_csv(\"dataset.csv\")\n",
    "\n",
    "data_simple = data.drop([\"file_name\", \"spectral_rolloff\", \"spectral_bandwidth\", \"melspectogram\", \"delta\", \"label\"], axis=1)\n",
    "X = scale(data_simple)\n",
    "y = data[\"label\"]"
   ]
  },
  {
   "cell_type": "code",
   "execution_count": 3,
   "metadata": {},
   "outputs": [
    {
     "name": "stdout",
     "output_type": "stream",
     "text": [
      "0.7477064220183486 0.9992343032159265\n"
     ]
    }
   ],
   "source": [
    "from sklearn.neural_network import MLPClassifier\n",
    "mlp = MLPClassifier(hidden_layer_sizes=(100, 50), max_iter=2000)\n",
    "X_train, X_test, y_train, y_test = train_test_split(X, y, random_state=42)\n",
    "mlp.fit(X_train, y_train)\n",
    "print(mlp.score(X_test, y_test), mlp.score(X_train, y_train))"
   ]
  },
  {
   "cell_type": "markdown",
   "metadata": {},
   "source": [
    "**Question**\n",
    "En utilisant l'attribut `loss_curve_` tracer la courbe montrant l'évolution de la fonction de perte au cours des itérations. "
   ]
  },
  {
   "cell_type": "code",
   "execution_count": 4,
   "metadata": {},
   "outputs": [
    {
     "data": {
      "text/plain": [
       "[<matplotlib.lines.Line2D at 0x7f4a15e6c3d0>]"
      ]
     },
     "execution_count": 4,
     "metadata": {},
     "output_type": "execute_result"
    },
    {
     "data": {
      "image/png": "[encoded data removed]",
      "text/plain": [
       "<Figure size 432x288 with 1 Axes>"
      ]
     },
     "metadata": {},
     "output_type": "display_data"
    }
   ],
   "source": [
    "plt.plot(mlp.loss_curve_)"
   ]
  },
  {
   "cell_type": "markdown",
   "metadata": {},
   "source": [
    "**Question** Commentez la courbe"
   ]
  },
  {
   "cell_type": "markdown",
   "metadata": {},
   "source": [
    "*Réponse* \n",
    "<div style=\"color: red\">\n",
    " L'entraînement s'est arrêté à moins de 400 itérations, car l'erreur est arrivée à 0 et les paramètres du réseau n'ont sans doute plus beaucoup bougé. </div>"
   ]
  },
  {
   "cell_type": "markdown",
   "metadata": {},
   "source": [
    "**Question** Selon vos résultats, quelle classe est la plus difficile à prédire et quelle classe est la plus facile à prédire ? Justifiez votre analyse par un affichage grâce à quelques fonctions de mesure de `sklearn`. "
   ]
  },
  {
   "cell_type": "code",
   "execution_count": 5,
   "metadata": {},
   "outputs": [],
   "source": [
    "from sklearn import metrics "
   ]
  },
  {
   "cell_type": "code",
   "execution_count": 7,
   "metadata": {},
   "outputs": [
    {
     "data": {
      "text/plain": [
       "array([[46,  7,  5,  0,  4,  3],\n",
       "       [ 4, 69,  3,  1,  3,  2],\n",
       "       [ 9,  6, 64,  0,  1,  0],\n",
       "       [ 1,  0,  0, 69,  9, 13],\n",
       "       [ 4,  2,  3,  3, 33,  7],\n",
       "       [ 2,  4,  1,  8,  5, 45]])"
      ]
     },
     "execution_count": 7,
     "metadata": {},
     "output_type": "execute_result"
    }
   ],
   "source": [
    "metrics.confusion_matrix(mlp.predict(X_test), y_test)"
   ]
  },
  {
   "cell_type": "code",
   "execution_count": 8,
   "metadata": {
    "scrolled": true
   },
   "outputs": [
    {
     "name": "stdout",
     "output_type": "stream",
     "text": [
      "              precision    recall  f1-score   support\n",
      "\n",
      "     adhunik       0.70      0.71      0.70        65\n",
      "        band       0.78      0.84      0.81        82\n",
      "      hiphop       0.84      0.80      0.82        80\n",
      "      nazrul       0.85      0.75      0.80        92\n",
      "  palligeeti       0.60      0.63      0.62        52\n",
      "    rabindra       0.64      0.69      0.67        65\n",
      "\n",
      "    accuracy                           0.75       436\n",
      "   macro avg       0.74      0.74      0.74       436\n",
      "weighted avg       0.75      0.75      0.75       436\n",
      "\n"
     ]
    }
   ],
   "source": [
    "print(metrics.classification_report(mlp.predict(X_test), y_test))"
   ]
  },
  {
   "cell_type": "markdown",
   "metadata": {},
   "source": [
    "*Réponse* \n",
    "   <div style=\"color: red\">Selon les statistiques, palligeeti est la classe la plus difficile à prédire. </div>"
   ]
  },
  {
   "cell_type": "markdown",
   "metadata": {},
   "source": [
    "**Question** Faites varier la taille de la première et unique couche cachée entre 10 et 150 par pas de 20 et  afficher les courbes d'erreur en apprentissage et en validation en fonction de la complexité du modèle. L'erreur en validation est estimée par validation croisée 5 fois.  \n"
   ]
  },
  {
   "cell_type": "code",
   "execution_count": 9,
   "metadata": {},
   "outputs": [],
   "source": [
    "from sklearn.model_selection import validation_curve"
   ]
  },
  {
   "cell_type": "code",
   "execution_count": 10,
   "metadata": {},
   "outputs": [
    {
     "name": "stderr",
     "output_type": "stream",
     "text": [
      "/home/tommasi/anaconda3/lib/python3.7/site-packages/sklearn/neural_network/_multilayer_perceptron.py:585: ConvergenceWarning: Stochastic Optimizer: Maximum iterations (2000) reached and the optimization hasn't converged yet.\n",
      "  % self.max_iter, ConvergenceWarning)\n",
      "/home/tommasi/anaconda3/lib/python3.7/site-packages/sklearn/neural_network/_multilayer_perceptron.py:585: ConvergenceWarning: Stochastic Optimizer: Maximum iterations (2000) reached and the optimization hasn't converged yet.\n",
      "  % self.max_iter, ConvergenceWarning)\n",
      "/home/tommasi/anaconda3/lib/python3.7/site-packages/sklearn/neural_network/_multilayer_perceptron.py:585: ConvergenceWarning: Stochastic Optimizer: Maximum iterations (2000) reached and the optimization hasn't converged yet.\n",
      "  % self.max_iter, ConvergenceWarning)\n",
      "/home/tommasi/anaconda3/lib/python3.7/site-packages/sklearn/neural_network/_multilayer_perceptron.py:585: ConvergenceWarning: Stochastic Optimizer: Maximum iterations (2000) reached and the optimization hasn't converged yet.\n",
      "  % self.max_iter, ConvergenceWarning)\n"
     ]
    }
   ],
   "source": [
    "train_scores, valid_scores = validation_curve(mlp, X_train, y_train, \n",
    "                                              param_name=\"hidden_layer_sizes\", \n",
    "                                              param_range=[(a, ) for a in range(10, 150, 20)], \n",
    "                                              cv=5)"
   ]
  },
  {
   "cell_type": "code",
   "execution_count": 11,
   "metadata": {},
   "outputs": [],
   "source": [
    "train_scores_mean = np.mean(train_scores, axis=1)\n",
    "train_scores_std = np.std(train_scores, axis=1)\n",
    "test_scores_mean = np.mean(valid_scores, axis=1)\n",
    "test_scores_std = np.std(valid_scores, axis=1)"
   ]
  },
  {
   "cell_type": "code",
   "execution_count": 12,
   "metadata": {},
   "outputs": [
    {
     "data": {
      "text/plain": [
       "(array([0.66922582, 0.63323974, 0.65697698, 0.68527975, 0.6921646 ,\n",
       "        0.69449563, 0.68299553]),\n",
       " array([0.01344013, 0.02555851, 0.01686582, 0.02485786, 0.03149589,\n",
       "        0.00951748, 0.02773425]))"
      ]
     },
     "execution_count": 12,
     "metadata": {},
     "output_type": "execute_result"
    }
   ],
   "source": [
    "test_scores_mean, test_scores_std"
   ]
  },
  {
   "cell_type": "code",
   "execution_count": 13,
   "metadata": {},
   "outputs": [
    {
     "data": {
      "text/plain": [
       "[<matplotlib.lines.Line2D at 0x7f4a15d22f50>]"
      ]
     },
     "execution_count": 13,
     "metadata": {},
     "output_type": "execute_result"
    },
    {
     "data": {
      "image/png": "[encoded data removed]",
      "text/plain": [
       "<Figure size 432x288 with 1 Axes>"
      ]
     },
     "metadata": {},
     "output_type": "display_data"
    }
   ],
   "source": [
    "plt.plot(list(range(10,150,20)), train_scores_mean)\n",
    "plt.plot(list(range(10,150,20)), test_scores_mean)"
   ]
  },
  {
   "cell_type": "markdown",
   "metadata": {},
   "source": [
    "# Calcul de backprop"
   ]
  },
  {
   "attachments": {
    "image.png": {
     "image/png": "[encoded data removed]"
    }
   },
   "cell_type": "markdown",
   "metadata": {},
   "source": [
    "Soit le réseau suivant où toutes les fonctions d'activation sont des sigmoïdes\n",
    "\n",
    "![image.png](attachment:image.png)"
   ]
  },
  {
   "cell_type": "code",
   "execution_count": 15,
   "metadata": {},
   "outputs": [],
   "source": [
    "def sigmoide(x):\n",
    "    return 1/(1+np.exp(-x))"
   ]
  },
  {
   "cell_type": "markdown",
   "metadata": {},
   "source": [
    "**Question** \n",
    "Avec $\\vec w = (1, .5, 0, 1, .5, .5, 1, .5, 1)$ et $\\vec x=(1, 2, 1)$ et $y=1$. Appeler `oi` la sortie du neurone $f_i$. Appeler `E` la moitié de l'erreur quadratique. Calculez toutes ces quantités. "
   ]
  },
  {
   "cell_type": "code",
   "execution_count": 17,
   "metadata": {},
   "outputs": [
    {
     "data": {
      "text/plain": [
       "(0.8807970779778823,\n",
       " 0.7310585786300049,\n",
       " 0.6083539905113918,\n",
       " 0.7634082955891168,\n",
       " 0.7441374337550205,\n",
       " 0.03273282640273326)"
      ]
     },
     "execution_count": 17,
     "metadata": {},
     "output_type": "execute_result"
    }
   ],
   "source": [
    "w = (1, .5, 0, 1, .5, .5, 1, .5, 1)\n",
    "x = (1, 2, 1)\n",
    "y = 1\n",
    "\n",
    "o1 = sigmoide(w[0] * x[0] + w[1] * x[1])\n",
    "o2 = sigmoide(w[2] * x[1] + w[3] * x[2])\n",
    "o3 = sigmoide(o1 * w[4])\n",
    "o4 = sigmoide(o1 * w[5] + o2 * w[6])\n",
    "o5 = sigmoide(o3 * w[7] + o4 * w[8])\n",
    "E = (y - o5)**2/2\n",
    "o1, o2, o3, o4, o5, E"
   ]
  },
  {
   "cell_type": "markdown",
   "metadata": {},
   "source": [
    "**Question** \n",
    "Si le pas de gradient est 0.1, quelle est la valeur de w3 mise à jour après rétropropagation du gradient ?"
   ]
  },
  {
   "cell_type": "code",
   "execution_count": 18,
   "metadata": {},
   "outputs": [
    {
     "data": {
      "text/plain": [
       "-0.04871544287775702"
      ]
     },
     "execution_count": 18,
     "metadata": {},
     "output_type": "execute_result"
    }
   ],
   "source": [
    "delta_z5 = (o5 - y)*o5*(1-o5)\n",
    "delta_z5"
   ]
  },
  {
   "cell_type": "code",
   "execution_count": 20,
   "metadata": {},
   "outputs": [
    {
     "data": {
      "text/plain": [
       "(-0.00879879183186964, -0.0017299474722532494)"
      ]
     },
     "execution_count": 20,
     "metadata": {},
     "output_type": "execute_result"
    }
   ],
   "source": [
    "delta_z4 = delta_z5*w[8]*o4*(1-o4)\n",
    "delta_z2 = delta_z4*w[6]*o2*(1-o2)\n",
    "delta_z4, delta_z2"
   ]
  },
  {
   "cell_type": "code",
   "execution_count": 22,
   "metadata": {},
   "outputs": [],
   "source": [
    "delta_w3 = x[2] * delta_z2\n",
    "w3 = w[3] - .1*delta_w3"
   ]
  },
  {
   "cell_type": "code",
   "execution_count": 23,
   "metadata": {},
   "outputs": [
    {
     "data": {
      "text/plain": [
       "1.0001729947472253"
      ]
     },
     "execution_count": 23,
     "metadata": {},
     "output_type": "execute_result"
    }
   ],
   "source": [
    "w3"
   ]
  },
  {
   "cell_type": "code",
   "execution_count": 24,
   "metadata": {},
   "outputs": [
    {
     "data": {
      "text/plain": [
       "(0.8807970779778823,\n",
       " 0.7310925901021088,\n",
       " 0.6083539905113918,\n",
       " 0.7634144385525021,\n",
       " 0.7441386033545343,\n",
       " 0.03273252714668416)"
      ]
     },
     "execution_count": 24,
     "metadata": {},
     "output_type": "execute_result"
    }
   ],
   "source": [
    "w = (1, .5, 0, w3, .5, .5, 1, .5, 1)\n",
    "x = (1, 2, 1)\n",
    "y = 1\n",
    "\n",
    "o1 = sigmoide(w[0] * x[0] + w[1] * x[1])\n",
    "o2 = sigmoide(w[2] * x[1] + w[3] * x[2])\n",
    "o3 = sigmoide(o1 * w[4])\n",
    "o4 = sigmoide(o1 * w[5] + o2 * w[6])\n",
    "o5 = sigmoide(o3 * w[7] + o4 * w[8])\n",
    "E = (y - o5)**2/2\n",
    "o1, o2, o3, o4, o5, E\n"
   ]
  },
  {
   "cell_type": "code",
   "execution_count": null,
   "metadata": {},
   "outputs": [],
   "source": []
  }
 ],
 "metadata": {
  "kernelspec": {
   "display_name": "Python 3",
   "language": "python",
   "name": "python3"
  },
  "language_info": {
   "codemirror_mode": {
    "name": "ipython",
    "version": 3
   },
   "file_extension": ".py",
   "mimetype": "text/x-python",
   "name": "python",
   "nbconvert_exporter": "python",
   "pygments_lexer": "ipython3",
   "version": "3.8.5"
  }
 },
 "nbformat": 4,
 "nbformat_minor": 4
}
