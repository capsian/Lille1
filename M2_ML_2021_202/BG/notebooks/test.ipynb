{
 "cells": [
  {
   "cell_type": "markdown",
   "id": "44bd493b",
   "metadata": {},
   "source": [
    "# Imports"
   ]
  },
  {
   "cell_type": "code",
   "execution_count": 1,
   "id": "77c0eef3",
   "metadata": {},
   "outputs": [],
   "source": [
    "import pandas as pd\n",
    "import numpy as np\n",
    "import seaborn as sns\n",
    "\n",
    "from sklearn.feature_extraction.text import CountVectorizer, TfidfTransformer\n",
    "\n",
    "from nltk.corpus import stopwords\n",
    "import spacy\n",
    "from spacy.lang.fr.examples import sentences\n",
    "\n",
    "from sklearn.feature_extraction.text import TfidfVectorizer\n",
    "\n",
    "from sklearn.linear_model import Ridge, SGDClassifier, LogisticRegression\n",
    "from sklearn.ensemble import RandomForestClassifier\n",
    "\n",
    "from sklearn.model_selection import train_test_split, cross_val_score, cross_val_predict, GridSearchCV\n",
    "from sklearn.metrics import roc_auc_score\n",
    "\n",
    "import pickle, sys, re, string"
   ]
  },
  {
   "cell_type": "markdown",
   "id": "9fe7a96b",
   "metadata": {},
   "source": [
    "# Import  Dataset and Model"
   ]
  },
  {
   "cell_type": "code",
   "execution_count": 2,
   "id": "570ac839",
   "metadata": {},
   "outputs": [],
   "source": [
    "dataset_path = \"../dataset/train_master.csv\"\n",
    "model_path = \"../models/lr_clf_roc_auc_corrected\" # best model !"
   ]
  },
  {
   "cell_type": "code",
   "execution_count": 3,
   "id": "4ef6d4cf",
   "metadata": {},
   "outputs": [],
   "source": [
    "clf = pickle.load(open(model_path, 'rb'))\n",
    "df = pd.read_csv(dataset_path).dropna()"
   ]
  },
  {
   "cell_type": "code",
   "execution_count": 4,
   "id": "a82028fd",
   "metadata": {},
   "outputs": [
    {
     "data": {
      "text/html": [
       "<div>\n",
       "<style scoped>\n",
       "    .dataframe tbody tr th:only-of-type {\n",
       "        vertical-align: middle;\n",
       "    }\n",
       "\n",
       "    .dataframe tbody tr th {\n",
       "        vertical-align: top;\n",
       "    }\n",
       "\n",
       "    .dataframe thead th {\n",
       "        text-align: right;\n",
       "    }\n",
       "</style>\n",
       "<table border=\"1\" class=\"dataframe\">\n",
       "  <thead>\n",
       "    <tr style=\"text-align: right;\">\n",
       "      <th></th>\n",
       "      <th>msg</th>\n",
       "      <th>Target</th>\n",
       "    </tr>\n",
       "  </thead>\n",
       "  <tbody>\n",
       "    <tr>\n",
       "      <th>0</th>\n",
       "      <td>La Police s'inscrit en acheteur privé sur Pric...</td>\n",
       "      <td>0</td>\n",
       "    </tr>\n",
       "    <tr>\n",
       "      <th>1</th>\n",
       "      <td>Chef D'Oeuvre Absolu en vue... Alors, là, on a...</td>\n",
       "      <td>1</td>\n",
       "    </tr>\n",
       "    <tr>\n",
       "      <th>2</th>\n",
       "      <td>Effet garanti sur la terrase. Ils donnent immé...</td>\n",
       "      <td>0</td>\n",
       "    </tr>\n",
       "    <tr>\n",
       "      <th>3</th>\n",
       "      <td>Apple Power MAC G4 Ordinateur de bureau trés b...</td>\n",
       "      <td>1</td>\n",
       "    </tr>\n",
       "    <tr>\n",
       "      <th>4</th>\n",
       "      <td>Comme Hermione Ma fille adore, elle n'en n'éta...</td>\n",
       "      <td>1</td>\n",
       "    </tr>\n",
       "    <tr>\n",
       "      <th>...</th>\n",
       "      <td>...</td>\n",
       "      <td>...</td>\n",
       "    </tr>\n",
       "    <tr>\n",
       "      <th>54131</th>\n",
       "      <td>moto Bonjour, je suis intereser par votre anno...</td>\n",
       "      <td>1</td>\n",
       "    </tr>\n",
       "    <tr>\n",
       "      <th>54132</th>\n",
       "      <td>Un témoignage fort contre l'oubli Voline nous ...</td>\n",
       "      <td>1</td>\n",
       "    </tr>\n",
       "    <tr>\n",
       "      <th>54133</th>\n",
       "      <td>Double plaisir D'une bonne matière flexible ce...</td>\n",
       "      <td>1</td>\n",
       "    </tr>\n",
       "    <tr>\n",
       "      <th>54134</th>\n",
       "      <td>tres bien très bien pour compléter des collect...</td>\n",
       "      <td>1</td>\n",
       "    </tr>\n",
       "    <tr>\n",
       "      <th>54135</th>\n",
       "      <td>Un Classique de De Funès ! Retrouvez Louis De ...</td>\n",
       "      <td>0</td>\n",
       "    </tr>\n",
       "  </tbody>\n",
       "</table>\n",
       "<p>54133 rows × 2 columns</p>\n",
       "</div>"
      ],
      "text/plain": [
       "                                                     msg  Target\n",
       "0      La Police s'inscrit en acheteur privé sur Pric...       0\n",
       "1      Chef D'Oeuvre Absolu en vue... Alors, là, on a...       1\n",
       "2      Effet garanti sur la terrase. Ils donnent immé...       0\n",
       "3      Apple Power MAC G4 Ordinateur de bureau trés b...       1\n",
       "4      Comme Hermione Ma fille adore, elle n'en n'éta...       1\n",
       "...                                                  ...     ...\n",
       "54131  moto Bonjour, je suis intereser par votre anno...       1\n",
       "54132  Un témoignage fort contre l'oubli Voline nous ...       1\n",
       "54133  Double plaisir D'une bonne matière flexible ce...       1\n",
       "54134  tres bien très bien pour compléter des collect...       1\n",
       "54135  Un Classique de De Funès ! Retrouvez Louis De ...       0\n",
       "\n",
       "[54133 rows x 2 columns]"
      ]
     },
     "execution_count": 4,
     "metadata": {},
     "output_type": "execute_result"
    }
   ],
   "source": [
    "new_df = pd.DataFrame()\n",
    "new_df['msg'] = df['review_title'] + \" \" + df['review_content']\n",
    "new_df['Target'] = df['Target']\n",
    "new_df"
   ]
  },
  {
   "cell_type": "code",
   "execution_count": 5,
   "id": "87489308",
   "metadata": {},
   "outputs": [],
   "source": [
    "# corpus\n",
    "nlp = spacy.load(\"fr_core_news_lg\")\n",
    "\n",
    "\n",
    "def reformat(msg):\n",
    "    msg = msg.replace('\\r', ' ')\n",
    "    msg = msg.replace('\\n', ' ')\n",
    "    msg = msg.lower()\n",
    "    # remove digits\n",
    "    msg = re.sub(r'\\d+', '', msg)\n",
    "    # remove ponctuation\n",
    "    msg = msg.translate(str.maketrans(' ', ' ', string.punctuation))\n",
    "    # remove multiple space\n",
    "    msg = re.sub(' +', ' ', msg)\n",
    "    msg = msg.strip()\n",
    "    return msg\n",
    "\n",
    "def text_preprocess(text):\n",
    "    # reformat\n",
    "    msg = reformat(text)\n",
    "\n",
    "    # lemmatizer\n",
    "    doc = nlp(msg)\n",
    "    tokens = [token.lemma_ for token in doc if token.lemma_ not in stopwords.words('french')]\n",
    "    \n",
    "    return tokens"
   ]
  },
  {
   "cell_type": "code",
   "execution_count": 6,
   "id": "9210cfab",
   "metadata": {},
   "outputs": [
    {
     "name": "stdout",
     "output_type": "stream",
     "text": [
      "df_vec.shape (54133, 69108)\n",
      "Train dimensions: ((37893, 69108), (37893,))\n",
      "Test dimensions: ((16240, 69108), (16240,))\n",
      "y_train distribution:\n",
      "1    21024\n",
      "0    16869\n",
      "Name: Target, dtype: int64\n",
      "y_test distribution:\n",
      "1    8973\n",
      "0    7267\n",
      "Name: Target, dtype: int64\n"
     ]
    }
   ],
   "source": [
    "# Create an instance of TfidfVectorizer\n",
    "vectoriser = TfidfVectorizer(analyzer=text_preprocess)\n",
    "\n",
    "# Fit to the data and transform to feature matrix\n",
    "df_vec = vectoriser.fit_transform(new_df['msg'])\n",
    "print('df_vec.shape', df_vec.shape)\n",
    "\n",
    "X_train, X_test, y_train, y_test = train_test_split(df_vec, new_df['Target'], test_size=0.3, random_state=123)\n",
    "print(f'Train dimensions: {X_train.shape, y_train.shape}')\n",
    "print(f'Test dimensions: {X_test.shape, y_test.shape}')\n",
    "\n",
    "# Check out target distribution\n",
    "print('y_train distribution:')\n",
    "print(y_train.value_counts())\n",
    "print('y_test distribution:')\n",
    "print(y_test.value_counts())"
   ]
  },
  {
   "cell_type": "code",
   "execution_count": 7,
   "id": "02dab1fb",
   "metadata": {},
   "outputs": [
    {
     "data": {
      "text/plain": [
       "0.6441361452674461"
      ]
     },
     "execution_count": 7,
     "metadata": {},
     "output_type": "execute_result"
    }
   ],
   "source": [
    "pred = clf.fit(X_train, y_train).predict(X_test)\n",
    "roc_auc_score(y_test, pred)"
   ]
  },
  {
   "cell_type": "markdown",
   "id": "ce433333",
   "metadata": {},
   "source": [
    "# Test on all"
   ]
  },
  {
   "cell_type": "code",
   "execution_count": 8,
   "id": "5064655f",
   "metadata": {},
   "outputs": [
    {
     "data": {
      "text/plain": [
       "0.7619057204582462"
      ]
     },
     "execution_count": 8,
     "metadata": {},
     "output_type": "execute_result"
    }
   ],
   "source": [
    "pred = clf.fit(df_vec, new_df['Target']).predict(df_vec)\n",
    "roc_auc_score(new_df['Target'], pred)"
   ]
  }
 ],
 "metadata": {
  "kernelspec": {
   "display_name": "Python 3 (ipykernel)",
   "language": "python",
   "name": "python3"
  },
  "language_info": {
   "codemirror_mode": {
    "name": "ipython",
    "version": 3
   },
   "file_extension": ".py",
   "mimetype": "text/x-python",
   "name": "python",
   "nbconvert_exporter": "python",
   "pygments_lexer": "ipython3",
   "version": "3.8.10"
  }
 },
 "nbformat": 4,
 "nbformat_minor": 5
}
