{
 "cells": [
  {
   "cell_type": "markdown",
   "metadata": {},
   "source": [
    "MLNLP Project: Part II: Viterbi for Name Classification\n",
    "--------------------------------------------\n",
    "\n",
    "# Authors\n",
    "    - Josue Happe\n",
    "        - josue.happe.etu@univ-lille.fr\n",
    "    - Selim Lakhdar\n",
    "        - selim.lakhdar.etu@univ-lille.fr    "
   ]
  },
  {
   "cell_type": "markdown",
   "metadata": {},
   "source": [
    "# Libraries"
   ]
  },
  {
   "cell_type": "code",
   "execution_count": 145,
   "metadata": {},
   "outputs": [],
   "source": [
    "import numpy as np\n",
    "import re\n",
    "import pandas as pd\n",
    "from IPython.display import clear_output\n",
    "from sklearn.model_selection import train_test_split\n",
    "from sklearn.metrics import classification_report"
   ]
  },
  {
   "cell_type": "markdown",
   "metadata": {},
   "source": [
    "# Data"
   ]
  },
  {
   "cell_type": "code",
   "execution_count": 146,
   "metadata": {},
   "outputs": [
    {
     "data": {
      "text/html": [
       "<div>\n",
       "<style scoped>\n",
       "    .dataframe tbody tr th:only-of-type {\n",
       "        vertical-align: middle;\n",
       "    }\n",
       "\n",
       "    .dataframe tbody tr th {\n",
       "        vertical-align: top;\n",
       "    }\n",
       "\n",
       "    .dataframe thead th {\n",
       "        text-align: right;\n",
       "    }\n",
       "</style>\n",
       "<table border=\"1\" class=\"dataframe\">\n",
       "  <thead>\n",
       "    <tr style=\"text-align: right;\">\n",
       "      <th></th>\n",
       "      <th>name</th>\n",
       "      <th>gender</th>\n",
       "      <th>score</th>\n",
       "      <th>Right_Name</th>\n",
       "      <th>Right_Gender</th>\n",
       "      <th>Frequency</th>\n",
       "      <th>Include?</th>\n",
       "      <th>probability</th>\n",
       "    </tr>\n",
       "  </thead>\n",
       "  <tbody>\n",
       "    <tr>\n",
       "      <th>0</th>\n",
       "      <td>1</td>\n",
       "      <td>F</td>\n",
       "      <td>NaN</td>\n",
       "      <td>NaN</td>\n",
       "      <td>NaN</td>\n",
       "      <td>38.0</td>\n",
       "      <td>No</td>\n",
       "      <td>NaN</td>\n",
       "    </tr>\n",
       "    <tr>\n",
       "      <th>1</th>\n",
       "      <td>1</td>\n",
       "      <td>M</td>\n",
       "      <td>NaN</td>\n",
       "      <td>NaN</td>\n",
       "      <td>NaN</td>\n",
       "      <td>56.0</td>\n",
       "      <td>Yes</td>\n",
       "      <td>NaN</td>\n",
       "    </tr>\n",
       "    <tr>\n",
       "      <th>2</th>\n",
       "      <td>A</td>\n",
       "      <td>M</td>\n",
       "      <td>1.0</td>\n",
       "      <td>NaN</td>\n",
       "      <td>NaN</td>\n",
       "      <td>NaN</td>\n",
       "      <td>NaN</td>\n",
       "      <td>NaN</td>\n",
       "    </tr>\n",
       "    <tr>\n",
       "      <th>3</th>\n",
       "      <td>A'isha</td>\n",
       "      <td>F</td>\n",
       "      <td>0.0</td>\n",
       "      <td>NaN</td>\n",
       "      <td>NaN</td>\n",
       "      <td>NaN</td>\n",
       "      <td>NaN</td>\n",
       "      <td>NaN</td>\n",
       "    </tr>\n",
       "    <tr>\n",
       "      <th>4</th>\n",
       "      <td>A'ishah</td>\n",
       "      <td>F</td>\n",
       "      <td>0.0</td>\n",
       "      <td>NaN</td>\n",
       "      <td>NaN</td>\n",
       "      <td>NaN</td>\n",
       "      <td>NaN</td>\n",
       "      <td>NaN</td>\n",
       "    </tr>\n",
       "  </tbody>\n",
       "</table>\n",
       "</div>"
      ],
      "text/plain": [
       "      name gender  score Right_Name Right_Gender  Frequency Include?  \\\n",
       "0        1      F    NaN        NaN          NaN       38.0       No   \n",
       "1        1      M    NaN        NaN          NaN       56.0      Yes   \n",
       "2        A      M    1.0        NaN          NaN        NaN      NaN   \n",
       "3   A'isha      F    0.0        NaN          NaN        NaN      NaN   \n",
       "4  A'ishah      F    0.0        NaN          NaN        NaN      NaN   \n",
       "\n",
       "   probability  \n",
       "0          NaN  \n",
       "1          NaN  \n",
       "2          NaN  \n",
       "3          NaN  \n",
       "4          NaN  "
      ]
     },
     "execution_count": 146,
     "metadata": {},
     "output_type": "execute_result"
    }
   ],
   "source": [
    "data = pd.read_csv(\"Ultimate_Gender_List.csv\")\n",
    "data.head()"
   ]
  },
  {
   "cell_type": "code",
   "execution_count": 147,
   "metadata": {},
   "outputs": [],
   "source": [
    "# remove first 3 and last one\n",
    "data = data[3:-1]\n",
    "\n",
    "# On récupère les noms et les genres\n",
    "X = np.array(data[\"name\"])\n",
    "y = np.array(data[\"gender\"])\n",
    "\n",
    "# On créé le vocabulaire\n",
    "voc = []\n",
    "for k in X:\n",
    "    for c in k:\n",
    "        if c not in voc:\n",
    "            voc.append(c)"
   ]
  },
  {
   "cell_type": "code",
   "execution_count": 148,
   "metadata": {},
   "outputs": [],
   "source": [
    "X_train, X_test, y_train, y_test = train_test_split(X,y)"
   ]
  },
  {
   "cell_type": "markdown",
   "metadata": {},
   "source": [
    "# Tagging (BIOES)"
   ]
  },
  {
   "cell_type": "code",
   "execution_count": 149,
   "metadata": {},
   "outputs": [
    {
     "name": "stdout",
     "output_type": "stream",
     "text": [
      "len(tags): 695117 [('W', 'B-F'), ('a', 'I-F'), ('u', 'I-F'), ('n', 'I-F'), ('i', 'I-F'), ('t', 'I-F'), ('a', 'E-F'), (' ', 'O'), ('A', 'B-M'), ('a', 'I-M')]\n",
      "len(liste_tags): 12 ['O', 'B-F', 'I-F', 'E-F', 'B-M', 'I-M', 'E-M', 'B-Unisex', 'I-Unisex', 'E-Unisex', 'S-F', 'S-M']\n"
     ]
    }
   ],
   "source": [
    "# On fait la liste des caractères et de leurs tags associés, on sépare chaque nom avec un espace\n",
    "tags = []\n",
    "liste_tags = ['O']\n",
    "\n",
    "for i in range(len(X_train)):\n",
    "    genre = y_train[i]\n",
    "    \n",
    "    # Soit on a un nom a une seule lettre (on tague S-genre)\n",
    "    if (len(X_train[i])==1):\n",
    "        if (X_train[i][0]!=' '):\n",
    "            tags.append((X_train[i][0],'S-'+genre))\n",
    "            t = 'S-'+genre\n",
    "            if t not in liste_tags:\n",
    "                liste_tags.append(t)\n",
    "        else:\n",
    "            tags.append((X_train[i][0],'O'))\n",
    "    elif (len(X_train[i])>1):\n",
    "        # On tag le premier cractère\n",
    "        prec = ' '\n",
    "        current = X_train[i][0]\n",
    "        suivant = X_train[i][1]\n",
    "        if (current==' '):\n",
    "            tags.append((current,'O'))\n",
    "        else:\n",
    "            tags.append((current,'B-'+genre))\n",
    "            t = 'B-'+genre\n",
    "            if t not in liste_tags:\n",
    "                liste_tags.append(t)\n",
    "        for k in range(1,len(X_train[i])-1):\n",
    "            prec = X_train[i][k-1]\n",
    "            current = X_train[i][k]\n",
    "            suivant = X_train[i][k+1]\n",
    "            if (current==' '):\n",
    "                tags.append((current,'O'))\n",
    "            else:\n",
    "                tags.append((current,'I-'+genre))\n",
    "                t = 'I-'+genre\n",
    "                if t not in liste_tags:\n",
    "                    liste_tags.append(t)\n",
    "        if (suivant==' '):\n",
    "            tags.append((suivant,'O'))\n",
    "        else:\n",
    "            tags.append((suivant,'E-'+genre))\n",
    "            t = 'E-'+genre\n",
    "            if t not in liste_tags:\n",
    "                liste_tags.append(t)\n",
    "    tags.append((' ','O'))\n",
    "    \n",
    "print(\"len(tags):\", len(tags), tags[:10])\n",
    "print(\"len(liste_tags):\", len(liste_tags), liste_tags)"
   ]
  },
  {
   "cell_type": "markdown",
   "metadata": {},
   "source": [
    "# Viterbi"
   ]
  },
  {
   "cell_type": "code",
   "execution_count": 150,
   "metadata": {},
   "outputs": [],
   "source": [
    "# On prépare les matrices A et B pour définir notre HMM\n",
    "\n",
    "# La matrice A définit les probabilité de transition d'un tag à un autre\n",
    "A = np.zeros((len(liste_tags),len(liste_tags))).astype(float)\n",
    "\n",
    "# La matrice B définit les probabilités d'observation'\n",
    "B = np.zeros((len(liste_tags),len(voc))).astype(float)\n",
    "\n",
    "for i in range(len(tags)-1):\n",
    "    suivant = tags[i+1]\n",
    "    current = tags[i]\n",
    "    index_voc = voc.index(current[0])\n",
    "    index_crt_tag = liste_tags.index(current[1])\n",
    "    index_next_tag = liste_tags.index(suivant[1])\n",
    "    B[index_crt_tag][index_voc] +=1\n",
    "    A[index_crt_tag][index_next_tag] +=1\n",
    "    \n",
    "B[liste_tags.index(tags[-1][1])][voc.index(tags[-1][0])]\n",
    "\n",
    "for i in range(len(A)):\n",
    "    A[i] = A[i]/np.sum(A[i])\n",
    "    B[i] = B[i]/np.sum(B[i])"
   ]
  },
  {
   "cell_type": "code",
   "execution_count": 151,
   "metadata": {},
   "outputs": [],
   "source": [
    "# Algorithme de Viterbi\n",
    "def viterbi(o,A,B,Pi,voc):\n",
    "    T = len(o)\n",
    "    N = len(A)\n",
    "    Vit = np.zeros((N,T))\n",
    "    backpointer = np.zeros((N,T)).astype(int)\n",
    "    for s in range(N):\n",
    "        Vit[s][0] = Pi[s]*B[s][voc.index(o[0])]\n",
    "        backpointer[s][0]=0\n",
    "    for t in range(1,T):\n",
    "        for s in range(N):\n",
    "            Vit[s][t] = max(Vit[:,t-1]*A[:,s]*B[s][voc.index(o[t])])\n",
    "            backpointer[s][t] = np.argmax(Vit[:,t-1]*A[:,s]*B[s][voc.index(o[t])])\n",
    "    bestpathprob = max(Vit[:,T-1])\n",
    "    bestpathpointer = np.argmax(Vit[:,T-1])\n",
    "    bestpath = []\n",
    "    for i in range(T-1,-1,-1):\n",
    "        bestpath.append(liste_tags[bestpathpointer])\n",
    "        bestpathpointer = backpointer[bestpathpointer,i]\n",
    "    return list(reversed(bestpath)), bestpathprob"
   ]
  },
  {
   "cell_type": "code",
   "execution_count": 152,
   "metadata": {},
   "outputs": [],
   "source": [
    "# Une fonction donnant le genre dominant d'après une liste de tags\n",
    "def gender_from_tags(tags):\n",
    "    genders = {}\n",
    "    for t in tags:\n",
    "        if t == 'O':\n",
    "            genders['O'] = genders.get('O',0)+1\n",
    "        else:\n",
    "            g = t.split('-')[1]\n",
    "            genders[g] = genders.get(g,0)+1\n",
    "    return max(genders, key=genders.get)"
   ]
  },
  {
   "cell_type": "markdown",
   "metadata": {},
   "source": [
    "# Test"
   ]
  },
  {
   "cell_type": "code",
   "execution_count": 153,
   "metadata": {},
   "outputs": [
    {
     "data": {
      "text/plain": [
       "(['B-M', 'I-M', 'I-M', 'I-M', 'I-M'], 6.948294893422862e-08)"
      ]
     },
     "execution_count": 153,
     "metadata": {},
     "output_type": "execute_result"
    }
   ],
   "source": [
    "viterbi(\"James\",A,B,np.ones(len(A))/len(A),voc)"
   ]
  },
  {
   "cell_type": "code",
   "execution_count": 154,
   "metadata": {},
   "outputs": [
    {
     "data": {
      "text/plain": [
       "'M'"
      ]
     },
     "execution_count": 154,
     "metadata": {},
     "output_type": "execute_result"
    }
   ],
   "source": [
    "gender_from_tags(viterbi(\"James\",A,B,np.ones(len(A))/len(A),voc)[0])"
   ]
  },
  {
   "cell_type": "markdown",
   "metadata": {},
   "source": [
    "# Pred"
   ]
  },
  {
   "cell_type": "code",
   "execution_count": 155,
   "metadata": {},
   "outputs": [
    {
     "name": "stdout",
     "output_type": "stream",
     "text": [
      "0 / 30389\n",
      "5000 / 30389\n",
      "10000 / 30389\n",
      "15000 / 30389\n",
      "20000 / 30389\n",
      "25000 / 30389\n",
      "30000 / 30389\n"
     ]
    }
   ],
   "source": [
    "y_pred = []\n",
    "n = len(X_test)\n",
    "\n",
    "for i in range(n):\n",
    "    if i % 5000 == 0:\n",
    "        print(i, \"/\", n)\n",
    "    \n",
    "    y_pred.append(gender_from_tags(viterbi(X_test[i],A,B,np.ones(len(A))/len(A),voc)[0]))"
   ]
  },
  {
   "cell_type": "code",
   "execution_count": 156,
   "metadata": {},
   "outputs": [
    {
     "name": "stdout",
     "output_type": "stream",
     "text": [
      "              precision    recall  f1-score   support\n",
      "\n",
      "           F       0.72      0.66      0.69     18344\n",
      "           M       0.55      0.42      0.47     11783\n",
      "      Unisex       0.02      0.36      0.04       262\n",
      "\n",
      "   micro avg       0.56      0.56      0.56     30389\n",
      "   macro avg       0.43      0.48      0.40     30389\n",
      "weighted avg       0.65      0.56      0.60     30389\n",
      "\n"
     ]
    }
   ],
   "source": [
    "print(classification_report(y_test,y_pred, labels=['F', 'M', 'Unisex']))"
   ]
  },
  {
   "cell_type": "markdown",
   "metadata": {},
   "source": [
    "On remarque que le score obtenu pour le label Unisex est très faible, cela pourrait s'expliquer par le fait qu'il y ait très peu de noms epicènes dans nos données"
   ]
  },
  {
   "cell_type": "code",
   "execution_count": 157,
   "metadata": {},
   "outputs": [
    {
     "data": {
      "text/plain": [
       "array(['F', 'M', 'O', 'Unisex'], dtype='<U6')"
      ]
     },
     "execution_count": 157,
     "metadata": {},
     "output_type": "execute_result"
    }
   ],
   "source": [
    "np.unique(y_pred)"
   ]
  },
  {
   "cell_type": "markdown",
   "metadata": {},
   "source": [
    "# Tagging (BIO)"
   ]
  },
  {
   "cell_type": "code",
   "execution_count": 158,
   "metadata": {},
   "outputs": [
    {
     "name": "stdout",
     "output_type": "stream",
     "text": [
      "len(tags): 695117 [('W', 'B-F'), ('a', 'I-F'), ('u', 'I-F'), ('n', 'I-F'), ('i', 'I-F'), ('t', 'I-F'), ('a', 'I-F'), (' ', 'O'), ('A', 'B-M'), ('a', 'I-M')]\n",
      "len(liste_tags): 7 ['O', 'B-F', 'I-F', 'B-M', 'I-M', 'B-Unisex', 'I-Unisex']\n"
     ]
    }
   ],
   "source": [
    "# On fait la liste des caractères et de leurs tags associés, on sépare chaque nom avec un espace\n",
    "tags = []\n",
    "liste_tags = ['O']\n",
    "\n",
    "for i in range(len(X_train)):\n",
    "    genre = y_train[i]\n",
    "    \n",
    "    #On tag la première lettre d'un prénom avec B-genre, les suivantes avec I-genre\n",
    "    nom = X_train[i]\n",
    "    for k in range(len(nom)):\n",
    "        if k==0:\n",
    "            t = 'B-'+genre\n",
    "        else:\n",
    "            t = 'I-'+genre\n",
    "        tags.append((nom[k],t))\n",
    "        if t not in liste_tags:\n",
    "            liste_tags.append(t)\n",
    "    tags.append((' ','O'))\n",
    "    \n",
    "print(\"len(tags):\", len(tags), tags[:10])\n",
    "print(\"len(liste_tags):\", len(liste_tags), liste_tags)"
   ]
  },
  {
   "cell_type": "code",
   "execution_count": 159,
   "metadata": {},
   "outputs": [],
   "source": [
    "# On prépare les matrices A et B pour définir notre HMM\n",
    "\n",
    "# La matrice A définit les probabilité de transition d'un tag à un autre\n",
    "A = np.zeros((len(liste_tags),len(liste_tags))).astype(float)\n",
    "\n",
    "# La matrice B définit les probabilités d'observation'\n",
    "B = np.zeros((len(liste_tags),len(voc))).astype(float)\n",
    "\n",
    "for i in range(len(tags)-1):\n",
    "    suivant = tags[i+1]\n",
    "    current = tags[i]\n",
    "    index_voc = voc.index(current[0])\n",
    "    index_crt_tag = liste_tags.index(current[1])\n",
    "    index_next_tag = liste_tags.index(suivant[1])\n",
    "    B[index_crt_tag][index_voc] +=1\n",
    "    A[index_crt_tag][index_next_tag] +=1\n",
    "    \n",
    "B[liste_tags.index(tags[-1][1])][voc.index(tags[-1][0])]\n",
    "\n",
    "for i in range(len(A)):\n",
    "    A[i] = A[i]/np.sum(A[i])\n",
    "    B[i] = B[i]/np.sum(B[i])"
   ]
  },
  {
   "cell_type": "code",
   "execution_count": 160,
   "metadata": {},
   "outputs": [
    {
     "name": "stdout",
     "output_type": "stream",
     "text": [
      "0 / 30389\n",
      "5000 / 30389\n",
      "10000 / 30389\n",
      "15000 / 30389\n",
      "20000 / 30389\n",
      "25000 / 30389\n",
      "30000 / 30389\n"
     ]
    }
   ],
   "source": [
    "y_pred2 = []\n",
    "n = len(X_test)\n",
    "\n",
    "for i in range(n):\n",
    "    if i % 5000 == 0:\n",
    "        print(i, \"/\", n)\n",
    "    \n",
    "    y_pred2.append(gender_from_tags(viterbi(X_test[i],A,B,np.ones(len(A))/len(A),voc)[0]))"
   ]
  },
  {
   "cell_type": "code",
   "execution_count": 161,
   "metadata": {},
   "outputs": [
    {
     "name": "stdout",
     "output_type": "stream",
     "text": [
      "              precision    recall  f1-score   support\n",
      "\n",
      "           F       0.75      0.68      0.71     18344\n",
      "           M       0.60      0.44      0.51     11783\n",
      "      Unisex       0.02      0.44      0.04       262\n",
      "\n",
      "   micro avg       0.58      0.58      0.58     30389\n",
      "   macro avg       0.46      0.52      0.42     30389\n",
      "weighted avg       0.69      0.58      0.63     30389\n",
      "\n"
     ]
    }
   ],
   "source": [
    "print(classification_report(y_test,y_pred2, labels=['F', 'M', 'Unisex']))"
   ]
  },
  {
   "cell_type": "markdown",
   "metadata": {},
   "source": [
    "Les scores obtenus sont un peu meilleurs avec l'étiquettage BIO, testons avec l'étiquettage IO"
   ]
  },
  {
   "cell_type": "markdown",
   "metadata": {},
   "source": [
    "# Tagging (IO)"
   ]
  },
  {
   "cell_type": "code",
   "execution_count": 162,
   "metadata": {},
   "outputs": [
    {
     "name": "stdout",
     "output_type": "stream",
     "text": [
      "len(tags): 695117 [('W', 'I-F'), ('a', 'I-F'), ('u', 'I-F'), ('n', 'I-F'), ('i', 'I-F'), ('t', 'I-F'), ('a', 'I-F'), (' ', 'O'), ('A', 'I-M'), ('a', 'I-M')]\n",
      "len(liste_tags): 4 ['O', 'I-F', 'I-M', 'I-Unisex']\n"
     ]
    }
   ],
   "source": [
    "# On fait la liste des caractères et de leurs tags associés, on sépare chaque nom avec un espace\n",
    "tags = []\n",
    "liste_tags = ['O']\n",
    "\n",
    "for i in range(len(X_train)):\n",
    "    genre = y_train[i]\n",
    "    \n",
    "    #On tag les lettres d'un prénom avec I-+genre\n",
    "    nom = X_train[i]\n",
    "    for k in range(len(nom)):\n",
    "        t = 'I-'+genre\n",
    "        tags.append((nom[k],t))\n",
    "        if t not in liste_tags:\n",
    "            liste_tags.append(t)\n",
    "    tags.append((' ','O'))\n",
    "    \n",
    "print(\"len(tags):\", len(tags), tags[:10])\n",
    "print(\"len(liste_tags):\", len(liste_tags), liste_tags)"
   ]
  },
  {
   "cell_type": "code",
   "execution_count": 163,
   "metadata": {},
   "outputs": [],
   "source": [
    "# On prépare les matrices A et B pour définir notre HMM\n",
    "\n",
    "# La matrice A définit les probabilité de transition d'un tag à un autre\n",
    "A = np.zeros((len(liste_tags),len(liste_tags))).astype(float)\n",
    "\n",
    "# La matrice B définit les probabilités d'observation'\n",
    "B = np.zeros((len(liste_tags),len(voc))).astype(float)\n",
    "\n",
    "for i in range(len(tags)-1):\n",
    "    suivant = tags[i+1]\n",
    "    current = tags[i]\n",
    "    index_voc = voc.index(current[0])\n",
    "    index_crt_tag = liste_tags.index(current[1])\n",
    "    index_next_tag = liste_tags.index(suivant[1])\n",
    "    B[index_crt_tag][index_voc] +=1\n",
    "    A[index_crt_tag][index_next_tag] +=1\n",
    "    \n",
    "B[liste_tags.index(tags[-1][1])][voc.index(tags[-1][0])]\n",
    "\n",
    "for i in range(len(A)):\n",
    "    A[i] = A[i]/np.sum(A[i])\n",
    "    B[i] = B[i]/np.sum(B[i])"
   ]
  },
  {
   "cell_type": "code",
   "execution_count": 164,
   "metadata": {},
   "outputs": [
    {
     "name": "stdout",
     "output_type": "stream",
     "text": [
      "0 / 30389\n",
      "5000 / 30389\n",
      "10000 / 30389\n",
      "15000 / 30389\n",
      "20000 / 30389\n",
      "25000 / 30389\n",
      "30000 / 30389\n"
     ]
    }
   ],
   "source": [
    "y_pred3 = []\n",
    "n = len(X_test)\n",
    "\n",
    "for i in range(n):\n",
    "    if i % 5000 == 0:\n",
    "        print(i, \"/\", n)\n",
    "    \n",
    "    y_pred3.append(gender_from_tags(viterbi(X_test[i],A,B,np.ones(len(A))/len(A),voc)[0]))"
   ]
  },
  {
   "cell_type": "code",
   "execution_count": 165,
   "metadata": {},
   "outputs": [
    {
     "name": "stdout",
     "output_type": "stream",
     "text": [
      "              precision    recall  f1-score   support\n",
      "\n",
      "           F       0.76      0.67      0.71     18344\n",
      "           M       0.60      0.44      0.51     11783\n",
      "      Unisex       0.02      0.44      0.04       262\n",
      "\n",
      "    accuracy                           0.58     30389\n",
      "   macro avg       0.46      0.52      0.42     30389\n",
      "weighted avg       0.69      0.58      0.63     30389\n",
      "\n"
     ]
    }
   ],
   "source": [
    "print(classification_report(y_test,y_pred3, labels=['F', 'M', 'Unisex']))"
   ]
  },
  {
   "cell_type": "markdown",
   "metadata": {},
   "source": [
    "On obtient quasiment les mêmes scores qu'avec l'étiquettage BIO"
   ]
  },
  {
   "cell_type": "markdown",
   "metadata": {},
   "source": [
    "# En définissant un autre vocabulaire"
   ]
  },
  {
   "cell_type": "markdown",
   "metadata": {},
   "source": [
    "Chaque lettre est représentée par 'consonne' 'voyelle' ou 'autre' dans le vocabulaire (\"Robert\" devient \"cvcvcc\")"
   ]
  },
  {
   "cell_type": "code",
   "execution_count": 166,
   "metadata": {},
   "outputs": [
    {
     "name": "stdout",
     "output_type": "stream",
     "text": [
      "X_train[:3] ['Waunita' 'Aarit' 'Jusin']\n",
      "X_train_vc[:3] ['cvvcvcv' 'cvcvc' 'cvcvc']\n"
     ]
    }
   ],
   "source": [
    "#Une fonction qui convertit un nom en représentation \"voyelle-consonne\"\n",
    "def vowel_consonant(nom):\n",
    "    res = \"\"\n",
    "    for k in nom:\n",
    "        if re.search(\"[aeiou]\",k):\n",
    "            res+=\"v\"\n",
    "        elif re.search(\"[a-zA-Z]\",k):\n",
    "            res+=\"c\"\n",
    "        else:\n",
    "            res+=\"a\"\n",
    "    return res\n",
    "\n",
    "#On encode tous les noms de X_train et X_test selon cette représentation\n",
    "X_train_vc = []\n",
    "X_test_vc = []\n",
    "for i in range(len(X_train)):\n",
    "    X_train_vc.append(vowel_consonant(X_train[i]))\n",
    "for j in range(len(X_test)):\n",
    "    X_test_vc.append(vowel_consonant(X_test[j]))\n",
    "X_train_vc = np.array(X_train_vc)\n",
    "X_test_vc = np.array(X_test_vc)\n",
    "print(\"X_train[:3]\", X_train[:3])\n",
    "print(\"X_train_vc[:3]\", X_train_vc[:3])"
   ]
  },
  {
   "cell_type": "code",
   "execution_count": 167,
   "metadata": {},
   "outputs": [
    {
     "name": "stdout",
     "output_type": "stream",
     "text": [
      "len(tags): 695117 [('c', 'B-F'), ('v', 'I-F'), ('v', 'I-F'), ('c', 'I-F'), ('v', 'I-F'), ('c', 'I-F'), ('v', 'I-F'), (' ', 'O'), ('c', 'B-M'), ('v', 'I-M')]\n",
      "len(liste_tags): 7 ['O', 'B-F', 'I-F', 'B-M', 'I-M', 'B-Unisex', 'I-Unisex']\n"
     ]
    }
   ],
   "source": [
    "# On fait la liste du type de caractère (dans voc2) et de leurs tags associés, on sépare chaque nom avec un espace\n",
    "tags = []\n",
    "liste_tags = ['O']\n",
    "voc2 = [\"v\",\"c\",\"a\",' '] #v pour voyelle, c pour consonne, \"a\" pour autre, on garde l'espace pour séparer les prénoms\n",
    "\n",
    "for i in range(len(X_train_vc)):\n",
    "    genre = y_train[i]\n",
    "    \n",
    "    #On tag la première lettre d'un prénom avec B-genre, les suivantes avec I-genre\n",
    "    nom = X_train_vc[i]\n",
    "    for k in range(len(nom)):\n",
    "        if k==0:\n",
    "            t = 'B-'+genre\n",
    "        else:\n",
    "            t = 'I-'+genre\n",
    "        tags.append((nom[k],t))\n",
    "        if t not in liste_tags:\n",
    "            liste_tags.append(t)\n",
    "    tags.append((' ','O'))\n",
    "    \n",
    "print(\"len(tags):\", len(tags), tags[:10])\n",
    "print(\"len(liste_tags):\", len(liste_tags), liste_tags)"
   ]
  },
  {
   "cell_type": "code",
   "execution_count": 168,
   "metadata": {},
   "outputs": [],
   "source": [
    "# On prépare les matrices A et B pour définir notre HMM\n",
    "\n",
    "# La matrice A définit les probabilité de transition d'un tag à un autre\n",
    "A = np.zeros((len(liste_tags),len(liste_tags))).astype(float)\n",
    "\n",
    "# La matrice B définit les probabilités d'observation'\n",
    "B = np.zeros((len(liste_tags),len(voc2))).astype(float)\n",
    "\n",
    "for i in range(len(tags)-1):\n",
    "    suivant = tags[i+1]\n",
    "    current = tags[i]\n",
    "    index_voc = voc2.index(current[0])\n",
    "    index_crt_tag = liste_tags.index(current[1])\n",
    "    index_next_tag = liste_tags.index(suivant[1])\n",
    "    B[index_crt_tag][index_voc] +=1\n",
    "    A[index_crt_tag][index_next_tag] +=1\n",
    "    \n",
    "B[liste_tags.index(tags[-1][1])][voc2.index(tags[-1][0])]\n",
    "\n",
    "for i in range(len(A)):\n",
    "    A[i] = A[i]/np.sum(A[i])\n",
    "    B[i] = B[i]/np.sum(B[i])"
   ]
  },
  {
   "cell_type": "code",
   "execution_count": 169,
   "metadata": {},
   "outputs": [
    {
     "name": "stdout",
     "output_type": "stream",
     "text": [
      "0 / 30389\n",
      "5000 / 30389\n",
      "10000 / 30389\n",
      "15000 / 30389\n",
      "20000 / 30389\n",
      "25000 / 30389\n",
      "30000 / 30389\n"
     ]
    }
   ],
   "source": [
    "y_pred4 = []\n",
    "n = len(X_test_vc)\n",
    "\n",
    "for i in range(n):\n",
    "    if i % 5000 == 0:\n",
    "        print(i, \"/\", n)\n",
    "    \n",
    "    y_pred4.append(gender_from_tags(viterbi(X_test_vc[i],A,B,np.ones(len(A))/len(A),voc2)[0]))"
   ]
  },
  {
   "cell_type": "code",
   "execution_count": 170,
   "metadata": {},
   "outputs": [
    {
     "name": "stdout",
     "output_type": "stream",
     "text": [
      "              precision    recall  f1-score   support\n",
      "\n",
      "           F       0.66      0.73      0.70     18344\n",
      "           M       0.51      0.44      0.47     11783\n",
      "      Unisex       0.00      0.00      0.00       262\n",
      "\n",
      "    accuracy                           0.61     30389\n",
      "   macro avg       0.39      0.39      0.39     30389\n",
      "weighted avg       0.60      0.61      0.60     30389\n",
      "\n"
     ]
    }
   ],
   "source": [
    "print(classification_report(y_test,y_pred4, labels=['F', 'M', 'Unisex'], zero_division=0))"
   ]
  },
  {
   "cell_type": "markdown",
   "metadata": {},
   "source": [
    "Le score obtenu est un pe plus inférieur aux scores obtenus précédemment, cela peux s'expliquer par le vocabulaire trop peu varié"
   ]
  },
  {
   "cell_type": "markdown",
   "metadata": {},
   "source": [
    "# Avec un autre tagging"
   ]
  },
  {
   "cell_type": "code",
   "execution_count": 172,
   "metadata": {},
   "outputs": [
    {
     "name": "stdout",
     "output_type": "stream",
     "text": [
      "len(tags): 695117 [('W', 'c-F'), ('a', 'v-F'), ('u', 'v-F'), ('n', 'c-F'), ('i', 'v-F'), ('t', 'c-F'), ('a', 'v-F'), (' ', 'O'), ('A', 'c-M'), ('a', 'v-M')]\n",
      "len(liste_tags): 10 ['O', 'c-F', 'v-F', 'c-M', 'v-M', 'a-F', 'a-M', 'c-Unisex', 'v-Unisex', 'a-Unisex']\n"
     ]
    }
   ],
   "source": [
    "#On va taguer les lettres avec C-, V-en fonction de si ce sont des voyelles ou nom, \n",
    "# On fait la liste des caractères et de leurs tags associés, on sépare chaque nom avec un espace\n",
    "tags = []\n",
    "liste_tags = ['O']\n",
    "\n",
    "for i in range(len(X_train)):\n",
    "    genre = y_train[i]\n",
    "    nom = X_train[i]\n",
    "    for k in range(len(nom)):\n",
    "        t = vowel_consonant(nom[k])+'-'+genre\n",
    "        tags.append((nom[k],t))\n",
    "        if t not in liste_tags:\n",
    "            liste_tags.append(t)\n",
    "    tags.append((' ','O'))\n",
    "    \n",
    "print(\"len(tags):\", len(tags), tags[:10])\n",
    "print(\"len(liste_tags):\", len(liste_tags), liste_tags)"
   ]
  },
  {
   "cell_type": "code",
   "execution_count": 174,
   "metadata": {},
   "outputs": [],
   "source": [
    "# On prépare les matrices A et B pour définir notre HMM\n",
    "\n",
    "# La matrice A définit les probabilité de transition d'un tag à un autre\n",
    "A = np.zeros((len(liste_tags),len(liste_tags))).astype(float)\n",
    "\n",
    "# La matrice B définit les probabilités d'observation'\n",
    "B = np.zeros((len(liste_tags),len(voc))).astype(float)\n",
    "\n",
    "for i in range(len(tags)-1):\n",
    "    suivant = tags[i+1]\n",
    "    current = tags[i]\n",
    "    index_voc = voc.index(current[0])\n",
    "    index_crt_tag = liste_tags.index(current[1])\n",
    "    index_next_tag = liste_tags.index(suivant[1])\n",
    "    B[index_crt_tag][index_voc] +=1\n",
    "    A[index_crt_tag][index_next_tag] +=1\n",
    "    \n",
    "B[liste_tags.index(tags[-1][1])][voc.index(tags[-1][0])]\n",
    "\n",
    "for i in range(len(A)):\n",
    "    A[i] = A[i]/np.sum(A[i])\n",
    "    B[i] = B[i]/np.sum(B[i])"
   ]
  },
  {
   "cell_type": "code",
   "execution_count": 175,
   "metadata": {},
   "outputs": [
    {
     "name": "stdout",
     "output_type": "stream",
     "text": [
      "0 / 30389\n",
      "5000 / 30389\n",
      "10000 / 30389\n",
      "15000 / 30389\n",
      "20000 / 30389\n",
      "25000 / 30389\n",
      "30000 / 30389\n"
     ]
    }
   ],
   "source": [
    "y_pred5 = []\n",
    "n = len(X_test)\n",
    "\n",
    "for i in range(n):\n",
    "    if i % 5000 == 0:\n",
    "        print(i, \"/\", n)\n",
    "    \n",
    "    y_pred5.append(gender_from_tags(viterbi(X_test[i],A,B,np.ones(len(A))/len(A),voc)[0]))"
   ]
  },
  {
   "cell_type": "code",
   "execution_count": 176,
   "metadata": {},
   "outputs": [
    {
     "name": "stdout",
     "output_type": "stream",
     "text": [
      "              precision    recall  f1-score   support\n",
      "\n",
      "           F       0.76      0.67      0.71     18344\n",
      "           M       0.61      0.45      0.52     11783\n",
      "      Unisex       0.02      0.42      0.04       262\n",
      "\n",
      "    accuracy                           0.59     30389\n",
      "   macro avg       0.46      0.51      0.42     30389\n",
      "weighted avg       0.70      0.59      0.63     30389\n",
      "\n"
     ]
    }
   ],
   "source": [
    "print(classification_report(y_test,y_pred5, labels=['F', 'M', 'Unisex'], zero_division=0))"
   ]
  }
 ],
 "metadata": {
  "kernelspec": {
   "display_name": "Python 3",
   "language": "python",
   "name": "python3"
  },
  "language_info": {
   "codemirror_mode": {
    "name": "ipython",
    "version": 3
   },
   "file_extension": ".py",
   "mimetype": "text/x-python",
   "name": "python",
   "nbconvert_exporter": "python",
   "pygments_lexer": "ipython3",
   "version": "3.8.5"
  }
 },
 "nbformat": 4,
 "nbformat_minor": 5
}
