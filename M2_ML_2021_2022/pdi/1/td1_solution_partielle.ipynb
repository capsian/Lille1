{
 "cells": [
  {
   "cell_type": "markdown",
   "id": "d1a24fe2",
   "metadata": {},
   "source": [
    "# Practical session 1\n",
    "## Reinforcement learning\n",
    "### TA - Fabien Pesquerel"
   ]
  },
  {
   "cell_type": "markdown",
   "id": "cbed675a",
   "metadata": {},
   "source": [
    "We start by importing a few necessary libraries, modules and functions."
   ]
  },
  {
   "cell_type": "code",
   "execution_count": 1,
   "id": "70dac3ea",
   "metadata": {},
   "outputs": [],
   "source": [
    "import numpy as np\n",
    "from scipy.special import erfinv\n",
    "import math\n",
    "import networkx as nx\n",
    "import matplotlib.pyplot as plt"
   ]
  },
  {
   "cell_type": "markdown",
   "id": "48558ef6",
   "metadata": {},
   "source": [
    "In this course we will have to work (numerically) with random variables. It is therefore natural to wonder *how to sample from a random variable with a computer*?\n",
    "\n",
    "To put it in a nutshell: **How to handle randomness with computers?**"
   ]
  },
  {
   "cell_type": "markdown",
   "id": "2cafe130",
   "metadata": {},
   "source": [
    "## Syllabus\n",
    "\n",
    "In this practical session, we will understand how to\n",
    "- **handle randomness** with a computer\n",
    "- Compute the **expected value** of a random variable\n",
    "- Visualize the **weak** and **strong** law of large numbers\n",
    "- Compute the **value function of a Markov Reward Process**\n",
    "\n",
    "This practical session has three main parts."
   ]
  },
  {
   "cell_type": "markdown",
   "id": "4bace54d",
   "metadata": {},
   "source": [
    "# Part 1 - Random Number Generation\n",
    "\n",
    "This part is **not** directly linked to reinforcement learning (or stochastic decision making) and its main purpose is to make the student aware of the importance of **reproducibility** as well as teach a *(random) bit* about algorithmic **random number generation**.\n",
    "\n",
    "Please ponder over the following question before delving into the practical: *How would you generate a random sequence of numbers?*.\n",
    "\n",
    "Can you even think of a high level definition of what it means for a sequence of numbers to be random or random enough?\n",
    "\n",
    "In this reinforcement learning course, we will deal with **random numbers** and we need an efficient way to generate random numbers according to some probability distribution. We say that we need a way to **simulate** the **law of a random variable**. On the other hand, there is a huge need for **reproducibility** of the experiments. As you all should know, reproducibility is a major principle of the scientific method and computer science/machine learning is no exception. In algorithmic (apart from the very specific field of quantum computing) there is no reason we shouldn't be able to **reproduce exactly** an experiment. Therefore, we want to generate random numbers as well as control how those numbers are generated so that we can **reproduce computer experiments in pseudo-stochastic environment**. At first glance, *reproducibility* and *randomness* may seem like opposite goals.\n",
    "\n",
    "An algorithm that generates random numbers is called a **random number generator** and the initial input to this algorithm that allows reproducibility is called the **seed**."
   ]
  },
  {
   "cell_type": "markdown",
   "id": "50528c1e",
   "metadata": {},
   "source": [
    "#### Question 1\n",
    "\n",
    "Using `numpy`, generate two random numbers between 0 and 1 by calling the function `np.random.rand`.\n",
    "What is different compared to other function calls (*e.g.* `np.sqrt(2)`)?"
   ]
  },
  {
   "cell_type": "code",
   "execution_count": 2,
   "id": "0f9c54bb",
   "metadata": {},
   "outputs": [],
   "source": [
    "# Don't know something? Ask questions or read the doc!\n",
    "?np.random.rand"
   ]
  },
  {
   "cell_type": "markdown",
   "id": "1c63d765",
   "metadata": {},
   "source": [
    "#### Answer 1"
   ]
  },
  {
   "cell_type": "code",
   "execution_count": 2,
   "id": "08754484",
   "metadata": {},
   "outputs": [
    {
     "name": "stdout",
     "output_type": "stream",
     "text": [
      "Calling np.random.rand(1) twice.\n",
      "np.random.rand(1) = [0.49799233]\n",
      "np.random.rand(1) = [0.75253602]\n",
      "\n",
      "Calling np.sqrt(2) twice.\n",
      "np.sqrt(2) = 1.4142135623730951\n",
      "np.sqrt(2) = 1.4142135623730951\n"
     ]
    }
   ],
   "source": [
    "print(f\"Calling np.random.rand(1) twice.\\n\\\n",
    "np.random.rand(1) = {np.random.rand(1)}\\nnp.random.rand(1) = {np.random.rand(1)}\")\n",
    "\n",
    "print(f\"\\nCalling np.sqrt(2) twice.\\n\\\n",
    "np.sqrt(2) = {np.sqrt(2)}\\nnp.sqrt(2) = {np.sqrt(2)}\")"
   ]
  },
  {
   "cell_type": "markdown",
   "id": "d55d60d0",
   "metadata": {},
   "source": [
    "Two calls to the function lead to two different answers."
   ]
  },
  {
   "cell_type": "markdown",
   "id": "2811822b",
   "metadata": {},
   "source": [
    "#### Question 2\n",
    "\n",
    "The previous question enlightens the fact that there is a need to set the **seed** so that we can start over a random experiment. We could use `np.random.seed` to specify a **global seed** but this is **not** the recommended way.\n",
    "\n",
    "*The preferred best practice for getting reproducible pseudorandom numbers is to instantiate a generator object with a seed and pass it around. The implicit global `RandomState` behind the `numpy.random.` convenience functions can cause problems, especially when threads or other forms of concurrency are involved. Global state is always problematic. We categorically recommend avoiding using the convenience functions when reproducibility is involved.*\n",
    "\n",
    "Robert Kern, [NEP 19](https://numpy.org/neps/nep-0019-rng-policy.html)\n",
    "\n",
    "Use `np.random.default_rng` to instanciate a random number generator, generate some random numbers and prove yourself that you know how to start over the generation by generating the same (first) random numbers."
   ]
  },
  {
   "cell_type": "markdown",
   "id": "34d0bd74",
   "metadata": {},
   "source": [
    "#### Answer 2"
   ]
  },
  {
   "cell_type": "code",
   "execution_count": 3,
   "id": "fd225bb6",
   "metadata": {},
   "outputs": [
    {
     "name": "stdout",
     "output_type": "stream",
     "text": [
      "Calling np.random.rand(1) twice.\n",
      "np.random.rand(1) = [0.73463129]\n",
      "np.random.rand(1) = [0.50966735]\n",
      "\n",
      "Calling rng.random(1) twice.\n",
      "rng.random(1) = [0.55043942]\n",
      "rng.random(1) = [0.18440082]\n"
     ]
    }
   ],
   "source": [
    "seed = int(\"ThisIsTheStartOfTheSchoolYear\", base=36)%2**31\n",
    "rng = np.random.default_rng(seed)\n",
    "\n",
    "print(f\"Calling np.random.rand(1) twice.\\n\\\n",
    "np.random.rand(1) = {np.random.rand(1)}\\nnp.random.rand(1) = {np.random.rand(1)}\")\n",
    "\n",
    "print()\n",
    "print(f\"Calling rng.random(1) twice.\\n\\\n",
    "rng.random(1) = {rng.random(1)}\\nrng.random(1) = {rng.random(1)}\")"
   ]
  },
  {
   "cell_type": "markdown",
   "id": "9ab760a5",
   "metadata": {},
   "source": [
    "We start over by feeding the same seed to `np.random.default_rng`."
   ]
  },
  {
   "cell_type": "code",
   "execution_count": 4,
   "id": "a9253633",
   "metadata": {},
   "outputs": [
    {
     "name": "stdout",
     "output_type": "stream",
     "text": [
      "Calling np.random.rand(1) twice.\n",
      "np.random.rand(1) = [0.86537091]\n",
      "np.random.rand(1) = [0.96680284]\n",
      "\n",
      "Calling rng.random(1) twice.\n",
      "rng.random(1) = [0.55043942]\n",
      "rng.random(1) = [0.18440082]\n"
     ]
    }
   ],
   "source": [
    "seed = int(\"ThisIsTheStartOfTheSchoolYear\", base=36)%2**31\n",
    "rng = np.random.default_rng(seed)\n",
    "\n",
    "print(f\"Calling np.random.rand(1) twice.\\n\\\n",
    "np.random.rand(1) = {np.random.rand(1)}\\nnp.random.rand(1) = {np.random.rand(1)}\")\n",
    "\n",
    "print()\n",
    "print(f\"Calling rng.random(1) twice.\\n\\\n",
    "rng.random(1) = {rng.random(1)}\\nrng.random(1) = {rng.random(1)}\")"
   ]
  },
  {
   "cell_type": "markdown",
   "id": "3cb3d674",
   "metadata": {},
   "source": [
    "### Our own random number generator (in $]0,1[$)\n",
    "\n",
    "In the next question, you will implement a **Linear Congruential random number generator**. Such a *rng* (random number generator) works as follow. Given an initial integer $x_0 \\in  (\\underline{M}, \\overline{M})$ and an integer function $$f : x \\in (\\underline{M}, \\overline{M}) \\mapsto f(x) \\in (\\underline{M}, \\overline{M}) , $$ we generate a sequence of integers by repeatedly applying the function $f$:\n",
    "$$ x_{n+1} = f(x_n) . $$\n",
    "\n",
    "Given $x_n \\in \\mathbb{N} $, we can map this integer to a rational $u_n \\in \\mathbb{Q} \\cap ]0,1[$ by computing $$ u_n = \\frac{x_n - \\underline{M}}{\\overline{M}- \\underline{M}} . $$\n",
    "\n",
    "This procedure allows to generate a sequence $(u_n)_n$ of numbers in $]0,1[$. If the function $f$ is well chosen, then the sequence $(u_n)_n$ may *appear like* a sampling from a uniform distribution in $]0,1[$ (this has a precise mathematical meaning in the field that study this topic).\n",
    "\n",
    "For mathematical reason, we avoid the value $0$ and we therefore skip it in any algorithm that implements a *rng* in the aformentionned fashion. That is to say, if $x_n = 0$ then set $x_n$ to $f(0)$. Therefore, $f(0)$ should not be equal to $0$.\n",
    "\n",
    "*Remark*: skipping $0$ may be a property of the *rng* or a property of the function that calls the *rng*. In the following, we make it a property of the *rng*.\n",
    "\n",
    "The Linear Congruential random number generator a function $f$ of the form $f(x) = mx + c \\hspace{0.3cm} [q]$, that is to say,\n",
    "$$ x_{n+1} = m x_n + c \\hspace{0.5cm} [q] .$$\n",
    "\n",
    "\n",
    "#### Question 3\n",
    "\n",
    "Implement a `class`, `LC_RNG`, that takes a seed ($x_0$) as an input and is able to generate a random sequence of numbers in $]0, 1[$ by calling a `random` method (it should mimick the behavior of numpy's).\n",
    "\n",
    "Use the values $m = 1103515245$, $c = 12345$ and $q = 2^{31}$."
   ]
  },
  {
   "cell_type": "markdown",
   "id": "403b0bda",
   "metadata": {},
   "source": [
    "#### Answer 3"
   ]
  },
  {
   "cell_type": "code",
   "execution_count": 8,
   "id": "a92416e2",
   "metadata": {},
   "outputs": [],
   "source": [
    "class LC_RNG:\n",
    "    def __init__(self, seed):\n",
    "        self.seed = seed\n",
    "        self.ctr = seed\n",
    "        \n",
    "        self.m = 1103515245 \n",
    "        self.c = 12345\n",
    "        self.max_int = 2**31\n",
    "    \n",
    "    def __str__(self):\n",
    "        return \"Generator (LCG customed)\"\n",
    "    \n",
    "    def generate_int(self):\n",
    "        self.ctr = ( self.m * self.ctr + self.c ) % self.max_int\n",
    "        return self.ctr\n",
    "        \n",
    "    def _random(self):\n",
    "        pseudo_random_int = self.generate_int()\n",
    "        if pseudo_random_int == 0:\n",
    "            pseudo_random_int = self.generate_int()\n",
    "        return pseudo_random_int / self.max_int\n",
    "    \n",
    "    def random(self, nbr_samples=None):\n",
    "        if nbr_samples is None:\n",
    "            samples = self._random()\n",
    "        else:\n",
    "            samples = []\n",
    "            for _ in range(nbr_samples):\n",
    "                samples.append(self._random())\n",
    "        return samples\n",
    "    \n",
    "    def normal(self):\n",
    "        pseudo_random_float = self.random()\n",
    "        return np.sqrt(2)*erfinv(2*pseudo_random_float-1)"
   ]
  },
  {
   "cell_type": "code",
   "execution_count": 9,
   "id": "f9768c6f",
   "metadata": {},
   "outputs": [],
   "source": [
    "seed = int(\"ThisIsTheStartOfTheSchoolYear\", base=36)%2**31"
   ]
  },
  {
   "cell_type": "code",
   "execution_count": 10,
   "id": "9523ce29",
   "metadata": {},
   "outputs": [
    {
     "name": "stdout",
     "output_type": "stream",
     "text": [
      "Calling custom_rng.random(1) twice.\n",
      "custom_rng.random(1) = [0.26866815984249115]\n",
      "custom_rng.random(1) = [0.2322915312834084]\n"
     ]
    }
   ],
   "source": [
    "custom_rng = LC_RNG(seed)\n",
    "print(f\"Calling custom_rng.random(1) twice.\\n\\\n",
    "custom_rng.random(1) = {custom_rng.random(1)}\\ncustom_rng.random(1) = {custom_rng.random(1)}\")"
   ]
  },
  {
   "cell_type": "markdown",
   "id": "e37ac2a4",
   "metadata": {},
   "source": [
    "Resetting the seed should restart the same generating process."
   ]
  },
  {
   "cell_type": "code",
   "execution_count": 11,
   "id": "dd8a86fe",
   "metadata": {},
   "outputs": [
    {
     "name": "stdout",
     "output_type": "stream",
     "text": [
      "Calling custom_rng.random(1) twice.\n",
      "custom_rng.random(1) = [0.26866815984249115]\n",
      "custom_rng.random(1) = [0.2322915312834084]\n"
     ]
    }
   ],
   "source": [
    "custom_rng = LC_RNG(seed)\n",
    "print(f\"Calling custom_rng.random(1) twice.\\n\\\n",
    "custom_rng.random(1) = {custom_rng.random(1)}\\ncustom_rng.random(1) = {custom_rng.random(1)}\")"
   ]
  },
  {
   "cell_type": "markdown",
   "id": "86051ef6",
   "metadata": {},
   "source": [
    "This kind of algorithm allows us to generate a random sequence of `float` in the bounded interval $]0, 1[$ that is approximately uniformly distributed on this support. From now on, we shall assume in all simulations that the samples from `np.random.default_rng` are *independently and identically distributed* according to a uniform distribution in $]0,1[$."
   ]
  },
  {
   "cell_type": "markdown",
   "id": "cd9ba50c",
   "metadata": {},
   "source": [
    "#### Question 4\n",
    "\n",
    "What is the name of the generator that is used by the default call to `np.random.default_rng`?"
   ]
  },
  {
   "cell_type": "markdown",
   "id": "4b49e5a1",
   "metadata": {},
   "source": [
    "#### Answer 4\n",
    "\n",
    "What kind of generator is used by default? We can find out by reading the doctstring `?np.random.default_rng` (or `help(np.random.default_rng)` ) or simply using `print` on the created object. As we can see, this is [PCG64](https://en.wikipedia.org/wiki/Permuted_congruential_generator)."
   ]
  },
  {
   "cell_type": "code",
   "execution_count": 12,
   "id": "8b014d07",
   "metadata": {},
   "outputs": [],
   "source": [
    "?np.random.default_rng"
   ]
  },
  {
   "cell_type": "code",
   "execution_count": 13,
   "id": "3a68f38a",
   "metadata": {},
   "outputs": [
    {
     "name": "stdout",
     "output_type": "stream",
     "text": [
      "Generator(PCG64)\n"
     ]
    }
   ],
   "source": [
    "print(rng)"
   ]
  },
  {
   "cell_type": "markdown",
   "id": "eb47676f",
   "metadata": {},
   "source": [
    "#### Question 5\n",
    "\n",
    "Using `np.random.default_rng`, generate a sequence of 10 000 samples in $]0,1[$ and plot a histogram. Do the same with your custom rng."
   ]
  },
  {
   "cell_type": "markdown",
   "id": "d0961e63",
   "metadata": {},
   "source": [
    "#### Answer 5"
   ]
  },
  {
   "cell_type": "code",
   "execution_count": 14,
   "id": "0dab2167",
   "metadata": {},
   "outputs": [
    {
     "data": {
      "image/png": "[encoded data removed]",
      "text/plain": [
       "<Figure size 792x360 with 1 Axes>"
      ]
     },
     "metadata": {
      "needs_background": "light"
     },
     "output_type": "display_data"
    }
   ],
   "source": [
    "plt.figure(figsize=(11,5))\n",
    "plt.title(f\"Density histogram of 10 000 samples generated by np.random.default_rng with the seed {seed}\")\n",
    "plt.hist([rng.random() for _ in range(10000)], density=True, bins=50)\n",
    "plt.show()"
   ]
  },
  {
   "cell_type": "code",
   "execution_count": 13,
   "id": "7686b885",
   "metadata": {},
   "outputs": [
    {
     "data": {
      "image/png": "[encoded data removed]",
      "text/plain": [
       "<Figure size 792x360 with 1 Axes>"
      ]
     },
     "metadata": {
      "needs_background": "light"
     },
     "output_type": "display_data"
    }
   ],
   "source": [
    "plt.figure(figsize=(11,5))\n",
    "plt.title(f\"Density histogram of 10 000 samples generated by custom_rng with the seed {seed}\")\n",
    "plt.hist([custom_rng.random() for _ in range(10000)], density=True, bins=50)\n",
    "plt.show()"
   ]
  },
  {
   "cell_type": "markdown",
   "id": "a13aeb9c",
   "metadata": {},
   "source": [
    "## Generating/Simulating a random variables"
   ]
  },
  {
   "cell_type": "markdown",
   "id": "f443ccdf",
   "metadata": {},
   "source": [
    "**Theorem** *Let $U$ be a uniform random variable on $]0,1[$ and $X$ a real random variable. Assume that the cumulative distribution function $F_X$ of $X$, $F_X (u) = \\mathbb{P} (X \\leq u)$, is continuous. Then the random variable $Y$\n",
    "$$ Y = F_X^{-1}(U) $$ has distribution $F_X$. That is to say, $X$ and $Y$ have the same law.*\n",
    "\n",
    "An algorithmic consequence of this theorem is that to generate (or simulate) *i.i.d.* samples having the law of a random variable $X$, one can first use a generator of uniform samples in $]0,1[$ and then use the invert distribution function $F_X^{-1}$ to compute *i.i.d.* samples from X.\n",
    "\n",
    "Of course, such a method assumes that we have a way to compute (or estimate with good enough precision) $F_X^{-1}$.\n",
    "\n",
    "**Algorithm for generating a sample from random variable X using $F_X^{-1}$**\n",
    "\n",
    "- `Generate` *u* `uniformly at random on` $]0,1[$\n",
    "- `Output` $F_x^{-1}(u)$\n",
    "\n",
    "The function $F_X^{-1}$ of a unitary centered random variable, $X \\sim \\mathcal{N}(0,1)$, is implemented in the next cell."
   ]
  },
  {
   "cell_type": "code",
   "execution_count": 14,
   "id": "adb8abc6",
   "metadata": {},
   "outputs": [],
   "source": [
    "# Gaussian distribution\n",
    "F_gaussian_inv = lambda u : np.sqrt(2)*erfinv(2*u-1)"
   ]
  },
  {
   "cell_type": "code",
   "execution_count": 15,
   "id": "daa8fa9d",
   "metadata": {},
   "outputs": [
    {
     "data": {
      "image/png": "[encoded data removed]",
      "text/plain": [
       "<Figure size 648x360 with 1 Axes>"
      ]
     },
     "metadata": {
      "needs_background": "light"
     },
     "output_type": "display_data"
    }
   ],
   "source": [
    "N = 5000\n",
    "x = np.linspace(0+1e-5, 1-1e-5, N)\n",
    "y = F_gaussian_inv(x)\n",
    "plt.figure(figsize=(9,5))\n",
    "plt.title(\"Invert distribution function of a unitary centered gaussian random variable\")\n",
    "plt.plot(x,y)\n",
    "plt.show()"
   ]
  },
  {
   "cell_type": "markdown",
   "id": "29dae444",
   "metadata": {},
   "source": [
    "#### Question 6\n",
    "\n",
    "Using `np.random.default_rng`, generate a sequence of 10 000 samples according to a unitary centered gaussian distribution and plot a histogram. Modify the `LC_RNG` to do the same with your custom rng."
   ]
  },
  {
   "cell_type": "markdown",
   "id": "126bbe71",
   "metadata": {},
   "source": [
    "#### Answer 6"
   ]
  },
  {
   "cell_type": "markdown",
   "id": "75364030",
   "metadata": {},
   "source": [
    "##### Simulation using `numpy` random number generator"
   ]
  },
  {
   "cell_type": "code",
   "execution_count": 16,
   "id": "2ff666b2",
   "metadata": {},
   "outputs": [
    {
     "data": {
      "image/png": "[encoded data removed]",
      "text/plain": [
       "<Figure size 648x360 with 1 Axes>"
      ]
     },
     "metadata": {
      "needs_background": "light"
     },
     "output_type": "display_data"
    }
   ],
   "source": [
    "plt.figure(figsize=(9,5))\n",
    "plt.title(f\"Density histogram of 10 000 samples generated by custom_rng with the seed {seed} (gaussian)\")\n",
    "plt.hist(rng.normal(size=10000), density=True, bins=50)\n",
    "plt.show()"
   ]
  },
  {
   "cell_type": "markdown",
   "id": "ca04e7bb",
   "metadata": {},
   "source": [
    "##### Simulation using `custom` random number generator"
   ]
  },
  {
   "cell_type": "code",
   "execution_count": 17,
   "id": "1c83e88f",
   "metadata": {},
   "outputs": [],
   "source": [
    "class LC_RNG:\n",
    "    def __init__(self, seed):\n",
    "        self.seed = seed\n",
    "        self.ctr = seed\n",
    "        \n",
    "        self.m = 1103515245 \n",
    "        self.c = 12345\n",
    "        self.max_int = 2**31\n",
    "    \n",
    "    def __str__(self):\n",
    "        return \"Generator (LCG customed)\"\n",
    "    \n",
    "    def generate_int(self):\n",
    "        self.ctr = ( self.m * self.ctr + self.c ) % self.max_int\n",
    "        return self.ctr\n",
    "        \n",
    "    def _random(self):\n",
    "        pseudo_random_int = self.generate_int()\n",
    "        if pseudo_random_int == 0:\n",
    "            pseudo_random_int = self.generate_int()\n",
    "        return pseudo_random_int / self.max_int\n",
    "    \n",
    "    def random(self, nbr_samples=None):\n",
    "        if nbr_samples is None:\n",
    "            samples = self._random()\n",
    "        else:\n",
    "            samples = []\n",
    "            for _ in range(nbr_samples):\n",
    "                samples.append(self._random())\n",
    "        return samples\n",
    "    \n",
    "    def _normal(self):\n",
    "        pseudo_random_float = self.random()\n",
    "        return np.sqrt(2)*erfinv(2*pseudo_random_float-1)\n",
    "    \n",
    "    def normal(self, nbr_samples=None):\n",
    "        if nbr_samples is None:\n",
    "            samples = self._normal()\n",
    "        else:\n",
    "            samples = []\n",
    "            for _ in range(nbr_samples):\n",
    "                samples.append(self._normal())\n",
    "        return samples\n",
    "    \n",
    "custom_rng = LC_RNG(seed)"
   ]
  },
  {
   "cell_type": "code",
   "execution_count": 18,
   "id": "03b9b8b4",
   "metadata": {},
   "outputs": [
    {
     "data": {
      "image/png": "[encoded data removed]",
      "text/plain": [
       "<Figure size 648x360 with 1 Axes>"
      ]
     },
     "metadata": {
      "needs_background": "light"
     },
     "output_type": "display_data"
    }
   ],
   "source": [
    "plt.figure(figsize=(9,5))\n",
    "plt.title(f\"Density histogram of 10 000 samples generated by custom_rng with the seed {seed} (gaussian)\")\n",
    "plt.hist(custom_rng.normal(10000), density=True, bins=50)\n",
    "plt.show()"
   ]
  },
  {
   "cell_type": "markdown",
   "id": "30c369b5",
   "metadata": {},
   "source": [
    "#### Question 7\n",
    "\n",
    "What could have gone wrong? Implement a `Dummy_LC_RNG` class with $c=1$ and $m=128$. Re-do the previous experiments and try changing `m` from *128* to *127* and see what happens."
   ]
  },
  {
   "cell_type": "markdown",
   "id": "d476a5f2",
   "metadata": {},
   "source": [
    "#### Answer 7"
   ]
  },
  {
   "cell_type": "code",
   "execution_count": 19,
   "id": "a75aa7d8",
   "metadata": {},
   "outputs": [],
   "source": [
    "class Dummy_LC_RNG:\n",
    "    def __init__(self, seed, m=128):\n",
    "        self.seed = seed\n",
    "        self.ctr = seed\n",
    "        \n",
    "        self.m = m\n",
    "        self.c = 1\n",
    "        self.max_int = 2**31\n",
    "    \n",
    "    def __str__(self):\n",
    "        return \"Dummy Generator (LCG customed)\"\n",
    "    \n",
    "    def generate_int(self):\n",
    "        self.ctr = ( self.m * self.ctr + self.c ) % self.max_int\n",
    "        return self.ctr\n",
    "        \n",
    "    def random(self):\n",
    "        pseudo_random_int = self.generate_int()\n",
    "        if pseudo_random_int == 0:\n",
    "            pseudo_random_int = self.generate_int()\n",
    "        return pseudo_random_int / self.max_int"
   ]
  },
  {
   "cell_type": "code",
   "execution_count": 20,
   "id": "4bb68a36",
   "metadata": {},
   "outputs": [
    {
     "data": {
      "image/png": "[encoded data removed]",
      "text/plain": [
       "<Figure size 648x360 with 1 Axes>"
      ]
     },
     "metadata": {
      "needs_background": "light"
     },
     "output_type": "display_data"
    }
   ],
   "source": [
    "dummy_rng = Dummy_LC_RNG(seed)\n",
    "plt.figure(figsize=(9,5))\n",
    "plt.hist([dummy_rng.random() for _ in range(10000)], density=True, bins=50)\n",
    "plt.show()"
   ]
  },
  {
   "cell_type": "code",
   "execution_count": 21,
   "id": "d8717a3c",
   "metadata": {},
   "outputs": [
    {
     "data": {
      "image/png": "[encoded data removed]",
      "text/plain": [
       "<Figure size 648x360 with 1 Axes>"
      ]
     },
     "metadata": {
      "needs_background": "light"
     },
     "output_type": "display_data"
    }
   ],
   "source": [
    "dummy_rng = Dummy_LC_RNG(seed, 127)\n",
    "plt.figure(figsize=(9,5))\n",
    "plt.hist([dummy_rng.random() for _ in range(10000)], density=True, bins=50)\n",
    "plt.show()"
   ]
  },
  {
   "cell_type": "markdown",
   "id": "318512e1",
   "metadata": {},
   "source": [
    "As it can be seen, one must be careful when crafting a pseudo random number generator. Furthermore, one should also be careful that $x_{n+1}$ and $x_n$ are *as independent as possible*. Although this may seem counter-intuitive to do so with a completely deterministic procedure, there are ways to measure the statistical correlation of samples.\n",
    "\n",
    "An analogy is the one of [shuffling a deck of cards](https://chance.dartmouth.edu/teaching_aids/books_articles/Mann.pdf). While shuffling is a completely deterministic procedure we have a feeling that after shuffling, if done correctly, we get a random permutation of the cards that is roughly independent from the original permutation of the deck before shuffling."
   ]
  },
  {
   "cell_type": "markdown",
   "id": "89f0a927",
   "metadata": {},
   "source": [
    "# Part 2 - Hands on Statistics"
   ]
  },
  {
   "cell_type": "markdown",
   "id": "1b1580e1",
   "metadata": {},
   "source": [
    "In this part, we show how to compute the **expected value** of a random sequence/random variable. We do so because this is mainly the only statistical quantity you will have to compute in the following practical sessions.\n",
    "\n",
    "There are two main ways to compute the **mean** of a sequence of numbers, an *offline* and an *online* way. Given a sequence $(x_i)_{i \\in \\{1, \\cdots , n \\}}$ of real numbers, we can compute the mean $\\bar x_n$ by first computing the sum of all the elements, $\\sum_i x_i$ and then dividing by the number of elements. This is the offline method. If we were given a new number $x_{n+1}$ we would have to re-do all the additions and division. Mathematically, the formula is:\n",
    "$$ \\bar x_n = \\frac{1}{n} \\sum_{i=1}^n x_i  .$$\n",
    "\n",
    "The online way computes a *sequence of means*, $(\\bar x_k)_{k \\in \\{1, \\cdots , n \\} }$, where $\\bar x_k$ is the mean of the subsequence (or slice) $(x_i)_{i \\in \\{1, \\cdots , k \\}}$. The last element of the sequence of means is the mean of the original sequence. Mathematically, we initiate the sequence with $\\bar x_1 = x_1$ and the update rule is:\n",
    "\n",
    "$$ \\bar x_{k+1} = \\frac{1}{k+1}(k \\bar x_k + x_{k+1}) . $$\n",
    "\n",
    "The advantage of the online method is that we don't need to store the sequence of all samples and that we can immediatly update the mean once given a new sample."
   ]
  },
  {
   "cell_type": "markdown",
   "id": "2aa49399",
   "metadata": {},
   "source": [
    "#### Question 8\n",
    "\n",
    "Check that the online methods indeed is correct."
   ]
  },
  {
   "cell_type": "markdown",
   "id": "152f2558",
   "metadata": {},
   "source": [
    "#### Question 9\n",
    "\n",
    "Write as many functions as you can to compute the mean of a `python list` and check on a random sequence if they give the same result. What can you say?"
   ]
  },
  {
   "cell_type": "markdown",
   "id": "3e518581",
   "metadata": {},
   "source": [
    "#### Answer 9"
   ]
  },
  {
   "cell_type": "code",
   "execution_count": 22,
   "id": "a2e553c8",
   "metadata": {},
   "outputs": [],
   "source": [
    "def mean_1(l):\n",
    "    agg = 0\n",
    "    i = 0\n",
    "    for elm in l:\n",
    "        agg += elm\n",
    "        i += 1\n",
    "    return agg / i\n",
    "\n",
    "def mean_2(l):\n",
    "    m = 0\n",
    "    i = 0\n",
    "    for elm in l:\n",
    "        m = (i*m + elm)/(i+1)\n",
    "        i += 1\n",
    "    return m\n",
    "\n",
    "def mean_3(l):\n",
    "    m = np.sum(l) / len(l)\n",
    "    return m\n",
    "\n",
    "def mean_4(l):\n",
    "    m = sum(l) / len(l)\n",
    "    return m\n",
    "\n",
    "def mean_5(l):\n",
    "    m = math.fsum(l) / len(l)\n",
    "    return m\n",
    "\n",
    "def update_mean(m, n, elm):\n",
    "    assert n >= 0\n",
    "    return (n*m + elm)/(n+1)"
   ]
  },
  {
   "cell_type": "code",
   "execution_count": 23,
   "id": "2c5372b9",
   "metadata": {},
   "outputs": [
    {
     "name": "stdout",
     "output_type": "stream",
     "text": [
      "mean_1(samples)  = 0.5103409440103216\n",
      "mean_2(samples)  = 0.5103409440103205\n",
      "mean_3(samples)  = 0.5103409440103216 (same result than np.mean)\n",
      "mean_4(samples)  = 0.5103409440103216\n",
      "mean_5(samples)  = 0.5103409440103216\n",
      "np.mean(samples) = 0.5103409440103216 (float64)\n",
      "np.mean(samples) = 0.5103409290313721 (float32)\n",
      "np.mean(samples) = 0.51025390625  (float16)\n",
      "\n"
     ]
    }
   ],
   "source": [
    "samples = rng.random(1000)\n",
    "print(f\"mean_1(samples)  = {mean_1(samples)}\\n\\\n",
    "mean_2(samples)  = {mean_2(samples)}\\n\\\n",
    "mean_3(samples)  = {mean_3(samples)} (same result than np.mean)\\n\\\n",
    "mean_4(samples)  = {mean_4(samples)}\\n\\\n",
    "mean_5(samples)  = {mean_5(samples)}\\n\\\n",
    "np.mean(samples) = {np.mean(samples)} (float64)\\n\\\n",
    "np.mean(samples) = {np.mean(samples, dtype='float32')} (float32)\\n\\\n",
    "np.mean(samples) = {np.mean(samples, dtype='float16')}  (float16)\\n\")"
   ]
  },
  {
   "cell_type": "code",
   "execution_count": 24,
   "id": "9c3b0f5e",
   "metadata": {},
   "outputs": [],
   "source": [
    "def sum_1(l):\n",
    "    agg = 0\n",
    "    for elm in l:\n",
    "        agg += elm\n",
    "    return agg\n",
    "\n",
    "def sum_3(l):\n",
    "    m = np.sum(l)\n",
    "    return m\n",
    "\n",
    "def sum_4(l):\n",
    "    m = sum(l)\n",
    "    return m\n",
    "\n",
    "def sum_5(l):\n",
    "    m = math.fsum(l)\n",
    "    return m"
   ]
  },
  {
   "cell_type": "code",
   "execution_count": 25,
   "id": "8993c47b",
   "metadata": {},
   "outputs": [
    {
     "name": "stdout",
     "output_type": "stream",
     "text": [
      "sum_1(samples)  = 510.34094401032155\n",
      "sum_3(samples)  = 510.34094401032155 (same result than np.mean)\n",
      "sum_4(samples)  = 510.34094401032155\n",
      "sum_5(samples)  = 510.3409440103216\n",
      "np.sum(samples) = 510.34094401032155 (float64)\n",
      "np.sum(samples) = 510.3409423828125 (float32)\n",
      "np.sum(samples) = 510.25  (float16)\n",
      "\n"
     ]
    }
   ],
   "source": [
    "print(f\"sum_1(samples)  = {sum_1(samples)}\\n\\\n",
    "sum_3(samples)  = {sum_3(samples)} (same result than np.mean)\\n\\\n",
    "sum_4(samples)  = {sum_4(samples)}\\n\\\n",
    "sum_5(samples)  = {sum_5(samples)}\\n\\\n",
    "np.sum(samples) = {np.sum(samples)} (float64)\\n\\\n",
    "np.sum(samples) = {np.sum(samples, dtype='float32')} (float32)\\n\\\n",
    "np.sum(samples) = {np.sum(samples, dtype='float16')}  (float16)\\n\")"
   ]
  }
 ],
 "metadata": {
  "kernelspec": {
   "display_name": "Python 3 (ipykernel)",
   "language": "python",
   "name": "python3"
  },
  "language_info": {
   "codemirror_mode": {
    "name": "ipython",
    "version": 3
   },
   "file_extension": ".py",
   "mimetype": "text/x-python",
   "name": "python",
   "nbconvert_exporter": "python",
   "pygments_lexer": "ipython3",
   "version": "3.8.10"
  }
 },
 "nbformat": 4,
 "nbformat_minor": 5
}
