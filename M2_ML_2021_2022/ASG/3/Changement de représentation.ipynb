{
 "cells": [
  {
   "cell_type": "code",
   "execution_count": 1,
   "metadata": {},
   "outputs": [],
   "source": [
    "import numpy as np\n",
    "import matplotlib.pyplot as plt\n",
    "import seaborn as sns\n",
    "rng = np.random.RandomState(0)\n",
    "sns.set()\n",
    "%matplotlib inline"
   ]
  },
  {
   "cell_type": "markdown",
   "metadata": {},
   "source": [
    "# Changement de représentation\n"
   ]
  },
  {
   "cell_type": "code",
   "execution_count": 2,
   "metadata": {},
   "outputs": [],
   "source": [
    "n = 10"
   ]
  },
  {
   "cell_type": "markdown",
   "metadata": {},
   "source": [
    "**Question** Prendre $n$ points uniformément répartis dans l'intervalle $[0,2\\pi]$.\n",
    "\n",
    "*Aide* Utilisez `linspace`, `np.pi`..."
   ]
  },
  {
   "cell_type": "code",
   "execution_count": 4,
   "metadata": {},
   "outputs": [
    {
     "data": {
      "text/plain": [
       "array([0.        , 0.6981317 , 1.3962634 , 2.0943951 , 2.7925268 ,\n",
       "       3.4906585 , 4.1887902 , 4.88692191, 5.58505361, 6.28318531])"
      ]
     },
     "execution_count": 4,
     "metadata": {},
     "output_type": "execute_result"
    }
   ],
   "source": [
    "xs = np.linspace(0, 2*np.pi, n)\n",
    "xs"
   ]
  },
  {
   "cell_type": "markdown",
   "metadata": {},
   "source": [
    "**Question** Calculer $\\mathbf X$ la matrice de dimension $n\\times 2$ des points $n$ points sur le cercle de rayon 1. \n",
    "\n",
    "    array([[ 1.00000000e+00,  0.00000000e+00],\n",
    "       [ 7.66044443e-01,  6.42787610e-01],\n",
    "       [ 1.73648178e-01,  9.84807753e-01],\n",
    "       [-5.00000000e-01,  8.66025404e-01],\n",
    "       [-9.39692621e-01,  3.42020143e-01],\n",
    "       [-9.39692621e-01, -3.42020143e-01],\n",
    "       [-5.00000000e-01, -8.66025404e-01],\n",
    "       [ 1.73648178e-01, -9.84807753e-01],\n",
    "       [ 7.66044443e-01, -6.42787610e-01],\n",
    "       [ 1.00000000e+00, -2.44929360e-16]])\n",
    "\n",
    "*Aide* Utilisez `np.cos`, `np.sin`, "
   ]
  },
  {
   "cell_type": "code",
   "execution_count": 17,
   "metadata": {},
   "outputs": [
    {
     "data": {
      "text/plain": [
       "array([[ 1.00000000e+00,  0.00000000e+00],\n",
       "       [ 7.66044443e-01,  6.42787610e-01],\n",
       "       [ 1.73648178e-01,  9.84807753e-01],\n",
       "       [-5.00000000e-01,  8.66025404e-01],\n",
       "       [-9.39692621e-01,  3.42020143e-01],\n",
       "       [-9.39692621e-01, -3.42020143e-01],\n",
       "       [-5.00000000e-01, -8.66025404e-01],\n",
       "       [ 1.73648178e-01, -9.84807753e-01],\n",
       "       [ 7.66044443e-01, -6.42787610e-01],\n",
       "       [ 1.00000000e+00, -2.44929360e-16]])"
      ]
     },
     "execution_count": 17,
     "metadata": {},
     "output_type": "execute_result"
    }
   ],
   "source": [
    "x1 = np.cos(xs).reshape(-1, 1)\n",
    "x2 = np.sin(xs).reshape(-1, 1)\n",
    "\n",
    "X = np.hstack((x1, x2))\n",
    "X"
   ]
  },
  {
   "cell_type": "markdown",
   "metadata": {},
   "source": [
    "**Question** Tracer les points. \n",
    "\n",
    "*Aide* : on peut utiliser `set_aspect('equal')` pour avoir un beau ratio. Dans ce cas il faut faire un `subplots` et récupérer les axes sur lequel on fait le scatter plot... "
   ]
  },
  {
   "cell_type": "code",
   "execution_count": 23,
   "metadata": {},
   "outputs": [
    {
     "data": {
      "image/png": "[encoded data removed]",
      "text/plain": [
       "<Figure size 432x288 with 1 Axes>"
      ]
     },
     "metadata": {
      "needs_background": "light"
     },
     "output_type": "display_data"
    }
   ],
   "source": [
    "fig, ax = plt.subplots(1)\n",
    "ax.scatter(X[:,0], X[:,1])\n",
    "ax.set_aspect('equal')\n",
    "plt.show()"
   ]
  },
  {
   "cell_type": "markdown",
   "metadata": {},
   "source": [
    "On peut voir chaque point plutôt comme un vecteur. On va donc plutôt considérer la matrice $\\mathbf V = \\mathbf X^\\top$ des $n$ vecteurs. On peut tracer ces vecteurs. La fonction `quiver` permet de le faire. C'est assez long de regarder la doc, je vous aide... "
   ]
  },
  {
   "cell_type": "code",
   "execution_count": 18,
   "metadata": {},
   "outputs": [],
   "source": [
    "V = X.T"
   ]
  },
  {
   "cell_type": "code",
   "execution_count": 22,
   "metadata": {},
   "outputs": [
    {
     "data": {
      "image/png": "[encoded data removed]",
      "text/plain": [
       "<Figure size 432x288 with 1 Axes>"
      ]
     },
     "metadata": {
      "needs_background": "light"
     },
     "output_type": "display_data"
    }
   ],
   "source": [
    "# On prend le ieme point de V\n",
    "i = 5\n",
    "\n",
    "fig, ax = plt.subplots(1)\n",
    "ax.quiver([0], [0], V[0,i], V[1,i], \n",
    "           angles='xy', scale_units='xy', scale=1)\n",
    "ax.set_aspect('equal')\n",
    "ax.set_xlim(-5,5)\n",
    "ax.set_ylim(-5,5)\n",
    "plt.show()"
   ]
  },
  {
   "cell_type": "markdown",
   "metadata": {},
   "source": [
    "**Question** On considère maintenant une transformation linéaire, donnée par une matrice $\\mathbf A=\\begin{pmatrix}2&0\\\\1&4\\end{pmatrix}$. Définir cette matrice"
   ]
  },
  {
   "cell_type": "code",
   "execution_count": 24,
   "metadata": {},
   "outputs": [
    {
     "data": {
      "text/plain": [
       "array([[2, 0],\n",
       "       [1, 4]])"
      ]
     },
     "execution_count": 24,
     "metadata": {},
     "output_type": "execute_result"
    }
   ],
   "source": [
    "A = np.array([2,0,1,4]).reshape(2,2)\n",
    "A"
   ]
  },
  {
   "cell_type": "markdown",
   "metadata": {},
   "source": [
    "**Question** Calculer $\\mathbf Z = \\mathbf A\\mathbf V$. C'est appliquer la transformation $\\mathbf A$ sur $\\mathbf V$. On peut appeler le résultat $\\mathbf Z$"
   ]
  },
  {
   "cell_type": "code",
   "execution_count": 53,
   "metadata": {},
   "outputs": [
    {
     "data": {
      "text/plain": [
       "array([[ 2.        ,  1.53208889,  0.34729636, -1.        , -1.87938524,\n",
       "        -1.87938524, -1.        ,  0.34729636,  1.53208889,  2.        ],\n",
       "       [ 1.        ,  3.33719488,  4.11287919,  2.96410162,  0.42838795,\n",
       "        -2.30777319, -3.96410162, -3.76558283, -1.805106  ,  1.        ]])"
      ]
     },
     "execution_count": 53,
     "metadata": {},
     "output_type": "execute_result"
    }
   ],
   "source": [
    "Z = A @ V\n",
    "Z"
   ]
  },
  {
   "attachments": {
    "image.png": {
     "image/png": "[encoded data removed]"
    }
   },
   "cell_type": "markdown",
   "metadata": {},
   "source": [
    "**Question** Maintenant, tracer le 5eme vecteur et sa transformée. On peut utiliser l'attribut `color` pour l'afficher en rouge. \n",
    "![image.png](attachment:image.png)"
   ]
  },
  {
   "cell_type": "code",
   "execution_count": 28,
   "metadata": {},
   "outputs": [
    {
     "data": {
      "image/png": "[encoded data removed]",
      "text/plain": [
       "<Figure size 432x288 with 1 Axes>"
      ]
     },
     "metadata": {
      "needs_background": "light"
     },
     "output_type": "display_data"
    }
   ],
   "source": [
    "# On prend le ieme point de V\n",
    "i = 5\n",
    "\n",
    "fig, ax = plt.subplots(1)\n",
    "ax.quiver([0], [0], V[0,i], V[1,i], \n",
    "           angles='xy', scale_units='xy', scale=1)\n",
    "ax.quiver([0], [0], Z[0,i], Z[1,i], \n",
    "           angles='xy', scale_units='xy', scale=1, color='r')\n",
    "ax.set_aspect('equal')\n",
    "ax.set_xlim(-5,5)\n",
    "ax.set_ylim(-5,5)\n",
    "plt.show()"
   ]
  },
  {
   "cell_type": "markdown",
   "metadata": {},
   "source": [
    "**Question** Définir le vecteur $x_1$ de coordonnées $(0, 1)$. Lui appliquer $\\mathbf A$ et constater... "
   ]
  },
  {
   "cell_type": "code",
   "execution_count": 31,
   "metadata": {},
   "outputs": [
    {
     "data": {
      "text/plain": [
       "array([0, 4])"
      ]
     },
     "execution_count": 31,
     "metadata": {},
     "output_type": "execute_result"
    }
   ],
   "source": [
    "x1 = np.array([0,1])\n",
    "Z2 = A @ x1\n",
    "Z2"
   ]
  },
  {
   "cell_type": "markdown",
   "metadata": {},
   "source": [
    "**Question** Tracer les deux vecteurs. "
   ]
  },
  {
   "cell_type": "code",
   "execution_count": 38,
   "metadata": {},
   "outputs": [
    {
     "data": {
      "image/png": "[encoded data removed]",
      "text/plain": [
       "<Figure size 432x288 with 1 Axes>"
      ]
     },
     "metadata": {
      "needs_background": "light"
     },
     "output_type": "display_data"
    }
   ],
   "source": [
    "fig, ax = plt.subplots(1)\n",
    "\n",
    "ax.quiver([0], [0], x1[0], x1[1], \n",
    "           angles='xy', scale_units='xy', scale=1, color='r')\n",
    "ax.quiver([0], [0], Z2[0], Z2[1], \n",
    "           angles='xy', scale_units='xy', scale=1, color='blue')\n",
    "\n",
    "ax.set_aspect('equal')\n",
    "ax.set_xlim(-5,5)\n",
    "ax.set_ylim(-5,5)\n",
    "plt.show()"
   ]
  },
  {
   "cell_type": "markdown",
   "metadata": {},
   "source": [
    "**Question** Idem avec le vecteur $x_2$ de coordonnées $(0.89442719,-0.4472136)$."
   ]
  },
  {
   "cell_type": "code",
   "execution_count": 34,
   "metadata": {},
   "outputs": [
    {
     "data": {
      "text/plain": [
       "array([ 1.78885438, -0.89442721])"
      ]
     },
     "execution_count": 34,
     "metadata": {},
     "output_type": "execute_result"
    }
   ],
   "source": [
    "x2 = np.array([0.89442719,-0.4472136])\n",
    "Z3 = A @ x2\n",
    "Z3"
   ]
  },
  {
   "cell_type": "markdown",
   "metadata": {},
   "source": [
    "**Question** Tracer $x_1$, $x_2$ et leurs transformés"
   ]
  },
  {
   "cell_type": "code",
   "execution_count": 39,
   "metadata": {},
   "outputs": [
    {
     "data": {
      "image/png": "[encoded data removed]",
      "text/plain": [
       "<Figure size 432x288 with 1 Axes>"
      ]
     },
     "metadata": {
      "needs_background": "light"
     },
     "output_type": "display_data"
    }
   ],
   "source": [
    "fig, ax = plt.subplots(1)\n",
    "\n",
    "ax.quiver([0], [0], x1[0], x1[1], \n",
    "           angles='xy', scale_units='xy', scale=1, color='r')\n",
    "ax.quiver([0], [0], Z2[0], Z2[1], \n",
    "           angles='xy', scale_units='xy', scale=1, color='blue')\n",
    "\n",
    "ax.quiver([0], [0], x2[0], x2[1], \n",
    "           angles='xy', scale_units='xy', scale=1, color='r')\n",
    "ax.quiver([0], [0], Z3[0], Z3[1], \n",
    "           angles='xy', scale_units='xy', scale=1, color='blue')\n",
    "\n",
    "ax.set_aspect('equal')\n",
    "ax.set_xlim(-5,5)\n",
    "ax.set_ylim(-5,5)\n",
    "plt.show()\n"
   ]
  },
  {
   "cell_type": "markdown",
   "metadata": {},
   "source": [
    "**Question** Combien vallent $2x_2$ et $4x_1$? Concluez!"
   ]
  },
  {
   "cell_type": "code",
   "execution_count": 43,
   "metadata": {},
   "outputs": [
    {
     "data": {
      "text/plain": [
       "array([ 1.78885438, -0.8944272 ])"
      ]
     },
     "execution_count": 43,
     "metadata": {},
     "output_type": "execute_result"
    }
   ],
   "source": [
    "2 * x2"
   ]
  },
  {
   "cell_type": "code",
   "execution_count": 41,
   "metadata": {},
   "outputs": [
    {
     "data": {
      "text/plain": [
       "array([0, 4])"
      ]
     },
     "execution_count": 41,
     "metadata": {},
     "output_type": "execute_result"
    }
   ],
   "source": [
    "4 * x1"
   ]
  },
  {
   "cell_type": "markdown",
   "metadata": {},
   "source": [
    "==> Ca fait juste changer l'échelle. Ce sont des vecteurs propres"
   ]
  },
  {
   "cell_type": "markdown",
   "metadata": {},
   "source": [
    "**Question** Tracer aussi tous les vecteurs de $\\mathbf V$ et leur transformée $\\mathbf Z$"
   ]
  },
  {
   "cell_type": "code",
   "execution_count": 75,
   "metadata": {},
   "outputs": [
    {
     "data": {
      "image/png": "[encoded data removed]",
      "text/plain": [
       "<Figure size 432x288 with 1 Axes>"
      ]
     },
     "metadata": {
      "needs_background": "light"
     },
     "output_type": "display_data"
    }
   ],
   "source": [
    "fig, ax = plt.subplots(1)\n",
    "colors = np.linspace(0,1,10)\n",
    "\n",
    "for i in range(10):\n",
    "    \n",
    "    ax.quiver([0], [0], V[0,i], V[1,i], \n",
    "               angles='xy', scale_units='xy', scale=1)\n",
    "    ax.quiver([0], [0], Z[0,i], Z[1,i], \n",
    "               angles='xy', scale_units='xy', scale=1)\n",
    "    \n",
    "ax.set_aspect('equal')\n",
    "ax.set_xlim(-5,5)\n",
    "ax.set_ylim(-5,5)\n",
    "plt.set_cmap(\"Greens\")\n",
    "plt.show()    "
   ]
  },
  {
   "cell_type": "markdown",
   "metadata": {},
   "source": [
    "**Question** Pour rendre les choses plus explicites encore, on peut prendre 1000 points dans l'intervalle $[0,2\\pi]$ et tracer avec plot. Définir une fonction pour ce tracé qu'on va réutiliser. "
   ]
  },
  {
   "cell_type": "code",
   "execution_count": 56,
   "metadata": {},
   "outputs": [],
   "source": [
    "def plot_vec(x, A):\n",
    "    \n",
    "    x1 = np.cos(x).reshape(-1, 1)\n",
    "    x2 = np.sin(x).reshape(-1, 1)\n",
    "\n",
    "    X = np.hstack((x1, x2))\n",
    "    \n",
    "    Z = X @ A\n",
    "    \n",
    "    fig, ax = plt.subplots(1)\n",
    "    ax.scatter(X[:,0], X[:,1])\n",
    "    ax.scatter(Z[:,0], Z[:,1])\n",
    "    ax.set_aspect('equal')\n",
    "    plt.show()\n",
    "    "
   ]
  },
  {
   "cell_type": "code",
   "execution_count": 57,
   "metadata": {},
   "outputs": [
    {
     "data": {
      "image/png": "[encoded data removed]",
      "text/plain": [
       "<Figure size 432x288 with 1 Axes>"
      ]
     },
     "metadata": {
      "needs_background": "light"
     },
     "output_type": "display_data"
    }
   ],
   "source": [
    "xs2 = np.linspace(0, 2*np.pi, 1000)\n",
    "plot_vec(xs2, A)"
   ]
  },
  {
   "cell_type": "markdown",
   "metadata": {},
   "source": [
    "**Question** Calculer maintenant les vecteurs propres et valeurs propres de la matrice $\\mathbf A$ et observer le résultat..."
   ]
  },
  {
   "cell_type": "code",
   "execution_count": 84,
   "metadata": {},
   "outputs": [
    {
     "name": "stdout",
     "output_type": "stream",
     "text": [
      "[4. 2.]\n",
      "[[ 0.          0.89442719]\n",
      " [ 1.         -0.4472136 ]]\n"
     ]
    }
   ],
   "source": [
    "e, V = np.linalg.eig(A)\n",
    "print(e)\n",
    "print(V)"
   ]
  },
  {
   "cell_type": "markdown",
   "metadata": {},
   "source": [
    "**Question** Recommencer ces tracés avec d'autres transformations \n",
    "\n",
    "    A = np.array([[2, 0], [0, 2]])\n",
    "    A = np.array([[2, 0], [0, 1]])\n",
    "    A = np.array([[2, 1], [1, 2]])\n",
    "    A = np.array([[2, -1], [-1, 2]])\n",
    "    A = np.array([[2, -3], [1, 2]])\n",
    "    A = np.array([[2, 2], [-1, -1]])\n"
   ]
  },
  {
   "cell_type": "code",
   "execution_count": 78,
   "metadata": {},
   "outputs": [
    {
     "data": {
      "image/png": "[encoded data removed]",
      "text/plain": [
       "<Figure size 432x288 with 1 Axes>"
      ]
     },
     "metadata": {
      "needs_background": "light"
     },
     "output_type": "display_data"
    }
   ],
   "source": [
    "plot_vec(xs2, np.array([[2, 0], [0, 2]]))"
   ]
  },
  {
   "cell_type": "code",
   "execution_count": 79,
   "metadata": {},
   "outputs": [
    {
     "data": {
      "image/png": "[encoded data removed]",
      "text/plain": [
       "<Figure size 432x288 with 1 Axes>"
      ]
     },
     "metadata": {
      "needs_background": "light"
     },
     "output_type": "display_data"
    }
   ],
   "source": [
    "plot_vec(xs2, np.array([[2, 0], [0, 1]]))"
   ]
  },
  {
   "cell_type": "code",
   "execution_count": 80,
   "metadata": {},
   "outputs": [
    {
     "data": {
      "image/png": "[encoded data removed]",
      "text/plain": [
       "<Figure size 432x288 with 1 Axes>"
      ]
     },
     "metadata": {
      "needs_background": "light"
     },
     "output_type": "display_data"
    }
   ],
   "source": [
    "plot_vec(xs2, np.array([[2, 1], [1, 2]]))"
   ]
  },
  {
   "cell_type": "code",
   "execution_count": 81,
   "metadata": {},
   "outputs": [
    {
     "data": {
      "image/png": "[encoded data removed]",
      "text/plain": [
       "<Figure size 432x288 with 1 Axes>"
      ]
     },
     "metadata": {
      "needs_background": "light"
     },
     "output_type": "display_data"
    }
   ],
   "source": [
    "plot_vec(xs2, np.array([[2, -1], [-1, 2]]))"
   ]
  },
  {
   "cell_type": "code",
   "execution_count": 82,
   "metadata": {},
   "outputs": [
    {
     "data": {
      "image/png": "[encoded data removed]",
      "text/plain": [
       "<Figure size 432x288 with 1 Axes>"
      ]
     },
     "metadata": {
      "needs_background": "light"
     },
     "output_type": "display_data"
    }
   ],
   "source": [
    "plot_vec(xs2, np.array([[2, -3], [1, 2]]))"
   ]
  },
  {
   "cell_type": "code",
   "execution_count": 83,
   "metadata": {},
   "outputs": [
    {
     "data": {
      "image/png": "[encoded data removed]",
      "text/plain": [
       "<Figure size 432x288 with 1 Axes>"
      ]
     },
     "metadata": {
      "needs_background": "light"
     },
     "output_type": "display_data"
    }
   ],
   "source": [
    "plot_vec(xs2, np.array([[2, 2], [-1, -1]]))"
   ]
  }
 ],
 "metadata": {
  "kernelspec": {
   "display_name": "Python 3 (ipykernel)",
   "language": "python",
   "name": "python3"
  },
  "language_info": {
   "codemirror_mode": {
    "name": "ipython",
    "version": 3
   },
   "file_extension": ".py",
   "mimetype": "text/x-python",
   "name": "python",
   "nbconvert_exporter": "python",
   "pygments_lexer": "ipython3",
   "version": "3.8.10"
  }
 },
 "nbformat": 4,
 "nbformat_minor": 2
}
