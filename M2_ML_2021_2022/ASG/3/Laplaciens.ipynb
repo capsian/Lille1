{
 "cells": [
  {
   "cell_type": "code",
   "execution_count": 1,
   "id": "53fef4b1",
   "metadata": {},
   "outputs": [],
   "source": [
    "import numpy as np\n",
    "import matplotlib.pyplot as plt\n",
    "rng = np.random.RandomState(0)"
   ]
  },
  {
   "cell_type": "markdown",
   "id": "1a73746f",
   "metadata": {},
   "source": [
    "# Matrice de Gram, de correlation et forme quadratique"
   ]
  },
  {
   "cell_type": "markdown",
   "id": "cae79e44",
   "metadata": {},
   "source": [
    "Dans la suite, on considère que $\\mathbf M$ est une matrice de similarité, elle est donc positive : $\\forall (i,j)\\ M_{ij}\\geq 0$. Ici, on prendra juste la valeur absolue de $\\mathbf M$"
   ]
  },
  {
   "cell_type": "code",
   "execution_count": null,
   "id": "18b274db",
   "metadata": {},
   "outputs": [],
   "source": []
  },
  {
   "cell_type": "markdown",
   "id": "6722c699",
   "metadata": {},
   "source": [
    "**Question** On considère que $\\mathbf M$ est un ensemble de 10 vecteurs de dimension 10. Calculer la matrice de Gram de $M$, c'est-à-dire, l'ensemble des produits scalaires de tous les vecteurs de $\\mathbf M$, les uns avec les autres. Notez $\\mathbf W$ cette matrice de Gram de $\\mathbf M$\n",
    "\n",
    "Si $\\mathbf M = [v_0,v_1, v_2, \\dots, v_9]$ alors $\\mathbf W_{i,j}=\\langle v_i, v_j\\rangle$."
   ]
  },
  {
   "cell_type": "code",
   "execution_count": null,
   "id": "d5056391",
   "metadata": {},
   "outputs": [],
   "source": []
  },
  {
   "cell_type": "markdown",
   "id": "d982e1ee",
   "metadata": {},
   "source": [
    "**Question** Donnez l'expression de la matrice de Gram de $\\mathbf A$, la matrice $\\mathbf A = \\begin{pmatrix} a&b\\\\c&d\\end{pmatrix}$"
   ]
  },
  {
   "cell_type": "markdown",
   "id": "efe25870",
   "metadata": {},
   "source": [
    "*Réponse* \\begin{pmatrix} a^2+b^2 & ac+bd\\\\ac+bd & c^2+d^2 \\end{pmatrix}"
   ]
  },
  {
   "cell_type": "markdown",
   "id": "69440e13",
   "metadata": {},
   "source": [
    "**Question** Quelles sont les propriétés de cette matrice? "
   ]
  },
  {
   "cell_type": "markdown",
   "id": "48a221d2",
   "metadata": {},
   "source": [
    "*Réponse* "
   ]
  },
  {
   "cell_type": "markdown",
   "id": "572a9e13",
   "metadata": {},
   "source": [
    "**Question** Calculer le vecteur $\\mathbf d$ de la somme des toutes les lignes de $\\mathbf W$. Appeler $\\mathbf D$ la matrice diagonale de $\\mathbf d$ : Elle a pour diagonale le vecteur $\\mathbf d$ et des 0 partout ailleurs. "
   ]
  },
  {
   "cell_type": "code",
   "execution_count": null,
   "id": "04de229b",
   "metadata": {},
   "outputs": [],
   "source": []
  },
  {
   "cell_type": "markdown",
   "id": "14f4f5d3",
   "metadata": {},
   "source": [
    "**Question** Donnez l'expression de cette matrice diagonale construite à partir de la matrice de Gram de $\\mathbf A$."
   ]
  },
  {
   "cell_type": "markdown",
   "id": "d31fb6a5",
   "metadata": {},
   "source": [
    "*Réponse*\n",
    "\n"
   ]
  },
  {
   "cell_type": "markdown",
   "id": "8a008164",
   "metadata": {},
   "source": [
    "**Question** Calculer maintenant la matrice $\\mathbf L$ qui vaut $\\mathbf D-\\mathbf W$ et donnez l'expression dans le cas des matrices construites à partir de $\\mathbf A$."
   ]
  },
  {
   "cell_type": "markdown",
   "id": "72842fa9",
   "metadata": {},
   "source": [
    "*Réponse*\n",
    "\n"
   ]
  },
  {
   "cell_type": "code",
   "execution_count": null,
   "id": "235389c5",
   "metadata": {},
   "outputs": [],
   "source": []
  },
  {
   "cell_type": "markdown",
   "id": "c350211a",
   "metadata": {},
   "source": [
    "**Question** Si on prend un vecteur $\\mathbf v$ quelconque, on va pouvoir observer que le signe de $\\mathbf v^\\top \\mathbf L\\mathbf v$ est toujours positif. \n",
    "\n",
    "Dans le cas de la matrice 2x2, vérifiez que cela est bien  vrai. *Aide* : appelez $x=ac+bd$ pour simplifier vos calculs. "
   ]
  },
  {
   "cell_type": "code",
   "execution_count": null,
   "id": "202acf3b",
   "metadata": {},
   "outputs": [],
   "source": []
  },
  {
   "cell_type": "markdown",
   "id": "cd0e503e",
   "metadata": {},
   "source": [
    "*Réponse* : \n",
    "\n"
   ]
  },
  {
   "cell_type": "markdown",
   "id": "9c4968ba",
   "metadata": {},
   "source": [
    "**Information** Cette propriété de positivité de $v^\\top Lv$ est une propriété qui définit la notion de **matrice semi-définie positive** (le semi venant du fait que le résultat peut être nul. Une telle matrice a des valeurs propres qui sont toutes positives.  "
   ]
  },
  {
   "cell_type": "markdown",
   "id": "4f39152f",
   "metadata": {},
   "source": [
    "**Question** Vérifier que les valeurs propres de $L$ sont positives."
   ]
  },
  {
   "cell_type": "code",
   "execution_count": null,
   "id": "8ae92dcd",
   "metadata": {},
   "outputs": [],
   "source": []
  },
  {
   "cell_type": "markdown",
   "id": "69a8fedd",
   "metadata": {},
   "source": [
    "# Matrices d'incidences de graphes"
   ]
  },
  {
   "cell_type": "markdown",
   "id": "e2615d31",
   "metadata": {},
   "source": [
    "On peut représenter un graphe aussi par une matrice d'incidence. Chaque colonne correspond à une arête du graphe et chaque ligne correspond à un noeud. \n",
    "\n",
    "La version non pondérée de cette matrice d'incidence pour un graphe non dirigé a un 1 au noeud source de l'arête et un -1 à la destination. Plus formellement la matrice d'incidence $\\mathbf{BI}$ est définie par $\\mathbf{BI}_{ik}=1$ et $\\mathbf{BI}_{jk}=-1$ si l'arête $k$ relie les noeuds $i$ et $j$ et 0 sinon. "
   ]
  },
  {
   "cell_type": "markdown",
   "id": "455d1056",
   "metadata": {},
   "source": [
    "**Question**  Calculer cette matrice d'incidence pour le graphe non dirigé de deux noeuds qui relie ces deux noeuds. Afficher le résultat du produit de cette matrice par sa transposée."
   ]
  },
  {
   "cell_type": "code",
   "execution_count": null,
   "id": "7638a2a6",
   "metadata": {},
   "outputs": [],
   "source": []
  },
  {
   "cell_type": "code",
   "execution_count": null,
   "id": "a962f883",
   "metadata": {},
   "outputs": [],
   "source": []
  },
  {
   "cell_type": "markdown",
   "id": "904811c7",
   "metadata": {},
   "source": [
    "**Question** Même question avec une matrice d'un graphe vue dans le TP précédent."
   ]
  },
  {
   "cell_type": "code",
   "execution_count": null,
   "id": "2f24e1df",
   "metadata": {},
   "outputs": [],
   "source": [
    "B = np.array([[0, 1, 0, 0],\n",
    "              [1, 0, 1, 1],\n",
    "              [0, 1, 0, 1],\n",
    "              [0, 1, 1, 0]\n",
    "             ])"
   ]
  },
  {
   "cell_type": "code",
   "execution_count": null,
   "id": "334f596f",
   "metadata": {},
   "outputs": [],
   "source": []
  },
  {
   "cell_type": "code",
   "execution_count": null,
   "id": "93d487b2",
   "metadata": {},
   "outputs": [],
   "source": []
  },
  {
   "cell_type": "markdown",
   "id": "52081cda",
   "metadata": {},
   "source": [
    "**Question** : Que sera la valeur sur la diagonale de ce produit ? Que sera la valeur des autres cases de ce produit ?"
   ]
  },
  {
   "cell_type": "markdown",
   "id": "b8d9136c",
   "metadata": {},
   "source": [
    "*Réponse* : "
   ]
  },
  {
   "cell_type": "code",
   "execution_count": null,
   "id": "6d5b7624",
   "metadata": {},
   "outputs": [],
   "source": [
    "import networkx as nx\n",
    "G = nx.Graph(B)\n",
    "nx.draw(G, with_labels=True)"
   ]
  },
  {
   "cell_type": "markdown",
   "id": "14b7bf9c",
   "metadata": {},
   "source": [
    "**Question** Calculer la matrice laplacienne $\\mathbf L = \\mathbf D - \\mathbf B$ où $\\mathbf D$ est la matrice diagonale des degrés de $\\mathbf B$. Comparer avec $\\mathbf {BI}$. "
   ]
  },
  {
   "cell_type": "code",
   "execution_count": null,
   "id": "8df74793",
   "metadata": {},
   "outputs": [],
   "source": []
  },
  {
   "cell_type": "markdown",
   "id": "cb9cfdf9",
   "metadata": {},
   "source": [
    "**Question** Soit $\\mathbf f$ un vecteur qui associe une valeur à chaque noeud du graphe. Elle est égale à 1 pour le noeud 0 et à 0 pour le neud 3. Vérifier que la forme quadratique $\\mathbf f^\\top L\\mathbf f$ est bien minimale si on choisit des valeurs pour 1 et 2 qui minimisent les écarts entre les valeurs des noeuds. "
   ]
  },
  {
   "cell_type": "code",
   "execution_count": null,
   "id": "15651b23",
   "metadata": {},
   "outputs": [],
   "source": []
  }
 ],
 "metadata": {
  "kernelspec": {
   "display_name": "Python 3 (ipykernel)",
   "language": "python",
   "name": "python3"
  },
  "language_info": {
   "codemirror_mode": {
    "name": "ipython",
    "version": 3
   },
   "file_extension": ".py",
   "mimetype": "text/x-python",
   "name": "python",
   "nbconvert_exporter": "python",
   "pygments_lexer": "ipython3",
   "version": "3.8.10"
  }
 },
 "nbformat": 4,
 "nbformat_minor": 5
}
