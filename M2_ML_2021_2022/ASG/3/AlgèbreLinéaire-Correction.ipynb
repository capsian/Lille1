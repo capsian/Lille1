{
 "cells": [
  {
   "cell_type": "code",
   "execution_count": 1,
   "metadata": {},
   "outputs": [],
   "source": [
    "import numpy as np\n",
    "import matplotlib.pyplot as plt\n",
    "rng = np.random.RandomState(0)"
   ]
  },
  {
   "cell_type": "markdown",
   "metadata": {},
   "source": [
    "# Trace"
   ]
  },
  {
   "cell_type": "markdown",
   "metadata": {},
   "source": [
    "**Question** Soient les deux matrices carrées : $\\mathbf A = \\begin{pmatrix} a&b\\\\c&d\\end{pmatrix}$ et $\\mathbf B = \\begin{pmatrix} e&f\\\\g&h\\end{pmatrix}$. On rappelle que $vec A$ est la vectorisation de $\\mathbf A$, c'est-à-dire la mise bout à bout de toutes les colonnes de la matrice. \n",
    "\n",
    "- Quelle est l'expression de la trace de $\\mathbf A \\mathbf B$? \n",
    "- Que vaut $vec(\\mathbf A)$ et $vec (\\mathbf B^\\top)$ et leur produit scalaire."
   ]
  },
  {
   "cell_type": "markdown",
   "metadata": {},
   "source": [
    "*Réponse*\n",
    "\n",
    "- $ae+bg+cf+dh$\n",
    "- $vec(A) = (a c b d)^\\top$ et $vec(B^\\top) = (e f g h)^\\top$. Le produit scalaire est $ae + cf + bg + dh$"
   ]
  },
  {
   "cell_type": "markdown",
   "metadata": {},
   "source": [
    "**Question** Tirer aléatoirement deux matrices carrées de taille 10 par 10 de valeurs comprimes en -1 et 1 et vérifier cette identité de nombres entre -1 et 1."
   ]
  },
  {
   "cell_type": "code",
   "execution_count": 2,
   "metadata": {},
   "outputs": [],
   "source": [
    "M = rng.random(size=(10,10))*2 - 1\n",
    "N = rng.random(size=(10,10)) * 2 - 1"
   ]
  },
  {
   "cell_type": "code",
   "execution_count": 3,
   "metadata": {},
   "outputs": [
    {
     "data": {
      "text/plain": [
       "-7.262465432284048"
      ]
     },
     "execution_count": 3,
     "metadata": {},
     "output_type": "execute_result"
    }
   ],
   "source": [
    "np.trace(M@N)"
   ]
  },
  {
   "cell_type": "code",
   "execution_count": 4,
   "metadata": {},
   "outputs": [
    {
     "data": {
      "text/plain": [
       "-7.262465432284049"
      ]
     },
     "execution_count": 4,
     "metadata": {},
     "output_type": "execute_result"
    }
   ],
   "source": [
    "M.ravel()@N.T.ravel()  "
   ]
  },
  {
   "cell_type": "code",
   "execution_count": 5,
   "metadata": {},
   "outputs": [
    {
     "data": {
      "text/plain": [
       "True"
      ]
     },
     "execution_count": 5,
     "metadata": {},
     "output_type": "execute_result"
    }
   ],
   "source": [
    "np.isclose(np.trace(M@N), M.ravel().T@N.T.ravel())"
   ]
  },
  {
   "cell_type": "markdown",
   "metadata": {},
   "source": [
    "# Base orthonormée"
   ]
  },
  {
   "cell_type": "markdown",
   "metadata": {},
   "source": [
    "**Question** Constuire une matrice symétrique $\\mathbf S$ à partir de $\\mathbf M$ en calculant $\\mathbf S=\\mathbf M+\\mathbf M^\\top$."
   ]
  },
  {
   "cell_type": "code",
   "execution_count": 6,
   "metadata": {},
   "outputs": [],
   "source": [
    "S = M + M.T"
   ]
  },
  {
   "cell_type": "markdown",
   "metadata": {},
   "source": [
    "**Question** Calculer la décomposition spectrale de $\\mathbf M$ : valeurs propres $\\mathbf e$ et vecteurs propres $\\mathbf V$"
   ]
  },
  {
   "cell_type": "code",
   "execution_count": 7,
   "metadata": {},
   "outputs": [],
   "source": [
    "e, V = np.linalg.eig(S)"
   ]
  },
  {
   "cell_type": "markdown",
   "metadata": {},
   "source": [
    "**Question** Calculer le déterminant de $\\mathbf S-\\lambda \\mathbf I$ pour toutes les valeurs propres $\\lambda$ dans $\\mathbf e$. "
   ]
  },
  {
   "cell_type": "code",
   "execution_count": 8,
   "metadata": {},
   "outputs": [
    {
     "name": "stdout",
     "output_type": "stream",
     "text": [
      "2.7600214578888494e-09\n",
      "-1.3975536925934125e-09\n",
      "1.2246273106543097e-08\n",
      "-4.2736609820228534e-12\n",
      "1.4714549905592196e-11\n",
      "1.2698093415245105e-11\n",
      "5.4352215108791784e-14\n",
      "-4.161845328287467e-12\n",
      "1.1820950130873456e-12\n",
      "3.490665243564695e-13\n"
     ]
    }
   ],
   "source": [
    "for lam in e: \n",
    "    print(np.linalg.det(S-lam*np.eye(S.shape[0])))"
   ]
  },
  {
   "cell_type": "markdown",
   "metadata": {},
   "source": [
    "**Question** Calculer $(\\mathbf S-\\lambda \\mathbf I)\\mathbf v$ pour tous les couples valeurs propres $\\lambda$ et valeur propre associée $\\mathbf v$. "
   ]
  },
  {
   "cell_type": "code",
   "execution_count": 9,
   "metadata": {},
   "outputs": [
    {
     "name": "stdout",
     "output_type": "stream",
     "text": [
      "True\n",
      "True\n",
      "True\n",
      "True\n",
      "True\n",
      "True\n",
      "True\n",
      "True\n",
      "True\n",
      "True\n"
     ]
    }
   ],
   "source": [
    "for i, lam in enumerate(e) : \n",
    "    # print(V[:,i]@(S-lam*np.eye(S.shape[0])))\n",
    "    print(np.allclose(V[:,i]@(S-lam*np.eye(S.shape[0])),np.zeros(S.shape[0])))"
   ]
  },
  {
   "cell_type": "markdown",
   "metadata": {},
   "source": [
    "**Question** Vérifier que tous les éléments de $\\mathbf V$ sont orthogonaux deux à deux et qu'ils ont une norme 2 égale à 1 : $\\langle \\mathbf v_i, \\mathbf v_j\\rangle=0$ et $\\langle \\mathbf v_i, \\mathbf v_i\\rangle=1$."
   ]
  },
  {
   "cell_type": "code",
   "execution_count": 10,
   "metadata": {
    "scrolled": true
   },
   "outputs": [
    {
     "data": {
      "text/plain": [
       "array([[ 1.00000000e+00, -9.05850915e-17, -5.86336535e-16,\n",
       "         5.08273978e-16, -2.70183181e-16,  4.16333634e-17,\n",
       "         3.05311332e-16, -4.37150316e-16, -2.02962647e-16,\n",
       "         4.33680869e-17],\n",
       "       [-9.05850915e-17,  1.00000000e+00,  2.41180773e-16,\n",
       "         3.94161700e-16, -1.57368557e-16,  2.21827764e-16,\n",
       "        -2.32723996e-16, -1.68918698e-16,  8.83001354e-16,\n",
       "         6.95759639e-16],\n",
       "       [-5.86336535e-16,  2.41180773e-16,  1.00000000e+00,\n",
       "         7.97972799e-17, -2.77122075e-16, -2.22044605e-16,\n",
       "         5.41233725e-16, -2.77555756e-17,  6.93889390e-18,\n",
       "         2.22044605e-16],\n",
       "       [ 5.08273978e-16,  3.94161700e-16,  7.97972799e-17,\n",
       "         1.00000000e+00,  2.66280054e-16, -2.22044605e-16,\n",
       "         8.32667268e-17, -2.77555756e-17,  1.56125113e-17,\n",
       "        -2.53269627e-16],\n",
       "       [-2.70183181e-16, -1.57368557e-16, -2.77122075e-16,\n",
       "         2.66280054e-16,  1.00000000e+00,  1.19695920e-16,\n",
       "         3.92481186e-16, -1.64798730e-17, -3.62557206e-16,\n",
       "        -4.88758339e-16],\n",
       "       [ 4.16333634e-17,  2.21827764e-16, -2.22044605e-16,\n",
       "        -2.22044605e-16,  1.19695920e-16,  1.00000000e+00,\n",
       "         1.38777878e-16, -2.77555756e-16, -5.55111512e-17,\n",
       "        -2.77555756e-17],\n",
       "       [ 3.05311332e-16, -2.32723996e-16,  5.41233725e-16,\n",
       "         8.32667268e-17,  3.92481186e-16,  1.38777878e-16,\n",
       "         1.00000000e+00,  3.33066907e-16, -1.63064007e-16,\n",
       "         2.08166817e-17],\n",
       "       [-4.37150316e-16, -1.68918698e-16, -2.77555756e-17,\n",
       "        -2.77555756e-17, -1.64798730e-17, -2.77555756e-16,\n",
       "         3.33066907e-16,  1.00000000e+00,  4.09394740e-16,\n",
       "        -1.11022302e-16],\n",
       "       [-2.02962647e-16,  8.83001354e-16,  6.93889390e-18,\n",
       "         1.56125113e-17, -3.62557206e-16, -5.55111512e-17,\n",
       "        -1.63064007e-16,  4.09394740e-16,  1.00000000e+00,\n",
       "        -9.19403442e-17],\n",
       "       [ 4.33680869e-17,  6.95759639e-16,  2.22044605e-16,\n",
       "        -2.53269627e-16, -4.88758339e-16, -2.77555756e-17,\n",
       "         2.08166817e-17, -1.11022302e-16, -9.19403442e-17,\n",
       "         1.00000000e+00]])"
      ]
     },
     "execution_count": 10,
     "metadata": {},
     "output_type": "execute_result"
    }
   ],
   "source": [
    "V@V.T"
   ]
  },
  {
   "cell_type": "markdown",
   "metadata": {},
   "source": [
    "**Question** Calculer la matrice diagonale $\\mathbf \\Sigma$. Elle a pour diagonale le vecteur $\\mathbf e$ et des 0 partout ailleurs. Vérifier que $\\mathbf S = \\mathbf V\\mathbf \\Sigma \\mathbf V^\\top$ et $\\mathbf S\\mathbf S = \\mathbf V\\mathbf \\Sigma^2 \\mathbf V^\\top$"
   ]
  },
  {
   "cell_type": "code",
   "execution_count": 11,
   "metadata": {},
   "outputs": [
    {
     "name": "stdout",
     "output_type": "stream",
     "text": [
      "True\n",
      "True\n"
     ]
    }
   ],
   "source": [
    "Sigma = np.diag(e)\n",
    "print(np.allclose(S, (V@Sigma@V.T)))\n",
    "print(np.allclose(S@S, (V@Sigma**2)@V.T))"
   ]
  },
  {
   "cell_type": "markdown",
   "metadata": {},
   "source": [
    "**Question** Vérifier que le déterminant de $\\mathbf S$ est bien le produit des valeurs propres. "
   ]
  },
  {
   "cell_type": "code",
   "execution_count": 12,
   "metadata": {},
   "outputs": [
    {
     "data": {
      "text/plain": [
       "601.8337339522766"
      ]
     },
     "execution_count": 12,
     "metadata": {},
     "output_type": "execute_result"
    }
   ],
   "source": [
    "np.linalg.det(S)"
   ]
  },
  {
   "cell_type": "code",
   "execution_count": 13,
   "metadata": {},
   "outputs": [
    {
     "data": {
      "text/plain": [
       "601.8337339522794"
      ]
     },
     "execution_count": 13,
     "metadata": {},
     "output_type": "execute_result"
    }
   ],
   "source": [
    "np.prod(e)"
   ]
  },
  {
   "cell_type": "markdown",
   "metadata": {},
   "source": [
    "# Méthode des puissances"
   ]
  },
  {
   "cell_type": "markdown",
   "metadata": {},
   "source": [
    "**Question** Vérifier si la matrice $\\mathbf S$ a bien une unique plus grande valeur propre en valeur absolue. Afficher cette valeur propre et le vecteur associé."
   ]
  },
  {
   "cell_type": "code",
   "execution_count": 14,
   "metadata": {
    "scrolled": true
   },
   "outputs": [
    {
     "name": "stdout",
     "output_type": "stream",
     "text": [
      "[-0.35370624  0.43949534 -0.94811515 -1.69173596  2.292045   -2.714415\n",
      " -3.40211118  4.36695017  5.03157437 -5.18986243]\n",
      "lambda= -5.189862425989509\n",
      "V= [-0.12906116  0.05619312 -0.2251338  -0.02621762  0.11809075  0.48867667\n",
      "  0.16945342  0.65193159  0.02676734  0.47076204]\n"
     ]
    }
   ],
   "source": [
    "ind_tri = np.argsort(np.abs(e))\n",
    "print(e[ind_tri])\n",
    "indmax = ind_tri[-1]\n",
    "print(\"lambda=\", e[indmax])\n",
    "print(\"V=\",V[:, indmax])"
   ]
  },
  {
   "cell_type": "markdown",
   "metadata": {},
   "source": [
    "**Question** Tirer un vecteur initial aléatoire $\\mathbf x$ de taille le nombre de lignes de $\\mathbf S$."
   ]
  },
  {
   "cell_type": "code",
   "execution_count": 15,
   "metadata": {},
   "outputs": [],
   "source": [
    "x = rng.random(S.shape[0])"
   ]
  },
  {
   "cell_type": "markdown",
   "metadata": {},
   "source": [
    "**Question** Implanter la méthode des puissances itérées pour calculer le premier vecteur propre.\n",
    "\n",
    "*Rappel* : D'après le cours si on part d'un vecteur quelconque, alors $\\frac{\\mathbf S^k\\mathbf x}{\\lVert \\mathbf S^k\\rVert}$ tend vers ce vecteur.\n",
    "\n",
    "*Aide* : Pour éviter des problèmes numériques, on normalise à chaque itération."
   ]
  },
  {
   "cell_type": "code",
   "execution_count": 16,
   "metadata": {},
   "outputs": [],
   "source": [
    "def iter(x, S, n):\n",
    "    y = x.copy()\n",
    "    for _ in range(n):\n",
    "        y = S@y\n",
    "        y = y/np.linalg.norm(y)\n",
    "    return y"
   ]
  },
  {
   "cell_type": "code",
   "execution_count": 17,
   "metadata": {},
   "outputs": [],
   "source": [
    "r = iter(x, S, 1000)"
   ]
  },
  {
   "cell_type": "markdown",
   "metadata": {},
   "source": [
    "Le quotient de Rayleigh défini par $\\frac{\\mathbf v^\\top \\mathbf S\\mathbf v}{\\langle \\mathbf v, \\mathbf v\\rangle}$ dans le cas où $\\mathbf v$ est ce vecteur propre est égal à la valeur propre associée. En effet puisque $\\mathbf S\\mathbf v = \\lambda \\mathbf v$\n",
    "\n",
    "$$\n",
    "\\mathbf v^\\top \\mathbf S\\mathbf v = \\mathbf v^\\top\\lambda \\mathbf v\n",
    "$$\n",
    "\n",
    "$$\n",
    "\\lambda = \n",
    " \\frac{\\mathbf v^\\top \\mathbf S\\mathbf v}{\\langle \\mathbf v, \\mathbf v\\rangle}\n",
    "$$"
   ]
  },
  {
   "cell_type": "markdown",
   "metadata": {},
   "source": [
    "**Question** Calculer la valeur propre associée au vecteur propre estimé avec la puissance itérée et comparer avec la vraie valeur."
   ]
  },
  {
   "cell_type": "code",
   "execution_count": 18,
   "metadata": {},
   "outputs": [
    {
     "name": "stdout",
     "output_type": "stream",
     "text": [
      "par iter -5.189862425989499 [-0.12906116  0.05619312 -0.2251338  -0.02621762  0.11809075  0.48867667\n",
      "  0.16945342  0.65193159  0.02676734  0.47076204]\n",
      "par linalg.eig -5.189862425989509 [-0.12906116  0.05619312 -0.2251338  -0.02621762  0.11809075  0.48867667\n",
      "  0.16945342  0.65193159  0.02676734  0.47076204]\n"
     ]
    }
   ],
   "source": [
    "lam = r@S@r/(r@r)\n",
    "print(\"par iter\", lam, r)\n",
    "print(\"par linalg.eig\", e[indmax],V[:, indmax])"
   ]
  },
  {
   "cell_type": "markdown",
   "metadata": {},
   "source": [
    "**Question** Calculer le rapport entre la deuxième et la première valeur propre"
   ]
  },
  {
   "cell_type": "code",
   "execution_count": 23,
   "metadata": {},
   "outputs": [
    {
     "name": "stdout",
     "output_type": "stream",
     "text": [
      "rapport = 0.8679092965005882\n"
     ]
    }
   ],
   "source": [
    "print(\"rapport =\",abs(e[ind_tri][-2])/abs(e[indmax]))\n",
    "rapport = abs(e[ind_tri][-2])/abs(e[indmax])"
   ]
  },
  {
   "cell_type": "code",
   "execution_count": 34,
   "metadata": {},
   "outputs": [
    {
     "data": {
      "text/plain": [
       "3.1327079986910905e-22"
      ]
     },
     "execution_count": 34,
     "metadata": {},
     "output_type": "execute_result"
    }
   ],
   "source": [
    "0.29**40"
   ]
  },
  {
   "cell_type": "code",
   "execution_count": null,
   "metadata": {},
   "outputs": [],
   "source": []
  },
  {
   "cell_type": "markdown",
   "metadata": {},
   "source": [
    "**Question** On va augmenter ce ratio en transformant un peu la matrice $\\mathbf S$. Transformez la matrice en prenant sa valeur absolue. Calculez la décomposition spectrale et le ratio précédent. Constatez s'il est plus petit que vous convergez plus vite."
   ]
  },
  {
   "cell_type": "code",
   "execution_count": 20,
   "metadata": {},
   "outputs": [],
   "source": [
    "S_new = np.abs(S) # + np.eye(S.shape[0])*2"
   ]
  },
  {
   "cell_type": "code",
   "execution_count": 21,
   "metadata": {},
   "outputs": [
    {
     "name": "stdout",
     "output_type": "stream",
     "text": [
      "[ 0.20108545 -0.39389919 -0.69197237  0.83560549 -1.21821665  1.38155363\n",
      " -1.52837706 -2.33763347  2.65823001  8.94229574]\n",
      "lambda= 8.942295741843962\n",
      "V= [-0.27382032 -0.3073372  -0.30221359 -0.26517737 -0.23130423 -0.29581028\n",
      " -0.3004618  -0.43610114 -0.28281257 -0.40922411]\n",
      "rapport= 0.2972648289528231\n"
     ]
    }
   ],
   "source": [
    "e_new, V_new = np.linalg.eig(S_new)\n",
    "ind_tri = np.argsort(np.abs(e_new))\n",
    "print(e_new[ind_tri])\n",
    "indmax = ind_tri[-1]\n",
    "print(\"lambda=\", e_new[indmax])\n",
    "print(\"V=\",V_new[:, indmax])\n",
    "print(\"rapport=\", e_new[ind_tri][-2]/e_new[indmax])"
   ]
  },
  {
   "cell_type": "code",
   "execution_count": 22,
   "metadata": {},
   "outputs": [
    {
     "name": "stdout",
     "output_type": "stream",
     "text": [
      "par iter 8.942295741843232 [0.27382028 0.30733733 0.3022135  0.26517745 0.23130442 0.29581017\n",
      " 0.30046191 0.43610104 0.28281258 0.40922404]\n",
      "par linalg.eig 8.942295741843962 [-0.27382032 -0.3073372  -0.30221359 -0.26517737 -0.23130423 -0.29581028\n",
      " -0.3004618  -0.43610114 -0.28281257 -0.40922411]\n"
     ]
    }
   ],
   "source": [
    "r = iter(x, S_new, 10)\n",
    "lam = r@S_new@r/(r@r)\n",
    "print(\"par iter\", lam, r)\n",
    "print(\"par linalg.eig\", e_new[indmax],V_new[:, indmax])"
   ]
  }
 ],
 "metadata": {
  "kernelspec": {
   "display_name": "Python 3",
   "language": "python",
   "name": "python3"
  },
  "language_info": {
   "codemirror_mode": {
    "name": "ipython",
    "version": 3
   },
   "file_extension": ".py",
   "mimetype": "text/x-python",
   "name": "python",
   "nbconvert_exporter": "python",
   "pygments_lexer": "ipython3",
   "version": "3.8.5"
  }
 },
 "nbformat": 4,
 "nbformat_minor": 5
}
